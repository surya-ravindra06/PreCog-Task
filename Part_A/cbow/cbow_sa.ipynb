{
 "cells": [
  {
   "cell_type": "code",
   "execution_count": 6,
   "metadata": {
    "execution": {
     "iopub.execute_input": "2024-07-29T06:25:38.740998Z",
     "iopub.status.busy": "2024-07-29T06:25:38.740092Z",
     "iopub.status.idle": "2024-07-29T06:25:38.749692Z",
     "shell.execute_reply": "2024-07-29T06:25:38.748860Z",
     "shell.execute_reply.started": "2024-07-29T06:25:38.740945Z"
    },
    "tags": []
   },
   "outputs": [
    {
     "ename": "ImportError",
     "evalue": "cannot import name 'triu' from 'scipy.linalg' (/opt/conda/lib/python3.9/site-packages/scipy/linalg/__init__.py)",
     "output_type": "error",
     "traceback": [
      "\u001b[0;31mImportError\u001b[0m\u001b[0;31m:\u001b[0m cannot import name 'triu' from 'scipy.linalg' (/opt/conda/lib/python3.9/site-packages/scipy/linalg/__init__.py)\n"
     ]
    }
   ],
   "source": [
    "# import all necessary packages for CBOW\n",
    "import numpy as np\n",
    "import torch\n",
    "import torch.nn as nn\n",
    "import torch.nn.functional as F\n",
    "from torch.utils.data import Dataset, DataLoader\n",
    "from collections import Counter\n",
    "import random\n",
    "import os\n",
    "import matplotlib.pyplot as plt\n",
    "import pickle\n",
    "from tqdm import tqdm\n",
    "import nltk\n",
    "from nltk.tokenize import word_tokenize\n",
    "from nltk.corpus import stopwords\n",
    "import collections\n",
    "import itertools\n",
    "import re\n",
    "from sklearn.manifold import TSNE\n",
    "from sklearn.metrics.pairwise import cosine_similarity\n",
    "import pandas as pd\n",
    "from nltk.stem import WordNetLemmatizer\n",
    "from scipy.stats import pearsonr, spearmanr\n",
    "from torchtext.vocab import GloVe\n",
    "from sklearn.model_selection import train_test_split\n",
    "from gensim import matutils\n",
    "from numpy import dot\n",
    "from sklearn.metrics import accuracy_score"
   ]
  },
  {
   "cell_type": "code",
   "execution_count": 5,
   "metadata": {
    "execution": {
     "iopub.execute_input": "2024-07-29T06:25:37.188332Z",
     "iopub.status.busy": "2024-07-29T06:25:37.187552Z",
     "iopub.status.idle": "2024-07-29T06:25:37.259780Z",
     "shell.execute_reply": "2024-07-29T06:25:37.259089Z",
     "shell.execute_reply.started": "2024-07-29T06:25:37.188296Z"
    },
    "tags": []
   },
   "outputs": [
    {
     "name": "stdout",
     "output_type": "stream",
     "text": [
      "Tesla V100-SXM2-32GB\n"
     ]
    }
   ],
   "source": [
    "# Check if GPU is available\n",
    "device = torch.device('cuda' if torch.cuda.is_available() else 'cpu')\n",
    "# print device name: get_device_name()\n",
    "print(torch.cuda.get_device_name(0))"
   ]
  },
  {
   "cell_type": "code",
   "execution_count": 7,
   "metadata": {
    "execution": {
     "iopub.execute_input": "2024-07-29T06:25:40.882188Z",
     "iopub.status.busy": "2024-07-29T06:25:40.881739Z",
     "iopub.status.idle": "2024-07-29T06:25:40.887622Z",
     "shell.execute_reply": "2024-07-29T06:25:40.886949Z",
     "shell.execute_reply.started": "2024-07-29T06:25:40.882157Z"
    },
    "tags": []
   },
   "outputs": [],
   "source": [
    "# Load data from file and store list of sentences where sentences are list of words\n",
    "class MakeSentences():\n",
    "    def __init__(self, file_name):\n",
    "        self.file_name = file_name\n",
    "        self.sentences = self.read_file()\n",
    "\n",
    "    def read_file(self):\n",
    "        sentences = []\n",
    "        with open(self.file_name, 'r') as f:\n",
    "            i=0\n",
    "            for line in f:\n",
    "                sentences += ([x for x in line.strip().split('.') if x!=''])\n",
    "                i+=1\n",
    "                if i==10000:\n",
    "                    break\n",
    "        return sentences"
   ]
  },
  {
   "cell_type": "code",
   "execution_count": 8,
   "metadata": {
    "execution": {
     "iopub.execute_input": "2024-07-29T06:25:41.677117Z",
     "iopub.status.busy": "2024-07-29T06:25:41.676400Z",
     "iopub.status.idle": "2024-07-29T06:25:41.698132Z",
     "shell.execute_reply": "2024-07-29T06:25:41.697533Z",
     "shell.execute_reply.started": "2024-07-29T06:25:41.677084Z"
    },
    "tags": []
   },
   "outputs": [
    {
     "name": "stdout",
     "output_type": "stream",
     "text": [
      "11284\n"
     ]
    }
   ],
   "source": [
    "sentences = MakeSentences('../sa_sentences.txt').sentences\n",
    "print(len(sentences))\n",
    "# for sentence in sentences:\n",
    "#     print(type(sentence))"
   ]
  },
  {
   "cell_type": "code",
   "execution_count": 9,
   "metadata": {
    "execution": {
     "iopub.execute_input": "2024-07-29T06:25:42.165003Z",
     "iopub.status.busy": "2024-07-29T06:25:42.164576Z",
     "iopub.status.idle": "2024-07-29T06:25:42.168724Z",
     "shell.execute_reply": "2024-07-29T06:25:42.168106Z",
     "shell.execute_reply.started": "2024-07-29T06:25:42.164972Z"
    },
    "tags": []
   },
   "outputs": [
    {
     "name": "stdout",
     "output_type": "stream",
     "text": [
      "A froward heart shall depart from me; I will not know a wicked person\n"
     ]
    }
   ],
   "source": [
    "print(sentences[11283])"
   ]
  },
  {
   "cell_type": "markdown",
   "metadata": {},
   "source": [
    "### Preprocess"
   ]
  },
  {
   "cell_type": "code",
   "execution_count": 10,
   "metadata": {
    "execution": {
     "iopub.execute_input": "2024-07-29T06:25:46.918515Z",
     "iopub.status.busy": "2024-07-29T06:25:46.918065Z",
     "iopub.status.idle": "2024-07-29T06:25:46.929630Z",
     "shell.execute_reply": "2024-07-29T06:25:46.929002Z",
     "shell.execute_reply.started": "2024-07-29T06:25:46.918481Z"
    },
    "tags": []
   },
   "outputs": [],
   "source": [
    "import re\n",
    "from collections import Counter\n",
    "\n",
    "class Preprocess():\n",
    "    def __init__(self, sentences):\n",
    "        self.sentences = sentences\n",
    "\n",
    "    def tokenize(self):\n",
    "        self.sentences = [re.findall(r'\\b\\w+\\b', sentence.lower()) for sentence in self.sentences]\n",
    "\n",
    "    def lowercase(self):\n",
    "        self.sentences = [[word.lower() for word in sentence] for sentence in self.sentences]\n",
    "\n",
    "    def remove_stop_words(self):\n",
    "        stop_words = set([\"the\", \"is\", \"at\", \"which\", \"on\", \"and\", \"a\", \"an\"])\n",
    "        self.sentences = [[word for word in sentence if word not in stop_words] for sentence in self.sentences]\n",
    "\n",
    "    def stemmer(self):\n",
    "        def simple_stem(word):\n",
    "            suffixes = [\"ing\", \"ly\", \"ed\", \"ious\", \"ies\", \"ive\", \"es\", \"s\", \"ment\"]\n",
    "            for suffix in sorted(suffixes, key=len, reverse=True):\n",
    "                if word.endswith(suffix):\n",
    "                    return word[:-len(suffix)]\n",
    "            return word\n",
    "        self.sentences = [[simple_stem(word) for word in sentence] for sentence in self.sentences]\n",
    "\n",
    "    def remove_punctuation(self):\n",
    "        self.sentences = [[word for word in sentence if word.isalpha()] for sentence in self.sentences]\n",
    "\n",
    "    def remove_numbers(self):\n",
    "        self.sentences = [[word for word in sentence if not word.isdigit()] for sentence in self.sentences]\n",
    "\n",
    "    def remove_single_letter(self):\n",
    "        self.sentences = [[word for word in sentence if len(word) > 1] for sentence in self.sentences]\n",
    "\n",
    "    def remove_extra_spaces(self):\n",
    "        self.sentences = [[word for word in sentence if word.strip()] for sentence in self.sentences]\n",
    "\n",
    "    def remove_less_than_3(self):\n",
    "        self.sentences = [[word for word in sentence if len(word) > 2] for sentence in self.sentences]\n"
   ]
  },
  {
   "cell_type": "code",
   "execution_count": 11,
   "metadata": {
    "execution": {
     "iopub.execute_input": "2024-07-29T06:25:47.029101Z",
     "iopub.status.busy": "2024-07-29T06:25:47.028380Z",
     "iopub.status.idle": "2024-07-29T06:25:47.630505Z",
     "shell.execute_reply": "2024-07-29T06:25:47.629639Z",
     "shell.execute_reply.started": "2024-07-29T06:25:47.029069Z"
    },
    "tags": []
   },
   "outputs": [
    {
     "name": "stdout",
     "output_type": "stream",
     "text": [
      "Preprocessing done\n",
      "11284\n"
     ]
    }
   ],
   "source": [
    "# preprocess\n",
    "preprocess = Preprocess(sentences)\n",
    "preprocess.tokenize()\n",
    "preprocess.lowercase()\n",
    "preprocess.remove_stop_words()\n",
    "preprocess.stemmer()\n",
    "preprocess.remove_punctuation()\n",
    "preprocess.remove_numbers()\n",
    "preprocess.remove_single_letter()\n",
    "preprocess.remove_extra_spaces()\n",
    "preprocess.remove_less_than_3()\n",
    "\n",
    "print(\"Preprocessing done\")\n",
    "sentences = preprocess.sentences\n",
    "print(len(sentences))"
   ]
  },
  {
   "cell_type": "markdown",
   "metadata": {},
   "source": [
    "### Create word index mappings"
   ]
  },
  {
   "cell_type": "code",
   "execution_count": 12,
   "metadata": {
    "execution": {
     "iopub.execute_input": "2024-07-29T06:25:47.883095Z",
     "iopub.status.busy": "2024-07-29T06:25:47.882436Z",
     "iopub.status.idle": "2024-07-29T06:25:47.973580Z",
     "shell.execute_reply": "2024-07-29T06:25:47.972799Z",
     "shell.execute_reply.started": "2024-07-29T06:25:47.883049Z"
    },
    "tags": []
   },
   "outputs": [
    {
     "name": "stdout",
     "output_type": "stream",
     "text": [
      "Size of vocab:  33805\n",
      "Most common words:  [('for', 2225), ('with', 1959), ('was', 1786), ('that', 1728), ('has', 1351), ('from', 1288), ('his', 1073), ('after', 763), ('who', 752), ('been', 737)]\n"
     ]
    }
   ],
   "source": [
    "# Flatten list of sentences into list of words\n",
    "word_list = list(itertools.chain.from_iterable(sentences))\n",
    "# print(word_list)\n",
    "\n",
    "# Create a vocabulary of words\n",
    "word_freq = Counter(word_list)\n",
    "\n",
    "# Remove words that occur less than 5 times\n",
    "vocab = set(word if word_freq[word] > 0 else '<unk>' for word in word_list)\n",
    "# print(vocab)\n",
    "\n",
    "# Add padding and unknown token to vocab\n",
    "vocab.add('<pad>')\n",
    "vocab.add('<unk>')\n",
    "vocab.add('<start>')\n",
    "vocab.add('<end>')\n",
    "\n",
    "# Print length of vocab\n",
    "print(\"Size of vocab: \", len(vocab))\n",
    "\n",
    "# Create word to index and index to word mapping\n",
    "word_to_idx = {word:idx for idx, word in enumerate(vocab)}\n",
    "idx_to_word = {idx:word for idx, word in enumerate(vocab)}\n",
    "\n",
    "# Print most common words\n",
    "print(\"Most common words: \", word_freq.most_common(10))"
   ]
  },
  {
   "cell_type": "code",
   "execution_count": 13,
   "metadata": {
    "execution": {
     "iopub.execute_input": "2024-07-29T06:25:48.417873Z",
     "iopub.status.busy": "2024-07-29T06:25:48.417442Z",
     "iopub.status.idle": "2024-07-29T06:25:48.422173Z",
     "shell.execute_reply": "2024-07-29T06:25:48.421296Z",
     "shell.execute_reply.started": "2024-07-29T06:25:48.417837Z"
    },
    "tags": []
   },
   "outputs": [
    {
     "name": "stdout",
     "output_type": "stream",
     "text": [
      "23080\n"
     ]
    }
   ],
   "source": [
    "# Check\n",
    "print(word_to_idx['intelligent'])"
   ]
  },
  {
   "cell_type": "markdown",
   "metadata": {},
   "source": [
    "### Create dataset (X,y)"
   ]
  },
  {
   "cell_type": "code",
   "execution_count": 14,
   "metadata": {
    "execution": {
     "iopub.execute_input": "2024-07-29T06:25:49.766679Z",
     "iopub.status.busy": "2024-07-29T06:25:49.766214Z",
     "iopub.status.idle": "2024-07-29T06:25:49.786125Z",
     "shell.execute_reply": "2024-07-29T06:25:49.785481Z",
     "shell.execute_reply.started": "2024-07-29T06:25:49.766640Z"
    },
    "tags": []
   },
   "outputs": [],
   "source": [
    "# define constants\n",
    "window_size = 2\n",
    "sliding_window = 2 * window_size + 1\n",
    "num_neg_samples = 1\n",
    "\n",
    "# sentences = [sentences[0]]\n",
    "# print(sentences)\n",
    "\n",
    "def get_samples(sentences, word_to_idx, idx_to_word, window_size, sliding_window, num_neg_sample):\n",
    "    X = []\n",
    "    y = [] \n",
    "    for sentence in sentences:\n",
    "        sentence = ['<start>'] + sentence + ['<end>']\n",
    "        for i in range(len(sentence)):\n",
    "            target_word = sentence[i]\n",
    "            context_words = []\n",
    "            temp1 = max(0,i - window_size)\n",
    "            temp2 = min(len(sentence)-1,i + window_size + 1)\n",
    "            # print(\"temp1: \", temp1)\n",
    "            # print(\"temp2: \", temp2)\n",
    "            for j in range(max(0,i - window_size),min(len(sentence)-1,i + window_size)+1):\n",
    "                if j != i:\n",
    "                    # print(sentence[j])\n",
    "                    context_words.append(sentence[j])\n",
    "                # print(\"context words: \", context_words)\n",
    "\n",
    "            \n",
    "            # pad context words if length is less than sliding window\n",
    "            if len(context_words) < sliding_window:\n",
    "                context_words += ['<pad>'] * (sliding_window - len(context_words)-1)\n",
    "            \n",
    "            context_words.append(target_word)\n",
    "            # print(\"length of context words: \", len(context_words))\n",
    "\n",
    "            # get positive samples \n",
    "            positive_samples = [word_to_idx[word] if word in vocab else word_to_idx['<unk>'] for word in context_words]\n",
    "            # print(\"lenght of positive samples: \", len(positive_samples))\n",
    "            \n",
    "            X.append(positive_samples)\n",
    "            y.append(1)\n",
    "\n",
    "\n",
    "            for _ in range(num_neg_samples):\n",
    "                negative_samples = positive_samples[:-1]  \n",
    "                neg_sample = random.choice(list(vocab))\n",
    "                while neg_sample in context_words:  \n",
    "                    neg_sample = random.choice(list(vocab))\n",
    "                \n",
    "                negative_samples.append(word_to_idx[neg_sample])  \n",
    "                X.append(negative_samples)\n",
    "                y.append(0)\n",
    "                \n",
    "    return X, y"
   ]
  },
  {
   "cell_type": "code",
   "execution_count": 15,
   "metadata": {
    "execution": {
     "iopub.execute_input": "2024-07-29T06:25:50.089161Z",
     "iopub.status.busy": "2024-07-29T06:25:50.088716Z",
     "iopub.status.idle": "2024-07-29T06:28:53.451746Z",
     "shell.execute_reply": "2024-07-29T06:28:53.450959Z",
     "shell.execute_reply.started": "2024-07-29T06:25:50.089128Z"
    },
    "tags": []
   },
   "outputs": [
    {
     "name": "stdout",
     "output_type": "stream",
     "text": [
      "Creating samples\n",
      "Samples created\n"
     ]
    }
   ],
   "source": [
    "print(\"Creating samples\")\n",
    "X = []\n",
    "y = []\n",
    "X,y = get_samples(sentences, word_to_idx, idx_to_word, window_size, sliding_window, num_neg_samples)\n",
    "print(\"Samples created\")"
   ]
  },
  {
   "cell_type": "code",
   "execution_count": 16,
   "metadata": {
    "execution": {
     "iopub.execute_input": "2024-07-29T06:28:53.453693Z",
     "iopub.status.busy": "2024-07-29T06:28:53.453326Z",
     "iopub.status.idle": "2024-07-29T06:28:55.815722Z",
     "shell.execute_reply": "2024-07-29T06:28:55.815023Z",
     "shell.execute_reply.started": "2024-07-29T06:28:53.453661Z"
    },
    "tags": []
   },
   "outputs": [],
   "source": [
    "data = list(zip(X,y))\n",
    "random.shuffle(data)\n",
    "X,y = zip(*data)\n",
    "X = np.array(X)\n",
    "y = np.array(y)"
   ]
  },
  {
   "cell_type": "code",
   "execution_count": 17,
   "metadata": {
    "execution": {
     "iopub.execute_input": "2024-07-29T06:28:55.817071Z",
     "iopub.status.busy": "2024-07-29T06:28:55.816728Z",
     "iopub.status.idle": "2024-07-29T06:28:55.871618Z",
     "shell.execute_reply": "2024-07-29T06:28:55.870964Z",
     "shell.execute_reply.started": "2024-07-29T06:28:55.817043Z"
    },
    "tags": []
   },
   "outputs": [],
   "source": [
    "# Save X and y\n",
    "np.save('./datasets/sa_X_25k.npy', X)\n",
    "np.save('./datasets/sa_y_25k.npy', y)"
   ]
  },
  {
   "cell_type": "code",
   "execution_count": 18,
   "metadata": {
    "execution": {
     "iopub.execute_input": "2024-07-29T06:28:55.873582Z",
     "iopub.status.busy": "2024-07-29T06:28:55.873232Z",
     "iopub.status.idle": "2024-07-29T06:28:55.888559Z",
     "shell.execute_reply": "2024-07-29T06:28:55.887929Z",
     "shell.execute_reply.started": "2024-07-29T06:28:55.873555Z"
    },
    "tags": []
   },
   "outputs": [],
   "source": [
    "# # Load X and y\n",
    "X = np.load('./datasets/sa_X_25k.npy')\n",
    "y = np.load('./datasets/sa_y_25k.npy')"
   ]
  },
  {
   "cell_type": "markdown",
   "metadata": {},
   "source": [
    "### Build model"
   ]
  },
  {
   "cell_type": "code",
   "execution_count": 19,
   "metadata": {
    "execution": {
     "iopub.execute_input": "2024-07-29T06:28:55.889787Z",
     "iopub.status.busy": "2024-07-29T06:28:55.889497Z",
     "iopub.status.idle": "2024-07-29T06:28:55.896888Z",
     "shell.execute_reply": "2024-07-29T06:28:55.896367Z",
     "shell.execute_reply.started": "2024-07-29T06:28:55.889759Z"
    },
    "tags": []
   },
   "outputs": [],
   "source": [
    "# write the forward pass for CBOW\n",
    "class CBOW(nn.Module):\n",
    "    def __init__(self, vocab_size, embedding_dim):\n",
    "        super(CBOW, self).__init__()\n",
    "        self.vocab_size = vocab_size\n",
    "        self.embedding_dim = embedding_dim\n",
    "        self.embeddings = nn.Embedding(self.vocab_size, self.embedding_dim)\n",
    "        # self.embeddings.weight.data.uniform_(-1, 1)\n",
    "\n",
    "    def forward(self, x):\n",
    "        # extract context and target from x\n",
    "        context = x[:, :-1]\n",
    "        target = x[:, -1]\n",
    "\n",
    "        context_embedding = self.embeddings(context)\n",
    "        context_embedding = torch.mean(context_embedding, dim=1)\n",
    "        target_embedding = self.embeddings(target)\n",
    "\n",
    "        score = torch.sum(context_embedding * target_embedding, dim=1)\n",
    "        return F.sigmoid(score)\n",
    "\n",
    "    def get_embeddings(self):\n",
    "        out = self.embeddings.weight.data\n",
    "        return out.cpu().numpy()\n",
    "    \n",
    "    def get_word_embedding(self, word):\n",
    "        # If word is not in vocab, return unk\n",
    "        if word not in word_to_idx:\n",
    "            word = '<unk>'\n",
    "        word_tensor = torch.LongTensor([word_to_idx[word]])\n",
    "        word_tensor = word_tensor.to(next(self.parameters()).device)\n",
    "        out = self.embeddings(word_tensor).data\n",
    "        return out.cpu().numpy()"
   ]
  },
  {
   "cell_type": "code",
   "execution_count": 20,
   "metadata": {
    "execution": {
     "iopub.execute_input": "2024-07-29T06:28:55.898101Z",
     "iopub.status.busy": "2024-07-29T06:28:55.897659Z",
     "iopub.status.idle": "2024-07-29T06:28:56.877337Z",
     "shell.execute_reply": "2024-07-29T06:28:56.876547Z",
     "shell.execute_reply.started": "2024-07-29T06:28:55.898076Z"
    },
    "tags": []
   },
   "outputs": [],
   "source": [
    "# Define parameters\n",
    "vocab_size = len(vocab)\n",
    "embedding_dim = 100\n",
    "learning_rate = 0.001\n",
    "epochs = 10\n",
    "batch_size = 128\n",
    "\n",
    "# Create model, loss function and optimizer\n",
    "model = CBOW(vocab_size, embedding_dim)\n",
    "model.to(device)\n",
    "# Cross entropy loss\n",
    "criterion = nn.BCELoss()\n",
    "\n",
    "# Adam optimizer\n",
    "optimizer = torch.optim.Adam(model.parameters(), lr=learning_rate)\n",
    "\n",
    "# Define dataloader\n",
    "dataset = torch.utils.data.TensorDataset(torch.from_numpy(X).long(), torch.from_numpy(y).float())\n",
    "dataloader = torch.utils.data.DataLoader(dataset, batch_size=batch_size, shuffle=True)\n"
   ]
  },
  {
   "cell_type": "code",
   "execution_count": 21,
   "metadata": {
    "execution": {
     "iopub.execute_input": "2024-07-29T06:28:56.878956Z",
     "iopub.status.busy": "2024-07-29T06:28:56.878391Z",
     "iopub.status.idle": "2024-07-29T06:28:56.922440Z",
     "shell.execute_reply": "2024-07-29T06:28:56.921736Z",
     "shell.execute_reply.started": "2024-07-29T06:28:56.878924Z"
    },
    "tags": []
   },
   "outputs": [
    {
     "name": "stdout",
     "output_type": "stream",
     "text": [
      "tensor([[30455, 30931, 11056, 24140, 19192],\n",
      "        [19867, 13391,  6355, 24755,  3882],\n",
      "        [  569, 19451, 21504,  6439, 24605],\n",
      "        [20828, 28144,  7256, 15823, 22046],\n",
      "        [22364, 30472, 18309, 18309,   569],\n",
      "        [24260, 27854, 11444, 20263, 25917],\n",
      "        [32132, 10013, 27902, 15988, 16880],\n",
      "        [13971, 32977,  9745,  2159, 19339],\n",
      "        [ 8358, 30931, 21613,  6439, 27338],\n",
      "        [29970, 13515, 20567, 26493, 20322],\n",
      "        [13230, 18928,  5517, 24140, 11732],\n",
      "        [ 4124, 16667, 18309, 18309, 24145],\n",
      "        [21700, 26250, 11685, 33675,  1321],\n",
      "        [25929,   111, 25929, 30643,  8157],\n",
      "        [ 4250,  2613, 24140, 18309, 29607],\n",
      "        [16966,  3672, 17914, 14611, 18521],\n",
      "        [10502,  4057, 24819, 27338, 22364],\n",
      "        [31728,   230,  4882,  1140,  6388],\n",
      "        [ 4524, 12386, 25250, 22377,  4666],\n",
      "        [18810, 23985, 24140, 18309,  5170],\n",
      "        [16077, 32243, 27579, 32730, 24358],\n",
      "        [24171, 14989, 17083, 14989, 28093],\n",
      "        [ 5470, 24994, 18309, 18309, 25209],\n",
      "        [32451, 14364, 18309, 18309, 24140],\n",
      "        [  569, 25469, 28768, 20880, 22565],\n",
      "        [33646, 18573, 26176, 24140, 11961],\n",
      "        [17965, 22047, 18701, 24340, 26837],\n",
      "        [32608, 13508, 23962, 10000,  7329],\n",
      "        [16966, 18196, 18309, 18309, 30530],\n",
      "        [14142, 10774, 24140, 18309, 33639],\n",
      "        [  569, 26232, 22143, 15186, 22461],\n",
      "        [  859, 19852, 24361, 24140, 22013],\n",
      "        [  569, 30931,  7156, 18309, 32658],\n",
      "        [ 1836, 16320, 21699, 19410,  2303],\n",
      "        [30395, 21739, 10743, 31578,  7729],\n",
      "        [ 8395, 32773, 18309, 18309, 24140],\n",
      "        [26659, 23986, 27138, 14106, 10746],\n",
      "        [20871, 13225, 17836, 12267, 13972],\n",
      "        [30143, 32608, 15473, 24068,  6643],\n",
      "        [  569, 21018, 24834, 18309, 10069],\n",
      "        [26394,   658, 28812, 25400, 23082],\n",
      "        [ 6959, 33692,  3326, 17424, 23513],\n",
      "        [15005,   327,  4323,  2272, 31053],\n",
      "        [17853, 22028, 29951, 24140, 33125],\n",
      "        [ 3198, 13878, 29009, 24140, 10366],\n",
      "        [  569, 30717, 20581, 18309, 16184],\n",
      "        [27338, 23001, 17886, 14106, 27320],\n",
      "        [ 7867,  4443,  6337,  9494, 24102],\n",
      "        [  892, 21953,  2839, 19575,  4415],\n",
      "        [22731, 17680, 18573, 12522, 10502],\n",
      "        [18573, 29850, 31053, 20296,  4700],\n",
      "        [23331, 12937, 16008, 30931, 29456],\n",
      "        [33698, 13543, 26250, 12463, 12112],\n",
      "        [24048, 10502, 25210, 26352, 24419],\n",
      "        [ 7390,  9090, 23331, 21272,  6725],\n",
      "        [13832, 14785, 31114, 17083,  2622],\n",
      "        [ 4089, 14127, 18218, 20294, 15735],\n",
      "        [ 1093,  4523,   514, 12666, 28638],\n",
      "        [18727, 12440,  3131, 11383, 30931],\n",
      "        [21699, 20201,  6522,  6439,  2279],\n",
      "        [20880, 13832, 15392, 30634, 18521],\n",
      "        [24794, 33103,  3823, 25267,  3981],\n",
      "        [10426,  1775, 10663, 23962, 24037],\n",
      "        [14106,  8080,  1233, 24730, 11059],\n",
      "        [ 9730, 29406, 33767, 27338, 29465],\n",
      "        [ 4005, 23367, 18309, 18309, 17583],\n",
      "        [15635, 22464, 18309, 18309,   569],\n",
      "        [17627, 16646, 32969, 18993,  2594],\n",
      "        [30001, 26489, 24140, 18309, 11335],\n",
      "        [ 5509,  3369, 18309, 18309, 14543],\n",
      "        [17161, 26261, 28105, 16751,  3192],\n",
      "        [26129, 28818,  6064,  6439, 25172],\n",
      "        [24805, 31377, 23069, 18135, 13674],\n",
      "        [22366,  3326, 24140, 18309, 17424],\n",
      "        [ 3103,  2140, 11716, 24140,  1469],\n",
      "        [  569, 18487, 30931, 18309, 14418],\n",
      "        [11822, 32278,  8199, 21597, 11015],\n",
      "        [23567, 33767, 16742, 17757, 18573],\n",
      "        [31577, 17461, 20620, 27062,  3601],\n",
      "        [32324,  6700, 24220, 12917, 30648],\n",
      "        [  569, 14381, 18573, 18309,  8651],\n",
      "        [13878, 20296, 25181, 17012, 32054],\n",
      "        [18098, 11770, 29034,   875,  3797],\n",
      "        [ 7613, 22162, 26647, 19467,  1607],\n",
      "        [17181, 12807, 16136, 15120, 13225],\n",
      "        [ 7578, 11776,  9165,  7141, 25873],\n",
      "        [11278,  9260, 33116, 24140, 30110],\n",
      "        [21031,  6439, 18309, 18309, 24140],\n",
      "        [32174, 19646, 23001, 28951, 27338],\n",
      "        [ 2913, 10743, 18309, 18309,  7745],\n",
      "        [20880,  7671,  6964, 28277, 23123],\n",
      "        [26910, 33698, 20264,  6141,  8332],\n",
      "        [ 6756,  3846,  3575, 21109, 28827],\n",
      "        [16412, 27157,  7278, 25318, 11654],\n",
      "        [28402, 13995, 18309, 18309, 18649],\n",
      "        [20620, 25318, 22687, 13055,  8652],\n",
      "        [19279,   264, 29396, 30931, 27255],\n",
      "        [  569,  7504,   575,  6555, 31109],\n",
      "        [33718, 10882,  6790, 29486, 29982],\n",
      "        [29879,  9260, 28285, 25741,  5711],\n",
      "        [ 2869, 24181, 18573,  2454, 17463],\n",
      "        [30212, 12980, 20999, 30212, 23814],\n",
      "        [30556,  1121,  8079, 24140, 31556],\n",
      "        [11884, 30271, 21727, 31657, 25506],\n",
      "        [ 4304, 14935, 24543, 13542,  6459],\n",
      "        [ 1055,  2053, 32494, 28515,   311],\n",
      "        [20880, 25509, 13936, 31053, 23960],\n",
      "        [18203, 30931,  3469, 18459,  6198],\n",
      "        [ 8124,  4739, 31542, 32608, 26799],\n",
      "        [  569, 19573, 11350, 18309,   509],\n",
      "        [  569,  9902, 33149, 18309, 31711],\n",
      "        [  569,  6018, 24755, 18309, 23191],\n",
      "        [  569, 11884, 24140, 18309,  8339],\n",
      "        [  569, 32897, 27187, 33149, 23331],\n",
      "        [ 4084,  9546, 33789, 31481, 10502],\n",
      "        [20880, 27793, 22481,  2107,  5470],\n",
      "        [21378, 33767,  6299, 27773, 29181],\n",
      "        [24340, 27783, 15120, 14268,  8830],\n",
      "        [ 3856,  8991, 18309, 18309, 27762],\n",
      "        [11285,  9260, 14106, 23197, 29287],\n",
      "        [13594, 29594, 18309, 18309, 22406],\n",
      "        [  569, 14492, 19687, 32608, 23209],\n",
      "        [23527,  6412, 10743, 22972, 11166],\n",
      "        [30421, 23270,   945,  1950, 14383],\n",
      "        [28771,  8722, 24140, 18309, 20488],\n",
      "        [14832, 21109, 20880, 18765,  9250],\n",
      "        [28940, 33149, 27895, 13116, 13515],\n",
      "        [20581, 26659, 33089, 12836,  2696]])\n",
      "tensor([0., 0., 0., 0., 1., 0., 1., 0., 1., 1., 0., 0., 0., 1., 0., 0., 1., 0.,\n",
      "        0., 1., 1., 1., 0., 1., 0., 0., 0., 1., 0., 0., 0., 1., 0., 0., 0., 1.,\n",
      "        0., 0., 1., 1., 1., 0., 1., 0., 1., 1., 1., 0., 1., 1., 1., 1., 0., 0.,\n",
      "        0., 1., 1., 1., 1., 0., 0., 0., 0., 0., 1., 0., 1., 1., 1., 0., 1., 0.,\n",
      "        0., 1., 0., 0., 0., 1., 1., 0., 0., 0., 1., 0., 1., 1., 1., 1., 1., 0.,\n",
      "        0., 0., 0., 0., 0., 0., 0., 0., 0., 1., 0., 0., 1., 0., 0., 0., 0., 0.,\n",
      "        0., 0., 1., 1., 1., 1., 1., 1., 1., 0., 0., 0., 0., 1., 1., 0., 1., 1.,\n",
      "        1., 1.])\n"
     ]
    }
   ],
   "source": [
    "for i, (inputs, targets) in enumerate(dataloader):\n",
    "    print(inputs)\n",
    "    print(targets)\n",
    "    break"
   ]
  },
  {
   "cell_type": "code",
   "execution_count": 22,
   "metadata": {
    "execution": {
     "iopub.execute_input": "2024-07-29T06:28:56.924036Z",
     "iopub.status.busy": "2024-07-29T06:28:56.923432Z",
     "iopub.status.idle": "2024-07-29T06:28:56.930323Z",
     "shell.execute_reply": "2024-07-29T06:28:56.929681Z",
     "shell.execute_reply.started": "2024-07-29T06:28:56.924002Z"
    },
    "tags": []
   },
   "outputs": [],
   "source": [
    "# Train CBOW model\n",
    "def train(model, criterion, optimizer, dataloader, epochs):\n",
    "    train_losses = []\n",
    "    for epoch in range(epochs):\n",
    "        train_loss = 0\n",
    "        train_preds = []\n",
    "        labels = []\n",
    "        for i, (inputs, targets) in enumerate(dataloader):\n",
    "            inputs = inputs.to(device)\n",
    "            targets = targets.to(device)\n",
    "\n",
    "            # forward + backward + optimize\n",
    "            outputs = model(inputs)\n",
    "            loss = criterion(outputs, targets)\n",
    "            optimizer.zero_grad()\n",
    "            loss.backward()\n",
    "            optimizer.step()\n",
    "            train_loss += loss.item()\n",
    "\n",
    "            # get predictions\n",
    "            preds = [1 if x > 0.5 else 0 for x in outputs]\n",
    "            train_preds.extend(preds)\n",
    "            targets = targets.detach().cpu().numpy()\n",
    "            labels.extend(targets)\n",
    "        \n",
    "        train_loss /= len(dataloader)\n",
    "        train_losses.append(train_loss)\n",
    "        print(\"Epoch: \", epoch+1, \"Loss: \", train_loss)\n",
    "    return train_losses"
   ]
  },
  {
   "cell_type": "code",
   "execution_count": 23,
   "metadata": {
    "execution": {
     "iopub.execute_input": "2024-07-29T06:28:56.931723Z",
     "iopub.status.busy": "2024-07-29T06:28:56.931187Z",
     "iopub.status.idle": "2024-07-29T06:57:04.952244Z",
     "shell.execute_reply": "2024-07-29T06:57:04.951467Z",
     "shell.execute_reply.started": "2024-07-29T06:28:56.931694Z"
    },
    "tags": []
   },
   "outputs": [
    {
     "name": "stdout",
     "output_type": "stream",
     "text": [
      "Epoch:  1 Loss:  1.8673759465151676\n",
      "Epoch:  2 Loss:  1.215479940959753\n",
      "Epoch:  3 Loss:  0.7811625860706826\n",
      "Epoch:  4 Loss:  0.4893969201249845\n",
      "Epoch:  5 Loss:  0.29674907025911884\n",
      "Epoch:  6 Loss:  0.1758963936677332\n",
      "Epoch:  7 Loss:  0.10368485790592588\n",
      "Epoch:  8 Loss:  0.061948498844125746\n",
      "Epoch:  9 Loss:  0.03825539657506974\n",
      "Epoch:  10 Loss:  0.02453198489282137\n"
     ]
    }
   ],
   "source": [
    "# Train model\n",
    "train_losses = train(model, criterion, optimizer, dataloader, epochs)"
   ]
  },
  {
   "cell_type": "code",
   "execution_count": 24,
   "metadata": {
    "execution": {
     "iopub.execute_input": "2024-07-29T06:57:04.955921Z",
     "iopub.status.busy": "2024-07-29T06:57:04.955345Z",
     "iopub.status.idle": "2024-07-29T06:57:04.959980Z",
     "shell.execute_reply": "2024-07-29T06:57:04.959390Z",
     "shell.execute_reply.started": "2024-07-29T06:57:04.955889Z"
    },
    "tags": []
   },
   "outputs": [],
   "source": [
    "# Function to plot train accuracy\n",
    "def plot_train_losses(train_losses):\n",
    "    plt.plot(train_losses)\n",
    "    plt.xlabel('Epochs')\n",
    "    plt.ylabel('Train Loss')\n",
    "    plt.title('Train Loss vs Epochs')\n",
    "    plt.savefig('./plots/cbow_train_losses_sa.png')\n",
    "    plt.show()"
   ]
  },
  {
   "cell_type": "code",
   "execution_count": 25,
   "metadata": {
    "execution": {
     "iopub.execute_input": "2024-07-29T06:57:04.960951Z",
     "iopub.status.busy": "2024-07-29T06:57:04.960724Z",
     "iopub.status.idle": "2024-07-29T06:57:05.277432Z",
     "shell.execute_reply": "2024-07-29T06:57:05.276827Z",
     "shell.execute_reply.started": "2024-07-29T06:57:04.960926Z"
    },
    "tags": []
   },
   "outputs": [
    {
     "data": {
      "image/png": "[encoded data removed]",
      "text/plain": [
       "<Figure size 640x480 with 1 Axes>"
      ]
     },
     "metadata": {},
     "output_type": "display_data"
    }
   ],
   "source": [
    "# Call function to plot train accuracy\n",
    "plot_train_losses(train_losses)"
   ]
  },
  {
   "cell_type": "code",
   "execution_count": 26,
   "metadata": {
    "execution": {
     "iopub.execute_input": "2024-07-29T06:57:05.278892Z",
     "iopub.status.busy": "2024-07-29T06:57:05.278340Z",
     "iopub.status.idle": "2024-07-29T06:57:05.340859Z",
     "shell.execute_reply": "2024-07-29T06:57:05.340134Z",
     "shell.execute_reply.started": "2024-07-29T06:57:05.278864Z"
    },
    "tags": []
   },
   "outputs": [],
   "source": [
    "# Save model\n",
    "torch.save(model.state_dict(), './partA_pth/cbow_sa_25k_100_001.pth')"
   ]
  },
  {
   "cell_type": "code",
   "execution_count": 27,
   "metadata": {
    "execution": {
     "iopub.execute_input": "2024-07-29T06:57:05.342230Z",
     "iopub.status.busy": "2024-07-29T06:57:05.341872Z",
     "iopub.status.idle": "2024-07-29T06:57:05.396814Z",
     "shell.execute_reply": "2024-07-29T06:57:05.396216Z",
     "shell.execute_reply.started": "2024-07-29T06:57:05.342199Z"
    },
    "tags": []
   },
   "outputs": [
    {
     "data": {
      "text/plain": [
       "CBOW(\n",
       "  (embeddings): Embedding(33805, 100)\n",
       ")"
      ]
     },
     "execution_count": 27,
     "metadata": {},
     "output_type": "execute_result"
    }
   ],
   "source": [
    "# Load model\n",
    "model = CBOW(vocab_size, embedding_dim)\n",
    "model.load_state_dict(torch.load('./partA_pth/cbow_sa_25k_100_001.pth'))\n",
    "model.to(device)"
   ]
  },
  {
   "cell_type": "markdown",
   "metadata": {},
   "source": [
    "### Test model with Simlex-999 dataset"
   ]
  },
  {
   "cell_type": "code",
   "execution_count": 28,
   "metadata": {
    "execution": {
     "iopub.execute_input": "2024-07-29T06:57:05.398171Z",
     "iopub.status.busy": "2024-07-29T06:57:05.397705Z",
     "iopub.status.idle": "2024-07-29T06:57:05.413690Z",
     "shell.execute_reply": "2024-07-29T06:57:05.412930Z",
     "shell.execute_reply.started": "2024-07-29T06:57:05.398144Z"
    },
    "tags": []
   },
   "outputs": [
    {
     "name": "stdout",
     "output_type": "stream",
     "text": [
      "   word1        word2 POS  SimLex999  conc(w1)  conc(w2)  concQ  Assoc(USF)  \\\n",
      "0    old          new   A       1.58      2.72      2.81      2        7.25   \n",
      "1  smart  intelligent   A       9.20      1.75      2.46      1        7.11   \n",
      "2   hard    difficult   A       8.77      3.76      2.21      2        5.94   \n",
      "3  happy     cheerful   A       9.55      2.56      2.34      1        5.85   \n",
      "4   hard         easy   A       0.95      3.76      2.07      2        5.82   \n",
      "\n",
      "   SimAssoc333  SD(SimLex)  \n",
      "0            1        0.41  \n",
      "1            1        0.67  \n",
      "2            1        1.19  \n",
      "3            1        2.18  \n",
      "4            1        0.93  \n"
     ]
    }
   ],
   "source": [
    "# Load into dataframe\n",
    "df = pd.read_csv('../SimLex-999/SimLex-999.txt', sep='\\t')\n",
    "print(df.head())"
   ]
  },
  {
   "cell_type": "code",
   "execution_count": 29,
   "metadata": {
    "execution": {
     "iopub.execute_input": "2024-07-29T06:57:05.415522Z",
     "iopub.status.busy": "2024-07-29T06:57:05.414891Z",
     "iopub.status.idle": "2024-07-29T06:57:05.419421Z",
     "shell.execute_reply": "2024-07-29T06:57:05.418736Z",
     "shell.execute_reply.started": "2024-07-29T06:57:05.415476Z"
    },
    "tags": []
   },
   "outputs": [
    {
     "name": "stdout",
     "output_type": "stream",
     "text": [
      "smart\n"
     ]
    }
   ],
   "source": [
    "# Print 2nd row word1\n",
    "print(df['word1'][1])"
   ]
  },
  {
   "cell_type": "code",
   "execution_count": 30,
   "metadata": {
    "execution": {
     "iopub.execute_input": "2024-07-29T06:57:05.421043Z",
     "iopub.status.busy": "2024-07-29T06:57:05.420507Z",
     "iopub.status.idle": "2024-07-29T06:57:05.435908Z",
     "shell.execute_reply": "2024-07-29T06:57:05.435381Z",
     "shell.execute_reply.started": "2024-07-29T06:57:05.420998Z"
    },
    "tags": []
   },
   "outputs": [
    {
     "name": "stdout",
     "output_type": "stream",
     "text": [
      "(1, 100)\n",
      "(100,)\n",
      "[-0.8985697   1.1503736  -1.171949    0.40460062  0.5095849  -0.8688809\n",
      " -0.9613805   1.0171666  -0.5817347  -0.49532703  0.53432095 -1.4444683\n",
      "  2.3393843   0.22620761  0.8623778   1.2113949   0.853483    1.0019602\n",
      " -1.2342533   0.40411726  0.56452835 -1.395803    0.7843319  -0.54525524\n",
      "  0.84928983 -0.31465015  0.313101   -0.2740316   0.96695185  1.316194\n",
      "  1.3397113   1.364346    0.44744095 -0.0880265  -0.70664835  1.4759094\n",
      " -0.3938875  -1.132068   -0.06704634 -1.420919   -0.37628746  0.28492716\n",
      " -0.7071364   1.0334513  -1.2303814   0.19241108  0.9320706  -0.5177427\n",
      " -1.0582789  -0.7194619  -0.27903485  0.02689491 -0.29027     0.09829962\n",
      " -0.11095417 -1.3037634  -0.6270385  -1.6533645   0.18877098 -0.7446808\n",
      " -0.62412435  0.29670063  0.9443103   0.0335416   0.28963447  1.065468\n",
      "  1.0228721  -1.7138721   0.40128204  1.5049978   0.6305159   0.808397\n",
      "  0.266485    0.03889744 -1.6778785  -0.1122261   1.2560952  -0.2625456\n",
      "  1.3520668   0.08819967  1.1177108   0.6461465   0.96891    -0.8392934\n",
      "  1.9678509   1.4931338  -0.39308503 -1.0096776  -2.2208962  -0.25967368\n",
      " -0.31782407 -0.5074497   2.0066352  -0.32376194 -0.7626103   0.3248912\n",
      " -0.1804112   0.78632534 -1.3288853  -1.2132462 ]\n",
      "(1, 100)\n"
     ]
    }
   ],
   "source": [
    "# Get word embeddings\n",
    "sample_embedding = model.get_word_embedding(df['word1'][1])\n",
    "print(sample_embedding.shape)\n",
    "sample_embedding = sample_embedding.squeeze()\n",
    "print(sample_embedding.shape)\n",
    "print(sample_embedding)\n",
    "sample_embedding = sample_embedding.reshape(1,-1)\n",
    "print(sample_embedding.shape)"
   ]
  },
  {
   "cell_type": "code",
   "execution_count": 31,
   "metadata": {
    "execution": {
     "iopub.execute_input": "2024-07-29T06:57:05.437052Z",
     "iopub.status.busy": "2024-07-29T06:57:05.436658Z",
     "iopub.status.idle": "2024-07-29T06:57:05.445570Z",
     "shell.execute_reply": "2024-07-29T06:57:05.445033Z",
     "shell.execute_reply.started": "2024-07-29T06:57:05.437027Z"
    },
    "tags": []
   },
   "outputs": [
    {
     "name": "stdout",
     "output_type": "stream",
     "text": [
      "<class 'numpy.ndarray'>\n",
      "1.0000001\n"
     ]
    }
   ],
   "source": [
    "import numpy as np\n",
    "\n",
    "# Check similarity between two words\n",
    "word1 = df['word1'][1]\n",
    "word2 = df['word1'][1]\n",
    "\n",
    "# Use gensim or any other model to get word embeddings\n",
    "w1 = model.get_word_embedding(word1).squeeze()\n",
    "w2 = model.get_word_embedding(word2).squeeze()\n",
    "\n",
    "print(type(w1))\n",
    "\n",
    "# Calculate cosine similarity using numpy\n",
    "def unitvec(vec):\n",
    "    return vec / np.linalg.norm(vec)\n",
    "\n",
    "sim = np.dot(unitvec(w1), unitvec(w2))\n",
    "print(sim)\n"
   ]
  },
  {
   "cell_type": "code",
   "execution_count": 32,
   "metadata": {
    "execution": {
     "iopub.execute_input": "2024-07-29T06:57:05.446690Z",
     "iopub.status.busy": "2024-07-29T06:57:05.446321Z",
     "iopub.status.idle": "2024-07-29T06:57:05.455805Z",
     "shell.execute_reply": "2024-07-29T06:57:05.455300Z",
     "shell.execute_reply.started": "2024-07-29T06:57:05.446663Z"
    },
    "tags": []
   },
   "outputs": [],
   "source": [
    "# Function to check if word is in vocab\n",
    "def check_vocab(word):\n",
    "    if word in vocab:\n",
    "        return True\n",
    "    else:\n",
    "        return False"
   ]
  },
  {
   "cell_type": "markdown",
   "metadata": {},
   "source": [
    "### Similarity Measures"
   ]
  },
  {
   "cell_type": "code",
   "execution_count": 33,
   "metadata": {
    "execution": {
     "iopub.execute_input": "2024-07-29T06:57:05.456939Z",
     "iopub.status.busy": "2024-07-29T06:57:05.456529Z",
     "iopub.status.idle": "2024-07-29T06:57:05.467199Z",
     "shell.execute_reply": "2024-07-29T06:57:05.466690Z",
     "shell.execute_reply.started": "2024-07-29T06:57:05.456913Z"
    },
    "tags": []
   },
   "outputs": [],
   "source": [
    "# Function to get cosine similarity\n",
    "def cos_similarity(word1_embedding, word2_embedding):\n",
    "    def unitvec(vec):\n",
    "        return vec / np.linalg.norm(vec)\n",
    "\n",
    "    ans = np.dot(unitvec(word1_embedding), unitvec(word2_embedding))\n",
    "    return ans\n",
    "\n",
    "# Function to get Pearson correlation\n",
    "def pearson_correlation(word1_embedding, word2_embedding):\n",
    "    emb1 = np.array(word1_embedding)\n",
    "    emb2 = np.array(word2_embedding)\n",
    "\n",
    "    correlation, _ = pearsonr(emb1, emb2)\n",
    "    return correlation"
   ]
  },
  {
   "cell_type": "code",
   "execution_count": 34,
   "metadata": {
    "execution": {
     "iopub.execute_input": "2024-07-29T06:57:05.468376Z",
     "iopub.status.busy": "2024-07-29T06:57:05.467942Z",
     "iopub.status.idle": "2024-07-29T06:57:05.480164Z",
     "shell.execute_reply": "2024-07-29T06:57:05.479656Z",
     "shell.execute_reply.started": "2024-07-29T06:57:05.468351Z"
    },
    "tags": []
   },
   "outputs": [],
   "source": [
    "def test_sim(df, model, lemmatizer, stemmer):\n",
    "    cosine_similarity_scores = []\n",
    "    pearson_correlation_scores = []\n",
    "    simlex_scores = []\n",
    "    not_in_vocab = 0\n",
    "  \n",
    "    for _, row in df.iterrows():\n",
    "        word1 = row['word1']\n",
    "        word2 = row['word2']\n",
    "        form = row['POS']\n",
    "        form = form.lower()\n",
    "       \n",
    "        # Check if word is in vocab\n",
    "        if not check_vocab(word1) or not check_vocab(word2):\n",
    "            not_in_vocab += 1\n",
    "\n",
    "        # Get embeddings\n",
    "        word1_embedding = model.get_word_embedding(word1).squeeze()\n",
    "        word2_embedding = model.get_word_embedding(word2).squeeze()\n",
    "\n",
    "        # Get cosine similarity\n",
    "        cosine_similarity_scores.append(cos_similarity(word1_embedding, word2_embedding))\n",
    "        \n",
    "        # Get pearson correlation\n",
    "        pearson_correlation_scores.append(pearson_correlation(word1_embedding, word2_embedding))\n",
    "\n",
    "        # Get simlex score\n",
    "        simlex_scores.append(row['SimLex999'])\n",
    "        \n",
    "    return cosine_similarity_scores, pearson_correlation_scores, simlex_scores, not_in_vocab"
   ]
  },
  {
   "cell_type": "code",
   "execution_count": 35,
   "metadata": {
    "execution": {
     "iopub.execute_input": "2024-07-29T06:57:05.481396Z",
     "iopub.status.busy": "2024-07-29T06:57:05.480895Z",
     "iopub.status.idle": "2024-07-29T06:57:08.239415Z",
     "shell.execute_reply": "2024-07-29T06:57:08.238550Z",
     "shell.execute_reply.started": "2024-07-29T06:57:05.481371Z"
    },
    "tags": []
   },
   "outputs": [],
   "source": [
    "# Get cosine similarity and pearson correlation scores\n",
    "lemmatizer = WordNetLemmatizer()\n",
    "stemmer = nltk.stem.PorterStemmer()\n",
    "cosine_similarity_scores, pearson_correlation_scores, simlex_scores, not_in_vocab = test_sim(df, model, lemmatizer, stemmer)"
   ]
  },
  {
   "cell_type": "code",
   "execution_count": 36,
   "metadata": {
    "execution": {
     "iopub.execute_input": "2024-07-29T06:57:08.241178Z",
     "iopub.status.busy": "2024-07-29T06:57:08.240546Z",
     "iopub.status.idle": "2024-07-29T06:57:08.244894Z",
     "shell.execute_reply": "2024-07-29T06:57:08.244350Z",
     "shell.execute_reply.started": "2024-07-29T06:57:08.241148Z"
    },
    "tags": []
   },
   "outputs": [
    {
     "name": "stdout",
     "output_type": "stream",
     "text": [
      "<class 'list'>\n",
      "<class 'list'>\n",
      "<class 'list'>\n"
     ]
    }
   ],
   "source": [
    "# Check cosine similarity and pearson correlation scores\n",
    "print(type(cosine_similarity_scores))\n",
    "print(type(pearson_correlation_scores))\n",
    "print(type(simlex_scores))"
   ]
  },
  {
   "cell_type": "markdown",
   "metadata": {},
   "source": [
    "### Initial Spearman"
   ]
  },
  {
   "cell_type": "code",
   "execution_count": 37,
   "metadata": {
    "execution": {
     "iopub.execute_input": "2024-07-29T06:57:08.246145Z",
     "iopub.status.busy": "2024-07-29T06:57:08.245667Z",
     "iopub.status.idle": "2024-07-29T06:57:08.257041Z",
     "shell.execute_reply": "2024-07-29T06:57:08.256527Z",
     "shell.execute_reply.started": "2024-07-29T06:57:08.246117Z"
    },
    "tags": []
   },
   "outputs": [],
   "source": [
    "# Funtcion to get spearman correlation using cosine similarity scores\n",
    "def spearman_correlation(cosine_similarity_scores, simlex_scores):\n",
    "    # Scale cosine similarity scores to 0-10\n",
    "    cosine_similarity_scores = np.array(cosine_similarity_scores)\n",
    "    cosine_similarity_scores = (1+cosine_similarity_scores)*5\n",
    "    simlex_scores = np.array(simlex_scores)\n",
    "\n",
    "    correlation, _ = spearmanr(cosine_similarity_scores, simlex_scores)\n",
    "    return correlation    "
   ]
  },
  {
   "cell_type": "code",
   "execution_count": 38,
   "metadata": {
    "execution": {
     "iopub.execute_input": "2024-07-29T06:57:08.258229Z",
     "iopub.status.busy": "2024-07-29T06:57:08.257775Z",
     "iopub.status.idle": "2024-07-29T06:57:08.271785Z",
     "shell.execute_reply": "2024-07-29T06:57:08.271128Z",
     "shell.execute_reply.started": "2024-07-29T06:57:08.258203Z"
    },
    "tags": []
   },
   "outputs": [
    {
     "name": "stdout",
     "output_type": "stream",
     "text": [
      "Initial Spearman correlation Sim:  0.010828562909202805\n"
     ]
    }
   ],
   "source": [
    "# Print the initial spearman correlation\n",
    "spearman_value_sim = spearman_correlation(cosine_similarity_scores, simlex_scores)\n",
    "\n",
    "print(\"Initial Spearman correlation Sim: \", spearman_value_sim)"
   ]
  },
  {
   "cell_type": "code",
   "execution_count": 39,
   "metadata": {
    "execution": {
     "iopub.execute_input": "2024-07-29T06:57:08.272826Z",
     "iopub.status.busy": "2024-07-29T06:57:08.272600Z",
     "iopub.status.idle": "2024-07-29T06:57:08.281048Z",
     "shell.execute_reply": "2024-07-29T06:57:08.280505Z",
     "shell.execute_reply.started": "2024-07-29T06:57:08.272801Z"
    },
    "tags": []
   },
   "outputs": [
    {
     "name": "stdout",
     "output_type": "stream",
     "text": [
      "Number of data points not in vocab:  106\n"
     ]
    }
   ],
   "source": [
    "# Print the number of data points not in vocab\n",
    "print(\"Number of data points not in vocab: \", not_in_vocab)"
   ]
  },
  {
   "cell_type": "code",
   "execution_count": 40,
   "metadata": {
    "execution": {
     "iopub.execute_input": "2024-07-29T06:57:08.282043Z",
     "iopub.status.busy": "2024-07-29T06:57:08.281816Z",
     "iopub.status.idle": "2024-07-29T06:57:08.298087Z",
     "shell.execute_reply": "2024-07-29T06:57:08.297562Z",
     "shell.execute_reply.started": "2024-07-29T06:57:08.282019Z"
    },
    "tags": []
   },
   "outputs": [
    {
     "name": "stdout",
     "output_type": "stream",
     "text": [
      "   word1        word2 POS  SimLex999  Assoc(USF)  Cosine Similarity  \\\n",
      "0    old          new   A       1.58        7.25           0.100814   \n",
      "1  smart  intelligent   A       9.20        7.11           0.052994   \n",
      "2   hard    difficult   A       8.77        5.94          -0.053810   \n",
      "3  happy     cheerful   A       9.55        5.85           0.000561   \n",
      "4   hard         easy   A       0.95        5.82          -0.084562   \n",
      "\n",
      "   Pearson Correlation  \n",
      "0             0.101021  \n",
      "1             0.057858  \n",
      "2            -0.043113  \n",
      "3             0.002174  \n",
      "4            -0.063077  \n"
     ]
    }
   ],
   "source": [
    "# Make a dataframe of cosine similarity scores and pearson correlation scores along with Simlex-999 scores and Assoc(USF)\n",
    "simlex_scores = df['SimLex999']\n",
    "assoc_scores = df['Assoc(USF)']\n",
    "cosine_similarity_scores = np.array(cosine_similarity_scores)\n",
    "pearson_correlation_scores = np.array(pearson_correlation_scores)\n",
    "simlex_scores = np.array(simlex_scores)\n",
    "assoc_scores = np.array(assoc_scores)\n",
    "# print(cosine_similarity_scores.shape)\n",
    "# print(pearson_correlation_scores.shape)\n",
    "\n",
    "# Make a dataframe along with word1, word2, POS, SimLex-999 scores, Assoc(USF), cosine similarity scores and pearson correlation scores\n",
    "datat = {'word1': df['word1'], 'word2': df['word2'], 'POS': df['POS'], 'SimLex999': simlex_scores, 'Assoc(USF)': assoc_scores, 'Cosine Similarity': cosine_similarity_scores, 'Pearson Correlation': pearson_correlation_scores}\n",
    "ndf = pd.DataFrame(data=datat)\n",
    "print(ndf.head())"
   ]
  },
  {
   "cell_type": "code",
   "execution_count": 41,
   "metadata": {
    "execution": {
     "iopub.execute_input": "2024-07-29T06:57:08.299118Z",
     "iopub.status.busy": "2024-07-29T06:57:08.298829Z",
     "iopub.status.idle": "2024-07-29T06:57:08.310722Z",
     "shell.execute_reply": "2024-07-29T06:57:08.310199Z",
     "shell.execute_reply.started": "2024-07-29T06:57:08.299093Z"
    },
    "tags": []
   },
   "outputs": [
    {
     "name": "stdout",
     "output_type": "stream",
     "text": [
      "      word1        word2 POS  SimLex999  Assoc(USF)  Cosine Similarity  \\\n",
      "0       old          new   A       1.58        7.25           0.100814   \n",
      "1     smart  intelligent   A       9.20        7.11           0.052994   \n",
      "2      hard    difficult   A       8.77        5.94          -0.053810   \n",
      "3     happy     cheerful   A       9.55        5.85           0.000561   \n",
      "4      hard         easy   A       0.95        5.82          -0.084562   \n",
      "..      ...          ...  ..        ...         ...                ...   \n",
      "994    join      acquire   V       2.85        0.00           0.056240   \n",
      "995    send       attend   V       1.67        0.00           0.023187   \n",
      "996  gather       attend   V       4.80        0.00          -0.144740   \n",
      "997  absorb     withdraw   V       2.97        0.00          -0.098706   \n",
      "998  attend       arrive   V       6.08        0.00           0.020983   \n",
      "\n",
      "     Pearson Correlation  \n",
      "0               0.101021  \n",
      "1               0.057858  \n",
      "2              -0.043113  \n",
      "3               0.002174  \n",
      "4              -0.063077  \n",
      "..                   ...  \n",
      "994             0.058481  \n",
      "995             0.027459  \n",
      "996            -0.145850  \n",
      "997            -0.090524  \n",
      "998             0.022234  \n",
      "\n",
      "[999 rows x 7 columns]\n"
     ]
    }
   ],
   "source": [
    "# Print df\n",
    "print(ndf)"
   ]
  },
  {
   "cell_type": "markdown",
   "metadata": {},
   "source": [
    "### Build the Model"
   ]
  },
  {
   "cell_type": "code",
   "execution_count": 42,
   "metadata": {
    "execution": {
     "iopub.execute_input": "2024-07-29T06:57:08.314686Z",
     "iopub.status.busy": "2024-07-29T06:57:08.314237Z",
     "iopub.status.idle": "2024-07-29T06:57:08.319805Z",
     "shell.execute_reply": "2024-07-29T06:57:08.319272Z",
     "shell.execute_reply.started": "2024-07-29T06:57:08.314660Z"
    },
    "tags": []
   },
   "outputs": [],
   "source": [
    "# Create Dataset\n",
    "def create_dataset(df, model):\n",
    "    # Create a list of tuples\n",
    "    emb1 = []\n",
    "    emb2 = []\n",
    "    simlex_scores = []\n",
    "    assoc_scores = []\n",
    "\n",
    "    for _, row in df.iterrows():\n",
    "        word1 = row['word1']\n",
    "        word2 = row['word2']\n",
    "        emb1.append(torch.tensor(model.get_word_embedding(word1).squeeze()))\n",
    "        emb2.append(torch.tensor(model.get_word_embedding(word2).squeeze()))\n",
    "        simlex_scores.append(row['SimLex999'])\n",
    "        assoc_scores.append(row['Assoc(USF)'])\n",
    "    \n",
    "    # print(emb1[0].shape)\n",
    "    emb1_stack = torch.stack(emb1)\n",
    "    emb2_stack = torch.stack(emb2)\n",
    "    \n",
    "    return emb1_stack, emb2_stack, torch.tensor(simlex_scores, dtype=torch.float), torch.tensor(assoc_scores, dtype=torch.float)"
   ]
  },
  {
   "cell_type": "code",
   "execution_count": 43,
   "metadata": {
    "execution": {
     "iopub.execute_input": "2024-07-29T06:57:08.320732Z",
     "iopub.status.busy": "2024-07-29T06:57:08.320509Z",
     "iopub.status.idle": "2024-07-29T06:57:09.972588Z",
     "shell.execute_reply": "2024-07-29T06:57:09.971874Z",
     "shell.execute_reply.started": "2024-07-29T06:57:08.320708Z"
    },
    "tags": []
   },
   "outputs": [],
   "source": [
    "# Call create_dataset\n",
    "train_df, test_df = train_test_split(ndf, test_size=0.1, random_state=42)\n",
    "train_emb1, train_emb2, train_simlex_scores, train_assoc_scores = create_dataset(train_df, model)\n",
    "test_emb1, test_emb2, test_simlex_scores, test_assoc_scores = create_dataset(test_df, model)"
   ]
  },
  {
   "cell_type": "code",
   "execution_count": 44,
   "metadata": {
    "execution": {
     "iopub.execute_input": "2024-07-29T06:57:09.974130Z",
     "iopub.status.busy": "2024-07-29T06:57:09.973575Z",
     "iopub.status.idle": "2024-07-29T06:57:09.977432Z",
     "shell.execute_reply": "2024-07-29T06:57:09.976883Z",
     "shell.execute_reply.started": "2024-07-29T06:57:09.974100Z"
    },
    "tags": []
   },
   "outputs": [
    {
     "name": "stdout",
     "output_type": "stream",
     "text": [
      "torch.Size([899, 100])\n",
      "torch.Size([899])\n"
     ]
    }
   ],
   "source": [
    "# check train_emb1\n",
    "print(train_emb1.shape)\n",
    "print(train_simlex_scores.shape)"
   ]
  },
  {
   "cell_type": "code",
   "execution_count": 45,
   "metadata": {
    "execution": {
     "iopub.execute_input": "2024-07-29T06:57:09.978607Z",
     "iopub.status.busy": "2024-07-29T06:57:09.978209Z",
     "iopub.status.idle": "2024-07-29T06:57:09.989790Z",
     "shell.execute_reply": "2024-07-29T06:57:09.989286Z",
     "shell.execute_reply.started": "2024-07-29T06:57:09.978581Z"
    },
    "tags": []
   },
   "outputs": [],
   "source": [
    "# Creare TensorDataset\n",
    "train_dataset = torch.utils.data.TensorDataset(train_emb1, train_emb2, train_simlex_scores, train_assoc_scores)\n",
    "test_dataset = torch.utils.data.TensorDataset(test_emb1, test_emb2, test_simlex_scores, test_assoc_scores)"
   ]
  },
  {
   "cell_type": "code",
   "execution_count": 46,
   "metadata": {
    "execution": {
     "iopub.execute_input": "2024-07-29T06:57:09.990695Z",
     "iopub.status.busy": "2024-07-29T06:57:09.990475Z",
     "iopub.status.idle": "2024-07-29T06:57:10.001400Z",
     "shell.execute_reply": "2024-07-29T06:57:10.000861Z",
     "shell.execute_reply.started": "2024-07-29T06:57:09.990671Z"
    },
    "tags": []
   },
   "outputs": [],
   "source": [
    "# Create DataLoader\n",
    "train_loader = torch.utils.data.DataLoader(train_dataset, batch_size=32, shuffle=True)\n",
    "test_loader = torch.utils.data.DataLoader(test_dataset, batch_size=32, shuffle=True)"
   ]
  },
  {
   "cell_type": "code",
   "execution_count": 47,
   "metadata": {
    "execution": {
     "iopub.execute_input": "2024-07-29T06:57:10.002551Z",
     "iopub.status.busy": "2024-07-29T06:57:10.002124Z",
     "iopub.status.idle": "2024-07-29T06:57:10.014064Z",
     "shell.execute_reply": "2024-07-29T06:57:10.013555Z",
     "shell.execute_reply.started": "2024-07-29T06:57:10.002526Z"
    },
    "tags": []
   },
   "outputs": [],
   "source": [
    "# Class that takes CBOW embeddings, and outputs similarity scores: loss is MSE between predicted similarity scores and actual similarity scores(Simlex-999)\n",
    "class RegressionModel(nn.Module):\n",
    "    def __init__(self, embedding_dim):\n",
    "        super(RegressionModel, self).__init__()\n",
    "        self.linear1 = nn.Linear(2*embedding_dim, 50)\n",
    "        self.linear2 = nn.Linear(50, 1)\n",
    "        self.dropout = nn.Dropout(0.5)\n",
    "\n",
    "    def forward(self, emb1, emb2):\n",
    "        emb = torch.cat((emb1, emb2), dim=1)\n",
    "\n",
    "        out = self.linear1(emb)\n",
    "        out = F.relu(out)\n",
    "        out = self.dropout(out)\n",
    "        out = self.linear2(out)\n",
    "\n",
    "        # Project the output between 0 and 10\n",
    "        out = torch.sigmoid(out)\n",
    "        out = out*10\n",
    "        return out"
   ]
  },
  {
   "cell_type": "code",
   "execution_count": 48,
   "metadata": {
    "execution": {
     "iopub.execute_input": "2024-07-29T06:57:10.015199Z",
     "iopub.status.busy": "2024-07-29T06:57:10.014792Z",
     "iopub.status.idle": "2024-07-29T06:57:10.027986Z",
     "shell.execute_reply": "2024-07-29T06:57:10.027464Z",
     "shell.execute_reply.started": "2024-07-29T06:57:10.015173Z"
    },
    "tags": []
   },
   "outputs": [],
   "source": [
    "# Model Parameters\n",
    "embedding_dim = 100\n",
    "learning_rate = 0.001\n",
    "num_epochs = 100\n",
    "batch_size = 32\n",
    "\n",
    "# Initialize model\n",
    "lmodel = RegressionModel(embedding_dim).to(device)\n",
    "# Define loss function\n",
    "criterion = nn.MSELoss()\n",
    "# Define optimizer\n",
    "optimizer = torch.optim.Adam(lmodel.parameters(), lr=learning_rate, weight_decay=0.01) # weight_decay is L2 regularization"
   ]
  },
  {
   "cell_type": "code",
   "execution_count": 49,
   "metadata": {
    "execution": {
     "iopub.execute_input": "2024-07-29T06:57:10.029053Z",
     "iopub.status.busy": "2024-07-29T06:57:10.028721Z",
     "iopub.status.idle": "2024-07-29T06:57:10.036584Z",
     "shell.execute_reply": "2024-07-29T06:57:10.036073Z",
     "shell.execute_reply.started": "2024-07-29T06:57:10.029027Z"
    },
    "tags": []
   },
   "outputs": [],
   "source": [
    "# Function to train model\n",
    "def train(model, train_loader, criterion, optimizer, num_epochs):\n",
    "    model.train()\n",
    "    train_loss = 0.0\n",
    "    for epoch in range(num_epochs):\n",
    "        for emb1, emb2, simlex_scores, assoc_scores in train_loader:\n",
    "            emb1 = emb1.to(device)\n",
    "            emb2 = emb2.to(device)\n",
    "            simlex_scores = simlex_scores.to(device)\n",
    "            assoc_scores = assoc_scores.to(device)\n",
    "            # Forward pass\n",
    "            outputs = model(emb1, emb2)\n",
    "            \n",
    "            simlex_scores = simlex_scores.unsqueeze(1)\n",
    "            # print(outputs[0])\n",
    "            loss = criterion(outputs, simlex_scores)\n",
    "            # Backward and optimize\n",
    "            optimizer.zero_grad()\n",
    "            loss.backward()\n",
    "            optimizer.step()\n",
    "            train_loss += loss.item()\n",
    "            \n",
    "        train_loss /= len(train_loader)\n",
    "        print(\"Epoch: {}, Train_Loss: {}\".format(epoch+1, train_loss))"
   ]
  },
  {
   "cell_type": "code",
   "execution_count": 50,
   "metadata": {
    "execution": {
     "iopub.execute_input": "2024-07-29T06:57:10.037626Z",
     "iopub.status.busy": "2024-07-29T06:57:10.037302Z",
     "iopub.status.idle": "2024-07-29T06:57:20.847618Z",
     "shell.execute_reply": "2024-07-29T06:57:20.846804Z",
     "shell.execute_reply.started": "2024-07-29T06:57:10.037601Z"
    },
    "tags": []
   },
   "outputs": [
    {
     "name": "stdout",
     "output_type": "stream",
     "text": [
      "Epoch: 1, Train_Loss: 7.328326685675259\n",
      "Epoch: 2, Train_Loss: 6.935820891372372\n",
      "Epoch: 3, Train_Loss: 6.660975968492169\n",
      "Epoch: 4, Train_Loss: 6.007148135518621\n",
      "Epoch: 5, Train_Loss: 5.6681180448647055\n",
      "Epoch: 6, Train_Loss: 5.324617461402237\n",
      "Epoch: 7, Train_Loss: 5.140256777441331\n",
      "Epoch: 8, Train_Loss: 4.877378599912127\n",
      "Epoch: 9, Train_Loss: 4.731771539582268\n",
      "Epoch: 10, Train_Loss: 4.387016668776447\n",
      "Epoch: 11, Train_Loss: 4.288803651924098\n",
      "Epoch: 12, Train_Loss: 4.138971849248161\n",
      "Epoch: 13, Train_Loss: 3.634881613034125\n",
      "Epoch: 14, Train_Loss: 3.5744066114185227\n",
      "Epoch: 15, Train_Loss: 3.3835822216222957\n",
      "Epoch: 16, Train_Loss: 3.1677909756239475\n",
      "Epoch: 17, Train_Loss: 3.2002465261280406\n",
      "Epoch: 18, Train_Loss: 3.219402804913397\n",
      "Epoch: 19, Train_Loss: 2.792074734278872\n",
      "Epoch: 20, Train_Loss: 2.599147440863353\n",
      "Epoch: 21, Train_Loss: 2.5426834534595995\n",
      "Epoch: 22, Train_Loss: 2.731941201601188\n",
      "Epoch: 23, Train_Loss: 2.4921907446272673\n",
      "Epoch: 24, Train_Loss: 2.689227840891814\n",
      "Epoch: 25, Train_Loss: 2.476981670404006\n",
      "Epoch: 26, Train_Loss: 2.49767057343271\n",
      "Epoch: 27, Train_Loss: 2.38341231738149\n",
      "Epoch: 28, Train_Loss: 2.302029562953772\n",
      "Epoch: 29, Train_Loss: 2.193342803297497\n",
      "Epoch: 30, Train_Loss: 2.2712832031023247\n",
      "Epoch: 31, Train_Loss: 2.0957977749060346\n",
      "Epoch: 32, Train_Loss: 2.0092284843056736\n",
      "Epoch: 33, Train_Loss: 2.0943762316262906\n",
      "Epoch: 34, Train_Loss: 2.008240969886575\n",
      "Epoch: 35, Train_Loss: 2.022476018568229\n",
      "Epoch: 36, Train_Loss: 1.8884051031456717\n",
      "Epoch: 37, Train_Loss: 1.9954033932007125\n",
      "Epoch: 38, Train_Loss: 2.015999863342707\n",
      "Epoch: 39, Train_Loss: 1.8942986956203212\n",
      "Epoch: 40, Train_Loss: 1.9793304829452374\n",
      "Epoch: 41, Train_Loss: 1.8304354857735727\n",
      "Epoch: 42, Train_Loss: 1.8104504645258974\n",
      "Epoch: 43, Train_Loss: 1.7635513174136166\n",
      "Epoch: 44, Train_Loss: 1.7245199975871481\n",
      "Epoch: 45, Train_Loss: 1.7785224102608892\n",
      "Epoch: 46, Train_Loss: 2.05964861787144\n",
      "Epoch: 47, Train_Loss: 1.5992703062627451\n",
      "Epoch: 48, Train_Loss: 1.7796312804274645\n",
      "Epoch: 49, Train_Loss: 1.760218775256108\n",
      "Epoch: 50, Train_Loss: 1.6970674058481068\n",
      "Epoch: 51, Train_Loss: 1.6911284639598445\n",
      "Epoch: 52, Train_Loss: 1.5785829718228095\n",
      "Epoch: 53, Train_Loss: 1.553249839034971\n",
      "Epoch: 54, Train_Loss: 1.7405855410087825\n",
      "Epoch: 55, Train_Loss: 1.6004936439990611\n",
      "Epoch: 56, Train_Loss: 1.6098794229523874\n",
      "Epoch: 57, Train_Loss: 1.6476777993663172\n",
      "Epoch: 58, Train_Loss: 1.630083763061666\n",
      "Epoch: 59, Train_Loss: 1.6188167115552228\n",
      "Epoch: 60, Train_Loss: 1.5579691830054885\n",
      "Epoch: 61, Train_Loss: 1.5890252641657852\n",
      "Epoch: 62, Train_Loss: 1.5109684736284026\n",
      "Epoch: 63, Train_Loss: 1.4268559113684482\n",
      "Epoch: 64, Train_Loss: 1.690788572874368\n",
      "Epoch: 65, Train_Loss: 1.632597004745428\n",
      "Epoch: 66, Train_Loss: 1.501691712571767\n",
      "Epoch: 67, Train_Loss: 1.6345225104529826\n",
      "Epoch: 68, Train_Loss: 1.4905819958956734\n",
      "Epoch: 69, Train_Loss: 1.4604245600610002\n",
      "Epoch: 70, Train_Loss: 1.3688061592822411\n",
      "Epoch: 71, Train_Loss: 1.3916862290407226\n",
      "Epoch: 72, Train_Loss: 1.703309039553366\n",
      "Epoch: 73, Train_Loss: 1.6009448821613284\n",
      "Epoch: 74, Train_Loss: 1.460899776615182\n",
      "Epoch: 75, Train_Loss: 1.2719388585802287\n",
      "Epoch: 76, Train_Loss: 1.4768336188571083\n",
      "Epoch: 77, Train_Loss: 1.4757045273526523\n",
      "Epoch: 78, Train_Loss: 1.321101703741578\n",
      "Epoch: 79, Train_Loss: 1.373935330821811\n",
      "Epoch: 80, Train_Loss: 1.2382114196958809\n",
      "Epoch: 81, Train_Loss: 1.3462374918253348\n",
      "Epoch: 82, Train_Loss: 1.4811611302713934\n",
      "Epoch: 83, Train_Loss: 1.3199836143406658\n",
      "Epoch: 84, Train_Loss: 1.3562890090084365\n",
      "Epoch: 85, Train_Loss: 1.328329478178683\n",
      "Epoch: 86, Train_Loss: 1.2927947837208285\n",
      "Epoch: 87, Train_Loss: 1.3667237374909122\n",
      "Epoch: 88, Train_Loss: 1.3567786203503862\n",
      "Epoch: 89, Train_Loss: 1.3301005095814844\n",
      "Epoch: 90, Train_Loss: 1.2760754937775354\n",
      "Epoch: 91, Train_Loss: 1.2759547031982446\n",
      "Epoch: 92, Train_Loss: 1.1748155024786917\n",
      "Epoch: 93, Train_Loss: 1.2725003247533042\n",
      "Epoch: 94, Train_Loss: 1.2050307615223759\n",
      "Epoch: 95, Train_Loss: 1.3167339016090291\n",
      "Epoch: 96, Train_Loss: 1.1432674282209985\n",
      "Epoch: 97, Train_Loss: 1.1430685717258537\n",
      "Epoch: 98, Train_Loss: 1.0760438007129804\n",
      "Epoch: 99, Train_Loss: 1.361536517780449\n",
      "Epoch: 100, Train_Loss: 1.1951918704770566\n"
     ]
    }
   ],
   "source": [
    "# Train model\n",
    "train(lmodel, train_loader, criterion, optimizer, num_epochs)"
   ]
  },
  {
   "cell_type": "code",
   "execution_count": 52,
   "metadata": {
    "execution": {
     "iopub.execute_input": "2024-07-29T08:20:13.554587Z",
     "iopub.status.busy": "2024-07-29T08:20:13.554107Z",
     "iopub.status.idle": "2024-07-29T08:20:13.561548Z",
     "shell.execute_reply": "2024-07-29T08:20:13.560946Z",
     "shell.execute_reply.started": "2024-07-29T08:20:13.554555Z"
    },
    "tags": []
   },
   "outputs": [],
   "source": [
    "# Function to test model, Calculate test loss and Spearman correlation\n",
    "def test(model, test_loader, criterion):\n",
    "    model.eval()\n",
    "    test_loss = 0.0\n",
    "    true_simlex_scores = []\n",
    "    pred_simlex_scores = []\n",
    "    for emb1, emb2, simlex_scores, assoc_scores in test_loader:\n",
    "        emb1 = emb1.to(device)\n",
    "        emb2 = emb2.to(device)\n",
    "        simlex_scores = simlex_scores.to(device)\n",
    "        assoc_scores = assoc_scores.to(device)\n",
    "        # Forward pass\n",
    "        outputs = model(emb1, emb2)\n",
    "        simlex_scores = simlex_scores.unsqueeze(1)\n",
    "        loss = criterion(outputs, simlex_scores)\n",
    "        test_loss += loss.item()\n",
    "\n",
    "        # Get true labels and predicted labels\n",
    "        true_simlex_scores.extend(simlex_scores.cpu().detach().numpy().tolist())\n",
    "        pred_simlex_scores.extend(outputs.cpu().detach().numpy().tolist())\n",
    "\n",
    "    test_loss /= len(test_loader)\n",
    "    print(\"Test_Loss: {}\".format(test_loss))\n",
    "    # Calculate Spearman correlation\n",
    "    # print(\"True Simlex scores: \", true_simlex_scores)\n",
    "    # print(\"Predicted Simlex scores: \", pred_simlex_scores)\n",
    "\n",
    "    true_simlex_scores = np.array(true_simlex_scores)\n",
    "    pred_simlex_scores = np.array(pred_simlex_scores)\n",
    "    spear = spearmanr(true_simlex_scores, pred_simlex_scores)\n",
    "    print(\"Spearman correlation: {}\".format(spear[0]))"
   ]
  },
  {
   "cell_type": "code",
   "execution_count": 53,
   "metadata": {
    "execution": {
     "iopub.execute_input": "2024-07-29T08:20:15.069071Z",
     "iopub.status.busy": "2024-07-29T08:20:15.068596Z",
     "iopub.status.idle": "2024-07-29T08:20:15.081218Z",
     "shell.execute_reply": "2024-07-29T08:20:15.080626Z",
     "shell.execute_reply.started": "2024-07-29T08:20:15.069038Z"
    },
    "tags": []
   },
   "outputs": [
    {
     "name": "stdout",
     "output_type": "stream",
     "text": [
      "Test_Loss: 9.417875051498413\n",
      "Spearman correlation: 0.013615892619430426\n"
     ]
    }
   ],
   "source": [
    "# Test model\n",
    "test(lmodel, test_loader, criterion)"
   ]
  },
  {
   "cell_type": "code",
   "execution_count": null,
   "metadata": {},
   "outputs": [],
   "source": []
  },
  {
   "cell_type": "code",
   "execution_count": 56,
   "metadata": {
    "execution": {
     "iopub.execute_input": "2024-07-29T08:23:50.077666Z",
     "iopub.status.busy": "2024-07-29T08:23:50.077132Z",
     "iopub.status.idle": "2024-07-29T08:23:50.353876Z",
     "shell.execute_reply": "2024-07-29T08:23:50.353201Z",
     "shell.execute_reply.started": "2024-07-29T08:23:50.077623Z"
    },
    "tags": []
   },
   "outputs": [
    {
     "data": {
      "application/vnd.jupyter.widget-view+json": {
       "model_id": "daddab39d85244c8a199cb267c2512ea",
       "version_major": 2,
       "version_minor": 0
      },
      "text/plain": [
       "HTML(value='')"
      ]
     },
     "metadata": {},
     "output_type": "display_data"
    },
    {
     "name": "stderr",
     "output_type": "stream",
     "text": [
      "Host key verification failed.\n",
      "Connection closed\n"
     ]
    },
    {
     "data": {
      "application/vnd.jupyter.widget-view+json": {
       "model_id": "acb4d00e2dbb487cba842bd8e8805a67",
       "version_major": 2,
       "version_minor": 0
      },
      "text/plain": [
       "DownloadWidget(children=(HBox(children=(Password(description='Dropzone Password:', style=DescriptionStyle(desc…"
      ]
     },
     "metadata": {},
     "output_type": "display_data"
    },
    {
     "name": "stderr",
     "output_type": "stream",
     "text": [
      "WARNING:root:publish_metrics_list failed due to SigFxClient_client is none...\n"
     ]
    }
   ],
   "source": [
    "%dropzone -p -src 'cbow_sa.ipynb' -tgt 'cbow_sa.ipynb'"
   ]
  },
  {
   "cell_type": "code",
   "execution_count": null,
   "metadata": {},
   "outputs": [],
   "source": []
  },
  {
   "cell_type": "code",
   "execution_count": null,
   "metadata": {},
   "outputs": [],
   "source": []
  }
 ],
 "metadata": {
  "kernelspec": {
   "display_name": "Python 3 (ipykernel)",
   "language": "python",
   "name": "python3"
  },
  "language_info": {
   "codemirror_mode": {
    "name": "ipython",
    "version": 3
   },
   "file_extension": ".py",
   "mimetype": "text/x-python",
   "name": "python",
   "nbconvert_exporter": "python",
   "pygments_lexer": "ipython3",
   "version": "3.9.19"
  }
 },
 "nbformat": 4,
 "nbformat_minor": 4
}
