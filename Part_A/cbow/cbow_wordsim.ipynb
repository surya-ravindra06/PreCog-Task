{
 "cells": [
  {
   "cell_type": "code",
   "execution_count": 12,
   "metadata": {
    "execution": {
     "iopub.execute_input": "2024-07-29T06:30:04.941373Z",
     "iopub.status.busy": "2024-07-29T06:30:04.940451Z",
     "iopub.status.idle": "2024-07-29T06:30:04.954088Z",
     "shell.execute_reply": "2024-07-29T06:30:04.953108Z",
     "shell.execute_reply.started": "2024-07-29T06:30:04.941323Z"
    },
    "tags": []
   },
   "outputs": [
    {
     "ename": "ImportError",
     "evalue": "cannot import name 'triu' from 'scipy.linalg' (/opt/conda/lib/python3.9/site-packages/scipy/linalg/__init__.py)",
     "output_type": "error",
     "traceback": [
      "\u001b[0;31mImportError\u001b[0m\u001b[0;31m:\u001b[0m cannot import name 'triu' from 'scipy.linalg' (/opt/conda/lib/python3.9/site-packages/scipy/linalg/__init__.py)\n"
     ]
    }
   ],
   "source": [
    "# import all necessary packages for CBOW\n",
    "import numpy as np\n",
    "import torch\n",
    "import torch.nn as nn\n",
    "import torch.nn.functional as F\n",
    "from torch.utils.data import Dataset, DataLoader\n",
    "from collections import Counter\n",
    "import random\n",
    "import os\n",
    "import matplotlib.pyplot as plt\n",
    "import pickle\n",
    "from tqdm import tqdm\n",
    "import nltk\n",
    "from nltk.tokenize import word_tokenize\n",
    "from nltk.corpus import stopwords\n",
    "import collections\n",
    "import itertools\n",
    "import re\n",
    "from sklearn.manifold import TSNE\n",
    "from sklearn.metrics.pairwise import cosine_similarity\n",
    "import pandas as pd\n",
    "from nltk.stem import WordNetLemmatizer\n",
    "from scipy.stats import pearsonr, spearmanr\n",
    "from torchtext.vocab import GloVe\n",
    "from sklearn.model_selection import train_test_split\n",
    "from gensim import matutils\n",
    "from numpy import dot\n",
    "from sklearn.metrics import accuracy_score"
   ]
  },
  {
   "cell_type": "code",
   "execution_count": 13,
   "metadata": {
    "execution": {
     "iopub.execute_input": "2024-07-29T06:30:06.513124Z",
     "iopub.status.busy": "2024-07-29T06:30:06.512238Z",
     "iopub.status.idle": "2024-07-29T06:30:06.589927Z",
     "shell.execute_reply": "2024-07-29T06:30:06.589146Z",
     "shell.execute_reply.started": "2024-07-29T06:30:06.513068Z"
    },
    "tags": []
   },
   "outputs": [
    {
     "name": "stdout",
     "output_type": "stream",
     "text": [
      "Tesla V100-SXM2-32GB\n"
     ]
    }
   ],
   "source": [
    "# Check if GPU is available\n",
    "device = torch.device('cuda' if torch.cuda.is_available() else 'cpu')\n",
    "# print device name: get_device_name()\n",
    "print(torch.cuda.get_device_name(0))"
   ]
  },
  {
   "cell_type": "code",
   "execution_count": 14,
   "metadata": {
    "execution": {
     "iopub.execute_input": "2024-07-29T06:30:06.727696Z",
     "iopub.status.busy": "2024-07-29T06:30:06.727008Z",
     "iopub.status.idle": "2024-07-29T06:30:06.734511Z",
     "shell.execute_reply": "2024-07-29T06:30:06.733823Z",
     "shell.execute_reply.started": "2024-07-29T06:30:06.727647Z"
    },
    "tags": []
   },
   "outputs": [],
   "source": [
    "# Load data from file and store list of sentences where sentences are list of words\n",
    "class MakeSentences():\n",
    "    def __init__(self, file_name):\n",
    "        self.file_name = file_name\n",
    "        self.sentences = self.read_file()\n",
    "\n",
    "    def read_file(self):\n",
    "        sentences = []\n",
    "        with open(self.file_name, 'r') as f:\n",
    "            i=0\n",
    "            for line in f:\n",
    "                sentences += ([x for x in line.strip().split('.') if x!=''])\n",
    "                i+=1\n",
    "                if i==10000:\n",
    "                    break\n",
    "        return sentences"
   ]
  },
  {
   "cell_type": "code",
   "execution_count": 15,
   "metadata": {
    "execution": {
     "iopub.execute_input": "2024-07-29T06:30:06.917820Z",
     "iopub.status.busy": "2024-07-29T06:30:06.917158Z",
     "iopub.status.idle": "2024-07-29T06:30:06.959061Z",
     "shell.execute_reply": "2024-07-29T06:30:06.958425Z",
     "shell.execute_reply.started": "2024-07-29T06:30:06.917771Z"
    },
    "tags": []
   },
   "outputs": [
    {
     "name": "stdout",
     "output_type": "stream",
     "text": [
      "25137\n"
     ]
    }
   ],
   "source": [
    "sentences = MakeSentences('../wikitext-2-raw-v1/wikitext-2-raw/wiki.train.raw').sentences\n",
    "print(len(sentences))\n",
    "# for sentence in sentences:\n",
    "#     print(type(sentence))"
   ]
  },
  {
   "cell_type": "code",
   "execution_count": 16,
   "metadata": {
    "execution": {
     "iopub.execute_input": "2024-07-29T06:30:07.097604Z",
     "iopub.status.busy": "2024-07-29T06:30:07.096752Z",
     "iopub.status.idle": "2024-07-29T06:30:07.101814Z",
     "shell.execute_reply": "2024-07-29T06:30:07.101116Z",
     "shell.execute_reply.started": "2024-07-29T06:30:07.097555Z"
    },
    "tags": []
   },
   "outputs": [
    {
     "name": "stdout",
     "output_type": "stream",
     "text": [
      "= Valkyria Chronicles III =\n"
     ]
    }
   ],
   "source": [
    "print(sentences[0])"
   ]
  },
  {
   "cell_type": "markdown",
   "metadata": {},
   "source": [
    "### Preprocess"
   ]
  },
  {
   "cell_type": "code",
   "execution_count": 17,
   "metadata": {
    "execution": {
     "iopub.execute_input": "2024-07-29T06:30:07.700431Z",
     "iopub.status.busy": "2024-07-29T06:30:07.699722Z",
     "iopub.status.idle": "2024-07-29T06:30:07.718060Z",
     "shell.execute_reply": "2024-07-29T06:30:07.717311Z",
     "shell.execute_reply.started": "2024-07-29T06:30:07.700380Z"
    },
    "tags": []
   },
   "outputs": [],
   "source": [
    "import re\n",
    "from collections import Counter\n",
    "\n",
    "class Preprocess():\n",
    "    def __init__(self, sentences):\n",
    "        self.sentences = sentences\n",
    "\n",
    "    def tokenize(self):\n",
    "        # Split sentences into words using regex to handle various punctuation\n",
    "        self.sentences = [re.findall(r'\\b\\w+\\b', sentence.lower()) for sentence in self.sentences]\n",
    "\n",
    "    def lowercase(self):\n",
    "        self.sentences = [[word.lower() for word in sentence] for sentence in self.sentences]\n",
    "\n",
    "    def remove_stop_words(self):\n",
    "        # Common English stop words; expand as necessary\n",
    "        stop_words = set([\"the\", \"is\", \"at\", \"which\", \"on\", \"and\", \"a\", \"an\"])\n",
    "        self.sentences = [[word for word in sentence if word not in stop_words] for sentence in self.sentences]\n",
    "\n",
    "    def stemmer(self):\n",
    "        # Simple stemming using suffix stripping, can be improved\n",
    "        def simple_stem(word):\n",
    "            suffixes = [\"ing\", \"ly\", \"ed\", \"ious\", \"ies\", \"ive\", \"es\", \"s\", \"ment\"]\n",
    "            for suffix in sorted(suffixes, key=len, reverse=True):\n",
    "                if word.endswith(suffix):\n",
    "                    return word[:-len(suffix)]\n",
    "            return word\n",
    "        self.sentences = [[simple_stem(word) for word in sentence] for sentence in self.sentences]\n",
    "\n",
    "    def remove_punctuation(self):\n",
    "        self.sentences = [[word for word in sentence if word.isalpha()] for sentence in self.sentences]\n",
    "\n",
    "    def remove_numbers(self):\n",
    "        self.sentences = [[word for word in sentence if not word.isdigit()] for sentence in self.sentences]\n",
    "\n",
    "    def remove_single_letter(self):\n",
    "        self.sentences = [[word for word in sentence if len(word) > 1] for sentence in self.sentences]\n",
    "\n",
    "    def remove_extra_spaces(self):\n",
    "        self.sentences = [[word for word in sentence if word.strip()] for sentence in self.sentences]\n",
    "\n",
    "    def remove_less_than_3(self):\n",
    "        self.sentences = [[word for word in sentence if len(word) > 2] for sentence in self.sentences]\n"
   ]
  },
  {
   "cell_type": "code",
   "execution_count": 18,
   "metadata": {
    "execution": {
     "iopub.execute_input": "2024-07-29T06:30:07.868564Z",
     "iopub.status.busy": "2024-07-29T06:30:07.867753Z",
     "iopub.status.idle": "2024-07-29T06:30:09.203423Z",
     "shell.execute_reply": "2024-07-29T06:30:09.202672Z",
     "shell.execute_reply.started": "2024-07-29T06:30:07.868516Z"
    },
    "tags": []
   },
   "outputs": [
    {
     "name": "stdout",
     "output_type": "stream",
     "text": [
      "Preprocessing done\n",
      "25137\n"
     ]
    }
   ],
   "source": [
    "# preprocess\n",
    "preprocess = Preprocess(sentences)\n",
    "preprocess.tokenize()\n",
    "# print(preprocess.sentences)\n",
    "preprocess.lowercase()\n",
    "preprocess.remove_stop_words()\n",
    "# preprocess.stemmer()\n",
    "preprocess.remove_punctuation()\n",
    "preprocess.remove_numbers()\n",
    "preprocess.remove_single_letter()\n",
    "preprocess.remove_extra_spaces()\n",
    "preprocess.remove_less_than_3()\n",
    "\n",
    "print(\"Preprocessing done\")\n",
    "# print(preprocess.sentences)\n",
    "sentences = preprocess.sentences\n",
    "print(len(sentences))\n",
    "# print(sentences)"
   ]
  },
  {
   "cell_type": "markdown",
   "metadata": {},
   "source": [
    "### Create word index mappings"
   ]
  },
  {
   "cell_type": "code",
   "execution_count": 19,
   "metadata": {
    "execution": {
     "iopub.execute_input": "2024-07-29T06:30:09.205192Z",
     "iopub.status.busy": "2024-07-29T06:30:09.204823Z",
     "iopub.status.idle": "2024-07-29T06:30:09.350945Z",
     "shell.execute_reply": "2024-07-29T06:30:09.350252Z",
     "shell.execute_reply.started": "2024-07-29T06:30:09.205163Z"
    },
    "tags": []
   },
   "outputs": [
    {
     "name": "stdout",
     "output_type": "stream",
     "text": [
      "Size of vocab:  30214\n",
      "Most common words:  [('was', 5340), ('that', 3928), ('for', 3841), ('with', 3758), ('from', 2329), ('his', 2328), ('were', 1987), ('had', 1638), ('are', 1262), ('her', 1248)]\n"
     ]
    }
   ],
   "source": [
    "# Flatten list of sentences into list of words\n",
    "word_list = list(itertools.chain.from_iterable(sentences))\n",
    "# print(word_list)\n",
    "\n",
    "# Create a vocabulary of words\n",
    "word_freq = Counter(word_list)\n",
    "\n",
    "# Remove words that occur less than 5 times\n",
    "vocab = set(word if word_freq[word] > 0 else '<unk>' for word in word_list)\n",
    "# print(vocab)\n",
    "\n",
    "# Add padding and unknown token to vocab\n",
    "vocab.add('<pad>')\n",
    "vocab.add('<unk>')\n",
    "# Add start and end token to vocab\n",
    "vocab.add('<start>')\n",
    "vocab.add('<end>')\n",
    "\n",
    "# Print length of vocab\n",
    "print(\"Size of vocab: \", len(vocab))\n",
    "\n",
    "# Create word to index and index to word mapping\n",
    "word_to_idx = {word:idx for idx, word in enumerate(vocab)}\n",
    "idx_to_word = {idx:word for idx, word in enumerate(vocab)}\n",
    "\n",
    "# Print most common words\n",
    "print(\"Most common words: \", word_freq.most_common(10))"
   ]
  },
  {
   "cell_type": "code",
   "execution_count": 20,
   "metadata": {
    "execution": {
     "iopub.execute_input": "2024-07-29T06:30:09.352236Z",
     "iopub.status.busy": "2024-07-29T06:30:09.351968Z",
     "iopub.status.idle": "2024-07-29T06:30:09.355799Z",
     "shell.execute_reply": "2024-07-29T06:30:09.355189Z",
     "shell.execute_reply.started": "2024-07-29T06:30:09.352209Z"
    },
    "tags": []
   },
   "outputs": [
    {
     "name": "stdout",
     "output_type": "stream",
     "text": [
      "10418\n"
     ]
    }
   ],
   "source": [
    "# Check\n",
    "print(word_to_idx['intelligent'])"
   ]
  },
  {
   "cell_type": "markdown",
   "metadata": {},
   "source": [
    "### Create dataset (X,y)"
   ]
  },
  {
   "cell_type": "code",
   "execution_count": 21,
   "metadata": {
    "execution": {
     "iopub.execute_input": "2024-07-29T06:30:09.357924Z",
     "iopub.status.busy": "2024-07-29T06:30:09.357455Z",
     "iopub.status.idle": "2024-07-29T06:30:09.383696Z",
     "shell.execute_reply": "2024-07-29T06:30:09.383024Z",
     "shell.execute_reply.started": "2024-07-29T06:30:09.357896Z"
    },
    "tags": []
   },
   "outputs": [],
   "source": [
    "# define constants\n",
    "window_size = 2\n",
    "sliding_window = 2 * window_size + 1\n",
    "num_neg_samples = 1\n",
    "\n",
    "# sentences = [sentences[0]]\n",
    "# print(sentences)\n",
    "\n",
    "def get_samples(sentences, word_to_idx, idx_to_word, window_size, sliding_window, num_neg_sample):\n",
    "    X = []\n",
    "    y = [] \n",
    "    for sentence in sentences:\n",
    "        # add start and end token to sentence\n",
    "        sentence = ['<start>'] + sentence + ['<end>']\n",
    "        for i in range(len(sentence)):\n",
    "            target_word = sentence[i]\n",
    "            # print(\"target word: \", target_word)\n",
    "            context_words = []\n",
    "            temp1 = max(0,i - window_size)\n",
    "            temp2 = min(len(sentence)-1,i + window_size + 1)\n",
    "            # print(\"temp1: \", temp1)\n",
    "            # print(\"temp2: \", temp2)\n",
    "            for j in range(max(0,i - window_size),min(len(sentence)-1,i + window_size)+1):\n",
    "                if j != i:\n",
    "                    # print(sentence[j])\n",
    "                    context_words.append(sentence[j])\n",
    "                # print(\"context words: \", context_words)\n",
    "\n",
    "            \n",
    "            # pad context words if length is less than sliding window\n",
    "            if len(context_words) < sliding_window:\n",
    "                context_words += ['<pad>'] * (sliding_window - len(context_words)-1)\n",
    "            \n",
    "            context_words.append(target_word)\n",
    "            # print(\"length of context words: \", len(context_words))\n",
    "\n",
    "            # get positive samples \n",
    "            positive_samples = [word_to_idx[word] if word in vocab else word_to_idx['<unk>'] for word in context_words]\n",
    "            # print(\"lenght of positive samples: \", len(positive_samples))\n",
    "            \n",
    "            X.append(positive_samples)\n",
    "            y.append(1)\n",
    "\n",
    "\n",
    "            # get negative samples\n",
    "            for _ in range(num_neg_samples):\n",
    "                negative_samples = positive_samples[:-1]  # Start with the same context\n",
    "                neg_sample = random.choice(list(vocab))\n",
    "                while neg_sample in context_words:  # Ensure the negative sample is not in the context\n",
    "                    neg_sample = random.choice(list(vocab))\n",
    "                \n",
    "                negative_samples.append(word_to_idx[neg_sample])  # Add a random negative sample\n",
    "                X.append(negative_samples)\n",
    "                y.append(0)\n",
    "                \n",
    "    return X, y"
   ]
  },
  {
   "cell_type": "code",
   "execution_count": 22,
   "metadata": {
    "execution": {
     "iopub.execute_input": "2024-07-29T06:30:09.384802Z",
     "iopub.status.busy": "2024-07-29T06:30:09.384562Z",
     "iopub.status.idle": "2024-07-29T06:35:47.424116Z",
     "shell.execute_reply": "2024-07-29T06:35:47.423317Z",
     "shell.execute_reply.started": "2024-07-29T06:30:09.384776Z"
    },
    "tags": []
   },
   "outputs": [
    {
     "name": "stdout",
     "output_type": "stream",
     "text": [
      "Creating samples\n",
      "Samples created\n"
     ]
    }
   ],
   "source": [
    "print(\"Creating samples\")\n",
    "X = []\n",
    "y = []\n",
    "X,y = get_samples(sentences, word_to_idx, idx_to_word, window_size, sliding_window, num_neg_samples)\n",
    "print(\"Samples created\")\n",
    "# print(X)\n",
    "# print(y)"
   ]
  },
  {
   "cell_type": "code",
   "execution_count": 23,
   "metadata": {
    "execution": {
     "iopub.execute_input": "2024-07-29T06:35:47.425671Z",
     "iopub.status.busy": "2024-07-29T06:35:47.425382Z",
     "iopub.status.idle": "2024-07-29T06:35:52.180242Z",
     "shell.execute_reply": "2024-07-29T06:35:52.179532Z",
     "shell.execute_reply.started": "2024-07-29T06:35:47.425642Z"
    },
    "tags": []
   },
   "outputs": [],
   "source": [
    "# shuffle data\n",
    "data = list(zip(X,y))\n",
    "random.shuffle(data)\n",
    "X,y = zip(*data)\n",
    "\n",
    "# Turn into numpy arrays\n",
    "X = np.array(X)\n",
    "y = np.array(y)"
   ]
  },
  {
   "cell_type": "code",
   "execution_count": 24,
   "metadata": {
    "execution": {
     "iopub.execute_input": "2024-07-29T06:35:52.181746Z",
     "iopub.status.busy": "2024-07-29T06:35:52.181235Z",
     "iopub.status.idle": "2024-07-29T06:35:52.269074Z",
     "shell.execute_reply": "2024-07-29T06:35:52.268396Z",
     "shell.execute_reply.started": "2024-07-29T06:35:52.181716Z"
    },
    "tags": []
   },
   "outputs": [],
   "source": [
    "# Save X and y\n",
    "np.save('./datasets/wiki_X_25k.npy', X)\n",
    "np.save('./datasets/wiki_y_25k.npy', y)"
   ]
  },
  {
   "cell_type": "code",
   "execution_count": 25,
   "metadata": {
    "execution": {
     "iopub.execute_input": "2024-07-29T06:35:52.271448Z",
     "iopub.status.busy": "2024-07-29T06:35:52.271097Z",
     "iopub.status.idle": "2024-07-29T06:35:52.361835Z",
     "shell.execute_reply": "2024-07-29T06:35:52.361153Z",
     "shell.execute_reply.started": "2024-07-29T06:35:52.271420Z"
    },
    "tags": []
   },
   "outputs": [],
   "source": [
    "# # Load X and y\n",
    "X = np.load('./datasets/wiki_X_25k.npy')\n",
    "y = np.load('./datasets/wiki_y_25k.npy')"
   ]
  },
  {
   "cell_type": "markdown",
   "metadata": {},
   "source": [
    "### Build model"
   ]
  },
  {
   "cell_type": "code",
   "execution_count": 26,
   "metadata": {
    "execution": {
     "iopub.execute_input": "2024-07-29T06:35:52.363184Z",
     "iopub.status.busy": "2024-07-29T06:35:52.362837Z",
     "iopub.status.idle": "2024-07-29T06:35:52.370595Z",
     "shell.execute_reply": "2024-07-29T06:35:52.370045Z",
     "shell.execute_reply.started": "2024-07-29T06:35:52.363156Z"
    },
    "tags": []
   },
   "outputs": [],
   "source": [
    "# write the forward pass for CBOW\n",
    "class CBOW(nn.Module):\n",
    "    def __init__(self, vocab_size, embedding_dim):\n",
    "        super(CBOW, self).__init__()\n",
    "        self.vocab_size = vocab_size\n",
    "        self.embedding_dim = embedding_dim\n",
    "        self.embeddings = nn.Embedding(self.vocab_size, self.embedding_dim)\n",
    "        # self.embeddings.weight.data.uniform_(-1, 1)\n",
    "\n",
    "    def forward(self, x):\n",
    "        # extract context and target from x\n",
    "        context = x[:, :-1]\n",
    "        target = x[:, -1]\n",
    "\n",
    "        context_embedding = self.embeddings(context)\n",
    "        context_embedding = torch.mean(context_embedding, dim=1)\n",
    "        target_embedding = self.embeddings(target)\n",
    "\n",
    "        # take dot product of context embedding and target embedding\n",
    "        score = torch.sum(context_embedding * target_embedding, dim=1)\n",
    "        return F.sigmoid(score)\n",
    "\n",
    "    def get_embeddings(self):\n",
    "        out = self.embeddings.weight.data\n",
    "        return out.cpu().numpy()\n",
    "    \n",
    "    def get_word_embedding(self, word):\n",
    "        # If word is not in vocab, return unk\n",
    "        if word not in word_to_idx:\n",
    "            word = '<unk>'\n",
    "        word_tensor = torch.LongTensor([word_to_idx[word]])\n",
    "        word_tensor = word_tensor.to(next(self.parameters()).device)\n",
    "        out = self.embeddings(word_tensor).data\n",
    "        return out.cpu().numpy()"
   ]
  },
  {
   "cell_type": "code",
   "execution_count": 27,
   "metadata": {
    "execution": {
     "iopub.execute_input": "2024-07-29T06:35:52.371840Z",
     "iopub.status.busy": "2024-07-29T06:35:52.371403Z",
     "iopub.status.idle": "2024-07-29T06:35:53.360546Z",
     "shell.execute_reply": "2024-07-29T06:35:53.359827Z",
     "shell.execute_reply.started": "2024-07-29T06:35:52.371814Z"
    },
    "tags": []
   },
   "outputs": [],
   "source": [
    "# Define parameters\n",
    "vocab_size = len(vocab)\n",
    "embedding_dim = 100\n",
    "learning_rate = 0.001\n",
    "epochs = 10\n",
    "batch_size = 128\n",
    "\n",
    "# Create model, loss function and optimizer\n",
    "model = CBOW(vocab_size, embedding_dim)\n",
    "model.to(device)\n",
    "# Cross entropy loss\n",
    "criterion = nn.BCELoss()\n",
    "\n",
    "# Adam optimizer\n",
    "optimizer = torch.optim.Adam(model.parameters(), lr=learning_rate)\n",
    "\n",
    "# Define dataloader\n",
    "dataset = torch.utils.data.TensorDataset(torch.from_numpy(X).long(), torch.from_numpy(y).float())\n",
    "dataloader = torch.utils.data.DataLoader(dataset, batch_size=batch_size, shuffle=True)\n"
   ]
  },
  {
   "cell_type": "code",
   "execution_count": 28,
   "metadata": {
    "execution": {
     "iopub.execute_input": "2024-07-29T06:35:53.362098Z",
     "iopub.status.busy": "2024-07-29T06:35:53.361541Z",
     "iopub.status.idle": "2024-07-29T06:35:53.441766Z",
     "shell.execute_reply": "2024-07-29T06:35:53.441112Z",
     "shell.execute_reply.started": "2024-07-29T06:35:53.362067Z"
    },
    "tags": []
   },
   "outputs": [
    {
     "name": "stdout",
     "output_type": "stream",
     "text": [
      "tensor([[ 7589,  7726, 23937, 12758, 22276],\n",
      "        [ 8528,  5054,  1565,  1565, 20163],\n",
      "        [ 9940,  3347, 20163,  1565, 21295],\n",
      "        [15703, 13243, 20163,  1565,  6543],\n",
      "        [21641, 12938,  8681, 20163, 18809],\n",
      "        [23506, 27365,  1565,  1565, 20163],\n",
      "        [22727, 26430, 20163,  1565, 26581],\n",
      "        [27263, 29818, 18357, 28677, 29152],\n",
      "        [27285, 12438,  1565,  1565,  9940],\n",
      "        [ 8428, 28765,  1906, 21534, 12586],\n",
      "        [22277, 27174, 15606, 21683, 19861],\n",
      "        [12348, 12522,  1565,  1565, 20163],\n",
      "        [ 9940, 24365, 25984, 14302,  4015],\n",
      "        [ 9940, 27146,  9568,  1565, 14704],\n",
      "        [ 9357, 12451,  4012, 11497,  6601],\n",
      "        [ 1829, 11955, 11955,   220, 18620],\n",
      "        [25745,  4060,  1829, 25742, 13192],\n",
      "        [10005,  8984, 22124,  3029,  2444],\n",
      "        [25432, 26497, 20950, 27123, 15837],\n",
      "        [ 8805, 11955,  1906, 27380,  1849],\n",
      "        [29916,   220, 23401,  6205, 24969],\n",
      "        [17571,   220,  4726, 20163, 15293],\n",
      "        [23389, 18513, 18232, 29818, 26084],\n",
      "        [28747, 14869, 29942, 23872, 12355],\n",
      "        [11772, 10974,  1565,  1565, 25741],\n",
      "        [28836, 29359, 22870, 28264, 21115],\n",
      "        [24048, 24256,  6205, 25439, 19250],\n",
      "        [14058, 22131,  1214, 28583, 14806],\n",
      "        [18022, 26246,  3141, 14102,  5499],\n",
      "        [ 9940, 29887, 29205,  1565, 27417],\n",
      "        [20106, 13047,  4297, 20163,  5870],\n",
      "        [16478, 23979, 20737, 22214,   129],\n",
      "        [ 9940, 27524, 25773, 10445, 17300],\n",
      "        [26293, 29577,  1186, 23691, 18673],\n",
      "        [ 9788,   997, 22585, 18871, 21154],\n",
      "        [ 9940,  2348, 15573,  1565, 25984],\n",
      "        [13264,  1244, 20163,  1565, 24163],\n",
      "        [ 8365, 14010,  6205, 18371, 16930],\n",
      "        [15703, 25288, 22015, 19932,  6370],\n",
      "        [21139, 23605,   712,  6205, 28167],\n",
      "        [18319,  5807, 19084, 18704, 18069],\n",
      "        [12659, 23312,  1565,  1565, 20163],\n",
      "        [19605, 10599, 29412,  7231, 25042],\n",
      "        [21295, 14866, 29818,  5650, 30157],\n",
      "        [20190,  5082,  1565,  1565,  9940],\n",
      "        [ 7957, 10910,  1565,  1565,  2332],\n",
      "        [ 9940, 24343,  1186, 26129, 21182],\n",
      "        [ 8517, 28253,  1565,  1565, 10437],\n",
      "        [11955,  8283,  3520, 24048, 11955],\n",
      "        [  220, 29825, 17462, 24841, 18204],\n",
      "        [ 5636, 23642, 24224, 29708, 29957],\n",
      "        [18371, 19864,  1565,  1565,  9940],\n",
      "        [ 9940, 19758,  7743,  9627, 21300],\n",
      "        [ 6205, 29261, 26436, 28822, 25160],\n",
      "        [15703, 22530, 15703, 17819, 25196],\n",
      "        [13921,  1808,  2133,  1207,  1582],\n",
      "        [16433, 20970,  1565,  1565, 20093],\n",
      "        [26619,  1202, 24244, 20163, 16199],\n",
      "        [12153,  3883,  6597,  3115, 20293],\n",
      "        [ 9940, 15580, 20163,  1565, 13529],\n",
      "        [  425, 24428,  5082, 12168, 26138],\n",
      "        [14869,  5235,  7247, 20163,  1859],\n",
      "        [ 9940, 29818, 25517, 29903, 27860],\n",
      "        [ 3686,  7095, 15744, 16007,  3716],\n",
      "        [27892,  4060, 16582,  2605,  1099],\n",
      "        [26897,  7743, 24365, 25745,   467],\n",
      "        [ 2785, 23436, 20163,  1565, 15953],\n",
      "        [24343, 29692,  1565,  1565, 20163],\n",
      "        [ 1829, 17577, 25098,  9009, 28524],\n",
      "        [ 8613,  5561,  5551, 28648,  1186],\n",
      "        [22142, 17256,  2087, 27284, 29519],\n",
      "        [  997, 23902, 26064,   997,   997],\n",
      "        [ 7743, 10599,  1781,  1998,  9734],\n",
      "        [ 3486, 26843, 12430,  3486,  4650],\n",
      "        [28185, 11123, 11670, 28663, 22479],\n",
      "        [10202,  2038, 23244,  8511,  6779],\n",
      "        [13838, 29621, 11816,  6665, 28167],\n",
      "        [21695, 26833,  1186, 16041, 21183],\n",
      "        [ 7966,  6447,  1565,  1565,  9940],\n",
      "        [26044, 16109,  4577, 13921, 23313],\n",
      "        [23511, 21295, 15900,  8326, 20201],\n",
      "        [18664, 27741,  6166, 20163, 18986],\n",
      "        [ 1829,  9658,  1565,  1565, 27565],\n",
      "        [21148,  7630,  1565,  1565, 26283],\n",
      "        [ 9940,  3538, 25742,  1565, 14704],\n",
      "        [ 9940, 28167,  7358,  3574,  6259],\n",
      "        [10091, 11887, 20163,  1565, 19142],\n",
      "        [19637,  8081,  1565,  1565,  5410],\n",
      "        [ 8972,  6099, 19864, 11901, 24888],\n",
      "        [   14,  3066,  1186,   707, 25721],\n",
      "        [19828, 16535, 13299, 23084,  5065],\n",
      "        [ 8506,  7590,  1565,  1565, 20163],\n",
      "        [ 3036, 23987, 22679, 16213,  9478],\n",
      "        [10716, 25432, 16764,  3538, 24911],\n",
      "        [20163,  1565,  1565,  1565, 29377],\n",
      "        [17819, 11653, 29942, 20809, 20616],\n",
      "        [  220, 13921, 14381, 11680, 20216],\n",
      "        [14753,  3841, 14753, 14092, 29054],\n",
      "        [  247,  7177, 20163,  1565,  5944],\n",
      "        [24787, 19717, 28117, 25892,  1906],\n",
      "        [ 4014, 16701, 25540, 25984,  1200],\n",
      "        [15703,  5160,  6205, 24134, 21295],\n",
      "        [12388, 12746,  3253, 29389,   428],\n",
      "        [ 3119, 28822,  9937,  4959,  9127],\n",
      "        [28903,  3329, 20163,  1565,  2002],\n",
      "        [ 4169,  9258, 21611, 28323, 25563],\n",
      "        [16976, 14924, 21641, 10143,  4251],\n",
      "        [  236, 29818, 20163,  1565, 14241],\n",
      "        [14589, 19796, 25317, 14468,  4165],\n",
      "        [ 1186,  1447, 25681, 20163, 18856],\n",
      "        [ 9940, 13921, 18574,  1565,  1213],\n",
      "        [27720,  7922, 13264, 27390,  1874],\n",
      "        [29532, 16695,  1892, 17183,  6085],\n",
      "        [18167, 22880,  1565,  1565,  9940],\n",
      "        [16161, 25269,  1565,  1565, 20163],\n",
      "        [ 9940,  3666,  8255, 19944, 23884],\n",
      "        [27624,  5893, 27809, 20163,  1186],\n",
      "        [29199,  5090, 20163,  1565, 22670],\n",
      "        [ 3141, 17324,  1565,  1565, 20163],\n",
      "        [24163, 23883,  9345, 24966,  5104],\n",
      "        [23014,  4414, 24365, 27172, 11457],\n",
      "        [ 6686,   586, 20163,  1565, 27829],\n",
      "        [ 9175,  7386, 19173,    96, 28710],\n",
      "        [29818, 27929, 28295,  1966,  4060],\n",
      "        [15026, 27159, 13912, 21583, 24789],\n",
      "        [ 9940, 21476,  3036,  1565,   220],\n",
      "        [23979,  6804, 20163,  1565, 13629],\n",
      "        [20163,  1565,  1565,  1565,  1959]])\n",
      "tensor([0., 1., 1., 0., 0., 1., 0., 0., 1., 1., 1., 1., 0., 1., 0., 0., 0., 0.,\n",
      "        1., 0., 1., 1., 0., 0., 0., 0., 0., 1., 0., 1., 0., 1., 1., 1., 0., 1.,\n",
      "        1., 1., 1., 0., 1., 1., 0., 1., 1., 0., 0., 0., 1., 0., 1., 1., 0., 0.,\n",
      "        0., 0., 0., 1., 1., 1., 1., 1., 1., 0., 0., 0., 1., 0., 0., 1., 1., 1.,\n",
      "        0., 1., 0., 0., 1., 0., 1., 1., 0., 0., 0., 0., 1., 0., 1., 0., 1., 0.,\n",
      "        1., 1., 0., 1., 0., 0., 1., 1., 1., 1., 1., 1., 0., 0., 1., 0., 0., 1.,\n",
      "        1., 0., 0., 0., 1., 1., 1., 0., 1., 1., 1., 1., 1., 0., 0., 1., 1., 1.,\n",
      "        1., 0.])\n"
     ]
    }
   ],
   "source": [
    "# Check dataset\n",
    "for i, (inputs, targets) in enumerate(dataloader):\n",
    "    print(inputs)\n",
    "    print(targets)\n",
    "    break"
   ]
  },
  {
   "cell_type": "code",
   "execution_count": 29,
   "metadata": {
    "execution": {
     "iopub.execute_input": "2024-07-29T06:35:53.443318Z",
     "iopub.status.busy": "2024-07-29T06:35:53.442740Z",
     "iopub.status.idle": "2024-07-29T06:35:53.449478Z",
     "shell.execute_reply": "2024-07-29T06:35:53.448889Z",
     "shell.execute_reply.started": "2024-07-29T06:35:53.443288Z"
    },
    "tags": []
   },
   "outputs": [],
   "source": [
    "# Train CBOW model\n",
    "def train(model, criterion, optimizer, dataloader, epochs):\n",
    "    train_losses = []\n",
    "    for epoch in range(epochs):\n",
    "        train_loss = 0\n",
    "        train_preds = []\n",
    "        labels = []\n",
    "        for i, (inputs, targets) in enumerate(dataloader):\n",
    "            inputs = inputs.to(device)\n",
    "            targets = targets.to(device)\n",
    "\n",
    "            # forward + backward + optimize\n",
    "            outputs = model(inputs)\n",
    "            loss = criterion(outputs, targets)\n",
    "            optimizer.zero_grad()\n",
    "            loss.backward()\n",
    "            optimizer.step()\n",
    "            train_loss += loss.item()\n",
    "\n",
    "            # get predictions\n",
    "            preds = [1 if x > 0.5 else 0 for x in outputs]\n",
    "            train_preds.extend(preds)\n",
    "            targets = targets.detach().cpu().numpy()\n",
    "            labels.extend(targets)\n",
    "        \n",
    "        train_loss /= len(dataloader)\n",
    "        train_losses.append(train_loss)\n",
    "        print(\"Epoch: \", epoch+1, \"Loss: \", train_loss)\n",
    "    return train_losses"
   ]
  },
  {
   "cell_type": "code",
   "execution_count": 30,
   "metadata": {
    "execution": {
     "iopub.execute_input": "2024-07-29T06:35:53.450772Z",
     "iopub.status.busy": "2024-07-29T06:35:53.450300Z",
     "iopub.status.idle": "2024-07-29T07:21:28.931135Z",
     "shell.execute_reply": "2024-07-29T07:21:28.930362Z",
     "shell.execute_reply.started": "2024-07-29T06:35:53.450744Z"
    },
    "tags": []
   },
   "outputs": [
    {
     "name": "stdout",
     "output_type": "stream",
     "text": [
      "Epoch:  1 Loss:  1.7010215045741768\n",
      "Epoch:  2 Loss:  0.9772304872436881\n",
      "Epoch:  3 Loss:  0.5836373328805095\n",
      "Epoch:  4 Loss:  0.3555737707908984\n",
      "Epoch:  5 Loss:  0.2229139288674952\n",
      "Epoch:  6 Loss:  0.14449637890786907\n",
      "Epoch:  7 Loss:  0.09615266957107843\n",
      "Epoch:  8 Loss:  0.06530464448032172\n",
      "Epoch:  9 Loss:  0.04492391512103596\n",
      "Epoch:  10 Loss:  0.03108602024434116\n"
     ]
    }
   ],
   "source": [
    "# Train model\n",
    "train_losses = train(model, criterion, optimizer, dataloader, epochs)"
   ]
  },
  {
   "cell_type": "code",
   "execution_count": 31,
   "metadata": {
    "execution": {
     "iopub.execute_input": "2024-07-29T07:21:28.933041Z",
     "iopub.status.busy": "2024-07-29T07:21:28.932395Z",
     "iopub.status.idle": "2024-07-29T07:21:28.937055Z",
     "shell.execute_reply": "2024-07-29T07:21:28.936497Z",
     "shell.execute_reply.started": "2024-07-29T07:21:28.933009Z"
    },
    "tags": []
   },
   "outputs": [],
   "source": [
    "# Function to plot train accuracy\n",
    "def plot_train_losses(train_losses):\n",
    "    plt.plot(train_losses)\n",
    "    plt.xlabel('Epochs')\n",
    "    plt.ylabel('Train Loss')\n",
    "    plt.title('Train Loss vs Epochs')\n",
    "    plt.savefig('./plots/cbow_train_losses_wiki.png')\n",
    "    plt.show()"
   ]
  },
  {
   "cell_type": "code",
   "execution_count": 32,
   "metadata": {
    "execution": {
     "iopub.execute_input": "2024-07-29T07:21:28.938076Z",
     "iopub.status.busy": "2024-07-29T07:21:28.937852Z",
     "iopub.status.idle": "2024-07-29T07:21:29.207175Z",
     "shell.execute_reply": "2024-07-29T07:21:29.206600Z",
     "shell.execute_reply.started": "2024-07-29T07:21:28.938051Z"
    },
    "tags": []
   },
   "outputs": [
    {
     "data": {
      "image/png": "[encoded data removed]",
      "text/plain": [
       "<Figure size 640x480 with 1 Axes>"
      ]
     },
     "metadata": {},
     "output_type": "display_data"
    }
   ],
   "source": [
    "# Call function to plot train accuracy\n",
    "plot_train_losses(train_losses)"
   ]
  },
  {
   "cell_type": "code",
   "execution_count": 33,
   "metadata": {
    "execution": {
     "iopub.execute_input": "2024-07-29T07:21:29.208383Z",
     "iopub.status.busy": "2024-07-29T07:21:29.208061Z",
     "iopub.status.idle": "2024-07-29T07:21:29.261630Z",
     "shell.execute_reply": "2024-07-29T07:21:29.260988Z",
     "shell.execute_reply.started": "2024-07-29T07:21:29.208355Z"
    },
    "tags": []
   },
   "outputs": [],
   "source": [
    "# Save model\n",
    "torch.save(model.state_dict(), './partA_pth/cbow_25k_100_001.pth')"
   ]
  },
  {
   "cell_type": "code",
   "execution_count": 34,
   "metadata": {
    "execution": {
     "iopub.execute_input": "2024-07-29T07:21:29.262786Z",
     "iopub.status.busy": "2024-07-29T07:21:29.262531Z",
     "iopub.status.idle": "2024-07-29T07:21:29.331885Z",
     "shell.execute_reply": "2024-07-29T07:21:29.331303Z",
     "shell.execute_reply.started": "2024-07-29T07:21:29.262760Z"
    },
    "tags": []
   },
   "outputs": [
    {
     "data": {
      "text/plain": [
       "CBOW(\n",
       "  (embeddings): Embedding(30214, 100)\n",
       ")"
      ]
     },
     "execution_count": 34,
     "metadata": {},
     "output_type": "execute_result"
    }
   ],
   "source": [
    "# Load model\n",
    "model = CBOW(vocab_size, embedding_dim)\n",
    "model.load_state_dict(torch.load('./partA_pth/cbow_25k_100_001.pth'))\n",
    "model.to(device)"
   ]
  },
  {
   "cell_type": "markdown",
   "metadata": {},
   "source": [
    "### Test model with Wordsim dataset"
   ]
  },
  {
   "cell_type": "code",
   "execution_count": 35,
   "metadata": {
    "execution": {
     "iopub.execute_input": "2024-07-29T07:21:29.335215Z",
     "iopub.status.busy": "2024-07-29T07:21:29.334750Z",
     "iopub.status.idle": "2024-07-29T07:21:29.346578Z",
     "shell.execute_reply": "2024-07-29T07:21:29.346009Z",
     "shell.execute_reply.started": "2024-07-29T07:21:29.335186Z"
    },
    "tags": []
   },
   "outputs": [
    {
     "name": "stdout",
     "output_type": "stream",
     "text": [
      "     Word 1    Word 2  Human (mean)\n",
      "0      love       sex          6.77\n",
      "1     tiger       cat          7.35\n",
      "2     tiger     tiger         10.00\n",
      "3      book     paper          7.46\n",
      "4  computer  keyboard          7.62\n"
     ]
    }
   ],
   "source": [
    "# Load test data\n",
    "df = pd.read_csv('../wordsim353/combined.csv')\n",
    "print(df.head())"
   ]
  },
  {
   "cell_type": "code",
   "execution_count": 36,
   "metadata": {
    "execution": {
     "iopub.execute_input": "2024-07-29T07:21:29.347839Z",
     "iopub.status.busy": "2024-07-29T07:21:29.347381Z",
     "iopub.status.idle": "2024-07-29T07:21:29.354972Z",
     "shell.execute_reply": "2024-07-29T07:21:29.354442Z",
     "shell.execute_reply.started": "2024-07-29T07:21:29.347812Z"
    },
    "tags": []
   },
   "outputs": [
    {
     "name": "stdout",
     "output_type": "stream",
     "text": [
      "tiger\n"
     ]
    }
   ],
   "source": [
    "# Print 2nd row word1\n",
    "print(df['Word 1'][1])"
   ]
  },
  {
   "cell_type": "code",
   "execution_count": 37,
   "metadata": {
    "execution": {
     "iopub.execute_input": "2024-07-29T07:21:29.356166Z",
     "iopub.status.busy": "2024-07-29T07:21:29.355757Z",
     "iopub.status.idle": "2024-07-29T07:21:29.370690Z",
     "shell.execute_reply": "2024-07-29T07:21:29.370159Z",
     "shell.execute_reply.started": "2024-07-29T07:21:29.356139Z"
    },
    "tags": []
   },
   "outputs": [
    {
     "name": "stdout",
     "output_type": "stream",
     "text": [
      "(1, 100)\n",
      "(100,)\n",
      "[-1.8674948   0.27013162  1.4915674  -0.2338258  -2.5056298   2.945772\n",
      " -0.27708635  0.14721106  0.7721195   1.4909459  -1.0877306   0.2569368\n",
      "  2.3024561   0.10378551 -2.0157628  -0.16400751 -0.45565516  0.77827924\n",
      " -1.3525712   0.26418704  1.3202723   0.66190153 -0.90911055 -0.46332327\n",
      "  0.03556557  1.174434    0.25949818  2.013086   -0.5022634   0.60396934\n",
      " -1.5864441   0.6320902  -0.86740303  0.04047179 -0.45271736 -0.28891638\n",
      "  1.454845   -0.43890214 -1.7650582  -0.31302893  0.8616688  -2.219296\n",
      " -2.2454698  -2.3862777   0.5364559   0.68477833  0.19684546 -0.5224888\n",
      "  0.5107017  -0.72853935 -0.636037    0.5360477   0.21698608  0.93642694\n",
      " -0.24461909  0.24106207  0.2060979   1.2641404   1.901625    1.6752226\n",
      "  0.19928132 -0.46982804  1.2444106  -0.83310324  0.83428377  0.3617117\n",
      " -0.02164215  0.5760939   0.22540133 -1.8751068   1.5308541   0.1458733\n",
      "  1.6166972   0.3062213   0.23241809 -1.0668589  -2.4138687   0.20623806\n",
      "  0.4792228   1.3857622  -0.4630139   0.937047    0.305285    1.3640119\n",
      " -0.15091424 -0.13577175 -2.1181376   0.19128124  1.370069   -1.1377423\n",
      "  1.0150709   1.3813586   0.95077825 -0.5044181   0.97145224  0.08278538\n",
      "  1.2209095  -1.629734   -0.43982908 -0.9753784 ]\n",
      "(1, 100)\n"
     ]
    }
   ],
   "source": [
    "# Get word embeddings\n",
    "sample_embedding = model.get_word_embedding(df['Word 1'][1])\n",
    "print(sample_embedding.shape)\n",
    "sample_embedding = sample_embedding.squeeze()\n",
    "print(sample_embedding.shape)\n",
    "print(sample_embedding)\n",
    "sample_embedding = sample_embedding.reshape(1,-1)\n",
    "print(sample_embedding.shape)"
   ]
  },
  {
   "cell_type": "code",
   "execution_count": 38,
   "metadata": {
    "execution": {
     "iopub.execute_input": "2024-07-29T07:21:29.371749Z",
     "iopub.status.busy": "2024-07-29T07:21:29.371523Z",
     "iopub.status.idle": "2024-07-29T07:21:29.380294Z",
     "shell.execute_reply": "2024-07-29T07:21:29.379763Z",
     "shell.execute_reply.started": "2024-07-29T07:21:29.371725Z"
    },
    "tags": []
   },
   "outputs": [
    {
     "name": "stdout",
     "output_type": "stream",
     "text": [
      "<class 'numpy.ndarray'>\n",
      "-0.018874682\n"
     ]
    }
   ],
   "source": [
    "import numpy as np\n",
    "\n",
    "# Check similarity between two words\n",
    "word1 = df['Word 1'][1]\n",
    "word2 = df['Word 2'][1]\n",
    "\n",
    "# Use gensim or any other model to get word embeddings\n",
    "w1 = model.get_word_embedding(word1).squeeze()\n",
    "w2 = model.get_word_embedding(word2).squeeze()\n",
    "\n",
    "print(type(w1))\n",
    "\n",
    "# Calculate cosine similarity using numpy\n",
    "def unitvec(vec):\n",
    "    return vec / np.linalg.norm(vec)\n",
    "\n",
    "sim = np.dot(unitvec(w1), unitvec(w2))\n",
    "print(sim)\n"
   ]
  },
  {
   "cell_type": "code",
   "execution_count": 39,
   "metadata": {
    "execution": {
     "iopub.execute_input": "2024-07-29T07:21:29.381504Z",
     "iopub.status.busy": "2024-07-29T07:21:29.381058Z",
     "iopub.status.idle": "2024-07-29T07:21:29.390991Z",
     "shell.execute_reply": "2024-07-29T07:21:29.390480Z",
     "shell.execute_reply.started": "2024-07-29T07:21:29.381477Z"
    },
    "tags": []
   },
   "outputs": [],
   "source": [
    "# Function to check if word is in vocab\n",
    "def check_vocab(word):\n",
    "    if word in vocab:\n",
    "        return True\n",
    "    else:\n",
    "        return False"
   ]
  },
  {
   "cell_type": "markdown",
   "metadata": {},
   "source": [
    "### Similarity Measures"
   ]
  },
  {
   "cell_type": "code",
   "execution_count": 40,
   "metadata": {
    "execution": {
     "iopub.execute_input": "2024-07-29T07:21:29.392086Z",
     "iopub.status.busy": "2024-07-29T07:21:29.391859Z",
     "iopub.status.idle": "2024-07-29T07:21:29.403198Z",
     "shell.execute_reply": "2024-07-29T07:21:29.402642Z",
     "shell.execute_reply.started": "2024-07-29T07:21:29.392062Z"
    },
    "tags": []
   },
   "outputs": [],
   "source": [
    "# Function to get cosine similarity\n",
    "def cos_similarity(word1_embedding, word2_embedding):\n",
    "    def unitvec(vec):\n",
    "        return vec / np.linalg.norm(vec)\n",
    "\n",
    "    ans = np.dot(unitvec(word1_embedding), unitvec(word2_embedding))\n",
    "    return ans\n",
    "\n",
    "# Function to get Pearson correlation\n",
    "def pearson_correlation(word1_embedding, word2_embedding):\n",
    "    emb1 = np.array(word1_embedding)\n",
    "    emb2 = np.array(word2_embedding)\n",
    "\n",
    "    correlation, _ = pearsonr(emb1, emb2)\n",
    "    return correlation"
   ]
  },
  {
   "cell_type": "code",
   "execution_count": 41,
   "metadata": {
    "execution": {
     "iopub.execute_input": "2024-07-29T07:21:29.404407Z",
     "iopub.status.busy": "2024-07-29T07:21:29.403968Z",
     "iopub.status.idle": "2024-07-29T07:21:29.415818Z",
     "shell.execute_reply": "2024-07-29T07:21:29.415301Z",
     "shell.execute_reply.started": "2024-07-29T07:21:29.404381Z"
    },
    "tags": []
   },
   "outputs": [],
   "source": [
    "def test_sim(df, model, lemmatizer, stemmer):\n",
    "    cosine_similarity_scores = []\n",
    "    pearson_correlation_scores = []\n",
    "    scores = []\n",
    "    \n",
    "    for _, row in df.iterrows():\n",
    "        word1 = row['Word 1']\n",
    "        word2 = row['Word 2']\n",
    "        \n",
    "        word1_embedding = model.get_word_embedding(word1).squeeze()\n",
    "        word2_embedding = model.get_word_embedding(word2).squeeze()\n",
    "\n",
    "        # Get cosine similarity\n",
    "        cosine_similarity_scores.append(cos_similarity(word1_embedding, word2_embedding))\n",
    "        \n",
    "        # Get pearson correlation\n",
    "        pearson_correlation_scores.append(pearson_correlation(word1_embedding, word2_embedding))\n",
    "\n",
    "        # Get score\n",
    "        scores.append(row['Human (mean)'])\n",
    "        \n",
    "    return cosine_similarity_scores, pearson_correlation_scores, scores"
   ]
  },
  {
   "cell_type": "code",
   "execution_count": 42,
   "metadata": {
    "execution": {
     "iopub.execute_input": "2024-07-29T07:21:29.416960Z",
     "iopub.status.busy": "2024-07-29T07:21:29.416595Z",
     "iopub.status.idle": "2024-07-29T07:21:29.939901Z",
     "shell.execute_reply": "2024-07-29T07:21:29.939190Z",
     "shell.execute_reply.started": "2024-07-29T07:21:29.416933Z"
    },
    "tags": []
   },
   "outputs": [],
   "source": [
    "# Get cosine similarity and pearson correlation scores\n",
    "lemmatizer = WordNetLemmatizer()\n",
    "stemmer = nltk.stem.PorterStemmer()\n",
    "cosine_similarity_scores, pearson_correlation_scores, scores = test_sim(df, model, lemmatizer, stemmer)"
   ]
  },
  {
   "cell_type": "code",
   "execution_count": 43,
   "metadata": {
    "execution": {
     "iopub.execute_input": "2024-07-29T07:21:29.941394Z",
     "iopub.status.busy": "2024-07-29T07:21:29.940904Z",
     "iopub.status.idle": "2024-07-29T07:21:29.945062Z",
     "shell.execute_reply": "2024-07-29T07:21:29.944467Z",
     "shell.execute_reply.started": "2024-07-29T07:21:29.941363Z"
    },
    "tags": []
   },
   "outputs": [
    {
     "name": "stdout",
     "output_type": "stream",
     "text": [
      "<class 'list'>\n",
      "<class 'list'>\n",
      "<class 'list'>\n"
     ]
    }
   ],
   "source": [
    "# Check cosine similarity and pearson correlation scores\n",
    "print(type(cosine_similarity_scores))\n",
    "print(type(pearson_correlation_scores))\n",
    "print(type(scores))"
   ]
  },
  {
   "cell_type": "markdown",
   "metadata": {},
   "source": [
    "### Initial Spearman"
   ]
  },
  {
   "cell_type": "code",
   "execution_count": 44,
   "metadata": {
    "execution": {
     "iopub.execute_input": "2024-07-29T07:21:29.946423Z",
     "iopub.status.busy": "2024-07-29T07:21:29.945956Z",
     "iopub.status.idle": "2024-07-29T07:21:29.958425Z",
     "shell.execute_reply": "2024-07-29T07:21:29.957886Z",
     "shell.execute_reply.started": "2024-07-29T07:21:29.946394Z"
    },
    "tags": []
   },
   "outputs": [],
   "source": [
    "# Funtcion to get spearman correlation using cosine similarity scores\n",
    "def spearman_correlation(cosine_similarity_scores, scores):\n",
    "    # Scale cosine similarity scores to 0-10\n",
    "    cosine_similarity_scores = np.array(cosine_similarity_scores)\n",
    "    cosine_similarity_scores = (1+cosine_similarity_scores)*5\n",
    "    scores = np.array(scores)\n",
    "\n",
    "    correlation, _ = spearmanr(cosine_similarity_scores, scores)\n",
    "    return correlation    "
   ]
  },
  {
   "cell_type": "code",
   "execution_count": 45,
   "metadata": {
    "execution": {
     "iopub.execute_input": "2024-07-29T07:21:29.959608Z",
     "iopub.status.busy": "2024-07-29T07:21:29.959233Z",
     "iopub.status.idle": "2024-07-29T07:21:29.973836Z",
     "shell.execute_reply": "2024-07-29T07:21:29.973290Z",
     "shell.execute_reply.started": "2024-07-29T07:21:29.959580Z"
    },
    "tags": []
   },
   "outputs": [
    {
     "name": "stdout",
     "output_type": "stream",
     "text": [
      "Initial Spearman correlation:  0.08462175488635149\n"
     ]
    }
   ],
   "source": [
    "# Print the initial spearman correlation\n",
    "spearman_value = spearman_correlation(cosine_similarity_scores, scores)\n",
    "\n",
    "print(\"Initial Spearman correlation: \", spearman_value)"
   ]
  },
  {
   "cell_type": "code",
   "execution_count": null,
   "metadata": {},
   "outputs": [],
   "source": []
  },
  {
   "cell_type": "code",
   "execution_count": 37,
   "metadata": {
    "execution": {
     "iopub.execute_input": "2024-07-29T08:16:29.709058Z",
     "iopub.status.busy": "2024-07-29T08:16:29.708364Z",
     "iopub.status.idle": "2024-07-29T08:16:31.062374Z",
     "shell.execute_reply": "2024-07-29T08:16:31.061249Z",
     "shell.execute_reply.started": "2024-07-29T08:16:29.709011Z"
    },
    "tags": []
   },
   "outputs": [
    {
     "data": {
      "application/vnd.jupyter.widget-view+json": {
       "model_id": "e854c39b6c5f4d26859c5e6dafcc60da",
       "version_major": 2,
       "version_minor": 0
      },
      "text/plain": [
       "HTML(value='')"
      ]
     },
     "metadata": {},
     "output_type": "display_data"
    },
    {
     "name": "stderr",
     "output_type": "stream",
     "text": [
      "/opt/conda/lib/python3.9/subprocess.py:941: RuntimeWarning: line buffering (buffering=1) isn't supported in binary mode, the default buffer size will be used\n",
      "  self.stdout = io.open(c2pread, 'rb', bufsize)\n",
      "Host key verification failed.\n",
      "Connection closed\n"
     ]
    },
    {
     "data": {
      "application/vnd.jupyter.widget-view+json": {
       "model_id": "110a3f4014d243379f9083ca487065c6",
       "version_major": 2,
       "version_minor": 0
      },
      "text/plain": [
       "DownloadWidget(children=(HBox(children=(Password(description='Dropzone Password:', style=DescriptionStyle(desc…"
      ]
     },
     "metadata": {},
     "output_type": "display_data"
    },
    {
     "name": "stderr",
     "output_type": "stream",
     "text": [
      "WARNING:root:publish_metrics_list failed due to SigFxClient_client is none...\n"
     ]
    }
   ],
   "source": [
    "%dropzone -p -src 'cbow_wordsim.ipynb' -tgt 'cbow_wordsim.ipynb'"
   ]
  },
  {
   "cell_type": "code",
   "execution_count": null,
   "metadata": {},
   "outputs": [],
   "source": []
  },
  {
   "cell_type": "code",
   "execution_count": null,
   "metadata": {},
   "outputs": [],
   "source": [
    "\n"
   ]
  }
 ],
 "metadata": {
  "kernelspec": {
   "display_name": "Python 3 (ipykernel)",
   "language": "python",
   "name": "python3"
  },
  "language_info": {
   "codemirror_mode": {
    "name": "ipython",
    "version": 3
   },
   "file_extension": ".py",
   "mimetype": "text/x-python",
   "name": "python",
   "nbconvert_exporter": "python",
   "pygments_lexer": "ipython3",
   "version": "3.9.19"
  }
 },
 "nbformat": 4,
 "nbformat_minor": 4
}
