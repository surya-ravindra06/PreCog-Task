{
 "cells": [
  {
   "cell_type": "code",
   "execution_count": 3,
   "metadata": {
    "execution": {
     "iopub.execute_input": "2024-07-28T13:24:10.926271Z",
     "iopub.status.busy": "2024-07-28T13:24:10.925744Z",
     "iopub.status.idle": "2024-07-28T13:24:10.935526Z",
     "shell.execute_reply": "2024-07-28T13:24:10.934635Z",
     "shell.execute_reply.started": "2024-07-28T13:24:10.926237Z"
    },
    "tags": []
   },
   "outputs": [
    {
     "ename": "ImportError",
     "evalue": "cannot import name 'triu' from 'scipy.linalg' (/opt/conda/lib/python3.9/site-packages/scipy/linalg/__init__.py)",
     "output_type": "error",
     "traceback": [
      "\u001b[0;31mImportError\u001b[0m\u001b[0;31m:\u001b[0m cannot import name 'triu' from 'scipy.linalg' (/opt/conda/lib/python3.9/site-packages/scipy/linalg/__init__.py)\n"
     ]
    }
   ],
   "source": [
    "# import all necessary packages for CBOW\n",
    "import numpy as np\n",
    "import torch\n",
    "import torch.nn as nn\n",
    "import torch.nn.functional as F\n",
    "from torch.utils.data import Dataset, DataLoader\n",
    "from collections import Counter\n",
    "import random\n",
    "import os\n",
    "import matplotlib.pyplot as plt\n",
    "import pickle\n",
    "from tqdm import tqdm\n",
    "import nltk\n",
    "from nltk.tokenize import word_tokenize\n",
    "from nltk.corpus import stopwords\n",
    "import collections\n",
    "import itertools\n",
    "import re\n",
    "from sklearn.manifold import TSNE\n",
    "from sklearn.metrics.pairwise import cosine_similarity\n",
    "import pandas as pd\n",
    "from nltk.stem import WordNetLemmatizer\n",
    "from scipy.stats import pearsonr, spearmanr\n",
    "from torchtext.vocab import GloVe\n",
    "from sklearn.model_selection import train_test_split\n",
    "from gensim import matutils\n",
    "from numpy import dot\n",
    "from sklearn.metrics import accuracy_score"
   ]
  },
  {
   "cell_type": "code",
   "execution_count": 4,
   "metadata": {
    "execution": {
     "iopub.execute_input": "2024-07-28T13:24:12.287535Z",
     "iopub.status.busy": "2024-07-28T13:24:12.286695Z",
     "iopub.status.idle": "2024-07-28T13:24:12.291987Z",
     "shell.execute_reply": "2024-07-28T13:24:12.291232Z",
     "shell.execute_reply.started": "2024-07-28T13:24:12.287498Z"
    },
    "tags": []
   },
   "outputs": [
    {
     "name": "stdout",
     "output_type": "stream",
     "text": [
      "Tesla V100-SXM2-32GB\n"
     ]
    }
   ],
   "source": [
    "# Check if GPU is available\n",
    "device = torch.device('cuda' if torch.cuda.is_available() else 'cpu')\n",
    "# print device name: get_device_name()\n",
    "print(torch.cuda.get_device_name(0))"
   ]
  },
  {
   "cell_type": "code",
   "execution_count": 5,
   "metadata": {
    "execution": {
     "iopub.execute_input": "2024-07-28T13:24:12.713290Z",
     "iopub.status.busy": "2024-07-28T13:24:12.712783Z",
     "iopub.status.idle": "2024-07-28T13:24:12.718893Z",
     "shell.execute_reply": "2024-07-28T13:24:12.718169Z",
     "shell.execute_reply.started": "2024-07-28T13:24:12.713250Z"
    },
    "tags": []
   },
   "outputs": [],
   "source": [
    "# Load data from file and store list of sentences where sentences are list of words\n",
    "class MakeSentences():\n",
    "    def __init__(self, file_name):\n",
    "        self.file_name = file_name\n",
    "        self.sentences = self.read_file()\n",
    "\n",
    "    def read_file(self):\n",
    "        sentences = []\n",
    "        with open(self.file_name, 'r') as f:\n",
    "            i=0\n",
    "            for line in f:\n",
    "                sentences += ([x for x in line.strip().split('.') if x!=''])\n",
    "                i+=1\n",
    "                if i==10000:\n",
    "                    break\n",
    "        return sentences"
   ]
  },
  {
   "cell_type": "code",
   "execution_count": 6,
   "metadata": {
    "execution": {
     "iopub.execute_input": "2024-07-28T13:24:13.026379Z",
     "iopub.status.busy": "2024-07-28T13:24:13.025542Z",
     "iopub.status.idle": "2024-07-28T13:24:13.053159Z",
     "shell.execute_reply": "2024-07-28T13:24:13.052372Z",
     "shell.execute_reply.started": "2024-07-28T13:24:13.026343Z"
    },
    "tags": []
   },
   "outputs": [
    {
     "name": "stdout",
     "output_type": "stream",
     "text": [
      "25137\n"
     ]
    }
   ],
   "source": [
    "sentences = MakeSentences('../wikitext-2-raw-v1/wikitext-2-raw/wiki.train.raw').sentences\n",
    "print(len(sentences))\n",
    "# for sentence in sentences:\n",
    "#     print(type(sentence))"
   ]
  },
  {
   "cell_type": "code",
   "execution_count": 7,
   "metadata": {
    "execution": {
     "iopub.execute_input": "2024-07-28T13:24:13.299612Z",
     "iopub.status.busy": "2024-07-28T13:24:13.298813Z",
     "iopub.status.idle": "2024-07-28T13:24:13.303499Z",
     "shell.execute_reply": "2024-07-28T13:24:13.302767Z",
     "shell.execute_reply.started": "2024-07-28T13:24:13.299573Z"
    },
    "tags": []
   },
   "outputs": [
    {
     "name": "stdout",
     "output_type": "stream",
     "text": [
      "= Valkyria Chronicles III =\n"
     ]
    }
   ],
   "source": [
    "print(sentences[0])"
   ]
  },
  {
   "cell_type": "markdown",
   "metadata": {},
   "source": [
    "### Preprocess"
   ]
  },
  {
   "cell_type": "code",
   "execution_count": 8,
   "metadata": {
    "execution": {
     "iopub.execute_input": "2024-07-28T13:24:14.109852Z",
     "iopub.status.busy": "2024-07-28T13:24:14.109359Z",
     "iopub.status.idle": "2024-07-28T13:24:14.121867Z",
     "shell.execute_reply": "2024-07-28T13:24:14.121144Z",
     "shell.execute_reply.started": "2024-07-28T13:24:14.109819Z"
    },
    "tags": []
   },
   "outputs": [],
   "source": [
    "import re\n",
    "from collections import Counter\n",
    "\n",
    "class Preprocess():\n",
    "    def __init__(self, sentences):\n",
    "        self.sentences = sentences\n",
    "\n",
    "    def tokenize(self):\n",
    "        # Split sentences into words using regex to handle various punctuation\n",
    "        self.sentences = [re.findall(r'\\b\\w+\\b', sentence.lower()) for sentence in self.sentences]\n",
    "\n",
    "    def lowercase(self):\n",
    "        self.sentences = [[word.lower() for word in sentence] for sentence in self.sentences]\n",
    "\n",
    "    def remove_stop_words(self):\n",
    "        # Common English stop words; expand as necessary\n",
    "        stop_words = set([\"the\", \"is\", \"at\", \"which\", \"on\", \"and\", \"a\", \"an\"])\n",
    "        self.sentences = [[word for word in sentence if word not in stop_words] for sentence in self.sentences]\n",
    "\n",
    "    def stemmer(self):\n",
    "        # Simple stemming using suffix stripping, can be improved\n",
    "        def simple_stem(word):\n",
    "            suffixes = [\"ing\", \"ly\", \"ed\", \"ious\", \"ies\", \"ive\", \"es\", \"s\", \"ment\"]\n",
    "            for suffix in sorted(suffixes, key=len, reverse=True):\n",
    "                if word.endswith(suffix):\n",
    "                    return word[:-len(suffix)]\n",
    "            return word\n",
    "        self.sentences = [[simple_stem(word) for word in sentence] for sentence in self.sentences]\n",
    "\n",
    "    def remove_punctuation(self):\n",
    "        self.sentences = [[word for word in sentence if word.isalpha()] for sentence in self.sentences]\n",
    "\n",
    "    def remove_numbers(self):\n",
    "        self.sentences = [[word for word in sentence if not word.isdigit()] for sentence in self.sentences]\n",
    "\n",
    "    def remove_single_letter(self):\n",
    "        self.sentences = [[word for word in sentence if len(word) > 1] for sentence in self.sentences]\n",
    "\n",
    "    def remove_extra_spaces(self):\n",
    "        self.sentences = [[word for word in sentence if word.strip()] for sentence in self.sentences]\n",
    "\n",
    "    def remove_less_than_3(self):\n",
    "        self.sentences = [[word for word in sentence if len(word) > 2] for sentence in self.sentences]\n"
   ]
  },
  {
   "cell_type": "code",
   "execution_count": 9,
   "metadata": {
    "execution": {
     "iopub.execute_input": "2024-07-28T13:24:14.123709Z",
     "iopub.status.busy": "2024-07-28T13:24:14.123204Z",
     "iopub.status.idle": "2024-07-28T13:24:15.440591Z",
     "shell.execute_reply": "2024-07-28T13:24:15.439666Z",
     "shell.execute_reply.started": "2024-07-28T13:24:14.123676Z"
    },
    "tags": []
   },
   "outputs": [
    {
     "name": "stdout",
     "output_type": "stream",
     "text": [
      "Preprocessing done\n",
      "25137\n"
     ]
    }
   ],
   "source": [
    "# preprocess\n",
    "preprocess = Preprocess(sentences)\n",
    "preprocess.tokenize()\n",
    "# print(preprocess.sentences)\n",
    "preprocess.lowercase()\n",
    "preprocess.remove_stop_words()\n",
    "# preprocess.stemmer()\n",
    "preprocess.remove_punctuation()\n",
    "preprocess.remove_numbers()\n",
    "preprocess.remove_single_letter()\n",
    "preprocess.remove_extra_spaces()\n",
    "preprocess.remove_less_than_3()\n",
    "\n",
    "print(\"Preprocessing done\")\n",
    "# print(preprocess.sentences)\n",
    "sentences = preprocess.sentences\n",
    "print(len(sentences))\n",
    "# print(sentences)"
   ]
  },
  {
   "cell_type": "markdown",
   "metadata": {},
   "source": [
    "### Create word index mappings"
   ]
  },
  {
   "cell_type": "code",
   "execution_count": 10,
   "metadata": {
    "execution": {
     "iopub.execute_input": "2024-07-28T13:24:15.442567Z",
     "iopub.status.busy": "2024-07-28T13:24:15.442149Z",
     "iopub.status.idle": "2024-07-28T13:24:15.588022Z",
     "shell.execute_reply": "2024-07-28T13:24:15.587175Z",
     "shell.execute_reply.started": "2024-07-28T13:24:15.442537Z"
    },
    "tags": []
   },
   "outputs": [
    {
     "name": "stdout",
     "output_type": "stream",
     "text": [
      "Size of vocab:  30214\n",
      "Most common words:  [('was', 5340), ('that', 3928), ('for', 3841), ('with', 3758), ('from', 2329), ('his', 2328), ('were', 1987), ('had', 1638), ('are', 1262), ('her', 1248)]\n"
     ]
    }
   ],
   "source": [
    "# Flatten list of sentences into list of words\n",
    "word_list = list(itertools.chain.from_iterable(sentences))\n",
    "# print(word_list)\n",
    "\n",
    "# Create a vocabulary of words\n",
    "word_freq = Counter(word_list)\n",
    "\n",
    "# Remove words that occur less than 5 times\n",
    "vocab = set(word if word_freq[word] > 0 else '<unk>' for word in word_list)\n",
    "# print(vocab)\n",
    "\n",
    "# Add padding and unknown token to vocab\n",
    "vocab.add('<pad>')\n",
    "vocab.add('<unk>')\n",
    "# Add start and end token to vocab\n",
    "vocab.add('<start>')\n",
    "vocab.add('<end>')\n",
    "\n",
    "# Print length of vocab\n",
    "print(\"Size of vocab: \", len(vocab))\n",
    "\n",
    "# Create word to index and index to word mapping\n",
    "word_to_idx = {word:idx for idx, word in enumerate(vocab)}\n",
    "idx_to_word = {idx:word for idx, word in enumerate(vocab)}\n",
    "\n",
    "# Print most common words\n",
    "print(\"Most common words: \", word_freq.most_common(10))"
   ]
  },
  {
   "cell_type": "code",
   "execution_count": 11,
   "metadata": {
    "execution": {
     "iopub.execute_input": "2024-07-28T13:24:15.589651Z",
     "iopub.status.busy": "2024-07-28T13:24:15.589137Z",
     "iopub.status.idle": "2024-07-28T13:24:15.593077Z",
     "shell.execute_reply": "2024-07-28T13:24:15.592379Z",
     "shell.execute_reply.started": "2024-07-28T13:24:15.589620Z"
    },
    "tags": []
   },
   "outputs": [
    {
     "name": "stdout",
     "output_type": "stream",
     "text": [
      "25169\n"
     ]
    }
   ],
   "source": [
    "# Check\n",
    "print(word_to_idx['intelligent'])"
   ]
  },
  {
   "cell_type": "markdown",
   "metadata": {},
   "source": [
    "### Create dataset (X,y)"
   ]
  },
  {
   "cell_type": "code",
   "execution_count": 12,
   "metadata": {
    "execution": {
     "iopub.execute_input": "2024-07-28T13:24:15.594906Z",
     "iopub.status.busy": "2024-07-28T13:24:15.594660Z",
     "iopub.status.idle": "2024-07-28T13:24:15.621016Z",
     "shell.execute_reply": "2024-07-28T13:24:15.620300Z",
     "shell.execute_reply.started": "2024-07-28T13:24:15.594879Z"
    },
    "tags": []
   },
   "outputs": [],
   "source": [
    "# define constants\n",
    "window_size = 2\n",
    "sliding_window = 2 * window_size + 1\n",
    "num_neg_samples = 1\n",
    "\n",
    "# sentences = [sentences[0]]\n",
    "# print(sentences)\n",
    "\n",
    "def get_samples(sentences, word_to_idx, idx_to_word, window_size, sliding_window, num_neg_sample):\n",
    "    X = []\n",
    "    y = [] \n",
    "    for sentence in sentences:\n",
    "        # add start and end token to sentence\n",
    "        sentence = ['<start>'] + sentence + ['<end>']\n",
    "        for i in range(len(sentence)):\n",
    "            target_word = sentence[i]\n",
    "            # print(\"target word: \", target_word)\n",
    "            context_words = []\n",
    "            temp1 = max(0,i - window_size)\n",
    "            temp2 = min(len(sentence)-1,i + window_size + 1)\n",
    "            # print(\"temp1: \", temp1)\n",
    "            # print(\"temp2: \", temp2)\n",
    "            for j in range(max(0,i - window_size),min(len(sentence)-1,i + window_size)+1):\n",
    "                if j != i:\n",
    "                    # print(sentence[j])\n",
    "                    context_words.append(sentence[j])\n",
    "                # print(\"context words: \", context_words)\n",
    "\n",
    "            \n",
    "            # pad context words if length is less than sliding window\n",
    "            if len(context_words) < sliding_window:\n",
    "                context_words += ['<pad>'] * (sliding_window - len(context_words)-1)\n",
    "            \n",
    "            context_words.append(target_word)\n",
    "            # print(\"length of context words: \", len(context_words))\n",
    "\n",
    "            # get positive samples \n",
    "            positive_samples = [word_to_idx[word] if word in vocab else word_to_idx['<unk>'] for word in context_words]\n",
    "            # print(\"lenght of positive samples: \", len(positive_samples))\n",
    "            \n",
    "            X.append(positive_samples)\n",
    "            y.append(1)\n",
    "\n",
    "\n",
    "            # get negative samples\n",
    "            for _ in range(num_neg_samples):\n",
    "                negative_samples = positive_samples[:-1]  # Start with the same context\n",
    "                neg_sample = random.choice(list(vocab))\n",
    "                while neg_sample in context_words:  # Ensure the negative sample is not in the context\n",
    "                    neg_sample = random.choice(list(vocab))\n",
    "                \n",
    "                negative_samples.append(word_to_idx[neg_sample])  # Add a random negative sample\n",
    "                X.append(negative_samples)\n",
    "                y.append(0)\n",
    "                \n",
    "    return X, y"
   ]
  },
  {
   "cell_type": "code",
   "execution_count": 13,
   "metadata": {
    "execution": {
     "iopub.execute_input": "2024-07-28T13:24:15.701813Z",
     "iopub.status.busy": "2024-07-28T13:24:15.701267Z",
     "iopub.status.idle": "2024-07-28T13:29:56.198691Z",
     "shell.execute_reply": "2024-07-28T13:29:56.197516Z",
     "shell.execute_reply.started": "2024-07-28T13:24:15.701782Z"
    },
    "tags": []
   },
   "outputs": [
    {
     "name": "stdout",
     "output_type": "stream",
     "text": [
      "Creating samples\n",
      "Samples created\n"
     ]
    }
   ],
   "source": [
    "print(\"Creating samples\")\n",
    "X = []\n",
    "y = []\n",
    "X,y = get_samples(sentences, word_to_idx, idx_to_word, window_size, sliding_window, num_neg_samples)\n",
    "print(\"Samples created\")\n",
    "# print(X)\n",
    "# print(y)"
   ]
  },
  {
   "cell_type": "code",
   "execution_count": 14,
   "metadata": {
    "execution": {
     "iopub.execute_input": "2024-07-28T13:29:56.200962Z",
     "iopub.status.busy": "2024-07-28T13:29:56.200663Z",
     "iopub.status.idle": "2024-07-28T13:30:00.956023Z",
     "shell.execute_reply": "2024-07-28T13:30:00.955147Z",
     "shell.execute_reply.started": "2024-07-28T13:29:56.200933Z"
    },
    "tags": []
   },
   "outputs": [],
   "source": [
    "# shuffle data\n",
    "data = list(zip(X,y))\n",
    "random.shuffle(data)\n",
    "X,y = zip(*data)\n",
    "\n",
    "# Turn into numpy arrays\n",
    "X = np.array(X)\n",
    "y = np.array(y)"
   ]
  },
  {
   "cell_type": "code",
   "execution_count": 15,
   "metadata": {
    "execution": {
     "iopub.execute_input": "2024-07-28T13:30:00.957810Z",
     "iopub.status.busy": "2024-07-28T13:30:00.957352Z",
     "iopub.status.idle": "2024-07-28T13:30:01.046596Z",
     "shell.execute_reply": "2024-07-28T13:30:01.045751Z",
     "shell.execute_reply.started": "2024-07-28T13:30:00.957779Z"
    },
    "tags": []
   },
   "outputs": [],
   "source": [
    "# Save X and y\n",
    "np.save('./datasets/wiki_X_25k.npy', X)\n",
    "np.save('./datasets/wiki_y_25k.npy', y)"
   ]
  },
  {
   "cell_type": "code",
   "execution_count": 16,
   "metadata": {
    "execution": {
     "iopub.execute_input": "2024-07-28T13:30:01.049158Z",
     "iopub.status.busy": "2024-07-28T13:30:01.048565Z",
     "iopub.status.idle": "2024-07-28T13:30:01.140854Z",
     "shell.execute_reply": "2024-07-28T13:30:01.139908Z",
     "shell.execute_reply.started": "2024-07-28T13:30:01.049126Z"
    },
    "tags": []
   },
   "outputs": [],
   "source": [
    "# # Load X and y\n",
    "X = np.load('./datasets/wiki_X_25k.npy')\n",
    "y = np.load('./datasets/wiki_y_25k.npy')"
   ]
  },
  {
   "cell_type": "markdown",
   "metadata": {},
   "source": [
    "### Build model"
   ]
  },
  {
   "cell_type": "code",
   "execution_count": 17,
   "metadata": {
    "execution": {
     "iopub.execute_input": "2024-07-28T13:30:01.142773Z",
     "iopub.status.busy": "2024-07-28T13:30:01.142305Z",
     "iopub.status.idle": "2024-07-28T13:30:01.151858Z",
     "shell.execute_reply": "2024-07-28T13:30:01.151078Z",
     "shell.execute_reply.started": "2024-07-28T13:30:01.142737Z"
    },
    "tags": []
   },
   "outputs": [],
   "source": [
    "# write the forward pass for CBOW\n",
    "class CBOW(nn.Module):\n",
    "    def __init__(self, vocab_size, embedding_dim):\n",
    "        super(CBOW, self).__init__()\n",
    "        self.vocab_size = vocab_size\n",
    "        self.embedding_dim = embedding_dim\n",
    "        self.embeddings = nn.Embedding(self.vocab_size, self.embedding_dim)\n",
    "        # self.embeddings.weight.data.uniform_(-1, 1)\n",
    "\n",
    "    def forward(self, x):\n",
    "        # extract context and target from x\n",
    "        context = x[:, :-1]\n",
    "        target = x[:, -1]\n",
    "\n",
    "        context_embedding = self.embeddings(context)\n",
    "        context_embedding = torch.mean(context_embedding, dim=1)\n",
    "        target_embedding = self.embeddings(target)\n",
    "\n",
    "        # take dot product of context embedding and target embedding\n",
    "        score = torch.sum(context_embedding * target_embedding, dim=1)\n",
    "        return F.sigmoid(score)\n",
    "\n",
    "    def get_embeddings(self):\n",
    "        out = self.embeddings.weight.data\n",
    "        return out.cpu().numpy()\n",
    "    \n",
    "    def get_word_embedding(self, word):\n",
    "        # If word is not in vocab, return unk\n",
    "        if word not in word_to_idx:\n",
    "            word = '<unk>'\n",
    "        word_tensor = torch.LongTensor([word_to_idx[word]])\n",
    "        word_tensor = word_tensor.to(next(self.parameters()).device)\n",
    "        out = self.embeddings(word_tensor).data\n",
    "        return out.cpu().numpy()"
   ]
  },
  {
   "cell_type": "code",
   "execution_count": 18,
   "metadata": {
    "execution": {
     "iopub.execute_input": "2024-07-28T13:30:01.153450Z",
     "iopub.status.busy": "2024-07-28T13:30:01.152941Z",
     "iopub.status.idle": "2024-07-28T13:30:02.138348Z",
     "shell.execute_reply": "2024-07-28T13:30:02.137480Z",
     "shell.execute_reply.started": "2024-07-28T13:30:01.153420Z"
    },
    "tags": []
   },
   "outputs": [],
   "source": [
    "# Define parameters\n",
    "vocab_size = len(vocab)\n",
    "embedding_dim = 100\n",
    "learning_rate = 0.001\n",
    "epochs = 10\n",
    "batch_size = 128\n",
    "\n",
    "# Create model, loss function and optimizer\n",
    "model = CBOW(vocab_size, embedding_dim)\n",
    "model.to(device)\n",
    "# Cross entropy loss\n",
    "criterion = nn.BCELoss()\n",
    "\n",
    "# Adam optimizer\n",
    "optimizer = torch.optim.Adam(model.parameters(), lr=learning_rate)\n",
    "\n",
    "# Define dataloader\n",
    "dataset = torch.utils.data.TensorDataset(torch.from_numpy(X).long(), torch.from_numpy(y).float())\n",
    "dataloader = torch.utils.data.DataLoader(dataset, batch_size=batch_size, shuffle=True)\n"
   ]
  },
  {
   "cell_type": "code",
   "execution_count": 19,
   "metadata": {
    "execution": {
     "iopub.execute_input": "2024-07-28T13:30:02.140824Z",
     "iopub.status.busy": "2024-07-28T13:30:02.140165Z",
     "iopub.status.idle": "2024-07-28T13:30:02.220730Z",
     "shell.execute_reply": "2024-07-28T13:30:02.219841Z",
     "shell.execute_reply.started": "2024-07-28T13:30:02.140790Z"
    },
    "tags": []
   },
   "outputs": [
    {
     "name": "stdout",
     "output_type": "stream",
     "text": [
      "tensor([[ 8293, 20464, 25856, 25856,  5465],\n",
      "        [26341, 10593,  9194, 11180, 19460],\n",
      "        [27311, 20023,  8012, 26862,  8117],\n",
      "        [19279, 14760, 17363, 11180, 11236],\n",
      "        [12397, 12384, 14856,  8779, 11909],\n",
      "        [10830, 19361, 23607,  2449, 28126],\n",
      "        [24939, 16399, 25856, 25856, 25964],\n",
      "        [13664, 18127, 25738,  3366,  6970],\n",
      "        [12298, 18679,  1398, 26104, 27247],\n",
      "        [13019, 24182, 28175,  3366, 14322],\n",
      "        [ 3036, 15820,  5145,  7526, 16758],\n",
      "        [ 9538, 29417, 18091, 22747, 26011],\n",
      "        [ 7733,  1543, 25856, 25856,  8327],\n",
      "        [24524, 26104,  5047, 28762, 15408],\n",
      "        [ 4097,   976, 11180, 25856, 21237],\n",
      "        [12298,  1397, 25856, 25856, 17572],\n",
      "        [ 8220, 11704, 27636, 12876, 24136],\n",
      "        [ 7871,  3036, 24706, 23261, 23825],\n",
      "        [10948,  3036, 12384,  8584,  7752],\n",
      "        [13807, 24182, 16450,  1752,  8306],\n",
      "        [ 3066,  3375, 22961, 24613, 24179],\n",
      "        [19770, 15602, 10133, 12360,  1820],\n",
      "        [13432, 28545, 23079,  3001,  2881],\n",
      "        [17794, 16466, 11180, 25856,  6031],\n",
      "        [ 8673,  7940,  6010, 19770,   967],\n",
      "        [19731, 29252,  4933,  3036,  5877],\n",
      "        [ 8924, 18493, 14549, 21376, 14665],\n",
      "        [16933, 13678,   541, 17800, 20295],\n",
      "        [14560,  7641, 27712,    49, 27138],\n",
      "        [29660, 11554, 25856, 25856, 23144],\n",
      "        [28392,  1912, 29499, 27084, 12384],\n",
      "        [16918,  3366, 10884, 11180,  3110],\n",
      "        [ 3301,  1752,   519,  1067, 10041],\n",
      "        [ 3748, 12384, 29184, 23852, 11209],\n",
      "        [  353,  3366, 23332, 21056,  9000],\n",
      "        [ 7712,  7662,  8115, 11180,  3366],\n",
      "        [22758, 19847,  6860, 11483,  4977],\n",
      "        [ 7428,  5379, 11346,  6672, 15087],\n",
      "        [20399,  8472, 24206, 12902, 26353],\n",
      "        [20399,  1378, 22747, 21356, 16631],\n",
      "        [17699, 12859, 17699,  1471,   389],\n",
      "        [11564, 13516,  1072, 17492,  1234],\n",
      "        [21031, 30202, 19932,   726, 10133],\n",
      "        [27080,  4683, 18374, 11966,  2395],\n",
      "        [18981, 16872, 17554, 13384, 24274],\n",
      "        [ 2666, 29056, 12298,  8787,  5102],\n",
      "        [19975,  2369, 23917, 22415, 18649],\n",
      "        [21850,  5410, 20241, 13462,  6547],\n",
      "        [30152,  8842, 29724,  3066, 19578],\n",
      "        [  134,  4423,  7346, 12206,  6461],\n",
      "        [22099, 29313, 21529,  7428, 24062],\n",
      "        [ 8390, 18748, 12384, 20058, 16494],\n",
      "        [22515, 11104,  7778, 11389, 22143],\n",
      "        [  497, 22771, 25856, 25856, 11492],\n",
      "        [13287,  6383, 11180, 25856, 27729],\n",
      "        [20399, 26970,  5877,  7902,  7729],\n",
      "        [26753, 25603,  3036, 24107,  3904],\n",
      "        [21850, 26975, 11180, 25856,  6566],\n",
      "        [26316, 21062,  5020, 21764,  8431],\n",
      "        [20328, 10007, 20444, 20328, 30199],\n",
      "        [  752, 13666, 25651, 11998,  6922],\n",
      "        [  373, 22227,  1380, 26811, 22514],\n",
      "        [ 5272,  4584, 25856, 25856, 11180],\n",
      "        [27183, 18707,  7210, 16903,  9891],\n",
      "        [14549, 24185, 15214, 11465,  7199],\n",
      "        [22929, 29924, 18981, 12579,  3173],\n",
      "        [20399,  3703,  7947,  8446, 25719],\n",
      "        [20399,  8596, 13608, 26393, 23627],\n",
      "        [24179, 22068,  9194,  2249,  5709],\n",
      "        [20399, 19555, 15704,  8071,  9036],\n",
      "        [11975, 29874, 28574,  1398, 26810],\n",
      "        [20399, 27027, 18981, 25856, 17402],\n",
      "        [  467, 14560, 12397, 27677, 14273],\n",
      "        [ 6955, 25858, 23317,  7428, 30192],\n",
      "        [20399,  3408, 11180, 25856, 21708],\n",
      "        [15753, 22493, 10075, 12298,  4396],\n",
      "        [16951, 29350, 23518,  6672,  3066],\n",
      "        [20177, 28569, 27653, 19578, 30202],\n",
      "        [12599, 10367, 13511, 12271, 14159],\n",
      "        [22893, 17685, 16450, 14705, 12298],\n",
      "        [ 9511,  2497, 13098,  3364, 26070],\n",
      "        [23332,  5819, 26341,  6649, 28594],\n",
      "        [ 4724, 26332, 11180, 25856,  4631],\n",
      "        [23332, 12968, 17705,  2097, 24535],\n",
      "        [20177, 18765, 25856, 25856, 26295],\n",
      "        [ 3765,  1018,  4523, 18981, 17534],\n",
      "        [17782, 12360, 11180, 25856,  7511],\n",
      "        [23332,  3624, 12397, 12298, 20901],\n",
      "        [14853, 18374,  1703,  4226,  8306],\n",
      "        [16940, 19024,  4396,  3110,  3110],\n",
      "        [ 3066,  2095,   694,  8205, 10470],\n",
      "        [ 7134, 30192, 26950,  5906,  3999],\n",
      "        [26810, 15832,  9993,  6011,  9194],\n",
      "        [ 4591, 12384,  8195, 23110, 22068],\n",
      "        [12922,  6229,  9538, 18855, 16829],\n",
      "        [12081, 27321, 22070, 22762, 25028],\n",
      "        [  752, 16260, 25856, 25856, 11180],\n",
      "        [12298,  4986, 12384,  4223, 19610],\n",
      "        [20399, 29602, 24587, 25856, 18768],\n",
      "        [13097, 28221,  8720,  1329,  1212],\n",
      "        [ 6716,  3632, 16287, 12384, 21113],\n",
      "        [ 8306, 13146,  8830,    29, 12882],\n",
      "        [11295, 19484, 14680, 23185, 26346],\n",
      "        [ 8195,  3767, 22125, 24187, 27696],\n",
      "        [ 8558, 13416, 22005, 22068, 24512],\n",
      "        [18981, 11483, 14486, 23720, 18354],\n",
      "        [ 3233, 28005, 17699, 20163, 26091],\n",
      "        [13726, 12384, 22125, 21743, 29147],\n",
      "        [28639,  8087,  4885, 20197, 29457],\n",
      "        [ 6229, 19516, 28395, 16086,  9677],\n",
      "        [ 9150, 12078,  9194,   752,  3349],\n",
      "        [18981, 24555, 28968, 27506,  8440],\n",
      "        [12384, 18981, 22458, 29417,  9538],\n",
      "        [27976, 17572, 24939, 22532, 22068],\n",
      "        [ 1149, 28016, 20617, 11180, 15629],\n",
      "        [ 4195,  5421, 12969, 19489, 27909],\n",
      "        [20399,  5378, 12360, 14824, 20177],\n",
      "        [21631, 24684,  3419, 27084,  5009],\n",
      "        [12298, 12931, 25856, 25856, 22719],\n",
      "        [16819, 12384,  9920, 22287, 28035],\n",
      "        [ 8269, 24959,  7465, 20903, 16660],\n",
      "        [20399,  9544, 19244, 25856,  1719],\n",
      "        [27101, 19087, 25856, 25856, 22823],\n",
      "        [16057, 26341,  4933, 22393, 17729],\n",
      "        [19802, 17837, 12907, 15322,  5661],\n",
      "        [26121,  9435, 25856, 25856, 20399],\n",
      "        [29313,  1398, 26168,  2132,  6229],\n",
      "        [15777,  9194, 25856, 25856, 14072]])\n",
      "tensor([0., 0., 0., 0., 1., 1., 0., 1., 1., 0., 0., 1., 0., 1., 0., 0., 1., 1.,\n",
      "        1., 1., 1., 1., 0., 1., 0., 1., 0., 0., 0., 0., 1., 1., 0., 1., 0., 1.,\n",
      "        0., 0., 0., 0., 0., 0., 1., 1., 1., 1., 0., 0., 1., 1., 0., 0., 1., 0.,\n",
      "        0., 0., 1., 1., 0., 1., 0., 1., 1., 0., 0., 0., 1., 1., 1., 0., 0., 1.,\n",
      "        0., 1., 1., 1., 1., 1., 0., 1., 1., 0., 0., 1., 0., 1., 1., 0., 1., 1.,\n",
      "        0., 0., 1., 1., 1., 0., 1., 0., 0., 0., 0., 1., 0., 1., 0., 0., 0., 0.,\n",
      "        0., 0., 0., 1., 1., 1., 1., 0., 1., 1., 0., 0., 1., 1., 0., 1., 0., 1.,\n",
      "        1., 0.])\n"
     ]
    }
   ],
   "source": [
    "# Check dataset\n",
    "for i, (inputs, targets) in enumerate(dataloader):\n",
    "    print(inputs)\n",
    "    print(targets)\n",
    "    break"
   ]
  },
  {
   "cell_type": "code",
   "execution_count": 20,
   "metadata": {
    "execution": {
     "iopub.execute_input": "2024-07-28T13:30:02.222336Z",
     "iopub.status.busy": "2024-07-28T13:30:02.221943Z",
     "iopub.status.idle": "2024-07-28T13:30:02.229410Z",
     "shell.execute_reply": "2024-07-28T13:30:02.228649Z",
     "shell.execute_reply.started": "2024-07-28T13:30:02.222304Z"
    },
    "tags": []
   },
   "outputs": [],
   "source": [
    "# Train CBOW model\n",
    "def train(model, criterion, optimizer, dataloader, epochs):\n",
    "    train_losses = []\n",
    "    for epoch in range(epochs):\n",
    "        train_loss = 0\n",
    "        train_preds = []\n",
    "        labels = []\n",
    "        for i, (inputs, targets) in enumerate(dataloader):\n",
    "            inputs = inputs.to(device)\n",
    "            targets = targets.to(device)\n",
    "\n",
    "            # forward + backward + optimize\n",
    "            outputs = model(inputs)\n",
    "            loss = criterion(outputs, targets)\n",
    "            optimizer.zero_grad()\n",
    "            loss.backward()\n",
    "            optimizer.step()\n",
    "            train_loss += loss.item()\n",
    "\n",
    "            # get predictions\n",
    "            preds = [1 if x > 0.5 else 0 for x in outputs]\n",
    "            train_preds.extend(preds)\n",
    "            targets = targets.detach().cpu().numpy()\n",
    "            labels.extend(targets)\n",
    "        \n",
    "        train_loss /= len(dataloader)\n",
    "        train_losses.append(train_loss)\n",
    "        print(\"Epoch: \", epoch+1, \"Loss: \", train_loss)\n",
    "    return train_losses"
   ]
  },
  {
   "cell_type": "code",
   "execution_count": 21,
   "metadata": {
    "execution": {
     "iopub.execute_input": "2024-07-28T13:30:02.230947Z",
     "iopub.status.busy": "2024-07-28T13:30:02.230461Z",
     "iopub.status.idle": "2024-07-28T14:15:15.496424Z",
     "shell.execute_reply": "2024-07-28T14:15:15.495284Z",
     "shell.execute_reply.started": "2024-07-28T13:30:02.230909Z"
    },
    "tags": []
   },
   "outputs": [
    {
     "name": "stdout",
     "output_type": "stream",
     "text": [
      "Epoch:  1 Loss:  1.6898539774378913\n",
      "Epoch:  2 Loss:  0.9800500894309914\n",
      "Epoch:  3 Loss:  0.5870362153958131\n",
      "Epoch:  4 Loss:  0.35705278710991933\n",
      "Epoch:  5 Loss:  0.22298074023013154\n",
      "Epoch:  6 Loss:  0.14335617032199993\n",
      "Epoch:  7 Loss:  0.09504674282702144\n",
      "Epoch:  8 Loss:  0.06432156355194074\n",
      "Epoch:  9 Loss:  0.043999585500492176\n",
      "Epoch:  10 Loss:  0.03029915835091168\n"
     ]
    }
   ],
   "source": [
    "# Train model\n",
    "train_losses = train(model, criterion, optimizer, dataloader, epochs)"
   ]
  },
  {
   "cell_type": "code",
   "execution_count": 22,
   "metadata": {
    "execution": {
     "iopub.execute_input": "2024-07-28T14:15:15.500478Z",
     "iopub.status.busy": "2024-07-28T14:15:15.500041Z",
     "iopub.status.idle": "2024-07-28T14:15:15.505413Z",
     "shell.execute_reply": "2024-07-28T14:15:15.504722Z",
     "shell.execute_reply.started": "2024-07-28T14:15:15.500445Z"
    },
    "tags": []
   },
   "outputs": [],
   "source": [
    "# Function to plot train accuracy\n",
    "def plot_train_losses(train_losses):\n",
    "    plt.plot(train_losses)\n",
    "    plt.xlabel('Epochs')\n",
    "    plt.ylabel('Train Loss')\n",
    "    plt.title('Train Loss vs Epochs')\n",
    "    plt.savefig('./plots/cbow_train_losses_wiki.png')\n",
    "    plt.show()"
   ]
  },
  {
   "cell_type": "code",
   "execution_count": 23,
   "metadata": {
    "execution": {
     "iopub.execute_input": "2024-07-28T14:15:15.507002Z",
     "iopub.status.busy": "2024-07-28T14:15:15.506328Z",
     "iopub.status.idle": "2024-07-28T14:15:15.782766Z",
     "shell.execute_reply": "2024-07-28T14:15:15.781801Z",
     "shell.execute_reply.started": "2024-07-28T14:15:15.506974Z"
    },
    "tags": []
   },
   "outputs": [
    {
     "data": {
      "image/png": "[encoded data removed]",
      "text/plain": [
       "<Figure size 640x480 with 1 Axes>"
      ]
     },
     "metadata": {},
     "output_type": "display_data"
    }
   ],
   "source": [
    "# Call function to plot train accuracy\n",
    "plot_train_losses(train_losses)"
   ]
  },
  {
   "cell_type": "code",
   "execution_count": 24,
   "metadata": {
    "execution": {
     "iopub.execute_input": "2024-07-28T14:15:15.784254Z",
     "iopub.status.busy": "2024-07-28T14:15:15.783893Z",
     "iopub.status.idle": "2024-07-28T14:15:15.836897Z",
     "shell.execute_reply": "2024-07-28T14:15:15.835882Z",
     "shell.execute_reply.started": "2024-07-28T14:15:15.784226Z"
    },
    "tags": []
   },
   "outputs": [],
   "source": [
    "# Save model\n",
    "torch.save(model.state_dict(), './partA_pth/cbow_25k_100_001.pth')"
   ]
  },
  {
   "cell_type": "code",
   "execution_count": 25,
   "metadata": {
    "execution": {
     "iopub.execute_input": "2024-07-28T14:15:15.838491Z",
     "iopub.status.busy": "2024-07-28T14:15:15.837991Z",
     "iopub.status.idle": "2024-07-28T14:15:15.913540Z",
     "shell.execute_reply": "2024-07-28T14:15:15.912811Z",
     "shell.execute_reply.started": "2024-07-28T14:15:15.838461Z"
    },
    "tags": []
   },
   "outputs": [
    {
     "data": {
      "text/plain": [
       "CBOW(\n",
       "  (embeddings): Embedding(30214, 100)\n",
       ")"
      ]
     },
     "execution_count": 25,
     "metadata": {},
     "output_type": "execute_result"
    }
   ],
   "source": [
    "# Load model\n",
    "model = CBOW(vocab_size, embedding_dim)\n",
    "model.load_state_dict(torch.load('./partA_pth/cbow_25k_100_001.pth'))\n",
    "model.to(device)"
   ]
  },
  {
   "cell_type": "markdown",
   "metadata": {},
   "source": [
    "### Test model with Wordsim dataset"
   ]
  },
  {
   "cell_type": "code",
   "execution_count": 26,
   "metadata": {
    "execution": {
     "iopub.execute_input": "2024-07-28T14:15:15.914985Z",
     "iopub.status.busy": "2024-07-28T14:15:15.914626Z",
     "iopub.status.idle": "2024-07-28T14:15:15.929227Z",
     "shell.execute_reply": "2024-07-28T14:15:15.928312Z",
     "shell.execute_reply.started": "2024-07-28T14:15:15.914956Z"
    },
    "tags": []
   },
   "outputs": [
    {
     "name": "stdout",
     "output_type": "stream",
     "text": [
      "     Word 1    Word 2  Human (mean)\n",
      "0      love       sex          6.77\n",
      "1     tiger       cat          7.35\n",
      "2     tiger     tiger         10.00\n",
      "3      book     paper          7.46\n",
      "4  computer  keyboard          7.62\n"
     ]
    }
   ],
   "source": [
    "# Load test data\n",
    "df = pd.read_csv('../wordsim353/combined.csv')\n",
    "print(df.head())"
   ]
  },
  {
   "cell_type": "code",
   "execution_count": 27,
   "metadata": {
    "execution": {
     "iopub.execute_input": "2024-07-28T14:15:15.930579Z",
     "iopub.status.busy": "2024-07-28T14:15:15.930164Z",
     "iopub.status.idle": "2024-07-28T14:15:15.934331Z",
     "shell.execute_reply": "2024-07-28T14:15:15.933637Z",
     "shell.execute_reply.started": "2024-07-28T14:15:15.930552Z"
    },
    "tags": []
   },
   "outputs": [
    {
     "name": "stdout",
     "output_type": "stream",
     "text": [
      "tiger\n"
     ]
    }
   ],
   "source": [
    "# Print 2nd row word1\n",
    "print(df['Word 1'][1])"
   ]
  },
  {
   "cell_type": "code",
   "execution_count": 28,
   "metadata": {
    "execution": {
     "iopub.execute_input": "2024-07-28T14:15:15.935619Z",
     "iopub.status.busy": "2024-07-28T14:15:15.935235Z",
     "iopub.status.idle": "2024-07-28T14:15:15.951064Z",
     "shell.execute_reply": "2024-07-28T14:15:15.950380Z",
     "shell.execute_reply.started": "2024-07-28T14:15:15.935593Z"
    },
    "tags": []
   },
   "outputs": [
    {
     "name": "stdout",
     "output_type": "stream",
     "text": [
      "(1, 100)\n",
      "(100,)\n",
      "[ 0.7235985   0.05245356  0.04853216 -0.61131126 -0.05290842 -1.6010094\n",
      "  1.3847363   0.33354008  0.22325826 -1.081254   -1.3443463  -1.5849055\n",
      " -0.6148029  -0.78675145  1.8515538   0.5237349  -0.42519838  0.27594703\n",
      " -0.6059904   1.8946496   2.0057108  -0.62808937  1.1169615  -1.1610154\n",
      "  0.40958074  1.7767614   0.23570018  0.4984434   0.6696995  -0.3538632\n",
      " -2.3669705   0.07162925  0.643672   -0.38419864 -1.4405577  -0.17671293\n",
      " -0.7422419   0.8012003   0.1339267  -0.3224881  -0.1095944  -0.76068646\n",
      "  0.11973118 -0.12467743  1.6494858   0.5262077  -0.12255479  0.32676554\n",
      " -0.9259311   0.276411    0.17842436 -0.79030585  1.3276706   0.6376456\n",
      "  1.3351775   1.4050617   0.6477657   0.8602132   1.5045491  -0.10840603\n",
      "  1.9382058  -0.7568497   0.56058794 -0.7863663  -0.6648825   0.299573\n",
      " -0.5074752  -1.2102143  -1.0471795   1.1902659   0.05111803  1.1820613\n",
      "  0.25985116 -1.825971   -0.14178427  0.09180912 -0.21241212 -0.6407629\n",
      " -0.8543918  -0.23821902 -1.818737    0.72773147 -0.4513771   0.86895686\n",
      " -0.81507146 -0.2768011   0.92971176  1.0361828   0.44698668  1.3393252\n",
      " -0.23896688  0.9022528  -2.092767   -0.26856092  1.6693535   0.5273554\n",
      "  1.0622901   0.81335527  0.565737   -1.4848647 ]\n",
      "(1, 100)\n"
     ]
    }
   ],
   "source": [
    "# Get word embeddings\n",
    "sample_embedding = model.get_word_embedding(df['Word 1'][1])\n",
    "print(sample_embedding.shape)\n",
    "sample_embedding = sample_embedding.squeeze()\n",
    "print(sample_embedding.shape)\n",
    "print(sample_embedding)\n",
    "sample_embedding = sample_embedding.reshape(1,-1)\n",
    "print(sample_embedding.shape)"
   ]
  },
  {
   "cell_type": "code",
   "execution_count": 29,
   "metadata": {
    "execution": {
     "iopub.execute_input": "2024-07-28T14:15:15.952436Z",
     "iopub.status.busy": "2024-07-28T14:15:15.951940Z",
     "iopub.status.idle": "2024-07-28T14:15:15.961489Z",
     "shell.execute_reply": "2024-07-28T14:15:15.960780Z",
     "shell.execute_reply.started": "2024-07-28T14:15:15.952409Z"
    },
    "tags": []
   },
   "outputs": [
    {
     "name": "stdout",
     "output_type": "stream",
     "text": [
      "<class 'numpy.ndarray'>\n",
      "0.09391943\n"
     ]
    }
   ],
   "source": [
    "import numpy as np\n",
    "\n",
    "# Check similarity between two words\n",
    "word1 = df['Word 1'][1]\n",
    "word2 = df['Word 2'][1]\n",
    "\n",
    "# Use gensim or any other model to get word embeddings\n",
    "w1 = model.get_word_embedding(word1).squeeze()\n",
    "w2 = model.get_word_embedding(word2).squeeze()\n",
    "\n",
    "print(type(w1))\n",
    "\n",
    "# Calculate cosine similarity using numpy\n",
    "def unitvec(vec):\n",
    "    return vec / np.linalg.norm(vec)\n",
    "\n",
    "sim = np.dot(unitvec(w1), unitvec(w2))\n",
    "print(sim)\n"
   ]
  },
  {
   "cell_type": "code",
   "execution_count": 30,
   "metadata": {
    "execution": {
     "iopub.execute_input": "2024-07-28T14:15:15.962581Z",
     "iopub.status.busy": "2024-07-28T14:15:15.962349Z",
     "iopub.status.idle": "2024-07-28T14:15:15.973666Z",
     "shell.execute_reply": "2024-07-28T14:15:15.972994Z",
     "shell.execute_reply.started": "2024-07-28T14:15:15.962556Z"
    },
    "tags": []
   },
   "outputs": [],
   "source": [
    "# Function to check if word is in vocab\n",
    "def check_vocab(word):\n",
    "    if word in vocab:\n",
    "        return True\n",
    "    else:\n",
    "        return False"
   ]
  },
  {
   "cell_type": "markdown",
   "metadata": {},
   "source": [
    "### Similarity Measures"
   ]
  },
  {
   "cell_type": "code",
   "execution_count": 31,
   "metadata": {
    "execution": {
     "iopub.execute_input": "2024-07-28T14:15:15.975153Z",
     "iopub.status.busy": "2024-07-28T14:15:15.974544Z",
     "iopub.status.idle": "2024-07-28T14:15:15.986708Z",
     "shell.execute_reply": "2024-07-28T14:15:15.986074Z",
     "shell.execute_reply.started": "2024-07-28T14:15:15.975127Z"
    },
    "tags": []
   },
   "outputs": [],
   "source": [
    "# Function to get cosine similarity\n",
    "def cos_similarity(word1_embedding, word2_embedding):\n",
    "    def unitvec(vec):\n",
    "        return vec / np.linalg.norm(vec)\n",
    "\n",
    "    ans = np.dot(unitvec(word1_embedding), unitvec(word2_embedding))\n",
    "    return ans\n",
    "\n",
    "# Function to get Pearson correlation\n",
    "def pearson_correlation(word1_embedding, word2_embedding):\n",
    "    emb1 = np.array(word1_embedding)\n",
    "    emb2 = np.array(word2_embedding)\n",
    "\n",
    "    correlation, _ = pearsonr(emb1, emb2)\n",
    "    return correlation"
   ]
  },
  {
   "cell_type": "code",
   "execution_count": 32,
   "metadata": {
    "execution": {
     "iopub.execute_input": "2024-07-28T14:15:15.988079Z",
     "iopub.status.busy": "2024-07-28T14:15:15.987597Z",
     "iopub.status.idle": "2024-07-28T14:15:16.000669Z",
     "shell.execute_reply": "2024-07-28T14:15:15.999912Z",
     "shell.execute_reply.started": "2024-07-28T14:15:15.988052Z"
    },
    "tags": []
   },
   "outputs": [],
   "source": [
    "def test_sim(df, model, lemmatizer, stemmer):\n",
    "    cosine_similarity_scores = []\n",
    "    pearson_correlation_scores = []\n",
    "    scores = []\n",
    "    \n",
    "    for _, row in df.iterrows():\n",
    "        word1 = row['Word 1']\n",
    "        word2 = row['Word 2']\n",
    "        \n",
    "        word1_embedding = model.get_word_embedding(word1).squeeze()\n",
    "        word2_embedding = model.get_word_embedding(word2).squeeze()\n",
    "\n",
    "        # Get cosine similarity\n",
    "        cosine_similarity_scores.append(cos_similarity(word1_embedding, word2_embedding))\n",
    "        \n",
    "        # Get pearson correlation\n",
    "        pearson_correlation_scores.append(pearson_correlation(word1_embedding, word2_embedding))\n",
    "\n",
    "        # Get score\n",
    "        scores.append(row['Human (mean)'])\n",
    "        \n",
    "    return cosine_similarity_scores, pearson_correlation_scores, scores"
   ]
  },
  {
   "cell_type": "code",
   "execution_count": 33,
   "metadata": {
    "execution": {
     "iopub.execute_input": "2024-07-28T14:15:16.001741Z",
     "iopub.status.busy": "2024-07-28T14:15:16.001512Z",
     "iopub.status.idle": "2024-07-28T14:15:16.527758Z",
     "shell.execute_reply": "2024-07-28T14:15:16.526923Z",
     "shell.execute_reply.started": "2024-07-28T14:15:16.001717Z"
    },
    "tags": []
   },
   "outputs": [],
   "source": [
    "# Get cosine similarity and pearson correlation scores\n",
    "lemmatizer = WordNetLemmatizer()\n",
    "stemmer = nltk.stem.PorterStemmer()\n",
    "cosine_similarity_scores, pearson_correlation_scores, scores = test_sim(df, model, lemmatizer, stemmer)"
   ]
  },
  {
   "cell_type": "code",
   "execution_count": 34,
   "metadata": {
    "execution": {
     "iopub.execute_input": "2024-07-28T14:15:16.529256Z",
     "iopub.status.busy": "2024-07-28T14:15:16.528886Z",
     "iopub.status.idle": "2024-07-28T14:15:16.533414Z",
     "shell.execute_reply": "2024-07-28T14:15:16.532689Z",
     "shell.execute_reply.started": "2024-07-28T14:15:16.529226Z"
    },
    "tags": []
   },
   "outputs": [
    {
     "name": "stdout",
     "output_type": "stream",
     "text": [
      "<class 'list'>\n",
      "<class 'list'>\n",
      "<class 'list'>\n"
     ]
    }
   ],
   "source": [
    "# Check cosine similarity and pearson correlation scores\n",
    "print(type(cosine_similarity_scores))\n",
    "print(type(pearson_correlation_scores))\n",
    "print(type(scores))"
   ]
  },
  {
   "cell_type": "markdown",
   "metadata": {},
   "source": [
    "### Initial Spearman"
   ]
  },
  {
   "cell_type": "code",
   "execution_count": 35,
   "metadata": {
    "execution": {
     "iopub.execute_input": "2024-07-28T14:15:16.534636Z",
     "iopub.status.busy": "2024-07-28T14:15:16.534401Z",
     "iopub.status.idle": "2024-07-28T14:15:16.547473Z",
     "shell.execute_reply": "2024-07-28T14:15:16.546785Z",
     "shell.execute_reply.started": "2024-07-28T14:15:16.534611Z"
    },
    "tags": []
   },
   "outputs": [],
   "source": [
    "# Funtcion to get spearman correlation using cosine similarity scores\n",
    "def spearman_correlation(cosine_similarity_scores, scores):\n",
    "    # Scale cosine similarity scores to 0-10\n",
    "    cosine_similarity_scores = np.array(cosine_similarity_scores)\n",
    "    cosine_similarity_scores = (1+cosine_similarity_scores)*5\n",
    "    scores = np.array(scores)\n",
    "\n",
    "    correlation, _ = spearmanr(cosine_similarity_scores, scores)\n",
    "    return correlation    "
   ]
  },
  {
   "cell_type": "code",
   "execution_count": 36,
   "metadata": {
    "execution": {
     "iopub.execute_input": "2024-07-28T14:15:16.548929Z",
     "iopub.status.busy": "2024-07-28T14:15:16.548479Z",
     "iopub.status.idle": "2024-07-28T14:15:16.564796Z",
     "shell.execute_reply": "2024-07-28T14:15:16.564049Z",
     "shell.execute_reply.started": "2024-07-28T14:15:16.548897Z"
    },
    "tags": []
   },
   "outputs": [
    {
     "name": "stdout",
     "output_type": "stream",
     "text": [
      "Initial Spearman correlation:  0.02139120335950445\n"
     ]
    }
   ],
   "source": [
    "# Print the initial spearman correlation\n",
    "spearman_value = spearman_correlation(cosine_similarity_scores, scores)\n",
    "\n",
    "print(\"Initial Spearman correlation: \", spearman_value)"
   ]
  },
  {
   "cell_type": "code",
   "execution_count": null,
   "metadata": {},
   "outputs": [],
   "source": []
  },
  {
   "cell_type": "code",
   "execution_count": null,
   "metadata": {},
   "outputs": [],
   "source": []
  },
  {
   "cell_type": "code",
   "execution_count": null,
   "metadata": {},
   "outputs": [],
   "source": []
  }
 ],
 "metadata": {
  "kernelspec": {
   "display_name": "Python 3 (ipykernel)",
   "language": "python",
   "name": "python3"
  },
  "language_info": {
   "codemirror_mode": {
    "name": "ipython",
    "version": 3
   },
   "file_extension": ".py",
   "mimetype": "text/x-python",
   "name": "python",
   "nbconvert_exporter": "python",
   "pygments_lexer": "ipython3",
   "version": "3.9.19"
  }
 },
 "nbformat": 4,
 "nbformat_minor": 4
}
