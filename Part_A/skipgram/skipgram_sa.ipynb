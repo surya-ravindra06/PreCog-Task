{
 "cells": [
  {
   "cell_type": "code",
   "execution_count": 4,
   "metadata": {
    "execution": {
     "iopub.execute_input": "2024-07-29T06:26:42.546039Z",
     "iopub.status.busy": "2024-07-29T06:26:42.545255Z",
     "iopub.status.idle": "2024-07-29T06:26:45.707009Z",
     "shell.execute_reply": "2024-07-29T06:26:45.706132Z",
     "shell.execute_reply.started": "2024-07-29T06:26:42.545999Z"
    },
    "id": "TsUSZYWDVfrT",
    "tags": []
   },
   "outputs": [
    {
     "ename": "ImportError",
     "evalue": "cannot import name 'triu' from 'scipy.linalg' (/opt/conda/lib/python3.9/site-packages/scipy/linalg/__init__.py)",
     "output_type": "error",
     "traceback": [
      "\u001b[0;31mImportError\u001b[0m\u001b[0;31m:\u001b[0m cannot import name 'triu' from 'scipy.linalg' (/opt/conda/lib/python3.9/site-packages/scipy/linalg/__init__.py)\n"
     ]
    }
   ],
   "source": [
    "# import all necessary packages for CBOW\n",
    "import numpy as np\n",
    "import torch\n",
    "import torch.nn as nn\n",
    "import torch.nn.functional as F\n",
    "from torch.utils.data import Dataset, DataLoader\n",
    "from collections import Counter\n",
    "import random\n",
    "import os\n",
    "import matplotlib.pyplot as plt\n",
    "import pickle\n",
    "from tqdm import tqdm\n",
    "import nltk\n",
    "from nltk.tokenize import word_tokenize\n",
    "from nltk.corpus import stopwords\n",
    "import collections\n",
    "import itertools\n",
    "import re\n",
    "from sklearn.manifold import TSNE\n",
    "from sklearn.metrics.pairwise import cosine_similarity\n",
    "import pandas as pd\n",
    "from nltk.stem import WordNetLemmatizer\n",
    "from scipy.stats import pearsonr, spearmanr\n",
    "from sklearn.model_selection import train_test_split\n",
    "from gensim import matutils\n",
    "from numpy import dot"
   ]
  },
  {
   "cell_type": "code",
   "execution_count": 5,
   "metadata": {
    "execution": {
     "iopub.execute_input": "2024-07-29T06:26:49.341422Z",
     "iopub.status.busy": "2024-07-29T06:26:49.340954Z",
     "iopub.status.idle": "2024-07-29T06:26:49.652619Z",
     "shell.execute_reply": "2024-07-29T06:26:49.651775Z",
     "shell.execute_reply.started": "2024-07-29T06:26:49.341388Z"
    },
    "tags": []
   },
   "outputs": [
    {
     "name": "stdout",
     "output_type": "stream",
     "text": [
      "/projects/rtelidevara/pk/Part_A/skipgram\n"
     ]
    }
   ],
   "source": [
    "!pwd"
   ]
  },
  {
   "cell_type": "code",
   "execution_count": 6,
   "metadata": {
    "colab": {
     "base_uri": "https://localhost:8080/"
    },
    "execution": {
     "iopub.execute_input": "2024-07-29T06:26:49.670706Z",
     "iopub.status.busy": "2024-07-29T06:26:49.670301Z",
     "iopub.status.idle": "2024-07-29T06:26:49.737893Z",
     "shell.execute_reply": "2024-07-29T06:26:49.737283Z",
     "shell.execute_reply.started": "2024-07-29T06:26:49.670661Z"
    },
    "id": "u9LSU559Vfrb",
    "outputId": "14669060-3418-4346-d580-0117fd98e9c4",
    "tags": []
   },
   "outputs": [
    {
     "name": "stdout",
     "output_type": "stream",
     "text": [
      "Tesla V100-SXM2-32GB\n"
     ]
    }
   ],
   "source": [
    "# Check if GPU is available\n",
    "device = torch.device('cuda' if torch.cuda.is_available() else 'cpu')\n",
    "# print device name: get_device_name()\n",
    "print(torch.cuda.get_device_name(0))"
   ]
  },
  {
   "cell_type": "code",
   "execution_count": 7,
   "metadata": {
    "execution": {
     "iopub.execute_input": "2024-07-29T06:26:49.986852Z",
     "iopub.status.busy": "2024-07-29T06:26:49.986400Z",
     "iopub.status.idle": "2024-07-29T06:26:49.992242Z",
     "shell.execute_reply": "2024-07-29T06:26:49.991670Z",
     "shell.execute_reply.started": "2024-07-29T06:26:49.986820Z"
    },
    "id": "CYPn_r-lVfrd",
    "tags": []
   },
   "outputs": [],
   "source": [
    "# Load data from file and store list of sentences where sentences are list of words\n",
    "class MakeSentences():\n",
    "    def __init__(self, file_name):\n",
    "        self.file_name = file_name\n",
    "        self.sentences = self.read_file()\n",
    "\n",
    "    def read_file(self):\n",
    "        sentences = []\n",
    "        with open(self.file_name, 'r') as f:\n",
    "            i=0\n",
    "            for line in f:\n",
    "                sentences += ([x for x in line.strip().split('.') if x!=''])\n",
    "                i+=1\n",
    "                if i==10000:\n",
    "                    break\n",
    "        return sentences"
   ]
  },
  {
   "cell_type": "code",
   "execution_count": 8,
   "metadata": {
    "execution": {
     "iopub.execute_input": "2024-07-29T06:26:50.304912Z",
     "iopub.status.busy": "2024-07-29T06:26:50.304465Z",
     "iopub.status.idle": "2024-07-29T06:26:50.611374Z",
     "shell.execute_reply": "2024-07-29T06:26:50.610585Z",
     "shell.execute_reply.started": "2024-07-29T06:26:50.304879Z"
    },
    "tags": []
   },
   "outputs": [
    {
     "name": "stdout",
     "output_type": "stream",
     "text": [
      "/projects/rtelidevara/pk/Part_A/skipgram\n"
     ]
    }
   ],
   "source": [
    "!pwd"
   ]
  },
  {
   "cell_type": "code",
   "execution_count": 9,
   "metadata": {
    "colab": {
     "base_uri": "https://localhost:8080/"
    },
    "execution": {
     "iopub.execute_input": "2024-07-29T06:26:50.614063Z",
     "iopub.status.busy": "2024-07-29T06:26:50.613330Z",
     "iopub.status.idle": "2024-07-29T06:26:50.633972Z",
     "shell.execute_reply": "2024-07-29T06:26:50.633268Z",
     "shell.execute_reply.started": "2024-07-29T06:26:50.614008Z"
    },
    "id": "DoQ5VEj1Vfre",
    "outputId": "1de5aa09-7e62-4347-d065-c89b9a6cc67d",
    "tags": []
   },
   "outputs": [
    {
     "name": "stdout",
     "output_type": "stream",
     "text": [
      "11284\n"
     ]
    }
   ],
   "source": [
    "sentences = MakeSentences('../sa_sentences.txt').sentences\n",
    "print(len(sentences))\n",
    "# for sentence in sentences:\n",
    "#     print(type(sentence))"
   ]
  },
  {
   "cell_type": "markdown",
   "metadata": {
    "id": "d52Gzvk1Vfrf"
   },
   "source": [
    "### Preprocess"
   ]
  },
  {
   "cell_type": "code",
   "execution_count": 10,
   "metadata": {
    "execution": {
     "iopub.execute_input": "2024-07-29T06:26:51.430881Z",
     "iopub.status.busy": "2024-07-29T06:26:51.430454Z",
     "iopub.status.idle": "2024-07-29T06:26:51.442228Z",
     "shell.execute_reply": "2024-07-29T06:26:51.441490Z",
     "shell.execute_reply.started": "2024-07-29T06:26:51.430850Z"
    },
    "id": "wZSwLzufVfrh",
    "tags": []
   },
   "outputs": [],
   "source": [
    "import re\n",
    "from collections import Counter\n",
    "\n",
    "class Preprocess():\n",
    "    def __init__(self, sentences):\n",
    "        self.sentences = sentences\n",
    "\n",
    "    def tokenize(self):\n",
    "        # Split sentences into words using regex to handle various punctuation\n",
    "        self.sentences = [re.findall(r'\\b\\w+\\b', sentence.lower()) for sentence in self.sentences]\n",
    "\n",
    "    def lowercase(self):\n",
    "        self.sentences = [[word.lower() for word in sentence] for sentence in self.sentences]\n",
    "\n",
    "    def remove_stop_words(self):\n",
    "        # Common English stop words; expand as necessary\n",
    "        stop_words = set([\"the\", \"is\", \"at\", \"which\", \"on\", \"and\", \"a\", \"an\"])\n",
    "        self.sentences = [[word for word in sentence if word not in stop_words] for sentence in self.sentences]\n",
    "\n",
    "    def stemmer(self):\n",
    "        # Simple stemming using suffix stripping, can be improved\n",
    "        def simple_stem(word):\n",
    "            suffixes = [\"ing\", \"ly\", \"ed\", \"ious\", \"ies\", \"ive\", \"es\", \"s\", \"ment\"]\n",
    "            for suffix in sorted(suffixes, key=len, reverse=True):\n",
    "                if word.endswith(suffix):\n",
    "                    return word[:-len(suffix)]\n",
    "            return word\n",
    "        self.sentences = [[simple_stem(word) for word in sentence] for sentence in self.sentences]\n",
    "\n",
    "    def remove_punctuation(self):\n",
    "        self.sentences = [[word for word in sentence if word.isalpha()] for sentence in self.sentences]\n",
    "\n",
    "    def remove_numbers(self):\n",
    "        self.sentences = [[word for word in sentence if not word.isdigit()] for sentence in self.sentences]\n",
    "\n",
    "    def remove_single_letter(self):\n",
    "        self.sentences = [[word for word in sentence if len(word) > 1] for sentence in self.sentences]\n",
    "\n",
    "    def remove_extra_spaces(self):\n",
    "        self.sentences = [[word for word in sentence if word.strip()] for sentence in self.sentences]\n",
    "\n",
    "    def remove_less_than_3(self):\n",
    "        self.sentences = [[word for word in sentence if len(word) > 2] for sentence in self.sentences]\n"
   ]
  },
  {
   "cell_type": "code",
   "execution_count": 11,
   "metadata": {
    "colab": {
     "base_uri": "https://localhost:8080/"
    },
    "execution": {
     "iopub.execute_input": "2024-07-29T06:26:51.468764Z",
     "iopub.status.busy": "2024-07-29T06:26:51.468133Z",
     "iopub.status.idle": "2024-07-29T06:26:52.102776Z",
     "shell.execute_reply": "2024-07-29T06:26:52.101943Z",
     "shell.execute_reply.started": "2024-07-29T06:26:51.468718Z"
    },
    "id": "XmmPEsYnVfrj",
    "outputId": "7feb2815-90d9-40dd-881c-bd9365ab8ea8",
    "tags": []
   },
   "outputs": [
    {
     "name": "stdout",
     "output_type": "stream",
     "text": [
      "Preprocessing done\n",
      "11284\n"
     ]
    }
   ],
   "source": [
    "# preprocess\n",
    "preprocess = Preprocess(sentences)\n",
    "preprocess.tokenize()\n",
    "# print(preprocess.sentences)\n",
    "preprocess.lowercase()\n",
    "preprocess.remove_stop_words()\n",
    "# preprocess.stemmer()\n",
    "preprocess.remove_punctuation()\n",
    "preprocess.remove_numbers()\n",
    "preprocess.remove_single_letter()\n",
    "preprocess.remove_extra_spaces()\n",
    "preprocess.remove_less_than_3()\n",
    "\n",
    "print(\"Preprocessing done\")\n",
    "# print(preprocess.sentences)\n",
    "sentences = preprocess.sentences\n",
    "print(len(sentences))\n",
    "# print(sentences)"
   ]
  },
  {
   "cell_type": "markdown",
   "metadata": {
    "id": "Is4d8bsdVfrk"
   },
   "source": [
    "### Create word index mappings"
   ]
  },
  {
   "cell_type": "code",
   "execution_count": 12,
   "metadata": {
    "colab": {
     "base_uri": "https://localhost:8080/"
    },
    "execution": {
     "iopub.execute_input": "2024-07-29T06:26:52.105347Z",
     "iopub.status.busy": "2024-07-29T06:26:52.104616Z",
     "iopub.status.idle": "2024-07-29T06:26:52.198746Z",
     "shell.execute_reply": "2024-07-29T06:26:52.197965Z",
     "shell.execute_reply.started": "2024-07-29T06:26:52.105297Z"
    },
    "id": "KSmnCYN8Vfrl",
    "outputId": "a7948c87-a65d-4d95-baa9-ce7d23033d42",
    "tags": []
   },
   "outputs": [
    {
     "name": "stdout",
     "output_type": "stream",
     "text": [
      "Size of vocab:  33805\n",
      "Most common words:  [('for', 2225), ('with', 1959), ('was', 1786), ('that', 1728), ('has', 1351), ('from', 1288), ('his', 1073), ('after', 763), ('who', 752), ('been', 737)]\n"
     ]
    }
   ],
   "source": [
    "# Flatten list of sentences into list of words\n",
    "word_list = list(itertools.chain.from_iterable(sentences))\n",
    "# print(word_list)\n",
    "\n",
    "# Create a vocabulary of words\n",
    "word_freq = Counter(word_list)\n",
    "\n",
    "# Remove words that occur less than 5 times\n",
    "vocab = set(word if word_freq[word] > 0 else '<unk>' for word in word_list)\n",
    "# print(vocab)\n",
    "\n",
    "# Add padding and unknown token to vocab\n",
    "vocab.add('<pad>')\n",
    "vocab.add('<unk>')\n",
    "# Add start and end token to vocab\n",
    "vocab.add('<start>')\n",
    "vocab.add('<end>')\n",
    "\n",
    "# Print length of vocab\n",
    "print(\"Size of vocab: \", len(vocab))\n",
    "\n",
    "# Create word to index and index to word mapping\n",
    "word_to_idx = {word:idx for idx, word in enumerate(vocab)}\n",
    "idx_to_word = {idx:word for idx, word in enumerate(vocab)}\n",
    "\n",
    "# Print most common words\n",
    "print(\"Most common words: \", word_freq.most_common(10))"
   ]
  },
  {
   "cell_type": "code",
   "execution_count": 13,
   "metadata": {
    "execution": {
     "iopub.execute_input": "2024-07-29T06:26:52.323316Z",
     "iopub.status.busy": "2024-07-29T06:26:52.322862Z",
     "iopub.status.idle": "2024-07-29T06:26:52.327003Z",
     "shell.execute_reply": "2024-07-29T06:26:52.326354Z",
     "shell.execute_reply.started": "2024-07-29T06:26:52.323283Z"
    },
    "tags": []
   },
   "outputs": [
    {
     "name": "stdout",
     "output_type": "stream",
     "text": [
      "22085\n"
     ]
    }
   ],
   "source": [
    "# Check\n",
    "print(word_to_idx['intelligent'])"
   ]
  },
  {
   "cell_type": "markdown",
   "metadata": {
    "id": "MmEx5qHlVfrm"
   },
   "source": [
    "### Create dataset (X,y)"
   ]
  },
  {
   "cell_type": "code",
   "execution_count": 14,
   "metadata": {
    "colab": {
     "base_uri": "https://localhost:8080/"
    },
    "execution": {
     "iopub.execute_input": "2024-07-29T06:26:53.124303Z",
     "iopub.status.busy": "2024-07-29T06:26:53.123856Z",
     "iopub.status.idle": "2024-07-29T06:26:53.164768Z",
     "shell.execute_reply": "2024-07-29T06:26:53.164012Z",
     "shell.execute_reply.started": "2024-07-29T06:26:53.124260Z"
    },
    "id": "8Zg7mU3eVfrn",
    "outputId": "5fe9954a-9c82-446f-a3bb-b45c2cb58c3e",
    "tags": []
   },
   "outputs": [],
   "source": [
    "import random\n",
    "# define constants\n",
    "window_size = 2\n",
    "sliding_window = 2 * window_size + 1\n",
    "num_neg_samples = 1\n",
    "# print(sentences)\n",
    "\n",
    "# sentences = [sentences[0]]\n",
    "# print(sentences)\n",
    "def select_negative_samples(target_word, num_window_size, unigram_table):\n",
    "    negative_samples = []\n",
    "    while len(negative_samples) < 2*num_window_size:\n",
    "        sampled_word = random.choice(unigram_table)  # unigram_table is precomputed based on the distribution\n",
    "        if sampled_word != target_word:\n",
    "            negative_samples.append(sampled_word)\n",
    "    return negative_samples\n",
    "\n",
    "def create_unigram_table(vocab, table_size=len(vocab)):\n",
    "    unigram_table = []\n",
    "    total_count_power = sum([count**0.75 for count in vocab.values()])\n",
    "    for word, count in vocab.items():\n",
    "        p_wi = (count**0.75) / total_count_power\n",
    "        # Fill the table with the index of the word\n",
    "        unigram_table.extend([word] * int(p_wi * table_size))\n",
    "    return unigram_table\n",
    "\n",
    "unigram_table = create_unigram_table(word_freq)\n",
    "# print(unigram_table)\n",
    "\n",
    "def get_samples(sentences, word_to_idx, idx_to_word, window_size, sliding_window, num_neg_sample , vocab , unigram_table):\n",
    "    X = []\n",
    "    y = []\n",
    "    for sentence in sentences:\n",
    "        # add start and end token to sentence\n",
    "        sentence = ['<start>'] + sentence + ['<end>']\n",
    "        for i in range(len(sentence)):\n",
    "            context_word = sentence[i]\n",
    "            # print(\"target word: \", target_word)\n",
    "            target_words = []\n",
    "            temp1 = max(0,i - window_size)\n",
    "            temp2 = min(len(sentence)-1,i + window_size + 1)\n",
    "            # print(\"temp1: \", temp1)\n",
    "            # print(\"temp2: \", temp2)\n",
    "            for j in range(max(0,i - window_size),min(len(sentence)-1,i + window_size)+1):\n",
    "                if j != i:\n",
    "                    # print(sentence[j])\n",
    "                    target_words.append(sentence[j])\n",
    "                # print(\"context words: \", context_words)\n",
    "\n",
    "\n",
    "            # pad context words if length is less than sliding window\n",
    "            if len(target_words) < sliding_window:\n",
    "                target_words += ['<pad>'] * (sliding_window - len(target_words)-1)\n",
    "\n",
    "            target_words.append(context_word)\n",
    "            # print(\"length of target words: \", len(target_words))\n",
    "\n",
    "            # get positive samples\n",
    "            positive_samples = [word_to_idx[word] if word in vocab else word_to_idx['<unk>'] for word in target_words]\n",
    "            # print(\"lenght of positive samples: \", len(positive_samples))\n",
    "\n",
    "            X.append(positive_samples)\n",
    "            y.append(1)\n",
    "\n",
    "\n",
    "            # get negative samples\n",
    "            for i in range(num_neg_samples):\n",
    "                negative_samples = select_negative_samples(context_word, window_size, unigram_table)\n",
    "                negative_samples = [word_to_idx[word] if word in vocab else word_to_idx['<unk>'] for word in negative_samples]\n",
    "                negative_samples += [word_to_idx['<pad>']] * (sliding_window - len(negative_samples)-1)\n",
    "                negative_samples.append(word_to_idx[context_word])\n",
    "                X.append(negative_samples)\n",
    "                y.append(0)\n",
    "                # print(\"length of negative samples: \", len(negative_samples))\n",
    "\n",
    "\n",
    "    return X, y"
   ]
  },
  {
   "cell_type": "code",
   "execution_count": 15,
   "metadata": {
    "colab": {
     "base_uri": "https://localhost:8080/"
    },
    "execution": {
     "iopub.execute_input": "2024-07-29T06:26:53.166601Z",
     "iopub.status.busy": "2024-07-29T06:26:53.166070Z",
     "iopub.status.idle": "2024-07-29T06:26:55.792400Z",
     "shell.execute_reply": "2024-07-29T06:26:55.791647Z",
     "shell.execute_reply.started": "2024-07-29T06:26:53.166566Z"
    },
    "id": "AcdYWIpNVfrp",
    "outputId": "e5873b2f-3f9f-4f90-8664-565a90b83efe",
    "tags": []
   },
   "outputs": [
    {
     "name": "stdout",
     "output_type": "stream",
     "text": [
      "Creating samples\n",
      "[5127, 9196, 9196, 9196, 20584]\n",
      "1\n",
      "Samples created\n"
     ]
    }
   ],
   "source": [
    "print(\"Creating samples\")\n",
    "X, y = get_samples(sentences, word_to_idx, idx_to_word, window_size, sliding_window, num_neg_samples, vocab, unigram_table)\n",
    "print(X[2])\n",
    "print(y[2])\n",
    "print(\"Samples created\")"
   ]
  },
  {
   "cell_type": "code",
   "execution_count": 16,
   "metadata": {
    "execution": {
     "iopub.execute_input": "2024-07-29T06:26:55.794219Z",
     "iopub.status.busy": "2024-07-29T06:26:55.793852Z",
     "iopub.status.idle": "2024-07-29T06:26:58.198619Z",
     "shell.execute_reply": "2024-07-29T06:26:58.197846Z",
     "shell.execute_reply.started": "2024-07-29T06:26:55.794189Z"
    },
    "id": "eGsJePZmVfrq",
    "tags": []
   },
   "outputs": [],
   "source": [
    "# shuffle data\n",
    "data = list(zip(X,y))\n",
    "random.shuffle(data)\n",
    "X,y = zip(*data)\n",
    "\n",
    "# Turn into numpy arrays\n",
    "X = np.array(X)\n",
    "y = np.array(y)"
   ]
  },
  {
   "cell_type": "code",
   "execution_count": 17,
   "metadata": {
    "execution": {
     "iopub.execute_input": "2024-07-29T06:26:58.200007Z",
     "iopub.status.busy": "2024-07-29T06:26:58.199657Z",
     "iopub.status.idle": "2024-07-29T06:26:58.260876Z",
     "shell.execute_reply": "2024-07-29T06:26:58.260208Z",
     "shell.execute_reply.started": "2024-07-29T06:26:58.199978Z"
    },
    "id": "yWqUDDJFVfrr",
    "tags": []
   },
   "outputs": [],
   "source": [
    "# Save X and y\n",
    "np.save('./datasets/skip_sa_X_25k.npy', X)\n",
    "np.save('./datasets/skip_sa_y_25k.npy', y)"
   ]
  },
  {
   "cell_type": "code",
   "execution_count": 18,
   "metadata": {
    "execution": {
     "iopub.execute_input": "2024-07-29T06:26:58.263049Z",
     "iopub.status.busy": "2024-07-29T06:26:58.262517Z",
     "iopub.status.idle": "2024-07-29T06:26:58.283930Z",
     "shell.execute_reply": "2024-07-29T06:26:58.283310Z",
     "shell.execute_reply.started": "2024-07-29T06:26:58.263019Z"
    },
    "id": "LXnZMdQVVfrs",
    "tags": []
   },
   "outputs": [],
   "source": [
    "# # Load X and y\n",
    "X = np.load('./datasets/skip_sa_X_25k.npy')\n",
    "y = np.load('./datasets/skip_sa_y_25k.npy')"
   ]
  },
  {
   "cell_type": "markdown",
   "metadata": {
    "id": "F8vrxSIcVfrt"
   },
   "source": [
    "### Build Model"
   ]
  },
  {
   "cell_type": "code",
   "execution_count": 19,
   "metadata": {
    "execution": {
     "iopub.execute_input": "2024-07-29T06:26:58.285359Z",
     "iopub.status.busy": "2024-07-29T06:26:58.284863Z",
     "iopub.status.idle": "2024-07-29T06:26:58.292726Z",
     "shell.execute_reply": "2024-07-29T06:26:58.292188Z",
     "shell.execute_reply.started": "2024-07-29T06:26:58.285330Z"
    },
    "id": "gnjj1fWUVfrt",
    "tags": []
   },
   "outputs": [],
   "source": [
    "# write the forward pass for SkipGram\n",
    "class SkipGram(nn.Module):\n",
    "    def __init__(self, vocab_size, embedding_dim):\n",
    "        super(SkipGram, self).__init__()\n",
    "        self.vocab_size = vocab_size\n",
    "        self.embedding_dim = embedding_dim\n",
    "        self.embeddings = nn.Embedding(self.vocab_size, self.embedding_dim)\n",
    "        # self.embeddings.weight.data.uniform_(-1, 1)\n",
    "\n",
    "    def forward(self, x):\n",
    "        # extract context and target from x\n",
    "        context = x[:, :-1]\n",
    "        input = x[:, -1]\n",
    "\n",
    "        context_embedding = self.embeddings(context)\n",
    "        input_embedding = self.embeddings(input)\n",
    "\n",
    "        # Dot product between each context embedding and input embedding to get batch_size*context_size*embedding_dim\n",
    "\n",
    "        dot_products = torch.bmm(context_embedding, input_embedding.unsqueeze(2))  # [batch_size, context_length, 1]\n",
    "        sum_dot_products = torch.sum(dot_products, dim=1)  # [batch_size, 1]\n",
    "\n",
    "        # Squeeze the last dimension to get the final scores\n",
    "        scores = sum_dot_products.squeeze(1)  # [batch_size]\n",
    "\n",
    "        return F.sigmoid(scores)\n",
    "\n",
    "    def get_embeddings(self):\n",
    "        out = self.embeddings.weight.data\n",
    "        return out.cpu().numpy()\n",
    "\n",
    "    def get_word_embedding(self, word):\n",
    "        # If word is not in vocab, return unk\n",
    "        if word not in word_to_idx:\n",
    "            word = '<unk>'\n",
    "        word_tensor = torch.LongTensor([word_to_idx[word]])\n",
    "        word_tensor = word_tensor.to(next(self.parameters()).device)\n",
    "        out = self.embeddings(word_tensor).data\n",
    "        return out.cpu().numpy()"
   ]
  },
  {
   "cell_type": "code",
   "execution_count": 20,
   "metadata": {
    "execution": {
     "iopub.execute_input": "2024-07-29T06:26:58.293876Z",
     "iopub.status.busy": "2024-07-29T06:26:58.293518Z",
     "iopub.status.idle": "2024-07-29T06:26:59.376983Z",
     "shell.execute_reply": "2024-07-29T06:26:59.376239Z",
     "shell.execute_reply.started": "2024-07-29T06:26:58.293850Z"
    },
    "id": "NwIXaXXUVfru",
    "tags": []
   },
   "outputs": [],
   "source": [
    "# Define parameters\n",
    "vocab_size = len(vocab)\n",
    "embedding_dim = 250\n",
    "learning_rate = 0.001\n",
    "epochs = 10\n",
    "batch_size = 128\n",
    "\n",
    "# Create model, loss function and optimizer\n",
    "model = SkipGram(vocab_size, embedding_dim)\n",
    "model.to(device)\n",
    "# Cross entropy loss\n",
    "criterion = nn.BCELoss()\n",
    "\n",
    "# Adam optimizer\n",
    "optimizer = torch.optim.Adam(model.parameters(), lr=learning_rate)\n",
    "\n",
    "# Define dataloader\n",
    "dataset = torch.utils.data.TensorDataset(torch.from_numpy(X).long(), torch.from_numpy(y).float())\n",
    "dataloader = torch.utils.data.DataLoader(dataset, batch_size=batch_size, shuffle=True)\n"
   ]
  },
  {
   "cell_type": "code",
   "execution_count": 21,
   "metadata": {
    "colab": {
     "base_uri": "https://localhost:8080/"
    },
    "execution": {
     "iopub.execute_input": "2024-07-29T06:26:59.378906Z",
     "iopub.status.busy": "2024-07-29T06:26:59.378184Z",
     "iopub.status.idle": "2024-07-29T06:26:59.424836Z",
     "shell.execute_reply": "2024-07-29T06:26:59.424171Z",
     "shell.execute_reply.started": "2024-07-29T06:26:59.378865Z"
    },
    "id": "n-f6rzzXVfrv",
    "outputId": "95e1d396-4b8b-4e19-b7ac-fbeb4f77e5b0",
    "tags": []
   },
   "outputs": [
    {
     "name": "stdout",
     "output_type": "stream",
     "text": [
      "tensor([[ 4287, 12072,  5067,  3425,  9922],\n",
      "        [18709,  1271, 10779,  9509, 16931],\n",
      "        [18573,  3319, 32524, 24952, 25497],\n",
      "        [ 1593,   844,  3744,  4912, 27127],\n",
      "        [17800, 33221, 21392,  6392, 28540],\n",
      "        [13067,   977, 10285,   493,  2429],\n",
      "        [ 5127,  7649,  5944,  9196, 24003],\n",
      "        [  673, 22510,  9196,  9196,  5127],\n",
      "        [ 2962,  2429, 24201, 20584, 18433],\n",
      "        [21779, 12673,  9275, 12637, 27421],\n",
      "        [31003,   536,   665, 19935, 21976],\n",
      "        [28694,  9992, 31971,  9149,  8838],\n",
      "        [18759, 26426, 17459, 31626, 13241],\n",
      "        [12926, 14725,  2312,  4736, 24297],\n",
      "        [18639,  2891, 23510, 27558, 14183],\n",
      "        [ 4583, 15382, 31774, 11244, 10368],\n",
      "        [21387,  7951, 18352, 29190, 32920],\n",
      "        [32843, 29711,  6433, 32843,  2090],\n",
      "        [ 8779, 20696, 20582, 25420,  4912],\n",
      "        [29245,  7850, 29954, 20517, 29524],\n",
      "        [ 8452, 20754, 14769, 16548,  4662],\n",
      "        [30104,   767, 27105, 19276, 19935],\n",
      "        [ 7164, 11951, 29509, 21374,  6170],\n",
      "        [29554,  4194, 32829,  6986, 29317],\n",
      "        [27105, 15768, 31963, 17136,  2891],\n",
      "        [12463,  5490, 28657, 28926, 17134],\n",
      "        [26541,   767,  9196,  9196, 20584],\n",
      "        [12377, 13204,  9235,  1177, 21525],\n",
      "        [ 4912,  2064,  4312,   765, 10533],\n",
      "        [ 1223, 15977,  9196,  9196,  5127],\n",
      "        [ 6822, 16120,  9196,  9196,  5127],\n",
      "        [ 4663,  8981, 26599, 17899, 22733],\n",
      "        [26674,  4329,  9196,  9196,  5127],\n",
      "        [ 7186, 30074, 12072,  9831, 17347],\n",
      "        [29302, 16572, 21665, 24642, 27737],\n",
      "        [26781, 31804,  9196,  9196,  5127],\n",
      "        [ 5127, 23426,   215,  9196,  9337],\n",
      "        [18433, 33607, 20371, 12369, 26789],\n",
      "        [ 5043, 13957, 15633, 26285, 28209],\n",
      "        [ 5127, 11221, 21245, 11951,  2338],\n",
      "        [  329,  2836, 16835, 21720, 24298],\n",
      "        [27127, 29751,  7625, 20584, 12925],\n",
      "        [27105, 18198, 25300, 29461, 14906],\n",
      "        [  270,  6447, 18793, 12072,  7756],\n",
      "        [33466, 15188,  9550, 21245, 16171],\n",
      "        [ 3439, 14956, 20245, 19893, 20559],\n",
      "        [25933, 12862, 18136, 24194, 20888],\n",
      "        [32327, 27714, 32329, 13955, 21545],\n",
      "        [ 2748, 29744,  9831, 10880, 11951],\n",
      "        [  977, 32975, 29648,  2429, 18525],\n",
      "        [ 4912, 23241,  6980, 14364, 29245],\n",
      "        [31223, 25447, 11311,  1363,  1156],\n",
      "        [ 1646,  3946,  9196,  9196,  5127],\n",
      "        [ 5123,  6017, 23648, 23985, 25447],\n",
      "        [14364, 33762, 17155, 27577, 33753],\n",
      "        [17584,  5734, 21188, 10401,  2688],\n",
      "        [ 2694, 12981,  5067,  5509, 12855],\n",
      "        [22542,  8813,  8375, 22086, 22542],\n",
      "        [ 7820, 28024, 22542,  5309, 26057],\n",
      "        [11951, 12988, 11951, 29461, 24488],\n",
      "        [ 2140, 11263,  2984,  4410, 12515],\n",
      "        [14833,  5509, 21720, 12925, 20584],\n",
      "        [19255, 30432, 15674, 27105, 23588],\n",
      "        [25862,   420, 28453, 29521, 10165],\n",
      "        [27105, 24326, 31918, 13885, 21166],\n",
      "        [22860, 14967,  4339, 17445, 32213],\n",
      "        [23768, 10367,  4268,  5572, 31321],\n",
      "        [ 9902, 31521, 22750,  5067, 25221],\n",
      "        [20073, 29509,  6188, 20584,  1092],\n",
      "        [26363, 12072, 13309, 25187, 28990],\n",
      "        [ 4912, 33607, 17310,  4805,  9365],\n",
      "        [  947, 22934, 13744, 13585,   312],\n",
      "        [ 7546, 33341, 12925, 14774,    25],\n",
      "        [31867, 14436,  2002, 23351,  2836],\n",
      "        [32045, 32390, 15572,  7410, 29157],\n",
      "        [10520,  8657, 23020, 19272, 20584],\n",
      "        [24088,  9831, 13923, 29265, 12926],\n",
      "        [ 5127,  9196,  9196,  9196, 20584],\n",
      "        [ 5127, 19532, 31867,  9196, 23147],\n",
      "        [  141, 12862, 22132, 27987, 22187],\n",
      "        [10776, 26453,  2429,  3946,   977],\n",
      "        [ 4177, 30857, 31791, 17103, 31318],\n",
      "        [17731,  6884, 25562, 23258, 11240],\n",
      "        [ 4704, 26110,  4485, 23791, 12925],\n",
      "        [31839, 20888, 29744, 28507,  8616],\n",
      "        [30194, 23178, 19172, 19935, 21197],\n",
      "        [14009, 24994, 23776, 32168,  8951],\n",
      "        [ 5127,  7673,  4845,  1798, 13155],\n",
      "        [23277, 33530,  9831, 13899,  7518],\n",
      "        [20584,  9196,  9196,  9196,  5127],\n",
      "        [29461,  4169, 10214, 14438, 32334],\n",
      "        [13204, 21558, 16567,  4274,  2550],\n",
      "        [31056, 19378, 20584,  9196,  3319],\n",
      "        [27105, 32163, 31618, 24959, 20454],\n",
      "        [20660, 11627,  6355, 22606, 12369],\n",
      "        [ 2371, 19007,  1368, 10533, 13837],\n",
      "        [25801, 19935, 19812, 26090, 12980],\n",
      "        [21720, 18989, 13822, 19725, 26642],\n",
      "        [ 1625, 16506,  9196,  9196, 20584],\n",
      "        [ 5127, 10894, 11951, 27127,  8038],\n",
      "        [27339,  3828,  4339, 20944, 21205],\n",
      "        [11311, 33354, 26573, 29521, 10036],\n",
      "        [ 8838,  5773, 18299, 15562,  9704],\n",
      "        [16522, 11951, 32103, 16629, 33404],\n",
      "        [11311, 23952,  3867,  7357, 16284],\n",
      "        [21949, 16688, 12957, 11311, 14464],\n",
      "        [19974,  9273,  9196,  9196,  5127],\n",
      "        [ 8812, 24045,  5509,  5099, 23351],\n",
      "        [ 7060, 20145, 20788, 25203,  3946],\n",
      "        [ 5634, 27034, 18433, 12515,  8506],\n",
      "        [24945,  9049, 10435, 32334,   464],\n",
      "        [26097,  5627, 10499, 18396, 26294],\n",
      "        [17842,  8838, 11391, 29521,  9273],\n",
      "        [28077,   524, 11905, 20584,  7410],\n",
      "        [24302, 30795, 13383, 20661, 27127],\n",
      "        [17027, 11951, 30945,  4068,  5077],\n",
      "        [ 5386, 21720, 27034, 12925,  7328],\n",
      "        [30958,  9160, 15473, 10714, 32188],\n",
      "        [21525, 19935, 15502, 22187, 12072],\n",
      "        [23806, 17275, 32327, 32327, 26439],\n",
      "        [10776,  4287, 32232, 16176,  5127],\n",
      "        [13826, 11401,  9196,  9196,  5127],\n",
      "        [28209, 33556,  9196,  9196,  5127],\n",
      "        [25027, 27884, 11951, 20073,  4468],\n",
      "        [14555, 28410, 32188,   992,    42],\n",
      "        [ 5127, 33635,  4312,  9196, 32020],\n",
      "        [ 9769, 12072, 25157,  9482,  3479],\n",
      "        [31113,  3032, 27127,  7886,  8353]])\n",
      "tensor([0., 0., 1., 1., 0., 1., 1., 1., 1., 0., 0., 1., 0., 0., 1., 0., 0., 1.,\n",
      "        1., 1., 1., 1., 0., 1., 1., 1., 1., 0., 1., 1., 1., 0., 1., 1., 1., 1.,\n",
      "        1., 0., 0., 1., 0., 1., 0., 1., 0., 1., 0., 0., 0., 1., 1., 0., 1., 0.,\n",
      "        0., 0., 1., 1., 1., 1., 0., 0., 1., 0., 0., 0., 0., 0., 1., 0., 0., 0.,\n",
      "        0., 0., 0., 0., 0., 1., 1., 0., 1., 0., 0., 1., 0., 0., 0., 1., 1., 1.,\n",
      "        0., 0., 1., 0., 1., 0., 1., 0., 1., 1., 0., 1., 1., 1., 1., 0., 1., 1.,\n",
      "        0., 0., 0., 1., 1., 1., 1., 1., 1., 0., 1., 1., 0., 1., 1., 1., 1., 1.,\n",
      "        0., 0.])\n"
     ]
    }
   ],
   "source": [
    "# Check dataset\n",
    "for i, (inputs, targets) in enumerate(dataloader):\n",
    "    print(inputs)\n",
    "    print(targets)\n",
    "    break"
   ]
  },
  {
   "cell_type": "code",
   "execution_count": 22,
   "metadata": {
    "execution": {
     "iopub.execute_input": "2024-07-29T06:26:59.426144Z",
     "iopub.status.busy": "2024-07-29T06:26:59.425793Z",
     "iopub.status.idle": "2024-07-29T06:26:59.432505Z",
     "shell.execute_reply": "2024-07-29T06:26:59.431945Z",
     "shell.execute_reply.started": "2024-07-29T06:26:59.426116Z"
    },
    "id": "baDqgCJMVfrw",
    "tags": []
   },
   "outputs": [],
   "source": [
    "# Train SkipGram model\n",
    "def train(model, criterion, optimizer, dataloader, epochs):\n",
    "    train_losses = []\n",
    "    for epoch in range(epochs):\n",
    "        train_loss = 0\n",
    "        train_preds = []\n",
    "        labels = []\n",
    "        for i, (inputs, targets) in enumerate(dataloader):\n",
    "            inputs = inputs.to(device)\n",
    "            targets = targets.to(device)\n",
    "\n",
    "            # forward + backward + optimize\n",
    "            outputs = model(inputs)\n",
    "            loss = criterion(outputs, targets)\n",
    "            optimizer.zero_grad()\n",
    "            loss.backward()\n",
    "            optimizer.step()\n",
    "            train_loss += loss.item()\n",
    "\n",
    "            # get predictions\n",
    "            preds = [1 if x > 0.5 else 0 for x in outputs]\n",
    "            train_preds.extend(preds)\n",
    "            targets = targets.detach().cpu().numpy()\n",
    "            labels.extend(targets)\n",
    "        \n",
    "        train_loss /= len(dataloader)\n",
    "        train_losses.append(train_loss)\n",
    "        print(\"Epoch: \", epoch+1, \"Loss: \", train_loss)\n",
    "    return train_losses"
   ]
  },
  {
   "cell_type": "code",
   "execution_count": 23,
   "metadata": {
    "colab": {
     "base_uri": "https://localhost:8080/"
    },
    "execution": {
     "iopub.execute_input": "2024-07-29T06:26:59.433760Z",
     "iopub.status.busy": "2024-07-29T06:26:59.433325Z",
     "iopub.status.idle": "2024-07-29T06:40:04.198130Z",
     "shell.execute_reply": "2024-07-29T06:40:04.197300Z",
     "shell.execute_reply.started": "2024-07-29T06:26:59.433725Z"
    },
    "id": "heiTsqTEVfrw",
    "outputId": "1c2f3430-9fe4-4293-ed21-b86f60608fd3",
    "tags": []
   },
   "outputs": [
    {
     "name": "stdout",
     "output_type": "stream",
     "text": [
      "Epoch:  1 Loss:  20.29098311936783\n",
      "Epoch:  2 Loss:  16.830807559488598\n",
      "Epoch:  3 Loss:  15.073676278280875\n",
      "Epoch:  4 Loss:  14.04376164370104\n",
      "Epoch:  5 Loss:  13.343995393005804\n",
      "Epoch:  6 Loss:  12.850327803488929\n",
      "Epoch:  7 Loss:  12.480959152580514\n",
      "Epoch:  8 Loss:  12.15917039608843\n",
      "Epoch:  9 Loss:  11.906831601143526\n",
      "Epoch:  10 Loss:  11.681309587394395\n"
     ]
    }
   ],
   "source": [
    "# Train model\n",
    "train_losses = train(model, criterion, optimizer, dataloader, epochs)"
   ]
  },
  {
   "cell_type": "code",
   "execution_count": 24,
   "metadata": {
    "execution": {
     "iopub.execute_input": "2024-07-29T06:40:04.201669Z",
     "iopub.status.busy": "2024-07-29T06:40:04.201304Z",
     "iopub.status.idle": "2024-07-29T06:40:04.206027Z",
     "shell.execute_reply": "2024-07-29T06:40:04.205465Z",
     "shell.execute_reply.started": "2024-07-29T06:40:04.201635Z"
    },
    "tags": []
   },
   "outputs": [],
   "source": [
    "# Function to plot train accuracy\n",
    "def plot_train_losses(train_losses):\n",
    "    plt.plot(train_losses)\n",
    "    plt.xlabel('Epochs')\n",
    "    plt.ylabel('Train Loss')\n",
    "    plt.title('Train Loss vs Epochs')\n",
    "    plt.savefig('./plots/skip_sa_train_losses.png')\n",
    "    plt.show()"
   ]
  },
  {
   "cell_type": "code",
   "execution_count": 25,
   "metadata": {
    "execution": {
     "iopub.execute_input": "2024-07-29T06:40:04.207239Z",
     "iopub.status.busy": "2024-07-29T06:40:04.206825Z",
     "iopub.status.idle": "2024-07-29T06:40:04.481893Z",
     "shell.execute_reply": "2024-07-29T06:40:04.481297Z",
     "shell.execute_reply.started": "2024-07-29T06:40:04.207212Z"
    },
    "tags": []
   },
   "outputs": [
    {
     "data": {
      "image/png": "[encoded data removed]",
      "text/plain": [
       "<Figure size 640x480 with 1 Axes>"
      ]
     },
     "metadata": {},
     "output_type": "display_data"
    }
   ],
   "source": [
    "# Call function to plot train accuracy\n",
    "plot_train_losses(train_losses)"
   ]
  },
  {
   "cell_type": "code",
   "execution_count": 26,
   "metadata": {
    "execution": {
     "iopub.execute_input": "2024-07-29T06:40:04.483382Z",
     "iopub.status.busy": "2024-07-29T06:40:04.482825Z",
     "iopub.status.idle": "2024-07-29T06:40:04.590863Z",
     "shell.execute_reply": "2024-07-29T06:40:04.590158Z",
     "shell.execute_reply.started": "2024-07-29T06:40:04.483351Z"
    },
    "id": "7Zd_ROK9c_Lj",
    "tags": []
   },
   "outputs": [],
   "source": [
    "# Save model\n",
    "torch.save(model, './partA_pth/skipgram_sa_25k_250_001.pth')"
   ]
  },
  {
   "cell_type": "code",
   "execution_count": 27,
   "metadata": {
    "execution": {
     "iopub.execute_input": "2024-07-29T06:40:04.592429Z",
     "iopub.status.busy": "2024-07-29T06:40:04.591856Z",
     "iopub.status.idle": "2024-07-29T06:40:04.776655Z",
     "shell.execute_reply": "2024-07-29T06:40:04.776041Z",
     "shell.execute_reply.started": "2024-07-29T06:40:04.592399Z"
    },
    "tags": []
   },
   "outputs": [
    {
     "data": {
      "text/plain": [
       "SkipGram(\n",
       "  (embeddings): Embedding(33805, 250)\n",
       ")"
      ]
     },
     "execution_count": 27,
     "metadata": {},
     "output_type": "execute_result"
    }
   ],
   "source": [
    "# Load model\n",
    "model = SkipGram(vocab_size, embedding_dim)\n",
    "model = torch.load('./partA_pth/skipgram_sa_25k_250_001.pth')\n",
    "model.to(device)"
   ]
  },
  {
   "cell_type": "code",
   "execution_count": 28,
   "metadata": {
    "colab": {
     "base_uri": "https://localhost:8080/"
    },
    "execution": {
     "iopub.execute_input": "2024-07-29T06:40:04.777972Z",
     "iopub.status.busy": "2024-07-29T06:40:04.777630Z",
     "iopub.status.idle": "2024-07-29T06:40:04.794782Z",
     "shell.execute_reply": "2024-07-29T06:40:04.794168Z",
     "shell.execute_reply.started": "2024-07-29T06:40:04.777944Z"
    },
    "id": "QsC8hX0WVfrx",
    "outputId": "9e2cf61f-7206-4730-8f2b-7158d489a760",
    "tags": []
   },
   "outputs": [
    {
     "name": "stdout",
     "output_type": "stream",
     "text": [
      "   word1        word2 POS  SimLex999  conc(w1)  conc(w2)  concQ  Assoc(USF)  \\\n",
      "0    old          new   A       1.58      2.72      2.81      2        7.25   \n",
      "1  smart  intelligent   A       9.20      1.75      2.46      1        7.11   \n",
      "2   hard    difficult   A       8.77      3.76      2.21      2        5.94   \n",
      "3  happy     cheerful   A       9.55      2.56      2.34      1        5.85   \n",
      "4   hard         easy   A       0.95      3.76      2.07      2        5.82   \n",
      "\n",
      "   SimAssoc333  SD(SimLex)  \n",
      "0            1        0.41  \n",
      "1            1        0.67  \n",
      "2            1        1.19  \n",
      "3            1        2.18  \n",
      "4            1        0.93  \n"
     ]
    }
   ],
   "source": [
    "# Load test data\n",
    "\n",
    "# Load into dataframe\n",
    "df = pd.read_csv('../SimLex-999/SimLex-999.txt', sep='\\t')\n",
    "print(df.head())"
   ]
  },
  {
   "cell_type": "code",
   "execution_count": 29,
   "metadata": {
    "colab": {
     "base_uri": "https://localhost:8080/"
    },
    "execution": {
     "iopub.execute_input": "2024-07-29T06:40:04.796043Z",
     "iopub.status.busy": "2024-07-29T06:40:04.795621Z",
     "iopub.status.idle": "2024-07-29T06:40:04.799522Z",
     "shell.execute_reply": "2024-07-29T06:40:04.798887Z",
     "shell.execute_reply.started": "2024-07-29T06:40:04.796014Z"
    },
    "id": "_pfU1jobVfry",
    "outputId": "88935fb9-aabe-403b-ff21-f2f65f8663b8",
    "tags": []
   },
   "outputs": [
    {
     "name": "stdout",
     "output_type": "stream",
     "text": [
      "smart\n"
     ]
    }
   ],
   "source": [
    "# Print 2nd row word1\n",
    "print(df['word1'][1])"
   ]
  },
  {
   "cell_type": "code",
   "execution_count": 30,
   "metadata": {
    "colab": {
     "base_uri": "https://localhost:8080/"
    },
    "execution": {
     "iopub.execute_input": "2024-07-29T06:40:04.800831Z",
     "iopub.status.busy": "2024-07-29T06:40:04.800353Z",
     "iopub.status.idle": "2024-07-29T06:40:04.815865Z",
     "shell.execute_reply": "2024-07-29T06:40:04.815113Z",
     "shell.execute_reply.started": "2024-07-29T06:40:04.800803Z"
    },
    "id": "ACaFnePdVfry",
    "outputId": "6dde4fcb-1ee9-4b27-9ea6-59d16be2372f",
    "tags": []
   },
   "outputs": [
    {
     "name": "stdout",
     "output_type": "stream",
     "text": [
      "(1, 250)\n",
      "(250,)\n",
      "[ 1.2981591  -0.7140056  -0.7623678   0.0328537  -1.493342    0.49984252\n",
      " -0.5490612   1.5202856   0.9398308  -0.7862399   0.02128123 -0.5661481\n",
      " -1.3100903   0.7852158  -0.9473987   1.9733192   0.6274865   0.65383935\n",
      "  0.16591056  0.12509073 -0.39099595  0.20386589 -0.20119318 -0.032251\n",
      "  1.138302   -0.61773074 -0.35346246 -1.5451616  -0.21245751  1.3896084\n",
      "  0.6694425   0.82525194  0.5937259  -1.3512334  -0.03174135 -0.59977067\n",
      " -0.8568651  -1.2783841  -0.42700535  0.27779573  0.45159888 -0.53618675\n",
      " -0.315613    0.58182895 -0.87995017 -0.6136408   0.8035155   0.00708674\n",
      "  1.1724242  -1.195392   -0.10448891 -0.09020063  0.00513496  0.09511915\n",
      " -0.47837543 -0.10028946  0.49363235 -2.049493   -0.4678749  -1.0476667\n",
      " -0.39492512 -1.2502239  -0.54735893 -0.244681   -0.70778364  0.7640808\n",
      " -0.43341014  1.0486573  -0.11795577  1.5118635  -0.74309224 -1.6483552\n",
      " -1.2236825  -1.2644749  -0.9735757   0.22730672  2.3880107   0.3406175\n",
      "  0.6077989   1.3500601  -2.0064626   1.6620171   1.8752354  -0.8196321\n",
      " -2.6086333  -1.0614672  -0.2875753  -0.9813338  -1.3044864   0.42984405\n",
      "  2.0836775   0.1007548  -0.66229045  0.3678313   0.272713   -0.19633919\n",
      " -0.6184434   0.23146358 -0.52780634 -0.4410773  -1.2712344   0.7633988\n",
      " -0.6820907   0.1759732   0.7661828   0.55966645 -1.8595897   0.47088927\n",
      "  0.51959294 -0.72700614 -0.00410642 -0.09967541 -1.2342535   1.809045\n",
      "  0.68279564  0.8279838   0.08197412 -1.0173196  -1.1993265  -0.5543206\n",
      " -0.42278355  0.12737134  0.01928908  0.985206   -0.41018108  0.1769093\n",
      "  0.7083058  -0.18507035 -1.895533   -0.326808    0.7857014   0.61368036\n",
      "  0.83794945  1.4248152  -1.2742798  -0.1442793   1.2555345   0.3968162\n",
      " -0.16708085  0.03615696  0.04023179 -1.3577234   0.16402125 -1.1406451\n",
      "  0.14427237 -0.06256779  0.19364132  0.695801    0.916333   -0.0115903\n",
      "  0.90627366  0.9543928   0.9762079   0.08369162 -1.2823633  -0.98889154\n",
      "  0.4097641   0.655989   -1.4335935   0.8048208  -1.6357847   0.10438763\n",
      "  1.7064799  -0.0249144   0.7314141   1.489105    0.71952075 -0.87214315\n",
      "  0.8481677   0.874719    0.26012343 -1.0321348   1.42064     0.73771155\n",
      "  0.0571431  -0.9839041  -1.0304072  -0.44132605  0.42059475 -0.15702347\n",
      " -0.745451   -0.41025546  0.47523037  0.6714894   0.69681364 -0.55679953\n",
      " -0.9732701   0.45667663  1.3651291  -0.0997186   0.2535787   0.9758494\n",
      "  0.56533456 -0.19556376  0.16495849 -2.2584274  -0.22174543  0.17132515\n",
      "  0.5850169  -0.92149335 -2.3933508   1.3857703  -1.8582531   0.4397041\n",
      "  0.7480916  -0.7153348   0.36828992 -0.6027681   0.12325997 -0.24965198\n",
      "  0.7578638   0.05920668 -0.7186792  -0.68667674  0.09892534  1.0576212\n",
      " -2.391199    1.237557    1.0706784   0.9204934  -0.4642686  -0.77171874\n",
      " -1.9332166   0.51782185 -2.246149    0.09362518  1.149781   -1.298527\n",
      " -1.0527234  -0.9768859   1.0910026  -1.4240425  -1.638684   -0.56353104\n",
      " -0.777677   -0.20348755 -0.6963335   1.3686942  -2.0575764  -1.0574495\n",
      " -1.3939588   0.65281117 -0.8812744  -0.79649013 -1.1650504   0.6722314\n",
      "  0.09868198 -0.35997498  0.2789767  -0.8032121 ]\n"
     ]
    }
   ],
   "source": [
    "# Get word embeddings\n",
    "sample_embedding = model.get_word_embedding(df['word1'][1])\n",
    "print(sample_embedding.shape)\n",
    "sample_embedding = sample_embedding.squeeze()\n",
    "print(sample_embedding.shape)\n",
    "print(sample_embedding)"
   ]
  },
  {
   "cell_type": "code",
   "execution_count": 31,
   "metadata": {
    "execution": {
     "iopub.execute_input": "2024-07-29T06:40:04.816914Z",
     "iopub.status.busy": "2024-07-29T06:40:04.816654Z",
     "iopub.status.idle": "2024-07-29T06:40:04.825265Z",
     "shell.execute_reply": "2024-07-29T06:40:04.824629Z",
     "shell.execute_reply.started": "2024-07-29T06:40:04.816886Z"
    },
    "tags": []
   },
   "outputs": [
    {
     "name": "stdout",
     "output_type": "stream",
     "text": [
      "<class 'numpy.ndarray'>\n",
      "1.0\n"
     ]
    }
   ],
   "source": [
    "import numpy as np\n",
    "\n",
    "# Check similarity between two words\n",
    "word1 = df['word1'][1]\n",
    "word2 = df['word1'][1]\n",
    "\n",
    "# Use gensim or any other model to get word embeddings\n",
    "w1 = model.get_word_embedding(word1).squeeze()\n",
    "w2 = model.get_word_embedding(word2).squeeze()\n",
    "\n",
    "print(type(w1))\n",
    "\n",
    "# Calculate cosine similarity using numpy\n",
    "def unitvec(vec):\n",
    "    return vec / np.linalg.norm(vec)\n",
    "\n",
    "sim = np.dot(unitvec(w1), unitvec(w2))\n",
    "print(sim)"
   ]
  },
  {
   "cell_type": "code",
   "execution_count": 32,
   "metadata": {
    "execution": {
     "iopub.execute_input": "2024-07-29T06:40:04.826547Z",
     "iopub.status.busy": "2024-07-29T06:40:04.826025Z",
     "iopub.status.idle": "2024-07-29T06:40:04.833446Z",
     "shell.execute_reply": "2024-07-29T06:40:04.832916Z",
     "shell.execute_reply.started": "2024-07-29T06:40:04.826507Z"
    },
    "tags": []
   },
   "outputs": [],
   "source": [
    "# Function to check if word is in vocab\n",
    "def check_vocab(word):\n",
    "    if word in vocab:\n",
    "        return True\n",
    "    else:\n",
    "        return False"
   ]
  },
  {
   "cell_type": "code",
   "execution_count": 33,
   "metadata": {
    "execution": {
     "iopub.execute_input": "2024-07-29T06:40:04.834545Z",
     "iopub.status.busy": "2024-07-29T06:40:04.834253Z",
     "iopub.status.idle": "2024-07-29T06:40:04.845159Z",
     "shell.execute_reply": "2024-07-29T06:40:04.844635Z",
     "shell.execute_reply.started": "2024-07-29T06:40:04.834508Z"
    },
    "id": "XUOiHPqcVfrz",
    "tags": []
   },
   "outputs": [],
   "source": [
    "# Function to get cosine similarity\n",
    "import numpy as np\n",
    "\n",
    "def cos_similarity(word1_embedding, word2_embedding):\n",
    "    def unitvec(vec):\n",
    "        return vec / np.linalg.norm(vec)\n",
    "\n",
    "    ans = np.dot(unitvec(word1_embedding), unitvec(word2_embedding))\n",
    "    return ans\n",
    "\n",
    "\n",
    "# Function to get Pearson correlation\n",
    "def pearson_correlation(word1_embedding, word2_embedding):\n",
    "    emb1 = np.array(word1_embedding)\n",
    "    emb2 = np.array(word2_embedding)\n",
    "\n",
    "    correlation, _ = pearsonr(emb1, emb2)\n",
    "    return correlation"
   ]
  },
  {
   "cell_type": "code",
   "execution_count": 34,
   "metadata": {
    "execution": {
     "iopub.execute_input": "2024-07-29T06:40:04.846348Z",
     "iopub.status.busy": "2024-07-29T06:40:04.845907Z",
     "iopub.status.idle": "2024-07-29T06:40:04.858578Z",
     "shell.execute_reply": "2024-07-29T06:40:04.857908Z",
     "shell.execute_reply.started": "2024-07-29T06:40:04.846322Z"
    },
    "id": "7upp-39oVfr0",
    "tags": []
   },
   "outputs": [],
   "source": [
    "def test_sim(df, model, lemmatizer, stemmer):\n",
    "    cosine_similarity_scores = []\n",
    "    pearson_correlation_scores = []\n",
    "    simlex_scores = []\n",
    "    not_in_vocab = 0\n",
    "  \n",
    "    for _, row in df.iterrows():\n",
    "        word1 = row['word1']\n",
    "        word2 = row['word2']\n",
    "        form = row['POS']\n",
    "        form = form.lower()\n",
    "       \n",
    "        # Check if word is in vocab\n",
    "        if not check_vocab(word1) or not check_vocab(word2):\n",
    "            not_in_vocab += 1\n",
    "\n",
    "        # Get embeddings\n",
    "        word1_embedding = model.get_word_embedding(word1).squeeze()\n",
    "        word2_embedding = model.get_word_embedding(word2).squeeze()\n",
    "\n",
    "        # Get cosine similarity\n",
    "        cosine_similarity_scores.append(cos_similarity(word1_embedding, word2_embedding))\n",
    "        \n",
    "        # Get pearson correlation\n",
    "        pearson_correlation_scores.append(pearson_correlation(word1_embedding, word2_embedding))\n",
    "\n",
    "        # Get simlex score\n",
    "        simlex_scores.append(row['SimLex999'])\n",
    "        \n",
    "    return cosine_similarity_scores, pearson_correlation_scores, simlex_scores, not_in_vocab"
   ]
  },
  {
   "cell_type": "code",
   "execution_count": 35,
   "metadata": {
    "execution": {
     "iopub.execute_input": "2024-07-29T06:40:04.859971Z",
     "iopub.status.busy": "2024-07-29T06:40:04.859496Z",
     "iopub.status.idle": "2024-07-29T06:40:08.023252Z",
     "shell.execute_reply": "2024-07-29T06:40:08.022561Z",
     "shell.execute_reply.started": "2024-07-29T06:40:04.859944Z"
    },
    "id": "017GL4PjVfr0",
    "tags": []
   },
   "outputs": [],
   "source": [
    "# Get cosine similarity and pearson correlation scores\n",
    "lemmatizer = WordNetLemmatizer()\n",
    "stemmer = nltk.stem.PorterStemmer()\n",
    "cosine_similarity_scores, pearson_correlation_scores, simlex_scores, not_in_vocab = test_sim(df, model, lemmatizer, stemmer)"
   ]
  },
  {
   "cell_type": "code",
   "execution_count": 36,
   "metadata": {
    "colab": {
     "base_uri": "https://localhost:8080/"
    },
    "execution": {
     "iopub.execute_input": "2024-07-29T06:40:08.024808Z",
     "iopub.status.busy": "2024-07-29T06:40:08.024235Z",
     "iopub.status.idle": "2024-07-29T06:40:08.028325Z",
     "shell.execute_reply": "2024-07-29T06:40:08.027770Z",
     "shell.execute_reply.started": "2024-07-29T06:40:08.024777Z"
    },
    "id": "ZzTVRgyvX-Tu",
    "outputId": "5979a4ee-9fe0-4689-fc7f-0a80860c17b8",
    "tags": []
   },
   "outputs": [
    {
     "name": "stdout",
     "output_type": "stream",
     "text": [
      "<class 'list'>\n",
      "<class 'list'>\n",
      "<class 'list'>\n"
     ]
    }
   ],
   "source": [
    "# Check cosine similarity and pearson correlation scores\n",
    "print(type(cosine_similarity_scores))\n",
    "print(type(pearson_correlation_scores))\n",
    "print(type(simlex_scores))"
   ]
  },
  {
   "cell_type": "code",
   "execution_count": 37,
   "metadata": {
    "execution": {
     "iopub.execute_input": "2024-07-29T06:40:08.029563Z",
     "iopub.status.busy": "2024-07-29T06:40:08.029100Z",
     "iopub.status.idle": "2024-07-29T06:40:08.041147Z",
     "shell.execute_reply": "2024-07-29T06:40:08.040621Z",
     "shell.execute_reply.started": "2024-07-29T06:40:08.029534Z"
    },
    "id": "y09A6xWTYArg",
    "tags": []
   },
   "outputs": [],
   "source": [
    "# Funtcion to get spearman correlation using cosine similarity scores\n",
    "def spearman_correlation(cosine_similarity_scores, simlex_scores):\n",
    "    # Scale cosine similarity scores to 0-10\n",
    "    cosine_similarity_scores = np.array(cosine_similarity_scores)\n",
    "    cosine_similarity_scores = (1+cosine_similarity_scores)*5\n",
    "    simlex_scores = np.array(simlex_scores)\n",
    "\n",
    "    correlation, _ = spearmanr(cosine_similarity_scores, simlex_scores)\n",
    "    return correlation"
   ]
  },
  {
   "cell_type": "code",
   "execution_count": 38,
   "metadata": {
    "colab": {
     "base_uri": "https://localhost:8080/"
    },
    "execution": {
     "iopub.execute_input": "2024-07-29T06:40:08.042332Z",
     "iopub.status.busy": "2024-07-29T06:40:08.041908Z",
     "iopub.status.idle": "2024-07-29T06:40:08.055105Z",
     "shell.execute_reply": "2024-07-29T06:40:08.054577Z",
     "shell.execute_reply.started": "2024-07-29T06:40:08.042305Z"
    },
    "id": "kiOl-gKHYDQw",
    "outputId": "af2ae4c8-a077-4630-c9d3-046c3fdf5465",
    "tags": []
   },
   "outputs": [
    {
     "name": "stdout",
     "output_type": "stream",
     "text": [
      "Initial Spearman correlation Sim:  -0.005468586187342618\n"
     ]
    }
   ],
   "source": [
    "# Print the initial spearman correlation\n",
    "spearman_value_sim = spearman_correlation(cosine_similarity_scores, simlex_scores)\n",
    "\n",
    "print(\"Initial Spearman correlation Sim: \", spearman_value_sim)"
   ]
  },
  {
   "cell_type": "code",
   "execution_count": 39,
   "metadata": {
    "execution": {
     "iopub.execute_input": "2024-07-29T06:40:08.056393Z",
     "iopub.status.busy": "2024-07-29T06:40:08.055910Z",
     "iopub.status.idle": "2024-07-29T06:40:08.063983Z",
     "shell.execute_reply": "2024-07-29T06:40:08.063466Z",
     "shell.execute_reply.started": "2024-07-29T06:40:08.056366Z"
    },
    "tags": []
   },
   "outputs": [
    {
     "name": "stdout",
     "output_type": "stream",
     "text": [
      "Number of data points not in vocab:  106\n"
     ]
    }
   ],
   "source": [
    "# Print the number of data points not in vocab\n",
    "print(\"Number of data points not in vocab: \", not_in_vocab)"
   ]
  },
  {
   "cell_type": "code",
   "execution_count": 40,
   "metadata": {
    "colab": {
     "base_uri": "https://localhost:8080/"
    },
    "execution": {
     "iopub.execute_input": "2024-07-29T06:40:08.065150Z",
     "iopub.status.busy": "2024-07-29T06:40:08.064727Z",
     "iopub.status.idle": "2024-07-29T06:40:08.080735Z",
     "shell.execute_reply": "2024-07-29T06:40:08.080204Z",
     "shell.execute_reply.started": "2024-07-29T06:40:08.065123Z"
    },
    "id": "vmxDwm3gYGWL",
    "outputId": "0a9ffc8e-9e2d-459b-bee1-803b86fe90e3",
    "tags": []
   },
   "outputs": [
    {
     "name": "stdout",
     "output_type": "stream",
     "text": [
      "   word1        word2 POS  SimLex999  Assoc(USF)  Cosine Similarity  \\\n",
      "0    old          new   A       1.58        7.25          -0.023388   \n",
      "1  smart  intelligent   A       9.20        7.11           0.057215   \n",
      "2   hard    difficult   A       8.77        5.94          -0.042206   \n",
      "3  happy     cheerful   A       9.55        5.85          -0.002335   \n",
      "4   hard         easy   A       0.95        5.82          -0.024750   \n",
      "\n",
      "   Pearson Correlation  \n",
      "0            -0.021782  \n",
      "1             0.058058  \n",
      "2            -0.039502  \n",
      "3            -0.003792  \n",
      "4            -0.023280  \n"
     ]
    }
   ],
   "source": [
    "# Make a dataframe of cosine similarity scores and pearson correlation scores along with Simlex-999 scores and Assoc(USF)\n",
    "simlex_scores = df['SimLex999']\n",
    "assoc_scores = df['Assoc(USF)']\n",
    "cosine_similarity_scores = np.array(cosine_similarity_scores)\n",
    "pearson_correlation_scores = np.array(pearson_correlation_scores)\n",
    "simlex_scores = np.array(simlex_scores)\n",
    "assoc_scores = np.array(assoc_scores)\n",
    "# print(cosine_similarity_scores.shape)\n",
    "# print(pearson_correlation_scores.shape)\n",
    "\n",
    "# Make a dataframe along with word1, word2, POS, SimLex-999 scores, Assoc(USF), cosine similarity scores and pearson correlation scores\n",
    "datat = {'word1': df['word1'], 'word2': df['word2'], 'POS': df['POS'], 'SimLex999': simlex_scores, 'Assoc(USF)': assoc_scores, 'Cosine Similarity': cosine_similarity_scores, 'Pearson Correlation': pearson_correlation_scores}\n",
    "ndf = pd.DataFrame(data=datat)\n",
    "print(ndf.head())"
   ]
  },
  {
   "cell_type": "code",
   "execution_count": 41,
   "metadata": {
    "colab": {
     "base_uri": "https://localhost:8080/"
    },
    "execution": {
     "iopub.execute_input": "2024-07-29T06:40:08.081703Z",
     "iopub.status.busy": "2024-07-29T06:40:08.081476Z",
     "iopub.status.idle": "2024-07-29T06:40:08.092612Z",
     "shell.execute_reply": "2024-07-29T06:40:08.092077Z",
     "shell.execute_reply.started": "2024-07-29T06:40:08.081679Z"
    },
    "id": "Ig5Adsa7YIro",
    "outputId": "4e079f74-c2ab-43dd-b1ae-b70ec8a3c759",
    "tags": []
   },
   "outputs": [
    {
     "name": "stdout",
     "output_type": "stream",
     "text": [
      "      word1        word2 POS  SimLex999  Assoc(USF)  Cosine Similarity  \\\n",
      "0       old          new   A       1.58        7.25          -0.023388   \n",
      "1     smart  intelligent   A       9.20        7.11           0.057215   \n",
      "2      hard    difficult   A       8.77        5.94          -0.042206   \n",
      "3     happy     cheerful   A       9.55        5.85          -0.002335   \n",
      "4      hard         easy   A       0.95        5.82          -0.024750   \n",
      "..      ...          ...  ..        ...         ...                ...   \n",
      "994    join      acquire   V       2.85        0.00           0.064023   \n",
      "995    send       attend   V       1.67        0.00          -0.045031   \n",
      "996  gather       attend   V       4.80        0.00           0.002795   \n",
      "997  absorb     withdraw   V       2.97        0.00           0.096633   \n",
      "998  attend       arrive   V       6.08        0.00           0.101605   \n",
      "\n",
      "     Pearson Correlation  \n",
      "0              -0.021782  \n",
      "1               0.058058  \n",
      "2              -0.039502  \n",
      "3              -0.003792  \n",
      "4              -0.023280  \n",
      "..                   ...  \n",
      "994             0.064114  \n",
      "995            -0.044770  \n",
      "996             0.002701  \n",
      "997             0.094275  \n",
      "998             0.101438  \n",
      "\n",
      "[999 rows x 7 columns]\n"
     ]
    }
   ],
   "source": [
    "# Print df\n",
    "print(ndf)"
   ]
  },
  {
   "cell_type": "markdown",
   "metadata": {
    "id": "10G686jpYLa7"
   },
   "source": [
    "Build Model"
   ]
  },
  {
   "cell_type": "code",
   "execution_count": 42,
   "metadata": {
    "execution": {
     "iopub.execute_input": "2024-07-29T06:40:08.096437Z",
     "iopub.status.busy": "2024-07-29T06:40:08.095978Z",
     "iopub.status.idle": "2024-07-29T06:40:08.103988Z",
     "shell.execute_reply": "2024-07-29T06:40:08.103473Z",
     "shell.execute_reply.started": "2024-07-29T06:40:08.096410Z"
    },
    "id": "FVuLgyQ5YPiP",
    "tags": []
   },
   "outputs": [],
   "source": [
    "# Create Dataset\n",
    "def create_dataset(df, model):\n",
    "    # Create a list of tuples\n",
    "    emb1 = []\n",
    "    emb2 = []\n",
    "    simlex_scores = []\n",
    "    assoc_scores = []\n",
    "    for _, row in df.iterrows():\n",
    "            word1 = row['word1']\n",
    "            word2 = row['word2']\n",
    "            emb1.append(torch.tensor(model.get_word_embedding(word1).squeeze()))\n",
    "            emb2.append(torch.tensor(model.get_word_embedding(word2).squeeze()))\n",
    "            simlex_scores.append(row['SimLex999'])\n",
    "            assoc_scores.append(row['Assoc(USF)'])\n",
    "\n",
    "    # print(emb1[0].shape)\n",
    "    emb1_stack = torch.stack(emb1)\n",
    "    emb2_stack = torch.stack(emb2)\n",
    "\n",
    "    return emb1_stack, emb2_stack, torch.tensor(simlex_scores, dtype=torch.float), torch.tensor(assoc_scores, dtype=torch.float)"
   ]
  },
  {
   "cell_type": "code",
   "execution_count": 43,
   "metadata": {
    "execution": {
     "iopub.execute_input": "2024-07-29T06:40:08.105123Z",
     "iopub.status.busy": "2024-07-29T06:40:08.104726Z",
     "iopub.status.idle": "2024-07-29T06:40:10.097013Z",
     "shell.execute_reply": "2024-07-29T06:40:10.096137Z",
     "shell.execute_reply.started": "2024-07-29T06:40:08.105096Z"
    },
    "id": "VX-9UOKGYQq0",
    "tags": []
   },
   "outputs": [],
   "source": [
    "# Call create_dataset\n",
    "train_df, test_df = train_test_split(ndf, test_size=0.1, random_state=42)\n",
    "train_emb1, train_emb2, train_simlex_scores, train_assoc_scores = create_dataset(train_df, model)\n",
    "test_emb1, test_emb2, test_simlex_scores, test_assoc_scores = create_dataset(test_df, model)"
   ]
  },
  {
   "cell_type": "code",
   "execution_count": 44,
   "metadata": {
    "colab": {
     "base_uri": "https://localhost:8080/"
    },
    "execution": {
     "iopub.execute_input": "2024-07-29T06:40:10.098421Z",
     "iopub.status.busy": "2024-07-29T06:40:10.098062Z",
     "iopub.status.idle": "2024-07-29T06:40:10.102540Z",
     "shell.execute_reply": "2024-07-29T06:40:10.101835Z",
     "shell.execute_reply.started": "2024-07-29T06:40:10.098392Z"
    },
    "id": "wv_-44vYYUrT",
    "outputId": "4d52e675-c1c9-4983-d6a3-67fcec246f31",
    "tags": []
   },
   "outputs": [
    {
     "name": "stdout",
     "output_type": "stream",
     "text": [
      "torch.Size([899, 250])\n",
      "torch.Size([899])\n"
     ]
    }
   ],
   "source": [
    "# check train_emb1\n",
    "print(train_emb1.shape)\n",
    "print(train_simlex_scores.shape)"
   ]
  },
  {
   "cell_type": "code",
   "execution_count": 45,
   "metadata": {
    "execution": {
     "iopub.execute_input": "2024-07-29T06:40:10.103944Z",
     "iopub.status.busy": "2024-07-29T06:40:10.103387Z",
     "iopub.status.idle": "2024-07-29T06:40:10.113728Z",
     "shell.execute_reply": "2024-07-29T06:40:10.112941Z",
     "shell.execute_reply.started": "2024-07-29T06:40:10.103917Z"
    },
    "id": "I9YI_RUpYZ4F",
    "tags": []
   },
   "outputs": [],
   "source": [
    "# Creare TensorDataset\n",
    "train_dataset = torch.utils.data.TensorDataset(train_emb1, train_emb2, train_simlex_scores, train_assoc_scores)\n",
    "test_dataset = torch.utils.data.TensorDataset(test_emb1, test_emb2, test_simlex_scores, test_assoc_scores)"
   ]
  },
  {
   "cell_type": "code",
   "execution_count": 46,
   "metadata": {
    "execution": {
     "iopub.execute_input": "2024-07-29T06:40:10.114831Z",
     "iopub.status.busy": "2024-07-29T06:40:10.114602Z",
     "iopub.status.idle": "2024-07-29T06:40:10.124965Z",
     "shell.execute_reply": "2024-07-29T06:40:10.124297Z",
     "shell.execute_reply.started": "2024-07-29T06:40:10.114806Z"
    },
    "id": "-SLh3kMMYbEM",
    "tags": []
   },
   "outputs": [],
   "source": [
    "# Create DataLoader\n",
    "train_loader = torch.utils.data.DataLoader(train_dataset, batch_size=32, shuffle=True)\n",
    "test_loader = torch.utils.data.DataLoader(test_dataset, batch_size=32, shuffle=True)"
   ]
  },
  {
   "cell_type": "code",
   "execution_count": 47,
   "metadata": {
    "execution": {
     "iopub.execute_input": "2024-07-29T06:40:10.126018Z",
     "iopub.status.busy": "2024-07-29T06:40:10.125794Z",
     "iopub.status.idle": "2024-07-29T06:40:10.138203Z",
     "shell.execute_reply": "2024-07-29T06:40:10.137543Z",
     "shell.execute_reply.started": "2024-07-29T06:40:10.125994Z"
    },
    "id": "ajZzT_bwYhoC",
    "tags": []
   },
   "outputs": [],
   "source": [
    "# Class that takes CBOW embeddings, and outputs similarity scores: loss is MSE between predicted similarity scores and actual similarity scores(Simlex-999)\n",
    "# We're basically optimizing these weights over here used to produce this score out of 10, minimizing the distance between this score and the simlex score.\n",
    "class RegressionModel(nn.Module):\n",
    "    def __init__(self, embedding_dim):\n",
    "        super(RegressionModel, self).__init__()\n",
    "        self.linear1 = nn.Linear(2*embedding_dim, 50)\n",
    "        self.linear2 = nn.Linear(50, 1)\n",
    "        self.dropout = nn.Dropout(0.5)\n",
    "\n",
    "    def forward(self, emb1, emb2):\n",
    "        # emb1 = emb1.squeeze()\n",
    "        # emb2 = emb2.squeeze()\n",
    "        emb = torch.cat((emb1, emb2), dim=1)\n",
    "\n",
    "        out = self.linear1(emb)\n",
    "        out = F.relu(out)\n",
    "        out = self.dropout(out)\n",
    "        out = self.linear2(out)\n",
    "\n",
    "        # Project the output between 0 and 10\n",
    "        out = torch.sigmoid(out)\n",
    "        out = out*10\n",
    "        return out"
   ]
  },
  {
   "cell_type": "code",
   "execution_count": 48,
   "metadata": {
    "execution": {
     "iopub.execute_input": "2024-07-29T06:40:10.139358Z",
     "iopub.status.busy": "2024-07-29T06:40:10.138998Z",
     "iopub.status.idle": "2024-07-29T06:40:10.152656Z",
     "shell.execute_reply": "2024-07-29T06:40:10.151935Z",
     "shell.execute_reply.started": "2024-07-29T06:40:10.139331Z"
    },
    "id": "g-9VMxgiYkWc",
    "tags": []
   },
   "outputs": [],
   "source": [
    "# Model Parameters\n",
    "embedding_dim = 250\n",
    "learning_rate = 0.001\n",
    "num_epochs = 20\n",
    "batch_size = 32\n",
    "\n",
    "# Initialize model\n",
    "lmodel = RegressionModel(embedding_dim).to(device)\n",
    "# Define loss function\n",
    "criterion = nn.MSELoss()\n",
    "# Define optimizer\n",
    "optimizer = torch.optim.Adam(lmodel.parameters(), lr=learning_rate, weight_decay=0.01) # weight_decay is L2 regular"
   ]
  },
  {
   "cell_type": "code",
   "execution_count": 49,
   "metadata": {
    "execution": {
     "iopub.execute_input": "2024-07-29T06:40:10.153919Z",
     "iopub.status.busy": "2024-07-29T06:40:10.153522Z",
     "iopub.status.idle": "2024-07-29T06:40:10.162470Z",
     "shell.execute_reply": "2024-07-29T06:40:10.161781Z",
     "shell.execute_reply.started": "2024-07-29T06:40:10.153892Z"
    },
    "id": "6h_RY03MYnhj",
    "tags": []
   },
   "outputs": [],
   "source": [
    "# Function to train model\n",
    "def train(model, train_loader, criterion, optimizer, num_epochs):\n",
    "    model.train()\n",
    "    train_loss = 0.0\n",
    "    for epoch in range(num_epochs):\n",
    "        for emb1, emb2, simlex_scores, assoc_scores in train_loader:\n",
    "            emb1 = emb1.to(device)\n",
    "            emb2 = emb2.to(device)\n",
    "            simlex_scores = simlex_scores.to(device)\n",
    "            assoc_scores = assoc_scores.to(device)\n",
    "            # Forward pass\n",
    "            outputs = model(emb1, emb2)\n",
    "\n",
    "            simlex_scores = simlex_scores.unsqueeze(1)\n",
    "            # print(outputs[0])\n",
    "            loss = criterion(outputs, simlex_scores)\n",
    "            # Backward and optimize\n",
    "            optimizer.zero_grad()\n",
    "            loss.backward()\n",
    "            optimizer.step()\n",
    "            train_loss += loss.item()\n",
    "\n",
    "        train_loss /= len(train_loader)\n",
    "        print(\"Epoch: {}, Train_Loss: {}\".format(epoch+1, train_loss))"
   ]
  },
  {
   "cell_type": "code",
   "execution_count": 50,
   "metadata": {
    "colab": {
     "base_uri": "https://localhost:8080/"
    },
    "execution": {
     "iopub.execute_input": "2024-07-29T06:40:10.163680Z",
     "iopub.status.busy": "2024-07-29T06:40:10.163300Z",
     "iopub.status.idle": "2024-07-29T06:40:12.680205Z",
     "shell.execute_reply": "2024-07-29T06:40:12.679429Z",
     "shell.execute_reply.started": "2024-07-29T06:40:10.163654Z"
    },
    "id": "-yhHpOiLYswb",
    "outputId": "26d3b0df-260a-4d4e-f540-3c5bd789c0e2",
    "tags": []
   },
   "outputs": [
    {
     "name": "stdout",
     "output_type": "stream",
     "text": [
      "Epoch: 1, Train_Loss: 7.977085356054635\n",
      "Epoch: 2, Train_Loss: 6.13643092958879\n",
      "Epoch: 3, Train_Loss: 5.105762808846588\n",
      "Epoch: 4, Train_Loss: 4.473104011372833\n",
      "Epoch: 5, Train_Loss: 3.810090205154067\n",
      "Epoch: 6, Train_Loss: 3.4329720824984724\n",
      "Epoch: 7, Train_Loss: 3.1035643654651617\n",
      "Epoch: 8, Train_Loss: 2.7543522761388317\n",
      "Epoch: 9, Train_Loss: 2.4455570826795037\n",
      "Epoch: 10, Train_Loss: 2.492960682031294\n",
      "Epoch: 11, Train_Loss: 2.264081699769962\n",
      "Epoch: 12, Train_Loss: 2.242992803390042\n",
      "Epoch: 13, Train_Loss: 1.983674614077848\n",
      "Epoch: 14, Train_Loss: 1.9656907514746862\n",
      "Epoch: 15, Train_Loss: 1.7779041072966582\n",
      "Epoch: 16, Train_Loss: 1.6108550989122292\n",
      "Epoch: 17, Train_Loss: 1.4859312052133817\n",
      "Epoch: 18, Train_Loss: 1.58288407077256\n",
      "Epoch: 19, Train_Loss: 1.6395379221815705\n",
      "Epoch: 20, Train_Loss: 1.4446653885278855\n"
     ]
    }
   ],
   "source": [
    "# Train model\n",
    "train(lmodel, train_loader, criterion, optimizer, num_epochs)"
   ]
  },
  {
   "cell_type": "code",
   "execution_count": 51,
   "metadata": {
    "execution": {
     "iopub.execute_input": "2024-07-29T06:40:12.681576Z",
     "iopub.status.busy": "2024-07-29T06:40:12.681228Z",
     "iopub.status.idle": "2024-07-29T06:40:12.688478Z",
     "shell.execute_reply": "2024-07-29T06:40:12.687840Z",
     "shell.execute_reply.started": "2024-07-29T06:40:12.681548Z"
    },
    "id": "iUU1Go8aYwoM",
    "tags": []
   },
   "outputs": [],
   "source": [
    "# Function to test model, Calculate test loss and Spearman correlation\n",
    "def test(model, test_loader, criterion):\n",
    "    model.eval()\n",
    "    test_loss = 0.0\n",
    "    true_simlex_scores = []\n",
    "    pred_simlex_scores = []\n",
    "    for emb1, emb2, simlex_scores, assoc_scores in test_loader:\n",
    "        emb1 = emb1.to(device)\n",
    "        emb2 = emb2.to(device)\n",
    "        simlex_scores = simlex_scores.to(device)\n",
    "        assoc_scores = assoc_scores.to(device)\n",
    "        # Forward pass\n",
    "        outputs = model(emb1, emb2)\n",
    "        simlex_scores = simlex_scores.unsqueeze(1)\n",
    "        loss = criterion(outputs, simlex_scores)\n",
    "        test_loss += loss.item()\n",
    "\n",
    "        # Get true labels and predicted labels\n",
    "        true_simlex_scores.extend(simlex_scores.cpu().detach().numpy().tolist())\n",
    "        pred_simlex_scores.extend(outputs.cpu().detach().numpy().tolist())\n",
    "\n",
    "    test_loss /= len(test_loader)\n",
    "    print(\"Test_Loss: {}\".format(test_loss))\n",
    "    # Calculate Spearman correlation\n",
    "    # print(\"True Simlex scores: \", true_simlex_scores)\n",
    "    # print(\"Predicted Simlex scores: \", pred_simlex_scores)\n",
    "\n",
    "    true_simlex_scores = np.array(true_simlex_scores)\n",
    "    pred_simlex_scores = np.array(pred_simlex_scores)\n",
    "    spear = spearmanr(true_simlex_scores, pred_simlex_scores)\n",
    "    print(\"Spearman correlation: {}\".format(spear[0]))"
   ]
  },
  {
   "cell_type": "code",
   "execution_count": 52,
   "metadata": {
    "colab": {
     "base_uri": "https://localhost:8080/"
    },
    "execution": {
     "iopub.execute_input": "2024-07-29T06:40:12.689811Z",
     "iopub.status.busy": "2024-07-29T06:40:12.689432Z",
     "iopub.status.idle": "2024-07-29T06:40:12.715376Z",
     "shell.execute_reply": "2024-07-29T06:40:12.714690Z",
     "shell.execute_reply.started": "2024-07-29T06:40:12.689784Z"
    },
    "id": "4vGeq0zhYxSz",
    "outputId": "27d8e53a-ee2f-4e1a-83bc-b5787f66ee37",
    "tags": []
   },
   "outputs": [
    {
     "name": "stdout",
     "output_type": "stream",
     "text": [
      "Test_Loss: 6.6201958656311035\n",
      "Spearman correlation: 0.17343610775089385\n"
     ]
    }
   ],
   "source": [
    "# Test model\n",
    "test(lmodel, test_loader, criterion)"
   ]
  },
  {
   "cell_type": "code",
   "execution_count": null,
   "metadata": {},
   "outputs": [],
   "source": []
  },
  {
   "cell_type": "code",
   "execution_count": 100,
   "metadata": {
    "execution": {
     "iopub.execute_input": "2024-07-29T08:26:04.371204Z",
     "iopub.status.busy": "2024-07-29T08:26:04.370360Z",
     "iopub.status.idle": "2024-07-29T08:26:05.705582Z",
     "shell.execute_reply": "2024-07-29T08:26:05.704832Z",
     "shell.execute_reply.started": "2024-07-29T08:26:04.371167Z"
    },
    "tags": []
   },
   "outputs": [
    {
     "data": {
      "application/vnd.jupyter.widget-view+json": {
       "model_id": "14d740b4a2064c75af1ac658b9f9c61b",
       "version_major": 2,
       "version_minor": 0
      },
      "text/plain": [
       "HTML(value='')"
      ]
     },
     "metadata": {},
     "output_type": "display_data"
    },
    {
     "name": "stderr",
     "output_type": "stream",
     "text": [
      "/opt/conda/lib/python3.9/subprocess.py:941: RuntimeWarning: line buffering (buffering=1) isn't supported in binary mode, the default buffer size will be used\n",
      "  self.stdout = io.open(c2pread, 'rb', bufsize)\n",
      "Host key verification failed.\n",
      "Connection closed\n"
     ]
    },
    {
     "data": {
      "application/vnd.jupyter.widget-view+json": {
       "model_id": "ae43381d20af417894343f3342426e5e",
       "version_major": 2,
       "version_minor": 0
      },
      "text/plain": [
       "DownloadWidget(children=(HBox(children=(Password(description='Dropzone Password:', style=DescriptionStyle(desc…"
      ]
     },
     "metadata": {},
     "output_type": "display_data"
    },
    {
     "name": "stderr",
     "output_type": "stream",
     "text": [
      "WARNING:root:publish_metrics_list failed due to SigFxClient_client is none...\n"
     ]
    }
   ],
   "source": [
    "%dropzone -p -src 'skipgram_sa.ipynb' -tgt 'skipgram_sa.ipynb'"
   ]
  },
  {
   "cell_type": "code",
   "execution_count": null,
   "metadata": {},
   "outputs": [],
   "source": []
  },
  {
   "cell_type": "code",
   "execution_count": null,
   "metadata": {},
   "outputs": [],
   "source": []
  },
  {
   "cell_type": "code",
   "execution_count": null,
   "metadata": {},
   "outputs": [],
   "source": []
  }
 ],
 "metadata": {
  "accelerator": "GPU",
  "colab": {
   "gpuType": "T4",
   "provenance": []
  },
  "kernelspec": {
   "display_name": "Python 3 (ipykernel)",
   "language": "python",
   "name": "python3"
  },
  "language_info": {
   "codemirror_mode": {
    "name": "ipython",
    "version": 3
   },
   "file_extension": ".py",
   "mimetype": "text/x-python",
   "name": "python",
   "nbconvert_exporter": "python",
   "pygments_lexer": "ipython3",
   "version": "3.9.19"
  }
 },
 "nbformat": 4,
 "nbformat_minor": 4
}
