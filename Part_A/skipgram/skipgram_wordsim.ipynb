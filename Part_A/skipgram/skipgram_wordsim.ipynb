{
 "cells": [
  {
   "cell_type": "code",
   "execution_count": 2,
   "metadata": {
    "execution": {
     "iopub.execute_input": "2024-07-29T06:29:20.871245Z",
     "iopub.status.busy": "2024-07-29T06:29:20.870760Z",
     "iopub.status.idle": "2024-07-29T06:29:23.944645Z",
     "shell.execute_reply": "2024-07-29T06:29:23.943584Z",
     "shell.execute_reply.started": "2024-07-29T06:29:20.871197Z"
    },
    "id": "TsUSZYWDVfrT",
    "tags": []
   },
   "outputs": [
    {
     "ename": "ImportError",
     "evalue": "cannot import name 'triu' from 'scipy.linalg' (/opt/conda/lib/python3.9/site-packages/scipy/linalg/__init__.py)",
     "output_type": "error",
     "traceback": [
      "\u001b[0;31mImportError\u001b[0m\u001b[0;31m:\u001b[0m cannot import name 'triu' from 'scipy.linalg' (/opt/conda/lib/python3.9/site-packages/scipy/linalg/__init__.py)\n"
     ]
    }
   ],
   "source": [
    "# import all necessary packages for CBOW\n",
    "import numpy as np\n",
    "import torch\n",
    "import torch.nn as nn\n",
    "import torch.nn.functional as F\n",
    "from torch.utils.data import Dataset, DataLoader\n",
    "from collections import Counter\n",
    "import random\n",
    "import os\n",
    "import matplotlib.pyplot as plt\n",
    "import pickle\n",
    "from tqdm import tqdm\n",
    "import nltk\n",
    "from nltk.tokenize import word_tokenize\n",
    "from nltk.corpus import stopwords\n",
    "import collections\n",
    "import itertools\n",
    "import re\n",
    "from sklearn.manifold import TSNE\n",
    "from sklearn.metrics.pairwise import cosine_similarity\n",
    "import pandas as pd\n",
    "from nltk.stem import WordNetLemmatizer\n",
    "from scipy.stats import pearsonr, spearmanr\n",
    "from sklearn.model_selection import train_test_split\n",
    "from gensim import matutils\n",
    "from numpy import dot"
   ]
  },
  {
   "cell_type": "code",
   "execution_count": 3,
   "metadata": {
    "colab": {
     "base_uri": "https://localhost:8080/"
    },
    "execution": {
     "iopub.execute_input": "2024-07-29T06:29:34.127039Z",
     "iopub.status.busy": "2024-07-29T06:29:34.126559Z",
     "iopub.status.idle": "2024-07-29T06:29:34.198098Z",
     "shell.execute_reply": "2024-07-29T06:29:34.197270Z",
     "shell.execute_reply.started": "2024-07-29T06:29:34.127003Z"
    },
    "id": "u9LSU559Vfrb",
    "outputId": "14669060-3418-4346-d580-0117fd98e9c4",
    "tags": []
   },
   "outputs": [
    {
     "name": "stdout",
     "output_type": "stream",
     "text": [
      "Tesla V100-SXM2-32GB\n"
     ]
    }
   ],
   "source": [
    "# Check if GPU is available\n",
    "device = torch.device('cuda' if torch.cuda.is_available() else 'cpu')\n",
    "# print device name: get_device_name()\n",
    "print(torch.cuda.get_device_name(0))"
   ]
  },
  {
   "cell_type": "code",
   "execution_count": 4,
   "metadata": {
    "execution": {
     "iopub.execute_input": "2024-07-29T06:29:34.340890Z",
     "iopub.status.busy": "2024-07-29T06:29:34.340225Z",
     "iopub.status.idle": "2024-07-29T06:29:34.346056Z",
     "shell.execute_reply": "2024-07-29T06:29:34.345356Z",
     "shell.execute_reply.started": "2024-07-29T06:29:34.340856Z"
    },
    "id": "CYPn_r-lVfrd",
    "tags": []
   },
   "outputs": [],
   "source": [
    "# Load data from file and store list of sentences where sentences are list of words\n",
    "class MakeSentences():\n",
    "    def __init__(self, file_name):\n",
    "        self.file_name = file_name\n",
    "        self.sentences = self.read_file()\n",
    "\n",
    "    def read_file(self):\n",
    "        sentences = []\n",
    "        with open(self.file_name, 'r') as f:\n",
    "            i=0\n",
    "            for line in f:\n",
    "                sentences += ([x for x in line.strip().split('.') if x!=''])\n",
    "                i+=1\n",
    "                if i==10000:\n",
    "                    break\n",
    "        return sentences"
   ]
  },
  {
   "cell_type": "code",
   "execution_count": 6,
   "metadata": {
    "colab": {
     "base_uri": "https://localhost:8080/"
    },
    "execution": {
     "iopub.execute_input": "2024-07-29T06:29:34.806296Z",
     "iopub.status.busy": "2024-07-29T06:29:34.805866Z",
     "iopub.status.idle": "2024-07-29T06:29:34.838393Z",
     "shell.execute_reply": "2024-07-29T06:29:34.837574Z",
     "shell.execute_reply.started": "2024-07-29T06:29:34.806254Z"
    },
    "id": "DoQ5VEj1Vfre",
    "outputId": "1de5aa09-7e62-4347-d065-c89b9a6cc67d",
    "tags": []
   },
   "outputs": [
    {
     "name": "stdout",
     "output_type": "stream",
     "text": [
      "25137\n"
     ]
    }
   ],
   "source": [
    "sentences = MakeSentences('/projects/rtelidevara/pk/Part_A/wikitext-2-raw-v1/wikitext-2-raw/wiki.train.raw').sentences\n",
    "print(len(sentences))\n",
    "# for sentence in sentences:\n",
    "#     print(type(sentence))"
   ]
  },
  {
   "cell_type": "markdown",
   "metadata": {
    "id": "d52Gzvk1Vfrf"
   },
   "source": [
    "### Preprocess"
   ]
  },
  {
   "cell_type": "code",
   "execution_count": 7,
   "metadata": {
    "execution": {
     "iopub.execute_input": "2024-07-29T06:29:36.264156Z",
     "iopub.status.busy": "2024-07-29T06:29:36.263469Z",
     "iopub.status.idle": "2024-07-29T06:29:36.278053Z",
     "shell.execute_reply": "2024-07-29T06:29:36.277153Z",
     "shell.execute_reply.started": "2024-07-29T06:29:36.264120Z"
    },
    "id": "wZSwLzufVfrh",
    "tags": []
   },
   "outputs": [],
   "source": [
    "import re\n",
    "from collections import Counter\n",
    "\n",
    "class Preprocess():\n",
    "    def __init__(self, sentences):\n",
    "        self.sentences = sentences\n",
    "\n",
    "    def tokenize(self):\n",
    "        # Split sentences into words using regex to handle various punctuation\n",
    "        self.sentences = [re.findall(r'\\b\\w+\\b', sentence.lower()) for sentence in self.sentences]\n",
    "\n",
    "    def lowercase(self):\n",
    "        self.sentences = [[word.lower() for word in sentence] for sentence in self.sentences]\n",
    "\n",
    "    def remove_stop_words(self):\n",
    "        # Common English stop words; expand as necessary\n",
    "        stop_words = set([\"the\", \"is\", \"at\", \"which\", \"on\", \"and\", \"a\", \"an\"])\n",
    "        self.sentences = [[word for word in sentence if word not in stop_words] for sentence in self.sentences]\n",
    "\n",
    "    def stemmer(self):\n",
    "        # Simple stemming using suffix stripping, can be improved\n",
    "        def simple_stem(word):\n",
    "            suffixes = [\"ing\", \"ly\", \"ed\", \"ious\", \"ies\", \"ive\", \"es\", \"s\", \"ment\"]\n",
    "            for suffix in sorted(suffixes, key=len, reverse=True):\n",
    "                if word.endswith(suffix):\n",
    "                    return word[:-len(suffix)]\n",
    "            return word\n",
    "        self.sentences = [[simple_stem(word) for word in sentence] for sentence in self.sentences]\n",
    "\n",
    "    def remove_punctuation(self):\n",
    "        self.sentences = [[word for word in sentence if word.isalpha()] for sentence in self.sentences]\n",
    "\n",
    "    def remove_numbers(self):\n",
    "        self.sentences = [[word for word in sentence if not word.isdigit()] for sentence in self.sentences]\n",
    "\n",
    "    def remove_single_letter(self):\n",
    "        self.sentences = [[word for word in sentence if len(word) > 1] for sentence in self.sentences]\n",
    "\n",
    "    def remove_extra_spaces(self):\n",
    "        self.sentences = [[word for word in sentence if word.strip()] for sentence in self.sentences]\n",
    "\n",
    "    def remove_less_than_3(self):\n",
    "        self.sentences = [[word for word in sentence if len(word) > 2] for sentence in self.sentences]\n"
   ]
  },
  {
   "cell_type": "code",
   "execution_count": 8,
   "metadata": {
    "colab": {
     "base_uri": "https://localhost:8080/"
    },
    "execution": {
     "iopub.execute_input": "2024-07-29T06:29:36.499313Z",
     "iopub.status.busy": "2024-07-29T06:29:36.498598Z",
     "iopub.status.idle": "2024-07-29T06:29:37.776596Z",
     "shell.execute_reply": "2024-07-29T06:29:37.775440Z",
     "shell.execute_reply.started": "2024-07-29T06:29:36.499268Z"
    },
    "id": "XmmPEsYnVfrj",
    "outputId": "7feb2815-90d9-40dd-881c-bd9365ab8ea8",
    "tags": []
   },
   "outputs": [
    {
     "name": "stdout",
     "output_type": "stream",
     "text": [
      "Preprocessing done\n",
      "25137\n"
     ]
    }
   ],
   "source": [
    "# preprocess\n",
    "preprocess = Preprocess(sentences)\n",
    "preprocess.tokenize()\n",
    "# print(preprocess.sentences)\n",
    "preprocess.lowercase()\n",
    "preprocess.remove_stop_words()\n",
    "# preprocess.stemmer()\n",
    "preprocess.remove_punctuation()\n",
    "preprocess.remove_numbers()\n",
    "preprocess.remove_single_letter()\n",
    "preprocess.remove_extra_spaces()\n",
    "preprocess.remove_less_than_3()\n",
    "\n",
    "print(\"Preprocessing done\")\n",
    "# print(preprocess.sentences)\n",
    "sentences = preprocess.sentences\n",
    "print(len(sentences))\n",
    "# print(sentences)"
   ]
  },
  {
   "cell_type": "markdown",
   "metadata": {
    "id": "Is4d8bsdVfrk"
   },
   "source": [
    "### Create word index mappings"
   ]
  },
  {
   "cell_type": "code",
   "execution_count": 9,
   "metadata": {
    "colab": {
     "base_uri": "https://localhost:8080/"
    },
    "execution": {
     "iopub.execute_input": "2024-07-29T06:29:37.779613Z",
     "iopub.status.busy": "2024-07-29T06:29:37.778824Z",
     "iopub.status.idle": "2024-07-29T06:29:37.932342Z",
     "shell.execute_reply": "2024-07-29T06:29:37.931448Z",
     "shell.execute_reply.started": "2024-07-29T06:29:37.779560Z"
    },
    "id": "KSmnCYN8Vfrl",
    "outputId": "a7948c87-a65d-4d95-baa9-ce7d23033d42",
    "tags": []
   },
   "outputs": [
    {
     "name": "stdout",
     "output_type": "stream",
     "text": [
      "Size of vocab:  30214\n",
      "Most common words:  [('was', 5340), ('that', 3928), ('for', 3841), ('with', 3758), ('from', 2329), ('his', 2328), ('were', 1987), ('had', 1638), ('are', 1262), ('her', 1248)]\n"
     ]
    }
   ],
   "source": [
    "# Flatten list of sentences into list of words\n",
    "word_list = list(itertools.chain.from_iterable(sentences))\n",
    "# print(word_list)\n",
    "\n",
    "# Create a vocabulary of words\n",
    "word_freq = Counter(word_list)\n",
    "\n",
    "# Remove words that occur less than 5 times\n",
    "vocab = set(word if word_freq[word] > 0 else '<unk>' for word in word_list)\n",
    "# print(vocab)\n",
    "\n",
    "# Add padding and unknown token to vocab\n",
    "vocab.add('<pad>')\n",
    "vocab.add('<unk>')\n",
    "# Add start and end token to vocab\n",
    "vocab.add('<start>')\n",
    "vocab.add('<end>')\n",
    "\n",
    "# Print length of vocab\n",
    "print(\"Size of vocab: \", len(vocab))\n",
    "\n",
    "# Create word to index and index to word mapping\n",
    "word_to_idx = {word:idx for idx, word in enumerate(vocab)}\n",
    "idx_to_word = {idx:word for idx, word in enumerate(vocab)}\n",
    "\n",
    "# Print most common words\n",
    "print(\"Most common words: \", word_freq.most_common(10))"
   ]
  },
  {
   "cell_type": "code",
   "execution_count": 10,
   "metadata": {
    "execution": {
     "iopub.execute_input": "2024-07-29T06:29:37.937244Z",
     "iopub.status.busy": "2024-07-29T06:29:37.936682Z",
     "iopub.status.idle": "2024-07-29T06:29:37.942221Z",
     "shell.execute_reply": "2024-07-29T06:29:37.941493Z",
     "shell.execute_reply.started": "2024-07-29T06:29:37.937213Z"
    },
    "tags": []
   },
   "outputs": [
    {
     "name": "stdout",
     "output_type": "stream",
     "text": [
      "5348\n"
     ]
    }
   ],
   "source": [
    "# Check\n",
    "print(word_to_idx['intelligent'])"
   ]
  },
  {
   "cell_type": "markdown",
   "metadata": {
    "id": "MmEx5qHlVfrm"
   },
   "source": [
    "### Create dataset (X,y)"
   ]
  },
  {
   "cell_type": "code",
   "execution_count": 11,
   "metadata": {
    "colab": {
     "base_uri": "https://localhost:8080/"
    },
    "execution": {
     "iopub.execute_input": "2024-07-29T06:29:37.944854Z",
     "iopub.status.busy": "2024-07-29T06:29:37.944464Z",
     "iopub.status.idle": "2024-07-29T06:29:38.004373Z",
     "shell.execute_reply": "2024-07-29T06:29:38.003563Z",
     "shell.execute_reply.started": "2024-07-29T06:29:37.944826Z"
    },
    "id": "8Zg7mU3eVfrn",
    "outputId": "5fe9954a-9c82-446f-a3bb-b45c2cb58c3e",
    "tags": []
   },
   "outputs": [],
   "source": [
    "import random\n",
    "# define constants\n",
    "window_size = 2\n",
    "sliding_window = 2 * window_size + 1\n",
    "num_neg_samples = 1\n",
    "# print(sentences)\n",
    "\n",
    "# sentences = [sentences[0]]\n",
    "# print(sentences)\n",
    "def select_negative_samples(target_word, num_window_size, unigram_table):\n",
    "    negative_samples = []\n",
    "    while len(negative_samples) < 2*num_window_size:\n",
    "        sampled_word = random.choice(unigram_table)  # unigram_table is precomputed based on the distribution\n",
    "        if sampled_word != target_word:\n",
    "            negative_samples.append(sampled_word)\n",
    "    return negative_samples\n",
    "\n",
    "def create_unigram_table(vocab, table_size=len(vocab)):\n",
    "    unigram_table = []\n",
    "    total_count_power = sum([count**0.75 for count in vocab.values()])\n",
    "    for word, count in vocab.items():\n",
    "        p_wi = (count**0.75) / total_count_power\n",
    "        # Fill the table with the index of the word\n",
    "        unigram_table.extend([word] * int(p_wi * table_size))\n",
    "    return unigram_table\n",
    "\n",
    "unigram_table = create_unigram_table(word_freq)\n",
    "# print(unigram_table)\n",
    "\n",
    "def get_samples(sentences, word_to_idx, idx_to_word, window_size, sliding_window, num_neg_sample , vocab , unigram_table):\n",
    "    X = []\n",
    "    y = []\n",
    "    for sentence in sentences:\n",
    "        # add start and end token to sentence\n",
    "        sentence = ['<start>'] + sentence + ['<end>']\n",
    "        for i in range(len(sentence)):\n",
    "            context_word = sentence[i]\n",
    "            # print(\"target word: \", target_word)\n",
    "            target_words = []\n",
    "            temp1 = max(0,i - window_size)\n",
    "            temp2 = min(len(sentence)-1,i + window_size + 1)\n",
    "            # print(\"temp1: \", temp1)\n",
    "            # print(\"temp2: \", temp2)\n",
    "            for j in range(max(0,i - window_size),min(len(sentence)-1,i + window_size)+1):\n",
    "                if j != i:\n",
    "                    # print(sentence[j])\n",
    "                    target_words.append(sentence[j])\n",
    "                # print(\"context words: \", context_words)\n",
    "\n",
    "\n",
    "            # pad context words if length is less than sliding window\n",
    "            if len(target_words) < sliding_window:\n",
    "                target_words += ['<pad>'] * (sliding_window - len(target_words)-1)\n",
    "\n",
    "            target_words.append(context_word)\n",
    "            # print(\"length of target words: \", len(target_words))\n",
    "\n",
    "            # get positive samples\n",
    "            positive_samples = [word_to_idx[word] if word in vocab else word_to_idx['<unk>'] for word in target_words]\n",
    "            # print(\"lenght of positive samples: \", len(positive_samples))\n",
    "\n",
    "            X.append(positive_samples)\n",
    "            y.append(1)\n",
    "\n",
    "\n",
    "            # get negative samples\n",
    "            for i in range(num_neg_samples):\n",
    "                negative_samples = select_negative_samples(context_word, window_size, unigram_table)\n",
    "                negative_samples = [word_to_idx[word] if word in vocab else word_to_idx['<unk>'] for word in negative_samples]\n",
    "                negative_samples += [word_to_idx['<pad>']] * (sliding_window - len(negative_samples)-1)\n",
    "                negative_samples.append(word_to_idx[context_word])\n",
    "                X.append(negative_samples)\n",
    "                y.append(0)\n",
    "                # print(\"length of negative samples: \", len(negative_samples))\n",
    "\n",
    "\n",
    "    return X, y"
   ]
  },
  {
   "cell_type": "code",
   "execution_count": 12,
   "metadata": {
    "colab": {
     "base_uri": "https://localhost:8080/"
    },
    "execution": {
     "iopub.execute_input": "2024-07-29T06:29:38.006182Z",
     "iopub.status.busy": "2024-07-29T06:29:38.005547Z",
     "iopub.status.idle": "2024-07-29T06:29:42.981957Z",
     "shell.execute_reply": "2024-07-29T06:29:42.980827Z",
     "shell.execute_reply.started": "2024-07-29T06:29:38.006151Z"
    },
    "id": "AcdYWIpNVfrp",
    "outputId": "e5873b2f-3f9f-4f90-8664-565a90b83efe",
    "tags": []
   },
   "outputs": [
    {
     "name": "stdout",
     "output_type": "stream",
     "text": [
      "Creating samples\n",
      "[7967, 1290, 7861, 28126, 26896]\n",
      "1\n",
      "Samples created\n"
     ]
    }
   ],
   "source": [
    "print(\"Creating samples\")\n",
    "X, y = get_samples(sentences, word_to_idx, idx_to_word, window_size, sliding_window, num_neg_samples, vocab, unigram_table)\n",
    "print(X[2])\n",
    "print(y[2])\n",
    "print(\"Samples created\")"
   ]
  },
  {
   "cell_type": "code",
   "execution_count": 13,
   "metadata": {
    "execution": {
     "iopub.execute_input": "2024-07-29T06:29:42.983826Z",
     "iopub.status.busy": "2024-07-29T06:29:42.983430Z",
     "iopub.status.idle": "2024-07-29T06:29:47.836783Z",
     "shell.execute_reply": "2024-07-29T06:29:47.835655Z",
     "shell.execute_reply.started": "2024-07-29T06:29:42.983791Z"
    },
    "id": "eGsJePZmVfrq",
    "tags": []
   },
   "outputs": [],
   "source": [
    "# shuffle data\n",
    "data = list(zip(X,y))\n",
    "random.shuffle(data)\n",
    "X,y = zip(*data)\n",
    "\n",
    "# Turn into numpy arrays\n",
    "X = np.array(X)\n",
    "y = np.array(y)"
   ]
  },
  {
   "cell_type": "code",
   "execution_count": 14,
   "metadata": {
    "execution": {
     "iopub.execute_input": "2024-07-29T06:29:47.838775Z",
     "iopub.status.busy": "2024-07-29T06:29:47.838329Z",
     "iopub.status.idle": "2024-07-29T06:29:47.924147Z",
     "shell.execute_reply": "2024-07-29T06:29:47.923290Z",
     "shell.execute_reply.started": "2024-07-29T06:29:47.838742Z"
    },
    "id": "yWqUDDJFVfrr",
    "tags": []
   },
   "outputs": [],
   "source": [
    "# Save X and y\n",
    "np.save('/projects/rtelidevara/pk/Part_A/skipgram/datasets/wikiskip_X_25k.npy', X)\n",
    "np.save('/projects/rtelidevara/pk/Part_A/skipgram/datasets/wikiskip_y_25k.npy', y)"
   ]
  },
  {
   "cell_type": "code",
   "execution_count": 15,
   "metadata": {
    "execution": {
     "iopub.execute_input": "2024-07-29T06:29:47.925891Z",
     "iopub.status.busy": "2024-07-29T06:29:47.925270Z",
     "iopub.status.idle": "2024-07-29T06:29:48.013907Z",
     "shell.execute_reply": "2024-07-29T06:29:48.013063Z",
     "shell.execute_reply.started": "2024-07-29T06:29:47.925856Z"
    },
    "id": "LXnZMdQVVfrs",
    "tags": []
   },
   "outputs": [],
   "source": [
    "# Load X and y\n",
    "X = np.load('/projects/rtelidevara/pk/Part_A/skipgram/datasets/wikiskip_X_25k.npy')\n",
    "y = np.load('/projects/rtelidevara/pk/Part_A/skipgram/datasets/wikiskip_y_25k.npy')"
   ]
  },
  {
   "cell_type": "markdown",
   "metadata": {
    "id": "F8vrxSIcVfrt"
   },
   "source": [
    "### Build Model"
   ]
  },
  {
   "cell_type": "code",
   "execution_count": 16,
   "metadata": {
    "execution": {
     "iopub.execute_input": "2024-07-29T06:29:48.015520Z",
     "iopub.status.busy": "2024-07-29T06:29:48.015133Z",
     "iopub.status.idle": "2024-07-29T06:29:48.023941Z",
     "shell.execute_reply": "2024-07-29T06:29:48.023237Z",
     "shell.execute_reply.started": "2024-07-29T06:29:48.015488Z"
    },
    "id": "gnjj1fWUVfrt",
    "tags": []
   },
   "outputs": [],
   "source": [
    "# write the forward pass for SkipGram\n",
    "class SkipGram(nn.Module):\n",
    "    def __init__(self, vocab_size, embedding_dim):\n",
    "        super(SkipGram, self).__init__()\n",
    "        self.vocab_size = vocab_size\n",
    "        self.embedding_dim = embedding_dim\n",
    "        self.embeddings = nn.Embedding(self.vocab_size, self.embedding_dim)\n",
    "        # self.embeddings.weight.data.uniform_(-1, 1)\n",
    "\n",
    "    def forward(self, x):\n",
    "        # extract context and target from x\n",
    "        context = x[:, :-1]\n",
    "        input = x[:, -1]\n",
    "\n",
    "        context_embedding = self.embeddings(context)\n",
    "        input_embedding = self.embeddings(input)\n",
    "\n",
    "        # Dot product between each context embedding and input embedding to get batch_size*context_size*embedding_dim\n",
    "\n",
    "        dot_products = torch.bmm(context_embedding, input_embedding.unsqueeze(2))  # [batch_size, context_length, 1]\n",
    "        sum_dot_products = torch.sum(dot_products, dim=1)  # [batch_size, 1]\n",
    "\n",
    "        # Squeeze the last dimension to get the final scores\n",
    "        scores = sum_dot_products.squeeze(1)  # [batch_size]\n",
    "\n",
    "        return F.sigmoid(scores)\n",
    "\n",
    "    def get_embeddings(self):\n",
    "        out = self.embeddings.weight.data\n",
    "        return out.cpu().numpy()\n",
    "\n",
    "    def get_word_embedding(self, word):\n",
    "        # If word is not in vocab, return unk\n",
    "        if word not in word_to_idx:\n",
    "            word = '<unk>'\n",
    "        word_tensor = torch.LongTensor([word_to_idx[word]])\n",
    "        word_tensor = word_tensor.to(next(self.parameters()).device)\n",
    "        out = self.embeddings(word_tensor).data\n",
    "        return out.cpu().numpy()"
   ]
  },
  {
   "cell_type": "code",
   "execution_count": 17,
   "metadata": {
    "execution": {
     "iopub.execute_input": "2024-07-29T06:29:48.027157Z",
     "iopub.status.busy": "2024-07-29T06:29:48.026761Z",
     "iopub.status.idle": "2024-07-29T06:29:49.157831Z",
     "shell.execute_reply": "2024-07-29T06:29:49.156917Z",
     "shell.execute_reply.started": "2024-07-29T06:29:48.027129Z"
    },
    "id": "NwIXaXXUVfru",
    "tags": []
   },
   "outputs": [],
   "source": [
    "# Define parameters\n",
    "vocab_size = len(vocab)\n",
    "embedding_dim = 250\n",
    "learning_rate = 0.001\n",
    "epochs = 10\n",
    "batch_size = 128\n",
    "\n",
    "# Create model, loss function and optimizer\n",
    "model = SkipGram(vocab_size, embedding_dim)\n",
    "model.to(device)\n",
    "# Cross entropy loss\n",
    "criterion = nn.BCELoss()\n",
    "\n",
    "# Adam optimizer\n",
    "optimizer = torch.optim.Adam(model.parameters(), lr=learning_rate)\n",
    "\n",
    "# Define dataloader\n",
    "dataset = torch.utils.data.TensorDataset(torch.from_numpy(X).long(), torch.from_numpy(y).float())\n",
    "dataloader = torch.utils.data.DataLoader(dataset, batch_size=batch_size, shuffle=True)\n"
   ]
  },
  {
   "cell_type": "code",
   "execution_count": 18,
   "metadata": {
    "colab": {
     "base_uri": "https://localhost:8080/"
    },
    "execution": {
     "iopub.execute_input": "2024-07-29T06:29:49.159766Z",
     "iopub.status.busy": "2024-07-29T06:29:49.159070Z",
     "iopub.status.idle": "2024-07-29T06:29:49.237175Z",
     "shell.execute_reply": "2024-07-29T06:29:49.236215Z",
     "shell.execute_reply.started": "2024-07-29T06:29:49.159732Z"
    },
    "id": "n-f6rzzXVfrv",
    "outputId": "95e1d396-4b8b-4e19-b7ac-fbeb4f77e5b0",
    "tags": []
   },
   "outputs": [
    {
     "name": "stdout",
     "output_type": "stream",
     "text": [
      "tensor([[24575,  3439,  5128, 14172,  3346],\n",
      "        [14204, 12050, 24280, 21082, 10450],\n",
      "        [ 6267, 18872, 28126, 28126,  7967],\n",
      "        [ 8047, 26151, 19686,  3695, 20966],\n",
      "        [ 2466, 26290, 17390,  3695,  3346],\n",
      "        [ 3126,  7582, 27518,  6272, 26227],\n",
      "        [25461,  8871,  6625, 19913,   706],\n",
      "        [26876, 13400, 12065,  7700,  7903],\n",
      "        [26092,  7212, 14798,   587, 12436],\n",
      "        [15275,  7456,  1723, 14798,  6658],\n",
      "        [ 7967,  3346, 28126, 28126, 29379],\n",
      "        [12964, 17033, 12765,  1685,  7967],\n",
      "        [22978, 28802, 23995, 12964, 23393],\n",
      "        [13942, 25253, 12122, 13944,   186],\n",
      "        [26844, 28124, 23898, 25519, 11473],\n",
      "        [22288, 26819, 26053, 18189,  1907],\n",
      "        [12787, 26053, 19700, 19988,  2176],\n",
      "        [27332, 17081,  6694, 14920, 17340],\n",
      "        [26199, 20431, 23656, 14745, 12765],\n",
      "        [16094, 24530, 20533, 23903, 23610],\n",
      "        [ 4835, 29120, 28398, 25717,  7166],\n",
      "        [27522,  8835, 27967, 12593, 29644],\n",
      "        [24112, 14791, 23903,  3284, 25790],\n",
      "        [20152,  3049, 26738,  9827, 22453],\n",
      "        [26119, 10984, 25943, 12998, 11617],\n",
      "        [ 2615, 27772, 19212, 29512, 12151],\n",
      "        [12692,  7166, 20683,  8333, 23903],\n",
      "        [25057, 25717, 20349,  9861, 14030],\n",
      "        [15760, 21617, 20045, 17337,  8610],\n",
      "        [13325, 18721, 26287,  3346, 17652],\n",
      "        [ 9424, 12593,   793, 12839, 21779],\n",
      "        [23522, 29846,   765,  1249,  3346],\n",
      "        [ 5399, 13398, 29046, 23903,  5290],\n",
      "        [ 9283,  3426,  2855,  7491, 26913],\n",
      "        [23227,  5855, 15147,  4564, 20194],\n",
      "        [ 1944, 19886, 13308, 16293, 20109],\n",
      "        [13977, 16341, 12084,  4586, 15779],\n",
      "        [22872, 21002, 28477, 10671, 21295],\n",
      "        [24628,  4651,  4953, 26764, 28124],\n",
      "        [11148, 15060, 24882,   901,  7967],\n",
      "        [ 7967, 21756, 12966, 12744, 12744],\n",
      "        [27332, 13800, 16741, 19835,  3346],\n",
      "        [  990, 18003, 28073, 23658, 19674],\n",
      "        [26515, 26225,  7290, 18837,  4301],\n",
      "        [  759, 19754, 22765,  8025, 21066],\n",
      "        [11907, 25765, 29863, 17081, 21034],\n",
      "        [23903, 29846, 22951, 23903, 28634],\n",
      "        [17851, 19356,  3346, 28126, 25776],\n",
      "        [ 9046, 17357,  1214, 20122, 25801],\n",
      "        [ 8366, 18163,  3865, 25689,  7967],\n",
      "        [ 1499, 19027,  1145, 19131,  3346],\n",
      "        [ 9834, 23413, 16143, 18315, 24628],\n",
      "        [12345, 16824, 10577, 20019,  1471],\n",
      "        [15280, 10565, 24596,  2530,  3406],\n",
      "        [23868, 12480, 21935, 14753,  9520],\n",
      "        [24703, 17744, 18319, 13125, 11598],\n",
      "        [ 6697, 10405, 19856,  3346, 22220],\n",
      "        [29046, 17078,  2090, 15760,  2487],\n",
      "        [ 5205, 27197, 19407,  2486, 13581],\n",
      "        [26519, 23518,  5381,  3346, 15339],\n",
      "        [23749, 21467, 11148,  3678,  3490],\n",
      "        [29401, 28146,  9828, 29846,  3346],\n",
      "        [17081, 26980, 25373, 13900, 25519],\n",
      "        [14058, 13795, 21748,  7296, 10876],\n",
      "        [12752,  1187,  8456,  2442, 22163],\n",
      "        [  125, 25267,  9891, 29046, 12985],\n",
      "        [22289,  1395, 25774, 25790, 29773],\n",
      "        [28142, 27166, 23174,  7204, 26053],\n",
      "        [29776,  1126,  3346, 28126, 10450],\n",
      "        [17758, 26844,  1460,   276, 19950],\n",
      "        [ 1499, 27525, 23321,  2645, 13305],\n",
      "        [26913, 14886, 28126, 28126,  7967],\n",
      "        [ 7644, 19863, 23766, 19646,  9410],\n",
      "        [27758, 27376, 19391, 26151, 14904],\n",
      "        [13527, 26764, 20979, 29050,  7967],\n",
      "        [ 7625, 25961,  1341,  2010,  2387],\n",
      "        [24336, 16282, 28126, 28126,  3346],\n",
      "        [29761, 29065, 28126, 28126,  7967],\n",
      "        [ 5240, 14982, 14241, 21498, 15545],\n",
      "        [28573, 17421, 29682, 20303, 23903],\n",
      "        [29737,  3368,  7316, 15540,  7491],\n",
      "        [25884,   996, 14720, 14961, 24364],\n",
      "        [17421, 22103, 24931,  3346, 24628],\n",
      "        [ 7967,   300,   366, 13906, 15545],\n",
      "        [21304, 17159, 22685, 14058, 12998],\n",
      "        [ 7967, 26528, 12176, 28126,  8611],\n",
      "        [26151, 27235,  1228, 20439, 21625],\n",
      "        [ 6420,  2614, 29366,  2530,  8879],\n",
      "        [10749,  3214, 26406, 28219,  3346],\n",
      "        [20803, 13581,  2727, 22039, 26844],\n",
      "        [22453, 13995, 14920, 19694,  6420],\n",
      "        [ 4564, 25519, 15499, 25143, 28845],\n",
      "        [ 3346, 28126, 28126, 28126,  7967],\n",
      "        [ 3169,  3272,  3571,  6589,  7967],\n",
      "        [ 3589, 19539, 16115, 22130, 21437],\n",
      "        [13303, 23672, 16608, 17081, 28551],\n",
      "        [21884, 26151, 22834,  3346, 29761],\n",
      "        [17553,  5126, 19023, 18651,  3346],\n",
      "        [15423, 30146, 24349, 23679,  7212],\n",
      "        [11907, 10035, 14793,  4564, 21838],\n",
      "        [ 3275, 22363, 26768,   878,  8748],\n",
      "        [29776,  1435, 29885, 20226, 13425],\n",
      "        [14904,   134, 11664, 12964, 13989],\n",
      "        [21441, 26913, 23571,  7490,  3566],\n",
      "        [ 6968, 23069,  1757,  2844, 28815],\n",
      "        [29035, 29012,  2053, 15677,  3346],\n",
      "        [ 6559, 17081,  3346, 28126,   722],\n",
      "        [26844, 24509, 20045, 25016, 27566],\n",
      "        [28142, 10543,  2855, 18721, 26913],\n",
      "        [ 1227, 26151, 18060,  1901, 29846],\n",
      "        [19690, 29747, 20138, 26290, 11226],\n",
      "        [25748, 27054,  7533,  2026, 24628],\n",
      "        [17685, 15540, 25177, 27605,  2089],\n",
      "        [25373, 14365, 24943, 26151, 26227],\n",
      "        [26151, 14413,  6613,  7209, 21451],\n",
      "        [23650, 28069,   339, 12194, 12605],\n",
      "        [19027, 11354, 21153, 10661, 20349],\n",
      "        [22839, 29401, 28787, 10541,  7123],\n",
      "        [13521, 21312, 24924, 16217,  4081],\n",
      "        [ 9476, 19117,  7379, 17421, 28726],\n",
      "        [15159,  7508,  3346, 28126,  7294],\n",
      "        [ 9283, 26799, 27166, 25519, 22130],\n",
      "        [15545,  8503, 11598, 29385, 24302],\n",
      "        [ 8688, 25038,  5895, 13374, 29035],\n",
      "        [26217, 26943, 27534, 16134, 22710],\n",
      "        [15948, 26764, 12991, 12467, 21467],\n",
      "        [ 3066, 24374, 20867, 19953, 13527],\n",
      "        [30146, 23903,  9720, 19419,  3233]])\n",
      "tensor([0., 0., 1., 1., 0., 1., 1., 0., 1., 0., 1., 0., 1., 0., 1., 1., 0., 0.,\n",
      "        1., 1., 0., 0., 0., 0., 0., 0., 1., 1., 0., 1., 0., 0., 1., 1., 0., 0.,\n",
      "        1., 0., 0., 0., 1., 0., 0., 0., 0., 1., 1., 1., 0., 0., 0., 0., 0., 0.,\n",
      "        1., 1., 1., 0., 0., 1., 0., 0., 0., 0., 0., 0., 0., 1., 1., 0., 1., 1.,\n",
      "        0., 1., 0., 1., 1., 1., 1., 1., 0., 0., 1., 1., 0., 1., 1., 0., 0., 0.,\n",
      "        1., 1., 1., 0., 1., 1., 1., 0., 0., 1., 1., 0., 1., 1., 0., 0., 1., 1.,\n",
      "        1., 1., 0., 0., 0., 0., 1., 1., 1., 0., 1., 1., 1., 0., 0., 0., 0., 0.,\n",
      "        1., 0.])\n"
     ]
    }
   ],
   "source": [
    "# Check dataset\n",
    "for i, (inputs, targets) in enumerate(dataloader):\n",
    "    print(inputs)\n",
    "    print(targets)\n",
    "    break"
   ]
  },
  {
   "cell_type": "code",
   "execution_count": 19,
   "metadata": {
    "execution": {
     "iopub.execute_input": "2024-07-29T06:29:49.238772Z",
     "iopub.status.busy": "2024-07-29T06:29:49.238366Z",
     "iopub.status.idle": "2024-07-29T06:29:49.245708Z",
     "shell.execute_reply": "2024-07-29T06:29:49.244994Z",
     "shell.execute_reply.started": "2024-07-29T06:29:49.238740Z"
    },
    "id": "baDqgCJMVfrw",
    "tags": []
   },
   "outputs": [],
   "source": [
    "# Train SkipGram model\n",
    "def train(model, criterion, optimizer, dataloader, epochs):\n",
    "    train_losses = []\n",
    "    for epoch in range(epochs):\n",
    "        train_loss = 0\n",
    "        train_preds = []\n",
    "        labels = []\n",
    "        for i, (inputs, targets) in enumerate(dataloader):\n",
    "            inputs = inputs.to(device)\n",
    "            targets = targets.to(device)\n",
    "\n",
    "            # forward + backward + optimize\n",
    "            outputs = model(inputs)\n",
    "            loss = criterion(outputs, targets)\n",
    "            optimizer.zero_grad()\n",
    "            loss.backward()\n",
    "            optimizer.step()\n",
    "            train_loss += loss.item()\n",
    "\n",
    "            # get predictions\n",
    "            preds = [1 if x > 0.5 else 0 for x in outputs]\n",
    "            train_preds.extend(preds)\n",
    "            targets = targets.detach().cpu().numpy()\n",
    "            labels.extend(targets)\n",
    "        \n",
    "        train_loss /= len(dataloader)\n",
    "        train_losses.append(train_loss)\n",
    "        print(\"Epoch: \", epoch+1, \"Loss: \", train_loss)\n",
    "    return train_losses"
   ]
  },
  {
   "cell_type": "code",
   "execution_count": 20,
   "metadata": {
    "colab": {
     "base_uri": "https://localhost:8080/"
    },
    "execution": {
     "iopub.execute_input": "2024-07-29T06:29:49.247173Z",
     "iopub.status.busy": "2024-07-29T06:29:49.246740Z",
     "iopub.status.idle": "2024-07-29T07:19:54.319543Z",
     "shell.execute_reply": "2024-07-29T07:19:54.318704Z",
     "shell.execute_reply.started": "2024-07-29T06:29:49.247143Z"
    },
    "id": "heiTsqTEVfrw",
    "outputId": "1c2f3430-9fe4-4293-ed21-b86f60608fd3",
    "tags": []
   },
   "outputs": [
    {
     "name": "stdout",
     "output_type": "stream",
     "text": [
      "Epoch:  1 Loss:  19.678914518946566\n",
      "Epoch:  2 Loss:  15.693411780415058\n",
      "Epoch:  3 Loss:  13.645750204694453\n",
      "Epoch:  4 Loss:  12.44208805124186\n",
      "Epoch:  5 Loss:  11.613752767049885\n",
      "Epoch:  6 Loss:  10.977796158057759\n",
      "Epoch:  7 Loss:  10.471524297403526\n",
      "Epoch:  8 Loss:  10.070528259073411\n",
      "Epoch:  9 Loss:  9.75852910303854\n",
      "Epoch:  10 Loss:  9.48933094221793\n"
     ]
    }
   ],
   "source": [
    "# Train model\n",
    "train_losses = train(model, criterion, optimizer, dataloader, epochs)"
   ]
  },
  {
   "cell_type": "code",
   "execution_count": 21,
   "metadata": {
    "execution": {
     "iopub.execute_input": "2024-07-29T07:19:54.321284Z",
     "iopub.status.busy": "2024-07-29T07:19:54.320909Z",
     "iopub.status.idle": "2024-07-29T07:19:54.325948Z",
     "shell.execute_reply": "2024-07-29T07:19:54.325281Z",
     "shell.execute_reply.started": "2024-07-29T07:19:54.321241Z"
    },
    "tags": []
   },
   "outputs": [],
   "source": [
    "# Function to plot train accuracy\n",
    "def plot_train_losses(train_losses):\n",
    "    plt.plot(train_losses)\n",
    "    plt.xlabel('Epochs')\n",
    "    plt.ylabel('Train Loss')\n",
    "    plt.title('Train Loss vs Epochs')\n",
    "    plt.savefig('/projects/rtelidevara/pk/Part_A_Word_Similarity/skipgram/plots/skip_train_losses.png')\n",
    "    plt.show()"
   ]
  },
  {
   "cell_type": "code",
   "execution_count": 22,
   "metadata": {
    "execution": {
     "iopub.execute_input": "2024-07-29T07:19:54.327617Z",
     "iopub.status.busy": "2024-07-29T07:19:54.327022Z",
     "iopub.status.idle": "2024-07-29T07:19:54.592302Z",
     "shell.execute_reply": "2024-07-29T07:19:54.591715Z",
     "shell.execute_reply.started": "2024-07-29T07:19:54.327584Z"
    },
    "tags": []
   },
   "outputs": [
    {
     "data": {
      "image/png": "[encoded data removed]",
      "text/plain": [
       "<Figure size 640x480 with 1 Axes>"
      ]
     },
     "metadata": {},
     "output_type": "display_data"
    }
   ],
   "source": [
    "# Call function to plot train accuracy\n",
    "plot_train_losses(train_losses)"
   ]
  },
  {
   "cell_type": "code",
   "execution_count": 23,
   "metadata": {
    "execution": {
     "iopub.execute_input": "2024-07-29T07:19:54.593549Z",
     "iopub.status.busy": "2024-07-29T07:19:54.593210Z",
     "iopub.status.idle": "2024-07-29T07:19:54.695024Z",
     "shell.execute_reply": "2024-07-29T07:19:54.694318Z",
     "shell.execute_reply.started": "2024-07-29T07:19:54.593519Z"
    },
    "id": "7Zd_ROK9c_Lj",
    "tags": []
   },
   "outputs": [],
   "source": [
    "torch.save(model.state_dict(), '/projects/rtelidevara/pk/Part_A_Word_Similarity/skipgram/partA_pth/skipgram_25k_250_001.pth')"
   ]
  },
  {
   "cell_type": "code",
   "execution_count": 24,
   "metadata": {
    "execution": {
     "iopub.execute_input": "2024-07-29T07:19:54.696586Z",
     "iopub.status.busy": "2024-07-29T07:19:54.696042Z",
     "iopub.status.idle": "2024-07-29T07:19:54.812338Z",
     "shell.execute_reply": "2024-07-29T07:19:54.811694Z",
     "shell.execute_reply.started": "2024-07-29T07:19:54.696555Z"
    },
    "tags": []
   },
   "outputs": [
    {
     "data": {
      "text/plain": [
       "SkipGram(\n",
       "  (embeddings): Embedding(30214, 250)\n",
       ")"
      ]
     },
     "execution_count": 24,
     "metadata": {},
     "output_type": "execute_result"
    }
   ],
   "source": [
    "# Load model\n",
    "model = SkipGram(vocab_size, embedding_dim)\n",
    "model.load_state_dict(torch.load('/projects/rtelidevara/pk/Part_A_Word_Similarity/skipgram/partA_pth/skipgram_25k_250_001.pth'))\n",
    "model.to(device)"
   ]
  },
  {
   "cell_type": "code",
   "execution_count": 25,
   "metadata": {
    "colab": {
     "base_uri": "https://localhost:8080/"
    },
    "execution": {
     "iopub.execute_input": "2024-07-29T07:19:54.813908Z",
     "iopub.status.busy": "2024-07-29T07:19:54.813355Z",
     "iopub.status.idle": "2024-07-29T07:19:54.826340Z",
     "shell.execute_reply": "2024-07-29T07:19:54.825770Z",
     "shell.execute_reply.started": "2024-07-29T07:19:54.813877Z"
    },
    "id": "QsC8hX0WVfrx",
    "outputId": "9e2cf61f-7206-4730-8f2b-7158d489a760",
    "tags": []
   },
   "outputs": [
    {
     "name": "stdout",
     "output_type": "stream",
     "text": [
      "     Word 1    Word 2  Human (mean)\n",
      "0      love       sex          6.77\n",
      "1     tiger       cat          7.35\n",
      "2     tiger     tiger         10.00\n",
      "3      book     paper          7.46\n",
      "4  computer  keyboard          7.62\n"
     ]
    }
   ],
   "source": [
    "# Load test data\n",
    "\n",
    "# Load into dataframe\n",
    "df = pd.read_csv('../wordsim353/combined.csv')\n",
    "print(df.head())"
   ]
  },
  {
   "cell_type": "code",
   "execution_count": 26,
   "metadata": {
    "colab": {
     "base_uri": "https://localhost:8080/"
    },
    "execution": {
     "iopub.execute_input": "2024-07-29T07:19:54.827349Z",
     "iopub.status.busy": "2024-07-29T07:19:54.827111Z",
     "iopub.status.idle": "2024-07-29T07:19:54.831072Z",
     "shell.execute_reply": "2024-07-29T07:19:54.830536Z",
     "shell.execute_reply.started": "2024-07-29T07:19:54.827321Z"
    },
    "id": "_pfU1jobVfry",
    "outputId": "88935fb9-aabe-403b-ff21-f2f65f8663b8",
    "tags": []
   },
   "outputs": [
    {
     "name": "stdout",
     "output_type": "stream",
     "text": [
      "tiger\n"
     ]
    }
   ],
   "source": [
    "# Print 2nd row word1\n",
    "print(df['Word 1'][1])"
   ]
  },
  {
   "cell_type": "code",
   "execution_count": 27,
   "metadata": {
    "colab": {
     "base_uri": "https://localhost:8080/"
    },
    "execution": {
     "iopub.execute_input": "2024-07-29T07:19:54.832218Z",
     "iopub.status.busy": "2024-07-29T07:19:54.831846Z",
     "iopub.status.idle": "2024-07-29T07:19:54.847820Z",
     "shell.execute_reply": "2024-07-29T07:19:54.847297Z",
     "shell.execute_reply.started": "2024-07-29T07:19:54.832189Z"
    },
    "id": "ACaFnePdVfry",
    "outputId": "6dde4fcb-1ee9-4b27-9ea6-59d16be2372f",
    "tags": []
   },
   "outputs": [
    {
     "name": "stdout",
     "output_type": "stream",
     "text": [
      "(1, 250)\n",
      "(250,)\n",
      "[ 2.1453993e+00  2.6786470e-01 -1.0625212e+00 -2.1037853e+00\n",
      " -6.7155105e-01 -6.5479088e-01  1.0854462e+00 -6.8585312e-01\n",
      "  9.9161994e-01 -6.3560200e-01  1.0240329e-01 -1.5952851e-01\n",
      "  5.2295572e-01  3.3799502e-01  4.9305511e-01 -1.7535865e+00\n",
      "  1.2335373e-02  3.0279108e-03 -1.9114759e+00  7.9899889e-01\n",
      " -7.6640004e-01  1.0752903e-01 -8.2727212e-01  4.5669818e-01\n",
      " -4.7263473e-02  1.1343976e+00 -1.2073023e+00 -1.0681583e+00\n",
      "  3.2310078e-01  9.5481497e-01 -5.1702780e-01  4.1009197e-01\n",
      "  6.8618953e-01 -1.0057175e+00 -1.2037067e+00  2.1191777e-01\n",
      "  8.3559060e-01  1.8974041e+00 -6.2855315e-01 -4.4803536e-01\n",
      " -3.0882147e-01  7.8791803e-01 -5.4517460e-01 -9.4037992e-01\n",
      " -6.2344652e-01  4.7673497e-01  2.9498199e-01 -9.3626964e-01\n",
      " -3.7939906e-01  4.7937098e-01  3.5217080e-01 -1.2128434e+00\n",
      " -1.7233650e-01  1.7799528e-01 -1.5743387e+00 -3.3687451e+00\n",
      "  1.3175291e-01  1.1105055e+00  6.8711364e-01 -1.0272923e+00\n",
      " -1.1521819e+00  1.2776363e+00  6.9064367e-01  7.6795596e-01\n",
      " -8.6964124e-01 -1.2090852e+00  3.2331696e-01 -4.9813214e-01\n",
      "  6.8085235e-01 -1.5277519e+00  6.0006648e-01  5.8537375e-02\n",
      "  5.8442330e-01 -2.0969370e-01  3.3360195e-01 -1.7701618e-01\n",
      " -1.3175707e+00  1.5456409e+00 -8.7694013e-01 -7.8539985e-01\n",
      " -2.0370047e+00  9.7310162e-01 -2.6966679e+00  1.1139983e+00\n",
      " -9.0192384e-01  3.9424658e-02 -6.5588421e-01  1.0067773e+00\n",
      " -8.9725858e-01 -1.1988332e+00 -9.4951439e-01  6.9989812e-01\n",
      " -1.9823115e+00  8.8371778e-01  5.0058174e-01 -2.2968142e+00\n",
      " -7.2801155e-01 -2.2105894e+00  2.5566182e-01  1.6693112e+00\n",
      "  2.1787634e+00  1.1169902e+00  3.3353341e-01  5.9319323e-01\n",
      " -2.5180376e-01  5.6902587e-01  1.9812088e+00 -1.3619281e-01\n",
      " -1.9918467e-01  1.0340347e-02  1.7921869e+00 -3.8532028e-01\n",
      "  6.2421250e-01  7.4603403e-01  4.8895705e-01 -6.4764261e-01\n",
      " -1.0738986e+00  1.3074669e+00 -6.9036536e-02  1.5311793e+00\n",
      "  1.3479480e+00 -1.1183427e-02  2.8727254e-01  1.7620269e+00\n",
      "  7.2779930e-01  9.9772561e-01  6.9472395e-02 -3.0939448e-01\n",
      " -2.5062959e+00  2.1717939e+00 -1.4225248e+00  6.8599188e-01\n",
      " -1.9576200e+00  3.9534464e-01  1.3794782e-02 -3.3329673e-02\n",
      " -4.5944998e-01 -9.3796647e-01  1.0995755e+00  5.3055352e-01\n",
      " -1.1033211e+00 -2.5672677e-01  1.1714926e+00 -1.1675916e+00\n",
      " -8.2273476e-02 -4.7442812e-02 -5.4756755e-01 -1.9178200e+00\n",
      "  2.3687698e-01  6.8098521e-01  2.1898916e-01 -1.0758010e+00\n",
      " -8.9552689e-01  2.3158512e+00 -1.0962808e+00 -1.7577145e-01\n",
      " -8.0740881e-01 -1.0004218e+00 -2.1651821e+00  8.6562371e-01\n",
      " -2.3295707e-01 -3.3205825e-01 -1.7496593e+00 -6.5886319e-01\n",
      "  2.1300800e+00  1.6499314e+00  1.3223046e+00 -5.7703018e-02\n",
      " -5.3796589e-02  1.2110291e+00 -1.2483431e+00  1.0291827e+00\n",
      " -1.5130485e+00 -1.4492285e+00 -5.2813989e-01 -1.4702864e+00\n",
      " -9.8945087e-01 -9.9056715e-01  2.9460075e-01 -2.0090082e+00\n",
      "  1.1902629e+00 -9.3878761e-02  8.0336529e-01  7.0592165e-01\n",
      " -1.0414712e+00  3.2011431e-01  7.8738016e-01  1.0292039e+00\n",
      " -1.1105002e+00  1.3159218e+00 -1.2040625e+00  8.0924070e-01\n",
      " -4.6164075e-01  6.5163451e-01  1.5269535e+00  4.1606331e-01\n",
      "  8.3355504e-01 -3.7337425e-01 -5.9833330e-01 -5.7788229e-01\n",
      " -6.3561791e-01  7.3525697e-02  1.5212805e+00 -8.4692341e-01\n",
      " -7.0055115e-01 -4.3013346e-01  9.4170582e-01  5.1849681e-01\n",
      "  1.7302960e-01 -5.5724210e-01 -1.6025387e+00 -1.0580224e+00\n",
      "  1.4573475e+00  9.6882921e-01  1.8979873e-01 -8.7755007e-01\n",
      " -2.6021136e-02  2.5065787e+00 -1.5544066e+00  3.1474659e-01\n",
      " -1.3994359e+00 -1.0688945e+00 -4.0237394e-01  1.3726004e+00\n",
      " -4.3540117e-01  9.6741885e-01 -1.7105390e+00  1.3979927e-01\n",
      " -4.4112477e-01 -4.2190862e-01  5.6409621e-01 -1.6474128e+00\n",
      " -6.9343969e-02 -1.4297944e+00  2.7603930e-01 -9.0832537e-01\n",
      "  7.4991435e-01 -1.2329092e+00  1.7479479e-01  1.7825043e-01\n",
      "  6.3297045e-01 -3.6368600e-01  6.7193620e-02 -1.8107969e+00\n",
      " -1.0671793e+00 -5.1518643e-01  3.7742129e-01  8.6220646e-01\n",
      " -6.2899762e-01 -7.7636904e-01]\n"
     ]
    }
   ],
   "source": [
    "# Get word embeddings\n",
    "sample_embedding = model.get_word_embedding(df['Word 1'][1])\n",
    "print(sample_embedding.shape)\n",
    "sample_embedding = sample_embedding.squeeze()\n",
    "print(sample_embedding.shape)\n",
    "print(sample_embedding)"
   ]
  },
  {
   "cell_type": "code",
   "execution_count": 28,
   "metadata": {
    "execution": {
     "iopub.execute_input": "2024-07-29T07:19:54.848954Z",
     "iopub.status.busy": "2024-07-29T07:19:54.848588Z",
     "iopub.status.idle": "2024-07-29T07:19:54.857576Z",
     "shell.execute_reply": "2024-07-29T07:19:54.857041Z",
     "shell.execute_reply.started": "2024-07-29T07:19:54.848927Z"
    },
    "tags": []
   },
   "outputs": [
    {
     "name": "stdout",
     "output_type": "stream",
     "text": [
      "<class 'numpy.ndarray'>\n",
      "-0.041727383\n"
     ]
    }
   ],
   "source": [
    "import numpy as np\n",
    "\n",
    "# Check similarity between two words\n",
    "word1 = df['Word 1'][1]\n",
    "word2 = df['Word 2'][1]\n",
    "\n",
    "# Use gensim or any other model to get word embeddings\n",
    "w1 = model.get_word_embedding(word1).squeeze()\n",
    "w2 = model.get_word_embedding(word2).squeeze()\n",
    "\n",
    "print(type(w1))\n",
    "\n",
    "# Calculate cosine similarity using numpy\n",
    "def unitvec(vec):\n",
    "    return vec / np.linalg.norm(vec)\n",
    "\n",
    "sim = np.dot(unitvec(w1), unitvec(w2))\n",
    "print(sim)"
   ]
  },
  {
   "cell_type": "code",
   "execution_count": 29,
   "metadata": {
    "execution": {
     "iopub.execute_input": "2024-07-29T07:19:54.858870Z",
     "iopub.status.busy": "2024-07-29T07:19:54.858355Z",
     "iopub.status.idle": "2024-07-29T07:19:54.868506Z",
     "shell.execute_reply": "2024-07-29T07:19:54.867967Z",
     "shell.execute_reply.started": "2024-07-29T07:19:54.858842Z"
    },
    "tags": []
   },
   "outputs": [],
   "source": [
    "# Function to check if word is in vocab\n",
    "def check_vocab(word):\n",
    "    if word in vocab:\n",
    "        return True\n",
    "    else:\n",
    "        return False"
   ]
  },
  {
   "cell_type": "code",
   "execution_count": 30,
   "metadata": {
    "execution": {
     "iopub.execute_input": "2024-07-29T07:19:54.869593Z",
     "iopub.status.busy": "2024-07-29T07:19:54.869347Z",
     "iopub.status.idle": "2024-07-29T07:19:54.880610Z",
     "shell.execute_reply": "2024-07-29T07:19:54.880064Z",
     "shell.execute_reply.started": "2024-07-29T07:19:54.869557Z"
    },
    "id": "XUOiHPqcVfrz",
    "tags": []
   },
   "outputs": [],
   "source": [
    "# Function to get cosine similarity\n",
    "import numpy as np\n",
    "\n",
    "def cos_similarity(word1_embedding, word2_embedding):\n",
    "    def unitvec(vec):\n",
    "        return vec / np.linalg.norm(vec)\n",
    "\n",
    "    ans = np.dot(unitvec(word1_embedding), unitvec(word2_embedding))\n",
    "    return ans\n",
    "\n",
    "\n",
    "# Function to get Pearson correlation\n",
    "def pearson_correlation(word1_embedding, word2_embedding):\n",
    "    emb1 = np.array(word1_embedding)\n",
    "    emb2 = np.array(word2_embedding)\n",
    "\n",
    "    correlation, _ = pearsonr(emb1, emb2)\n",
    "    return correlation"
   ]
  },
  {
   "cell_type": "code",
   "execution_count": 31,
   "metadata": {
    "execution": {
     "iopub.execute_input": "2024-07-29T07:19:54.881646Z",
     "iopub.status.busy": "2024-07-29T07:19:54.881411Z",
     "iopub.status.idle": "2024-07-29T07:19:54.893958Z",
     "shell.execute_reply": "2024-07-29T07:19:54.893250Z",
     "shell.execute_reply.started": "2024-07-29T07:19:54.881619Z"
    },
    "id": "7upp-39oVfr0",
    "tags": []
   },
   "outputs": [],
   "source": [
    "def test_sim(df,model, lemmatizer, stemmer):\n",
    "    cosine_similarity_scores = []\n",
    "    pearson_correlation_scores = []\n",
    "    scores = []\n",
    "\n",
    "    for _, row in df.iterrows():\n",
    "        word1 = row['Word 1']\n",
    "        word2 = row['Word 2']\n",
    "\n",
    "        # Get embeddings\n",
    "        word1_embedding = model.get_word_embedding(word1).squeeze()\n",
    "        word2_embedding = model.get_word_embedding(word2).squeeze()\n",
    "\n",
    "        # Get cosine similarity\n",
    "        cosine_similarity_scores.append(cos_similarity(word1_embedding, word2_embedding))\n",
    "\n",
    "        # Get pearson correlation\n",
    "        pearson_correlation_scores.append(pearson_correlation(word1_embedding, word2_embedding))\n",
    "\n",
    "        # Get score\n",
    "        scores.append(row['Human (mean)'])\n",
    "\n",
    "    return cosine_similarity_scores, pearson_correlation_scores, scores"
   ]
  },
  {
   "cell_type": "code",
   "execution_count": 32,
   "metadata": {
    "execution": {
     "iopub.execute_input": "2024-07-29T07:19:54.895532Z",
     "iopub.status.busy": "2024-07-29T07:19:54.894949Z",
     "iopub.status.idle": "2024-07-29T07:19:55.664062Z",
     "shell.execute_reply": "2024-07-29T07:19:55.663374Z",
     "shell.execute_reply.started": "2024-07-29T07:19:54.895499Z"
    },
    "id": "017GL4PjVfr0",
    "tags": []
   },
   "outputs": [],
   "source": [
    "# Get cosine similarity and pearson correlation scores\n",
    "lemmatizer = WordNetLemmatizer()\n",
    "stemmer = nltk.stem.PorterStemmer()\n",
    "cosine_similarity_scores, pearson_correlation_scores, scores  = test_sim(df, model, lemmatizer, stemmer)"
   ]
  },
  {
   "cell_type": "code",
   "execution_count": 33,
   "metadata": {
    "colab": {
     "base_uri": "https://localhost:8080/"
    },
    "execution": {
     "iopub.execute_input": "2024-07-29T07:19:55.665638Z",
     "iopub.status.busy": "2024-07-29T07:19:55.665071Z",
     "iopub.status.idle": "2024-07-29T07:19:55.669212Z",
     "shell.execute_reply": "2024-07-29T07:19:55.668632Z",
     "shell.execute_reply.started": "2024-07-29T07:19:55.665606Z"
    },
    "id": "ZzTVRgyvX-Tu",
    "outputId": "5979a4ee-9fe0-4689-fc7f-0a80860c17b8",
    "tags": []
   },
   "outputs": [
    {
     "name": "stdout",
     "output_type": "stream",
     "text": [
      "<class 'list'>\n",
      "<class 'list'>\n",
      "<class 'list'>\n"
     ]
    }
   ],
   "source": [
    "# Check cosine similarity and pearson correlation scores\n",
    "print(type(cosine_similarity_scores))\n",
    "print(type(pearson_correlation_scores))\n",
    "print(type(scores))"
   ]
  },
  {
   "cell_type": "code",
   "execution_count": 34,
   "metadata": {
    "execution": {
     "iopub.execute_input": "2024-07-29T07:19:55.670475Z",
     "iopub.status.busy": "2024-07-29T07:19:55.670033Z",
     "iopub.status.idle": "2024-07-29T07:19:55.681819Z",
     "shell.execute_reply": "2024-07-29T07:19:55.681301Z",
     "shell.execute_reply.started": "2024-07-29T07:19:55.670447Z"
    },
    "id": "y09A6xWTYArg",
    "tags": []
   },
   "outputs": [],
   "source": [
    "# Funtcion to get spearman correlation using cosine similarity scores\n",
    "def spearman_correlation(cosine_similarity_scores, scores):\n",
    "    # Scale cosine similarity scores to 0-10\n",
    "    cosine_similarity_scores = np.array(cosine_similarity_scores)\n",
    "    cosine_similarity_scores = (1+cosine_similarity_scores)*5\n",
    "    scores = np.array(scores)\n",
    "\n",
    "    correlation, _ = spearmanr(cosine_similarity_scores, scores)\n",
    "    return correlation"
   ]
  },
  {
   "cell_type": "code",
   "execution_count": 35,
   "metadata": {
    "colab": {
     "base_uri": "https://localhost:8080/"
    },
    "execution": {
     "iopub.execute_input": "2024-07-29T07:19:55.685412Z",
     "iopub.status.busy": "2024-07-29T07:19:55.684921Z",
     "iopub.status.idle": "2024-07-29T07:19:55.696128Z",
     "shell.execute_reply": "2024-07-29T07:19:55.695596Z",
     "shell.execute_reply.started": "2024-07-29T07:19:55.685384Z"
    },
    "id": "kiOl-gKHYDQw",
    "outputId": "af2ae4c8-a077-4630-c9d3-046c3fdf5465",
    "tags": []
   },
   "outputs": [
    {
     "name": "stdout",
     "output_type": "stream",
     "text": [
      "Initial Spearman correlation Sim:  0.032436123945252124\n"
     ]
    }
   ],
   "source": [
    "# Print the initial spearman correlation\n",
    "spearman_value_sim = spearman_correlation(cosine_similarity_scores, scores)\n",
    "\n",
    "print(\"Initial Spearman correlation Sim: \", spearman_value_sim)"
   ]
  },
  {
   "cell_type": "code",
   "execution_count": null,
   "metadata": {},
   "outputs": [],
   "source": []
  },
  {
   "cell_type": "code",
   "execution_count": 73,
   "metadata": {
    "execution": {
     "iopub.execute_input": "2024-07-29T08:26:48.404779Z",
     "iopub.status.busy": "2024-07-29T08:26:48.404019Z",
     "iopub.status.idle": "2024-07-29T08:26:48.725586Z",
     "shell.execute_reply": "2024-07-29T08:26:48.724942Z",
     "shell.execute_reply.started": "2024-07-29T08:26:48.404744Z"
    },
    "tags": []
   },
   "outputs": [
    {
     "data": {
      "application/vnd.jupyter.widget-view+json": {
       "model_id": "9bb296cc813844769793739bc1581acc",
       "version_major": 2,
       "version_minor": 0
      },
      "text/plain": [
       "HTML(value='')"
      ]
     },
     "metadata": {},
     "output_type": "display_data"
    },
    {
     "name": "stderr",
     "output_type": "stream",
     "text": [
      "/opt/conda/lib/python3.9/subprocess.py:941: RuntimeWarning: line buffering (buffering=1) isn't supported in binary mode, the default buffer size will be used\n",
      "  self.stdout = io.open(c2pread, 'rb', bufsize)\n",
      "Host key verification failed.\n",
      "Connection closed\n"
     ]
    },
    {
     "data": {
      "application/vnd.jupyter.widget-view+json": {
       "model_id": "5c5cc0c9927f46449ef4c03a2fd87433",
       "version_major": 2,
       "version_minor": 0
      },
      "text/plain": [
       "DownloadWidget(children=(HBox(children=(Password(description='Dropzone Password:', style=DescriptionStyle(desc…"
      ]
     },
     "metadata": {},
     "output_type": "display_data"
    },
    {
     "name": "stderr",
     "output_type": "stream",
     "text": [
      "WARNING:root:publish_metrics_list failed due to SigFxClient_client is none...\n"
     ]
    }
   ],
   "source": [
    "%dropzone -p -src 'skipgram_wordsim.ipynb' -tgt 'skipgram_wordsim.ipynb'"
   ]
  },
  {
   "cell_type": "code",
   "execution_count": null,
   "metadata": {},
   "outputs": [],
   "source": []
  },
  {
   "cell_type": "code",
   "execution_count": null,
   "metadata": {},
   "outputs": [],
   "source": []
  }
 ],
 "metadata": {
  "accelerator": "GPU",
  "colab": {
   "gpuType": "T4",
   "provenance": []
  },
  "kernelspec": {
   "display_name": "Python 3 (ipykernel)",
   "language": "python",
   "name": "python3"
  },
  "language_info": {
   "codemirror_mode": {
    "name": "ipython",
    "version": 3
   },
   "file_extension": ".py",
   "mimetype": "text/x-python",
   "name": "python",
   "nbconvert_exporter": "python",
   "pygments_lexer": "ipython3",
   "version": "3.9.19"
  }
 },
 "nbformat": 4,
 "nbformat_minor": 4
}
