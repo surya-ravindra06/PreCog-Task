{
  "cells": [
    {
      "cell_type": "code",
      "execution_count": 1,
      "metadata": {
        "colab": {
          "base_uri": "https://localhost:8080/"
        },
        "id": "ZoUGjukwP632",
        "outputId": "0df5ed4b-c329-451d-c5b3-ac7374dceff8"
      },
      "outputs": [
        {
          "name": "stdout",
          "output_type": "stream",
          "text": [
            "\u001b[?25l   \u001b[90m━━━━━━━━━━━━━━━━━━━━━━━━━━━━━━━━━━━━━━━━\u001b[0m \u001b[32m0.0/547.8 kB\u001b[0m \u001b[31m?\u001b[0m eta \u001b[36m-:--:--\u001b[0m\r\u001b[2K   \u001b[90m━━━━━━━━━━━━━━━━━━━━━━━━━━━━━━━━━━━━━━━━\u001b[0m \u001b[32m547.8/547.8 kB\u001b[0m \u001b[31m30.3 MB/s\u001b[0m eta \u001b[36m0:00:00\u001b[0m\n",
            "\u001b[?25h\u001b[?25l   \u001b[90m━━━━━━━━━━━━━━━━━━━━━━━━━━━━━━━━━━━━━━━━\u001b[0m \u001b[32m0.0/116.3 kB\u001b[0m \u001b[31m?\u001b[0m eta \u001b[36m-:--:--\u001b[0m\r\u001b[2K   \u001b[90m━━━━━━━━━━━━━━━━━━━━━━━━━━━━━━━━━━━━━━━━\u001b[0m \u001b[32m116.3/116.3 kB\u001b[0m \u001b[31m11.3 MB/s\u001b[0m eta \u001b[36m0:00:00\u001b[0m\n",
            "\u001b[2K   \u001b[90m━━━━━━━━━━━━━━━━━━━━━━━━━━━━━━━━━━━━━━━━\u001b[0m \u001b[32m316.1/316.1 kB\u001b[0m \u001b[31m28.1 MB/s\u001b[0m eta \u001b[36m0:00:00\u001b[0m\n",
            "\u001b[2K   \u001b[90m━━━━━━━━━━━━━━━━━━━━━━━━━━━━━━━━━━━━━━━━\u001b[0m \u001b[32m39.9/39.9 MB\u001b[0m \u001b[31m20.4 MB/s\u001b[0m eta \u001b[36m0:00:00\u001b[0m\n",
            "\u001b[2K   \u001b[90m━━━━━━━━━━━━━━━━━━━━━━━━━━━━━━━━━━━━━━━━\u001b[0m \u001b[32m64.9/64.9 kB\u001b[0m \u001b[31m5.8 MB/s\u001b[0m eta \u001b[36m0:00:00\u001b[0m\n",
            "\u001b[2K   \u001b[90m━━━━━━━━━━━━━━━━━━━━━━━━━━━━━━━━━━━━━━━━\u001b[0m \u001b[32m134.8/134.8 kB\u001b[0m \u001b[31m13.1 MB/s\u001b[0m eta \u001b[36m0:00:00\u001b[0m\n",
            "\u001b[2K   \u001b[90m━━━━━━━━━━━━━━━━━━━━━━━━━━━━━━━━━━━━━━━━\u001b[0m \u001b[32m194.1/194.1 kB\u001b[0m \u001b[31m18.3 MB/s\u001b[0m eta \u001b[36m0:00:00\u001b[0m\n",
            "\u001b[?25h\u001b[31mERROR: pip's dependency resolver does not currently take into account all the packages that are installed. This behaviour is the source of the following dependency conflicts.\n",
            "torch 2.3.1+cu121 requires nvidia-cublas-cu12==12.1.3.1; platform_system == \"Linux\" and platform_machine == \"x86_64\", which is not installed.\n",
            "torch 2.3.1+cu121 requires nvidia-cuda-cupti-cu12==12.1.105; platform_system == \"Linux\" and platform_machine == \"x86_64\", which is not installed.\n",
            "torch 2.3.1+cu121 requires nvidia-cuda-nvrtc-cu12==12.1.105; platform_system == \"Linux\" and platform_machine == \"x86_64\", which is not installed.\n",
            "torch 2.3.1+cu121 requires nvidia-cuda-runtime-cu12==12.1.105; platform_system == \"Linux\" and platform_machine == \"x86_64\", which is not installed.\n",
            "torch 2.3.1+cu121 requires nvidia-cudnn-cu12==8.9.2.26; platform_system == \"Linux\" and platform_machine == \"x86_64\", which is not installed.\n",
            "torch 2.3.1+cu121 requires nvidia-cufft-cu12==11.0.2.54; platform_system == \"Linux\" and platform_machine == \"x86_64\", which is not installed.\n",
            "torch 2.3.1+cu121 requires nvidia-curand-cu12==10.3.2.106; platform_system == \"Linux\" and platform_machine == \"x86_64\", which is not installed.\n",
            "torch 2.3.1+cu121 requires nvidia-cusolver-cu12==11.4.5.107; platform_system == \"Linux\" and platform_machine == \"x86_64\", which is not installed.\n",
            "torch 2.3.1+cu121 requires nvidia-cusparse-cu12==12.1.0.106; platform_system == \"Linux\" and platform_machine == \"x86_64\", which is not installed.\n",
            "torch 2.3.1+cu121 requires nvidia-nccl-cu12==2.20.5; platform_system == \"Linux\" and platform_machine == \"x86_64\", which is not installed.\n",
            "torch 2.3.1+cu121 requires nvidia-nvtx-cu12==12.1.105; platform_system == \"Linux\" and platform_machine == \"x86_64\", which is not installed.\n",
            "cudf-cu12 24.4.1 requires pyarrow<15.0.0a0,>=14.0.1, but you have pyarrow 17.0.0 which is incompatible.\n",
            "gcsfs 2024.6.1 requires fsspec==2024.6.1, but you have fsspec 2024.5.0 which is incompatible.\n",
            "google-colab 1.0.0 requires requests==2.31.0, but you have requests 2.32.3 which is incompatible.\n",
            "ibis-framework 8.0.0 requires pyarrow<16,>=2, but you have pyarrow 17.0.0 which is incompatible.\u001b[0m\u001b[31m\n",
            "\u001b[0m"
          ]
        },
        {
          "name": "stderr",
          "output_type": "stream",
          "text": [
            "/usr/local/lib/python3.10/dist-packages/torchtext/vocab/__init__.py:4: UserWarning: \n",
            "/!\\ IMPORTANT WARNING ABOUT TORCHTEXT STATUS /!\\ \n",
            "Torchtext is deprecated and the last released version will be 0.18 (this one). You can silence this warning by calling the following at the beginnign of your scripts: `import torchtext; torchtext.disable_torchtext_deprecation_warning()`\n",
            "  warnings.warn(torchtext._TORCHTEXT_DEPRECATION_MSG)\n",
            "/usr/local/lib/python3.10/dist-packages/torchtext/utils.py:4: UserWarning: \n",
            "/!\\ IMPORTANT WARNING ABOUT TORCHTEXT STATUS /!\\ \n",
            "Torchtext is deprecated and the last released version will be 0.18 (this one). You can silence this warning by calling the following at the beginnign of your scripts: `import torchtext; torchtext.disable_torchtext_deprecation_warning()`\n",
            "  warnings.warn(torchtext._TORCHTEXT_DEPRECATION_MSG)\n"
          ]
        }
      ],
      "source": [
        "# import all necessary packages for SS_LSTM\n",
        "! pip install -q datasets\n",
        "import numpy as np\n",
        "import torch\n",
        "import torch.nn as nn\n",
        "import torch.nn.functional as F\n",
        "from torch.utils.data import Dataset, DataLoader\n",
        "from collections import Counter\n",
        "import random\n",
        "import os\n",
        "import matplotlib.pyplot as plt\n",
        "import pickle\n",
        "from tqdm import tqdm\n",
        "import nltk\n",
        "from nltk.tokenize import word_tokenize\n",
        "from nltk.corpus import stopwords\n",
        "import collections\n",
        "import itertools\n",
        "import re\n",
        "from sklearn.manifold import TSNE\n",
        "from sklearn.metrics.pairwise import cosine_similarity\n",
        "from torchtext.vocab import GloVe\n",
        "from datasets import load_dataset\n",
        "from sklearn.metrics import accuracy_score"
      ]
    },
    {
      "cell_type": "code",
      "execution_count": 2,
      "metadata": {
        "colab": {
          "base_uri": "https://localhost:8080/"
        },
        "id": "hoVASHs4Qe6X",
        "outputId": "81de0b79-6e1c-41cb-e1de-7d6de9b35616"
      },
      "outputs": [
        {
          "name": "stdout",
          "output_type": "stream",
          "text": [
            "Mounted at /content/drive\n"
          ]
        }
      ],
      "source": [
        "from google.colab import drive\n",
        "drive.mount('/content/drive')"
      ]
    },
    {
      "cell_type": "code",
      "execution_count": 73,
      "metadata": {
        "colab": {
          "base_uri": "https://localhost:8080/"
        },
        "id": "Jdvr6mdTP634",
        "outputId": "a735d51f-0f90-4ae8-802b-f419ae2415a3"
      },
      "outputs": [
        {
          "name": "stdout",
          "output_type": "stream",
          "text": [
            "cuda\n"
          ]
        }
      ],
      "source": [
        "# Check if GPU is available\n",
        "device = torch.device('cuda' if torch.cuda.is_available() else 'cpu')\n",
        "print(device)"
      ]
    },
    {
      "cell_type": "markdown",
      "metadata": {
        "id": "GJEr63NdP634"
      },
      "source": [
        "### Load Dataset from Hugging Face: Paws"
      ]
    },
    {
      "cell_type": "code",
      "execution_count": 74,
      "metadata": {
        "id": "BrVeVwWHP635"
      },
      "outputs": [],
      "source": [
        "# Load the data\n",
        "\n",
        "def load_data():\n",
        "    dataset = load_dataset(\"paws\", \"labeled_final\")\n",
        "    train_dataset = dataset['train']\n",
        "    test_dataset = dataset['test']\n",
        "    val_dataset = dataset['validation']\n",
        "    return train_dataset, val_dataset, test_dataset\n"
      ]
    },
    {
      "cell_type": "code",
      "execution_count": 75,
      "metadata": {
        "id": "2NffguHTP635"
      },
      "outputs": [],
      "source": [
        "# Load datasets\n",
        "ltrain_dataset, lval_dataset, ltest_dataset = load_data()"
      ]
    },
    {
      "cell_type": "code",
      "execution_count": 76,
      "metadata": {
        "colab": {
          "base_uri": "https://localhost:8080/"
        },
        "id": "LWR5qa0uP635",
        "outputId": "2dda20f3-89c1-46c5-9142-676722ebe8a6"
      },
      "outputs": [
        {
          "name": "stdout",
          "output_type": "stream",
          "text": [
            "<class 'datasets.arrow_dataset.Dataset'>\n"
          ]
        }
      ],
      "source": [
        "# Check datasets\n",
        "print(type(ltrain_dataset))"
      ]
    },
    {
      "cell_type": "markdown",
      "metadata": {
        "id": "N4uhheh_P637"
      },
      "source": [
        "### Preprocess Sentences"
      ]
    },
    {
      "cell_type": "code",
      "execution_count": 77,
      "metadata": {
        "id": "uJxkTk78P637"
      },
      "outputs": [],
      "source": [
        "class Preprocess():\n",
        "    def __init__(self, sentences):\n",
        "        self.sentences = sentences\n",
        "\n",
        "    def tokenize(self):\n",
        "        self.sentences = [word_tokenize(sentence) for sentence in self.sentences]\n",
        "\n",
        "    def lowercase(self):\n",
        "        self.sentences = [[word.lower() for word in sentence] for sentence in self.sentences]\n",
        "\n",
        "    def remove_stop_words(self):\n",
        "        stop_words = set(stopwords.words('english'))\n",
        "        self.sentences = [[word for word in sentence if word not in stop_words] for sentence in self.sentences]\n",
        "\n",
        "    def stemmer(self):\n",
        "        stemmer = nltk.stem.PorterStemmer()\n",
        "        self.sentences = [[stemmer.stem(word) for word in sentence] for sentence in self.sentences]\n",
        "\n",
        "    def remove_punctuation(self):\n",
        "        self.sentences = [[word for word in sentence if word.isalpha()] for sentence in self.sentences]\n",
        "\n",
        "    def remove_numbers(self):\n",
        "        self.sentences = [[word for word in sentence if not word.isdigit()] for sentence in self.sentences]\n",
        "\n",
        "    def remove_single_letter(self):\n",
        "        self.sentences = [[word for word in sentence if len(word) > 1] for sentence in self.sentences]\n",
        "\n",
        "    def remove_extra_spaces(self):\n",
        "        self.sentences = [[word for word in sentence if word != ' '] for sentence in self.sentences]\n",
        "\n",
        "    def remove_less_than_3(self):\n",
        "        self.sentences = [[word for word in sentence if len(word) > 2] for sentence in self.sentences]\n",
        "\n",
        "    def run_all(self):\n",
        "        self.tokenize()\n",
        "        self.lowercase()\n",
        "        self.remove_stop_words()\n",
        "        self.stemmer()\n",
        "        self.remove_punctuation()\n",
        "        self.remove_numbers()\n",
        "        self.remove_single_letter()\n",
        "        self.remove_extra_spaces()\n",
        "        self.remove_less_than_3()\n",
        "        return self.sentences\n",
        "\n"
      ]
    },
    {
      "cell_type": "markdown",
      "metadata": {
        "id": "p7Fu_MUaP637"
      },
      "source": [
        "### Create Embeddings Using Glove"
      ]
    },
    {
      "cell_type": "code",
      "execution_count": 8,
      "metadata": {
        "colab": {
          "base_uri": "https://localhost:8080/"
        },
        "id": "XsF56HouP637",
        "outputId": "4b1f3b2a-a395-4c45-a2d4-d9948a90f363"
      },
      "outputs": [
        {
          "name": "stderr",
          "output_type": "stream",
          "text": [
            ".vector_cache/glove.6B.zip: 862MB [02:44, 5.26MB/s]                           \n",
            "100%|█████████▉| 399999/400000 [00:53<00:00, 7537.10it/s]\n"
          ]
        },
        {
          "name": "stdout",
          "output_type": "stream",
          "text": [
            "torch.Size([400000, 300])\n"
          ]
        }
      ],
      "source": [
        "# Load the GloVe embeddings\n",
        "glove = GloVe(name='6B')\n",
        "print(glove.vectors.shape)"
      ]
    },
    {
      "cell_type": "markdown",
      "metadata": {
        "id": "WoRCsRlbP638"
      },
      "source": [
        "### Create Custom Dataset"
      ]
    },
    {
      "cell_type": "code",
      "execution_count": 78,
      "metadata": {
        "id": "Rrm0N2I6P638"
      },
      "outputs": [],
      "source": [
        "def sentence_to_indices(sentence, glove, max_len):\n",
        "    preprocess = Preprocess([sentence])\n",
        "    # print(sentence)\n",
        "    sentence = preprocess.run_all()[0]\n",
        "    length = len(sentence)\n",
        "    indices = [glove.stoi[word] if word in glove.stoi else glove.stoi['unk'] for word in sentence]\n",
        "    padded_indices = indices[:max_len] + [0] * (max_len - len(indices))\n",
        "    flength = length if length < max_len else max_len\n",
        "    return padded_indices, max_len\n",
        "\n",
        "def process_dataset(dataset, glove, max_len):\n",
        "    processed_data = []\n",
        "    for item in dataset:\n",
        "        # print(item['id'])\n",
        "        sentence1_indices, len1 = sentence_to_indices(item['sentence1'], glove, max_len)\n",
        "        sentence2_indices, len2 = sentence_to_indices(item['sentence2'], glove, max_len)\n",
        "        label = torch.tensor(item['label'], dtype=torch.long)\n",
        "        sentence1_tensor = torch.tensor(sentence1_indices, dtype=torch.long)\n",
        "        sentence2_tensor = torch.tensor(sentence2_indices, dtype=torch.long)\n",
        "        processed_data.append((sentence1_indices, sentence2_indices, max_len, max_len, label))\n",
        "    return processed_data\n",
        "\n",
        "def collate_fn(batch):\n",
        "    sentence1_batch = torch.tensor([item[0] for item in batch])\n",
        "    sentence2_batch = torch.tensor([item[1] for item in batch])\n",
        "    len1_batch = torch.tensor([item[2] for item in batch])\n",
        "    len2_batch = torch.tensor([item[3] for item in batch])\n",
        "    labels_batch = torch.tensor([item[4] for item in batch])\n",
        "    return sentence1_batch, sentence2_batch, len1_batch, len2_batch, labels_batch\n"
      ]
    },
    {
      "cell_type": "code",
      "execution_count": 79,
      "metadata": {
        "id": "asqowlr3P638"
      },
      "outputs": [],
      "source": [
        "# Get the dataset\n",
        "train_dataset = process_dataset(ltrain_dataset, glove, 37)\n",
        "val_dataset = process_dataset(lval_dataset, glove, 37)\n",
        "test_dataset = process_dataset(ltest_dataset, glove, 37)"
      ]
    },
    {
      "cell_type": "code",
      "execution_count": 13,
      "metadata": {
        "colab": {
          "base_uri": "https://localhost:8080/"
        },
        "id": "mTl8ooZ2P638",
        "outputId": "a6c2b3d0-63b3-47b8-9ce6-6053136016dd"
      },
      "outputs": [
        {
          "name": "stdout",
          "output_type": "stream",
          "text": [
            "([2809, 195, 195, 513, 389991, 201534, 0, 0, 0, 0, 0, 0, 0, 0, 0, 0, 0, 0, 0, 0, 0, 0, 0, 0, 0, 0, 0, 0, 0, 0, 0, 0, 0, 0, 0, 0, 0], [195, 513, 389991, 201534, 195, 2809, 0, 0, 0, 0, 0, 0, 0, 0, 0, 0, 0, 0, 0, 0, 0, 0, 0, 0, 0, 0, 0, 0, 0, 0, 0, 0, 0, 0, 0, 0, 0], 37, 37, tensor(1))\n",
            "([291910, 249628, 201534, 174620, 29972, 725, 603, 648, 201534, 695, 52, 725, 603, 0, 0, 0, 0, 0, 0, 0, 0, 0, 0, 0, 0, 0, 0, 0, 0, 0, 0, 0, 0, 0, 0, 0, 0], [291910, 249628, 52, 201534, 174620, 353, 695, 725, 603, 725, 603, 648, 201534, 29972, 0, 0, 0, 0, 0, 0, 0, 0, 0, 0, 0, 0, 0, 0, 0, 0, 0, 0, 0, 0, 0, 0, 0], 37, 37, tensor(0))\n",
            "([25335, 9857, 20985, 1224, 201534, 72957, 213766, 94, 751, 201534, 10158, 201534, 45909, 201534, 0, 0, 0, 0, 0, 0, 0, 0, 0, 0, 0, 0, 0, 0, 0, 0, 0, 0, 0, 0, 0, 0, 0], [25335, 9857, 10158, 2121, 201534, 72957, 213766, 94, 3133, 201534, 20985, 201534, 45909, 201534, 0, 0, 0, 0, 0, 0, 0, 0, 0, 0, 0, 0, 0, 0, 0, 0, 0, 0, 0, 0, 0, 0, 0], 37, 37, tensor(0))\n"
          ]
        }
      ],
      "source": [
        "# Check the dataset\n",
        "print(train_dataset[1])\n",
        "print(val_dataset[0])\n",
        "print(test_dataset[0])"
      ]
    },
    {
      "cell_type": "markdown",
      "metadata": {
        "id": "P0RRUqw0P638"
      },
      "source": [
        "### Use DataLoader"
      ]
    },
    {
      "cell_type": "code",
      "execution_count": 80,
      "metadata": {
        "id": "QdPP7FyFP639"
      },
      "outputs": [],
      "source": [
        "train_loader = DataLoader(train_dataset, batch_size=128, shuffle=True, collate_fn=collate_fn)\n",
        "val_loader = DataLoader(val_dataset, batch_size=128, shuffle=True, collate_fn=collate_fn)\n",
        "test_loader = DataLoader(test_dataset, batch_size=128, shuffle=True, collate_fn=collate_fn)"
      ]
    },
    {
      "cell_type": "code",
      "execution_count": 81,
      "metadata": {
        "colab": {
          "base_uri": "https://localhost:8080/"
        },
        "id": "AeGc5vWRP639",
        "outputId": "ae8ea5fd-5c28-4d55-b50f-013594f5cb41"
      },
      "outputs": [
        {
          "name": "stdout",
          "output_type": "stream",
          "text": [
            "386\n",
            "(tensor([[    52,   2876,    368,  ...,      0,      0,      0],\n",
            "        [   510, 201534,  14096,  ...,      0,      0,      0],\n",
            "        [  3423,  34019,     54,  ...,      0,      0,      0],\n",
            "        ...,\n",
            "        [  1866,     62,   3313,  ...,      0,      0,      0],\n",
            "        [201534, 201534, 201534,  ...,      0,      0,      0],\n",
            "        [201534,    483, 201534,  ...,      0,      0,      0]]), tensor([[    52,   2876,    368,  ...,      0,      0,      0],\n",
            "        [   510,   1131,   2662,  ...,      0,      0,      0],\n",
            "        [  3423,  34019,     54,  ...,      0,      0,      0],\n",
            "        ...,\n",
            "        [  3313,  54189,     62,  ...,      0,      0,      0],\n",
            "        [201534, 201534, 201534,  ...,      0,      0,      0],\n",
            "        [   614,   2362,    628,  ...,      0,      0,      0]]), tensor([37, 37, 37, 37, 37, 37, 37, 37, 37, 37, 37, 37, 37, 37, 37, 37, 37, 37,\n",
            "        37, 37, 37, 37, 37, 37, 37, 37, 37, 37, 37, 37, 37, 37, 37, 37, 37, 37,\n",
            "        37, 37, 37, 37, 37, 37, 37, 37, 37, 37, 37, 37, 37, 37, 37, 37, 37, 37,\n",
            "        37, 37, 37, 37, 37, 37, 37, 37, 37, 37, 37, 37, 37, 37, 37, 37, 37, 37,\n",
            "        37, 37, 37, 37, 37, 37, 37, 37, 37, 37, 37, 37, 37, 37, 37, 37, 37, 37,\n",
            "        37, 37, 37, 37, 37, 37, 37, 37, 37, 37, 37, 37, 37, 37, 37, 37, 37, 37,\n",
            "        37, 37, 37, 37, 37, 37, 37, 37, 37, 37, 37, 37, 37, 37, 37, 37, 37, 37,\n",
            "        37, 37]), tensor([37, 37, 37, 37, 37, 37, 37, 37, 37, 37, 37, 37, 37, 37, 37, 37, 37, 37,\n",
            "        37, 37, 37, 37, 37, 37, 37, 37, 37, 37, 37, 37, 37, 37, 37, 37, 37, 37,\n",
            "        37, 37, 37, 37, 37, 37, 37, 37, 37, 37, 37, 37, 37, 37, 37, 37, 37, 37,\n",
            "        37, 37, 37, 37, 37, 37, 37, 37, 37, 37, 37, 37, 37, 37, 37, 37, 37, 37,\n",
            "        37, 37, 37, 37, 37, 37, 37, 37, 37, 37, 37, 37, 37, 37, 37, 37, 37, 37,\n",
            "        37, 37, 37, 37, 37, 37, 37, 37, 37, 37, 37, 37, 37, 37, 37, 37, 37, 37,\n",
            "        37, 37, 37, 37, 37, 37, 37, 37, 37, 37, 37, 37, 37, 37, 37, 37, 37, 37,\n",
            "        37, 37]), tensor([1, 0, 0, 0, 1, 0, 0, 1, 1, 1, 1, 1, 1, 1, 1, 0, 0, 0, 0, 0, 0, 1, 0, 1,\n",
            "        1, 1, 0, 0, 0, 1, 0, 0, 1, 0, 1, 1, 0, 1, 0, 0, 0, 1, 1, 0, 0, 1, 0, 1,\n",
            "        0, 1, 1, 1, 1, 1, 0, 0, 1, 1, 0, 1, 0, 0, 1, 1, 1, 1, 0, 1, 0, 0, 1, 1,\n",
            "        0, 0, 1, 0, 1, 0, 1, 0, 0, 0, 0, 0, 0, 0, 1, 0, 1, 0, 0, 1, 1, 0, 1, 0,\n",
            "        0, 1, 0, 0, 0, 0, 0, 0, 1, 0, 0, 0, 0, 1, 0, 0, 0, 0, 0, 1, 0, 1, 0, 0,\n",
            "        1, 1, 0, 0, 1, 0, 1, 0]))\n"
          ]
        }
      ],
      "source": [
        "# # Check the dataloaders\n",
        "\n",
        "print(len(train_loader))\n",
        "\n",
        "for batch in train_loader:\n",
        "    print(batch)\n",
        "    break"
      ]
    },
    {
      "cell_type": "markdown",
      "metadata": {
        "id": "KXtEklAGP639"
      },
      "source": [
        "### Create Model"
      ]
    },
    {
      "cell_type": "code",
      "execution_count": 82,
      "metadata": {
        "id": "dCQMXSfdP639"
      },
      "outputs": [],
      "source": [
        "# Avg model\n",
        "class SS_AvgSum(nn.Module):\n",
        "    def __init__(self, embedding_dim):\n",
        "        super(SS_AvgSum, self).__init__()\n",
        "        self.embedding_dim = embedding_dim\n",
        "        self.embedding = nn.Embedding(len(glove.vectors), embedding_dim)\n",
        "        self.embedding.weight.data.copy_(glove.vectors)\n",
        "        self.embedding.weight.requires_grad = False # Freeze embeddings\n",
        "        self.fc = nn.Linear(2*embedding_dim, 1)\n",
        "\n",
        "    def forward(self, batch):\n",
        "        # Get the sentence pair and length\n",
        "        sentence1, sentence2, len1, len2, _ = batch\n",
        "\n",
        "        # Get the embeddings\n",
        "        sentence1_embedding = self.embedding(sentence1)\n",
        "        sentence2_embedding = self.embedding(sentence2)\n",
        "\n",
        "        # Get average of embeddings\n",
        "        avg_sentence1_embedding = torch.mean(sentence1_embedding, dim=1)\n",
        "        avg_sentence2_embedding = torch.mean(sentence2_embedding, dim=1)\n",
        "\n",
        "        # Concatenate the embeddings\n",
        "        concatenated_embeddings = torch.cat((avg_sentence1_embedding, avg_sentence2_embedding), dim=1)\n",
        "\n",
        "        # Get the output\n",
        "        output = self.fc(concatenated_embeddings)\n",
        "        output = torch.sigmoid(output)\n",
        "\n",
        "        return output\n"
      ]
    },
    {
      "cell_type": "markdown",
      "metadata": {
        "id": "w-HiFPgPP639"
      },
      "source": [
        "### Train Model"
      ]
    },
    {
      "cell_type": "code",
      "execution_count": 83,
      "metadata": {
        "id": "TZokuj26P639"
      },
      "outputs": [],
      "source": [
        "# Set the hyperparameters\n",
        "embedding_dim = 300\n",
        "hidden_dim = 50\n",
        "lr = 0.01\n",
        "epochs = 10\n",
        "\n",
        "# Initialize the model\n",
        "model = SS_AvgSum(embedding_dim)\n",
        "model.to(device)\n",
        "\n",
        "# Define the loss function for binary classification\n",
        "criterion = nn.BCELoss()\n",
        "\n",
        "# Define the optimizer\n",
        "optimizer = torch.optim.Adam(model.parameters(), lr=lr)\n",
        "# print(len(glove.vectors))\n"
      ]
    },
    {
      "cell_type": "code",
      "execution_count": 84,
      "metadata": {
        "id": "_NrwTCymP639"
      },
      "outputs": [],
      "source": [
        "# Function for train\n",
        "def train(model, train_loader, val_loader, criterion, optimizer, epochs):\n",
        "    train_losses = []\n",
        "    val_losses = []\n",
        "    for epoch in range(epochs):\n",
        "        train_preds = []\n",
        "        labels = []\n",
        "        train_loss = 0.0\n",
        "        val_loss = 0.0\n",
        "        model.train()\n",
        "        for batch in tqdm(train_loader):\n",
        "            batch = [b.to(device) if i != 2 and i != 3 else b for i, b in enumerate(batch)]\n",
        "            # Get the output from the model\n",
        "            # output1, output2 = model(batch)\n",
        "            output = model(batch)\n",
        "\n",
        "            # Get the label\n",
        "            _, _, _, _, label = batch\n",
        "            label = label.float()\n",
        "\n",
        "            # Calculate the loss\n",
        "\n",
        "            # output1 = F.normalize(output1, p=2, dim=1) # Normalize the output\n",
        "            # output2 = F.normalize(output2, p=2, dim=1) # Normalize the output\n",
        "\n",
        "            # cosine_similarity = F.cosine_similarity(output1, output2)\n",
        "            # Round cosine similarity to 6 decimal places\n",
        "            # cosine_similarity = torch.round(cosine_similarity * 1000000) / 1000000\n",
        "\n",
        "            # Map the similarity to 0 or 1\n",
        "            # similarity = F.sigmoid(cosine_similarity) # Non-linear mapping\n",
        "            # similarity = (cosine_similarity + 1)/2 # Linear mapping\n",
        "            # print(\"Similarity range: min =\", similarity.min().item(), \"max =\", similarity.max().item())\n",
        "\n",
        "            # distance = F.mse_loss(output1, output2, reduction='none')\n",
        "            # distance = torch.sum(distance, dim=1)\n",
        "            # similarity = F.sigmoid(-distance)\n",
        "\n",
        "            similarity = output.squeeze()\n",
        "\n",
        "            loss = criterion(similarity, label)\n",
        "\n",
        "            # Backpropagate the loss\n",
        "            optimizer.zero_grad()\n",
        "            loss.backward()\n",
        "            optimizer.step()\n",
        "\n",
        "            # Update the train loss\n",
        "            train_loss += loss.item()\n",
        "\n",
        "            # Get the predictions\n",
        "            preds = [1 if x >= 0.5 else 0 for x in similarity]\n",
        "            train_preds.extend(preds)\n",
        "            # Detach the label from GPU\n",
        "            label = label.detach().cpu().numpy()\n",
        "            labels.extend(label)\n",
        "\n",
        "        # Calculate the average loss\n",
        "        train_loss = train_loss/len(train_loader)\n",
        "        train_losses.append(train_loss)\n",
        "\n",
        "        # Calculate the validation loss\n",
        "        model.eval()\n",
        "        for batch in tqdm(val_loader):\n",
        "            batch = [b.to(device) if i != 2 and i != 3 else b for i, b in enumerate(batch)]\n",
        "            # Get the output from the model\n",
        "            # output1, output2 = model(batch)\n",
        "            output = model(batch)\n",
        "\n",
        "            # Get the label\n",
        "            _, _, _, _, label = batch\n",
        "            label = label.float()\n",
        "\n",
        "            # Calculate the loss\n",
        "\n",
        "            # cosine_similarity = F.cosine_similarity(output1, output2)\n",
        "            # Map the similarity to 0 or 1\n",
        "            # similarity = F.sigmoid(cosine_similarity) # Non-linear mapping\n",
        "\n",
        "            similarity = output.squeeze()\n",
        "            loss = criterion(similarity, label)\n",
        "\n",
        "            # Update the validation loss\n",
        "            val_loss += loss.item()\n",
        "\n",
        "        # Calculate the average loss\n",
        "        val_loss = val_loss/len(val_loader)\n",
        "        val_losses.append(val_loss)\n",
        "\n",
        "        # Calculate the accuracy\n",
        "        train_acc = accuracy_score(train_preds, labels)\n",
        "\n",
        "        # Print the losses and accuracy\n",
        "        print(\"Epoch:\", epoch+1, \"Train Loss:\", train_loss, \"Val Loss:\", val_loss, \"Train Accuracy:\", train_acc)\n",
        "\n",
        "    return train_losses, val_losses"
      ]
    },
    {
      "cell_type": "code",
      "execution_count": 85,
      "metadata": {
        "colab": {
          "base_uri": "https://localhost:8080/"
        },
        "id": "b4IVTXqjP63-",
        "outputId": "86a40ead-6ccd-427f-f229-520828904435"
      },
      "outputs": [
        {
          "name": "stderr",
          "output_type": "stream",
          "text": [
            "100%|██████████| 386/386 [00:03<00:00, 118.50it/s]\n",
            "100%|██████████| 63/63 [00:00<00:00, 223.91it/s]\n"
          ]
        },
        {
          "name": "stdout",
          "output_type": "stream",
          "text": [
            "Epoch: 1 Train Loss: 0.6940842261586164 Val Loss: 0.6898031641566564 Train Accuracy: 0.5359405680046962\n"
          ]
        },
        {
          "name": "stderr",
          "output_type": "stream",
          "text": [
            "100%|██████████| 386/386 [00:03<00:00, 121.49it/s]\n",
            "100%|██████████| 63/63 [00:00<00:00, 409.44it/s]\n"
          ]
        },
        {
          "name": "stdout",
          "output_type": "stream",
          "text": [
            "Epoch: 2 Train Loss: 0.6901105243924985 Val Loss: 0.68634285434844 Train Accuracy: 0.5479241310904638\n"
          ]
        },
        {
          "name": "stderr",
          "output_type": "stream",
          "text": [
            "100%|██████████| 386/386 [00:02<00:00, 145.54it/s]\n",
            "100%|██████████| 63/63 [00:00<00:00, 345.17it/s]\n"
          ]
        },
        {
          "name": "stdout",
          "output_type": "stream",
          "text": [
            "Epoch: 3 Train Loss: 0.6895159916865393 Val Loss: 0.6946063003842793 Train Accuracy: 0.5467298232829295\n"
          ]
        },
        {
          "name": "stderr",
          "output_type": "stream",
          "text": [
            "100%|██████████| 386/386 [00:02<00:00, 145.16it/s]\n",
            "100%|██████████| 63/63 [00:00<00:00, 408.92it/s]\n"
          ]
        },
        {
          "name": "stdout",
          "output_type": "stream",
          "text": [
            "Epoch: 4 Train Loss: 0.68869513844579 Val Loss: 0.7300308933333745 Train Accuracy: 0.5504746867472319\n"
          ]
        },
        {
          "name": "stderr",
          "output_type": "stream",
          "text": [
            "100%|██████████| 386/386 [00:02<00:00, 132.12it/s]\n",
            "100%|██████████| 63/63 [00:00<00:00, 229.54it/s]\n"
          ]
        },
        {
          "name": "stdout",
          "output_type": "stream",
          "text": [
            "Epoch: 5 Train Loss: 0.6905731940207703 Val Loss: 0.6857126478164915 Train Accuracy: 0.5469524908402664\n"
          ]
        },
        {
          "name": "stderr",
          "output_type": "stream",
          "text": [
            "100%|██████████| 386/386 [00:03<00:00, 110.36it/s]\n",
            "100%|██████████| 63/63 [00:00<00:00, 404.63it/s]\n"
          ]
        },
        {
          "name": "stdout",
          "output_type": "stream",
          "text": [
            "Epoch: 6 Train Loss: 0.6902018221857634 Val Loss: 0.6877658054942176 Train Accuracy: 0.5511831744296675\n"
          ]
        },
        {
          "name": "stderr",
          "output_type": "stream",
          "text": [
            "100%|██████████| 386/386 [00:02<00:00, 144.07it/s]\n",
            "100%|██████████| 63/63 [00:00<00:00, 401.82it/s]\n"
          ]
        },
        {
          "name": "stdout",
          "output_type": "stream",
          "text": [
            "Epoch: 7 Train Loss: 0.6889116286922613 Val Loss: 0.7065660253403678 Train Accuracy: 0.5523977247424141\n"
          ]
        },
        {
          "name": "stderr",
          "output_type": "stream",
          "text": [
            "100%|██████████| 386/386 [00:02<00:00, 144.40it/s]\n",
            "100%|██████████| 63/63 [00:00<00:00, 391.42it/s]\n"
          ]
        },
        {
          "name": "stdout",
          "output_type": "stream",
          "text": [
            "Epoch: 8 Train Loss: 0.6875312580036993 Val Loss: 0.690368978750138 Train Accuracy: 0.5551911904617316\n"
          ]
        },
        {
          "name": "stderr",
          "output_type": "stream",
          "text": [
            "100%|██████████| 386/386 [00:02<00:00, 144.68it/s]\n",
            "100%|██████████| 63/63 [00:00<00:00, 368.20it/s]\n"
          ]
        },
        {
          "name": "stdout",
          "output_type": "stream",
          "text": [
            "Epoch: 9 Train Loss: 0.6881332554965439 Val Loss: 0.6859063156067379 Train Accuracy: 0.5531871824456995\n"
          ]
        },
        {
          "name": "stderr",
          "output_type": "stream",
          "text": [
            "100%|██████████| 386/386 [00:04<00:00, 95.03it/s]\n",
            "100%|██████████| 63/63 [00:00<00:00, 351.32it/s]\n"
          ]
        },
        {
          "name": "stdout",
          "output_type": "stream",
          "text": [
            "Epoch: 10 Train Loss: 0.6906092835522686 Val Loss: 0.6866875669312855 Train Accuracy: 0.5488148013198113\n"
          ]
        }
      ],
      "source": [
        "# Train the model\n",
        "\n",
        "train_losses, val_losses = train(model, train_loader, val_loader, criterion, optimizer, epochs)"
      ]
    },
    {
      "cell_type": "code",
      "execution_count": 86,
      "metadata": {
        "id": "UWdqIasGP63-"
      },
      "outputs": [],
      "source": [
        "# Function to plot the losses: train and validation on the same plot\n",
        "def plot_losses(train_losses, val_losses):\n",
        "    plt.plot(train_losses, label='Train Loss')\n",
        "    plt.plot(val_losses, label='Val Loss')\n",
        "    plt.legend()\n",
        "    # plt.savefig('/content/drive/MyDrive/ss_avgsum_losses.png')\n",
        "    plt.show()"
      ]
    },
    {
      "cell_type": "code",
      "execution_count": 87,
      "metadata": {
        "colab": {
          "base_uri": "https://localhost:8080/",
          "height": 430
        },
        "id": "-TYrXvtfP63-",
        "outputId": "a1fa2bc5-9ff7-4ef1-c1d7-4ca719a1a3b5"
      },
      "outputs": [
        {
          "data": {
            "image/png": "[encoded data removed]",
            "text/plain": [
              "<Figure size 640x480 with 1 Axes>"
            ]
          },
          "metadata": {},
          "output_type": "display_data"
        }
      ],
      "source": [
        "# Call the function to plot the losses\n",
        "plot_losses(train_losses, val_losses)"
      ]
    },
    {
      "cell_type": "code",
      "execution_count": 88,
      "metadata": {
        "id": "8wEttmKRP63-"
      },
      "outputs": [],
      "source": [
        "# Save the model\n",
        "torch.save(model.state_dict(), '/content/drive/MyDrive/ss_avgsum_losses.pth')"
      ]
    },
    {
      "cell_type": "code",
      "execution_count": 46,
      "metadata": {
        "colab": {
          "base_uri": "https://localhost:8080/"
        },
        "id": "ZYbRw-g1P63-",
        "outputId": "22c02467-6796-46d9-8c52-06979dc54c1f"
      },
      "outputs": [
        {
          "data": {
            "text/plain": [
              "<All keys matched successfully>"
            ]
          },
          "execution_count": 46,
          "metadata": {},
          "output_type": "execute_result"
        }
      ],
      "source": [
        "# load the model\n",
        "model.load_state_dict(torch.load('/content/drive/MyDrive/ss_avgsum_losses.pth'))"
      ]
    },
    {
      "cell_type": "markdown",
      "metadata": {
        "id": "NdCrQB5TP63-"
      },
      "source": [
        "### Test the Model"
      ]
    },
    {
      "cell_type": "code",
      "execution_count": 89,
      "metadata": {
        "id": "jRrA_MtcP63_"
      },
      "outputs": [],
      "source": [
        "# Function for test\n",
        "def evaluate(model, test_loader, criterion):\n",
        "    test_loss = 0.0\n",
        "    model.eval()\n",
        "    predictions = []\n",
        "    labels = []\n",
        "\n",
        "    for batch in tqdm(test_loader):\n",
        "        batch = [b.to(device) if i != 2 and i != 3 else b for i, b in enumerate(batch)]\n",
        "        # Get the output from the model\n",
        "        # output1, output2 = model(batch)\n",
        "        output = model(batch)\n",
        "\n",
        "        # Get the label\n",
        "        _, _, _, _, label = batch\n",
        "        label = label.float()\n",
        "\n",
        "        # Calculate the loss\n",
        "\n",
        "        # cosine_similarity = F.cosine_similarity(output1, output2)\n",
        "        # Round cosine similarity to 6 decimal places\n",
        "        # cosine_similarity = torch.round(cosine_similarity * 1000000) / 1000000\n",
        "\n",
        "        # Map the similarity to 0 or 1\n",
        "        # similarity = F.sigmoid(cosine_similarity) # Non-linear mapping\n",
        "        # similarity = (cosine_similarity + 1)/2 # Linear mapping\n",
        "\n",
        "        similarity = output.squeeze()\n",
        "\n",
        "        predicted_label = [1 if x >= 0.5 else 0 for x in similarity]\n",
        "        predictions.extend(predicted_label)\n",
        "\n",
        "        loss = criterion(similarity, label)\n",
        "\n",
        "        label = label.detach().cpu().numpy()\n",
        "        labels.extend(label.tolist())\n",
        "\n",
        "        # Update the test loss\n",
        "        test_loss += loss.item()\n",
        "\n",
        "    # Calculate the average loss\n",
        "    test_loss = test_loss/len(test_loader)\n",
        "\n",
        "    # Print the losses\n",
        "    print('Test Loss: {:.6f}'.format(test_loss))\n",
        "\n",
        "    # Calculate the accuracy\n",
        "    accuracy = accuracy_score(labels, predictions)\n",
        "\n",
        "    return test_loss, accuracy * 100"
      ]
    },
    {
      "cell_type": "code",
      "execution_count": 90,
      "metadata": {
        "colab": {
          "base_uri": "https://localhost:8080/"
        },
        "id": "5QRZAo0QP63_",
        "outputId": "32346e2f-0670-4535-cc77-b0905df951b3"
      },
      "outputs": [
        {
          "name": "stderr",
          "output_type": "stream",
          "text": [
            "100%|██████████| 63/63 [00:00<00:00, 90.85it/s]"
          ]
        },
        {
          "name": "stdout",
          "output_type": "stream",
          "text": [
            "Test Loss: 0.687682\n",
            "Accuracy: 55.487500\n"
          ]
        },
        {
          "name": "stderr",
          "output_type": "stream",
          "text": [
            "\n"
          ]
        }
      ],
      "source": [
        "# Evaluate the model\n",
        "\n",
        "test_loss, accuracy = evaluate(model, test_loader, criterion)\n",
        "print('Accuracy: {:.6f}'.format(accuracy))"
      ]
    },
    {
      "cell_type": "code",
      "execution_count": null,
      "metadata": {
        "id": "SC7oboRTP64A"
      },
      "outputs": [],
      "source": []
    }
  ],
  "metadata": {
    "accelerator": "GPU",
    "colab": {
      "gpuType": "T4",
      "provenance": []
    },
    "kernelspec": {
      "display_name": "Python 3",
      "name": "python3"
    },
    "language_info": {
      "codemirror_mode": {
        "name": "ipython",
        "version": 3
      },
      "file_extension": ".py",
      "mimetype": "text/x-python",
      "name": "python",
      "nbconvert_exporter": "python",
      "pygments_lexer": "ipython3",
      "version": "3.10.13"
    }
  },
  "nbformat": 4,
  "nbformat_minor": 0
}
