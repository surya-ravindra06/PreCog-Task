{
  "cells": [
    {
      "cell_type": "code",
      "execution_count": 1,
      "metadata": {
        "colab": {
          "base_uri": "https://localhost:8080/"
        },
        "id": "ZoUGjukwP632",
        "outputId": "0df5ed4b-c329-451d-c5b3-ac7374dceff8"
      },
      "outputs": [
        {
          "name": "stdout",
          "output_type": "stream",
          "text": [
            "\u001b[?25l   \u001b[90m━━━━━━━━━━━━━━━━━━━━━━━━━━━━━━━━━━━━━━━━\u001b[0m \u001b[32m0.0/547.8 kB\u001b[0m \u001b[31m?\u001b[0m eta \u001b[36m-:--:--\u001b[0m\r\u001b[2K   \u001b[90m━━━━━━━━━━━━━━━━━━━━━━━━━━━━━━━━━━━━━━━━\u001b[0m \u001b[32m547.8/547.8 kB\u001b[0m \u001b[31m30.3 MB/s\u001b[0m eta \u001b[36m0:00:00\u001b[0m\n",
            "\u001b[?25h\u001b[?25l   \u001b[90m━━━━━━━━━━━━━━━━━━━━━━━━━━━━━━━━━━━━━━━━\u001b[0m \u001b[32m0.0/116.3 kB\u001b[0m \u001b[31m?\u001b[0m eta \u001b[36m-:--:--\u001b[0m\r\u001b[2K   \u001b[90m━━━━━━━━━━━━━━━━━━━━━━━━━━━━━━━━━━━━━━━━\u001b[0m \u001b[32m116.3/116.3 kB\u001b[0m \u001b[31m11.3 MB/s\u001b[0m eta \u001b[36m0:00:00\u001b[0m\n",
            "\u001b[2K   \u001b[90m━━━━━━━━━━━━━━━━━━━━━━━━━━━━━━━━━━━━━━━━\u001b[0m \u001b[32m316.1/316.1 kB\u001b[0m \u001b[31m28.1 MB/s\u001b[0m eta \u001b[36m0:00:00\u001b[0m\n",
            "\u001b[2K   \u001b[90m━━━━━━━━━━━━━━━━━━━━━━━━━━━━━━━━━━━━━━━━\u001b[0m \u001b[32m39.9/39.9 MB\u001b[0m \u001b[31m20.4 MB/s\u001b[0m eta \u001b[36m0:00:00\u001b[0m\n",
            "\u001b[2K   \u001b[90m━━━━━━━━━━━━━━━━━━━━━━━━━━━━━━━━━━━━━━━━\u001b[0m \u001b[32m64.9/64.9 kB\u001b[0m \u001b[31m5.8 MB/s\u001b[0m eta \u001b[36m0:00:00\u001b[0m\n",
            "\u001b[2K   \u001b[90m━━━━━━━━━━━━━━━━━━━━━━━━━━━━━━━━━━━━━━━━\u001b[0m \u001b[32m134.8/134.8 kB\u001b[0m \u001b[31m13.1 MB/s\u001b[0m eta \u001b[36m0:00:00\u001b[0m\n",
            "\u001b[2K   \u001b[90m━━━━━━━━━━━━━━━━━━━━━━━━━━━━━━━━━━━━━━━━\u001b[0m \u001b[32m194.1/194.1 kB\u001b[0m \u001b[31m18.3 MB/s\u001b[0m eta \u001b[36m0:00:00\u001b[0m\n",
            "\u001b[?25h\u001b[31mERROR: pip's dependency resolver does not currently take into account all the packages that are installed. This behaviour is the source of the following dependency conflicts.\n",
            "torch 2.3.1+cu121 requires nvidia-cublas-cu12==12.1.3.1; platform_system == \"Linux\" and platform_machine == \"x86_64\", which is not installed.\n",
            "torch 2.3.1+cu121 requires nvidia-cuda-cupti-cu12==12.1.105; platform_system == \"Linux\" and platform_machine == \"x86_64\", which is not installed.\n",
            "torch 2.3.1+cu121 requires nvidia-cuda-nvrtc-cu12==12.1.105; platform_system == \"Linux\" and platform_machine == \"x86_64\", which is not installed.\n",
            "torch 2.3.1+cu121 requires nvidia-cuda-runtime-cu12==12.1.105; platform_system == \"Linux\" and platform_machine == \"x86_64\", which is not installed.\n",
            "torch 2.3.1+cu121 requires nvidia-cudnn-cu12==8.9.2.26; platform_system == \"Linux\" and platform_machine == \"x86_64\", which is not installed.\n",
            "torch 2.3.1+cu121 requires nvidia-cufft-cu12==11.0.2.54; platform_system == \"Linux\" and platform_machine == \"x86_64\", which is not installed.\n",
            "torch 2.3.1+cu121 requires nvidia-curand-cu12==10.3.2.106; platform_system == \"Linux\" and platform_machine == \"x86_64\", which is not installed.\n",
            "torch 2.3.1+cu121 requires nvidia-cusolver-cu12==11.4.5.107; platform_system == \"Linux\" and platform_machine == \"x86_64\", which is not installed.\n",
            "torch 2.3.1+cu121 requires nvidia-cusparse-cu12==12.1.0.106; platform_system == \"Linux\" and platform_machine == \"x86_64\", which is not installed.\n",
            "torch 2.3.1+cu121 requires nvidia-nccl-cu12==2.20.5; platform_system == \"Linux\" and platform_machine == \"x86_64\", which is not installed.\n",
            "torch 2.3.1+cu121 requires nvidia-nvtx-cu12==12.1.105; platform_system == \"Linux\" and platform_machine == \"x86_64\", which is not installed.\n",
            "cudf-cu12 24.4.1 requires pyarrow<15.0.0a0,>=14.0.1, but you have pyarrow 17.0.0 which is incompatible.\n",
            "gcsfs 2024.6.1 requires fsspec==2024.6.1, but you have fsspec 2024.5.0 which is incompatible.\n",
            "google-colab 1.0.0 requires requests==2.31.0, but you have requests 2.32.3 which is incompatible.\n",
            "ibis-framework 8.0.0 requires pyarrow<16,>=2, but you have pyarrow 17.0.0 which is incompatible.\u001b[0m\u001b[31m\n",
            "\u001b[0m"
          ]
        },
        {
          "name": "stderr",
          "output_type": "stream",
          "text": [
            "/usr/local/lib/python3.10/dist-packages/torchtext/vocab/__init__.py:4: UserWarning: \n",
            "/!\\ IMPORTANT WARNING ABOUT TORCHTEXT STATUS /!\\ \n",
            "Torchtext is deprecated and the last released version will be 0.18 (this one). You can silence this warning by calling the following at the beginnign of your scripts: `import torchtext; torchtext.disable_torchtext_deprecation_warning()`\n",
            "  warnings.warn(torchtext._TORCHTEXT_DEPRECATION_MSG)\n",
            "/usr/local/lib/python3.10/dist-packages/torchtext/utils.py:4: UserWarning: \n",
            "/!\\ IMPORTANT WARNING ABOUT TORCHTEXT STATUS /!\\ \n",
            "Torchtext is deprecated and the last released version will be 0.18 (this one). You can silence this warning by calling the following at the beginnign of your scripts: `import torchtext; torchtext.disable_torchtext_deprecation_warning()`\n",
            "  warnings.warn(torchtext._TORCHTEXT_DEPRECATION_MSG)\n"
          ]
        }
      ],
      "source": [
        "# import all necessary packages for SS_LSTM\n",
        "! pip install -q datasets\n",
        "import numpy as np\n",
        "import torch\n",
        "import torch.nn as nn\n",
        "import torch.nn.functional as F\n",
        "from torch.utils.data import Dataset, DataLoader\n",
        "from collections import Counter\n",
        "import random\n",
        "import os\n",
        "import matplotlib.pyplot as plt\n",
        "import pickle\n",
        "from tqdm import tqdm\n",
        "import nltk\n",
        "from nltk.tokenize import word_tokenize\n",
        "from nltk.corpus import stopwords\n",
        "import collections\n",
        "import itertools\n",
        "import re\n",
        "from sklearn.manifold import TSNE\n",
        "from sklearn.metrics.pairwise import cosine_similarity\n",
        "from torchtext.vocab import GloVe\n",
        "from datasets import load_dataset\n",
        "from sklearn.metrics import accuracy_score"
      ]
    },
    {
      "cell_type": "code",
      "execution_count": 112,
      "metadata": {
        "id": "LOfzEZq3o9J1"
      },
      "outputs": [],
      "source": [
        "import nltk\n",
        "from nltk.tokenize import word_tokenize\n",
        "from nltk.corpus import stopwords"
      ]
    },
    {
      "cell_type": "code",
      "execution_count": 2,
      "metadata": {
        "colab": {
          "base_uri": "https://localhost:8080/"
        },
        "id": "hoVASHs4Qe6X",
        "outputId": "81de0b79-6e1c-41cb-e1de-7d6de9b35616"
      },
      "outputs": [
        {
          "name": "stdout",
          "output_type": "stream",
          "text": [
            "Mounted at /content/drive\n"
          ]
        }
      ],
      "source": [
        "from google.colab import drive\n",
        "drive.mount('/content/drive')"
      ]
    },
    {
      "cell_type": "code",
      "execution_count": 73,
      "metadata": {
        "colab": {
          "base_uri": "https://localhost:8080/"
        },
        "id": "Jdvr6mdTP634",
        "outputId": "a735d51f-0f90-4ae8-802b-f419ae2415a3"
      },
      "outputs": [
        {
          "name": "stdout",
          "output_type": "stream",
          "text": [
            "cuda\n"
          ]
        }
      ],
      "source": [
        "# Check if GPU is available\n",
        "device = torch.device('cuda' if torch.cuda.is_available() else 'cpu')\n",
        "print(device)"
      ]
    },
    {
      "cell_type": "markdown",
      "metadata": {
        "id": "GJEr63NdP634"
      },
      "source": [
        "### Load Dataset from Hugging Face"
      ]
    },
    {
      "cell_type": "code",
      "execution_count": 113,
      "metadata": {
        "id": "BrVeVwWHP635"
      },
      "outputs": [],
      "source": [
        "# Load the data from PiC dataset\n",
        "\n",
        "def load_data():\n",
        "    dataset = load_dataset(\"PiC/phrase_similarity\")\n",
        "    train_data = dataset[\"train\"]\n",
        "    val_data = dataset[\"validation\"]\n",
        "    test_data = dataset[\"test\"]\n",
        "    return train_data, val_data, test_data\n"
      ]
    },
    {
      "cell_type": "code",
      "execution_count": 114,
      "metadata": {
        "colab": {
          "base_uri": "https://localhost:8080/",
          "height": 209,
          "referenced_widgets": [
            "77653079c6144c0ebfadd3853569afad",
            "3da8231b9a784862b791a2f95c26f7ef",
            "d63c51d0133240deb8822324801d24c3",
            "c3a64630e04d43d58810a040f001feab",
            "5af9f3a812874107a20719759877830b",
            "1748c7deeda34aa4aad92480ce513ceb",
            "3768bf77ee764076829d9ded86d2d901",
            "45326363ae344fc69cf694ee40f79aa0",
            "db5b492e74d0460aa61300f488d79926",
            "9638b427b0914df3b0efa6761320481d",
            "e77630ed67f84b6db103ee3608d7773f",
            "98cf29a51cc64f95a5abba96dcbb2b74",
            "58e25b029a8e41f39f48c056e5724595",
            "5ec8726af17240279e95f10be896de5f",
            "3ced37078c5142f6abd0b608caffe9e4",
            "5055bf4f50034968826a6a9839e01c8b",
            "734a6f54751749bba843d5af116c449d",
            "7272790b0ddd4999b948a323ca43c653",
            "f142ed4ecc324c8eb5df39c2ceb5a6ae",
            "493cfe3f377d458285427420b633a371",
            "d31a175ca0b64a5c9e5765dba8354afe",
            "fbae4dcb885f4712a11abd35dd77a8f6",
            "1442ffcafc4148c992b0ca54cd366bae",
            "9f348af900384eff9dff331ef67ca1f0",
            "e6443401da0a496f97cd8dbf304532a6",
            "9b6d1e3095f04956b026cc4ae1d6809d",
            "9a5e308429ba4a6885040ee2cbde445d",
            "8d85f3693fb24b0c93b2661cdebde11d",
            "80991b549cc34fa5a1e503e1b01719c0",
            "2817e55857374314b2e27814cf3b0a75",
            "7a3523fbc9bf44d6a3da56c943402a74",
            "d2f3e70911b240b9b41ed47f6ea275ea",
            "71d7f183d2464e75adcbf342ebd1d205",
            "fbde2b60ab904bffb9e510a21ceacc50",
            "76ad3475223b46319aa2b3355be09dd4",
            "0cac3e07a85440378a26e737c3ec9e67",
            "1040304bca844883bda176206296a5a4",
            "00ee6aa977b44212956bb2e8513d02fb",
            "91b4fe0268f54c67bdbe7354f35bc29d",
            "ccfbd90495dd4ef981ab5bc3a2debb03",
            "1706b19915c648d98963004503d8d104",
            "43355157aa46409cb5bc8bb3ebb71b4e",
            "f7b4ed3ea3c14375aeac6a7b919cb2ca",
            "e39a0b6e62134a7ea5df210afdc8f4a8",
            "69803985d02a41cdbcb3112796e7e9f8",
            "f0bcd5c8c7b54ddcabbd240a274f6761",
            "8ed9ec04e60a49309fc7b3e95206d6e7",
            "601065e2575e435393ff050bea58f145",
            "13bd259f18bc4d7b91aa38bf64b6ad3c",
            "c036700bda784eb1aa456123e5dac752",
            "1e7c4b39b91d4e50ae03f9c4279be97f",
            "6b94488f133f49b1abdbc5d182675d7e",
            "4c76d4b8d144499597e69254c3613fa5",
            "100bc0c4afce41309ee4a76137aba009",
            "6a4593b35b6347b28715f605244565e9",
            "766a4fdbf1b1442c80b073e85185a569",
            "8b9d51f632bf437dbdea86d3aa01accc",
            "e8d4361d49f44dd79ddabc2816934bbf",
            "966def4879b7449a96a92e41d0d89439",
            "b7a1fa8cbeea40db9760197a666a7e41",
            "ae59d74625a6484db3968e0fd08e71a5",
            "5dfcba8feef04f8e8ad1fa7a1e3846d7",
            "871f8398de1f4c99ba9d454a6a4765cd",
            "546626567c6e46869718945fb3b5eda3",
            "ebc24e8503fc42b5a315240f55efe17c",
            "3b06e7e21fa14dfc824b318f274d4fb4"
          ]
        },
        "id": "2NffguHTP635",
        "outputId": "5c313d3c-965c-43c3-801b-28878fb8596a"
      },
      "outputs": [
        {
          "data": {
            "application/vnd.jupyter.widget-view+json": {
              "model_id": "77653079c6144c0ebfadd3853569afad",
              "version_major": 2,
              "version_minor": 0
            },
            "text/plain": [
              "Downloading data:   0%|          | 0.00/1.42M [00:00<?, ?B/s]"
            ]
          },
          "metadata": {},
          "output_type": "display_data"
        },
        {
          "data": {
            "application/vnd.jupyter.widget-view+json": {
              "model_id": "98cf29a51cc64f95a5abba96dcbb2b74",
              "version_major": 2,
              "version_minor": 0
            },
            "text/plain": [
              "Downloading data:   0%|          | 0.00/202k [00:00<?, ?B/s]"
            ]
          },
          "metadata": {},
          "output_type": "display_data"
        },
        {
          "data": {
            "application/vnd.jupyter.widget-view+json": {
              "model_id": "1442ffcafc4148c992b0ca54cd366bae",
              "version_major": 2,
              "version_minor": 0
            },
            "text/plain": [
              "Downloading data:   0%|          | 0.00/403k [00:00<?, ?B/s]"
            ]
          },
          "metadata": {},
          "output_type": "display_data"
        },
        {
          "data": {
            "application/vnd.jupyter.widget-view+json": {
              "model_id": "fbde2b60ab904bffb9e510a21ceacc50",
              "version_major": 2,
              "version_minor": 0
            },
            "text/plain": [
              "Generating train split:   0%|          | 0/7004 [00:00<?, ? examples/s]"
            ]
          },
          "metadata": {},
          "output_type": "display_data"
        },
        {
          "data": {
            "application/vnd.jupyter.widget-view+json": {
              "model_id": "69803985d02a41cdbcb3112796e7e9f8",
              "version_major": 2,
              "version_minor": 0
            },
            "text/plain": [
              "Generating validation split:   0%|          | 0/1000 [00:00<?, ? examples/s]"
            ]
          },
          "metadata": {},
          "output_type": "display_data"
        },
        {
          "data": {
            "application/vnd.jupyter.widget-view+json": {
              "model_id": "766a4fdbf1b1442c80b073e85185a569",
              "version_major": 2,
              "version_minor": 0
            },
            "text/plain": [
              "Generating test split:   0%|          | 0/2000 [00:00<?, ? examples/s]"
            ]
          },
          "metadata": {},
          "output_type": "display_data"
        }
      ],
      "source": [
        "# Load datasets\n",
        "ltrain_dataset, lval_dataset, ltest_dataset = load_data()"
      ]
    },
    {
      "cell_type": "code",
      "execution_count": 115,
      "metadata": {
        "colab": {
          "base_uri": "https://localhost:8080/"
        },
        "id": "SBKFuRM4lnxX",
        "outputId": "3ebd8b8a-f15e-48a2-8328-eff829b86471"
      },
      "outputs": [
        {
          "name": "stdout",
          "output_type": "stream",
          "text": [
            "7004\n",
            "1000\n",
            "2000\n"
          ]
        }
      ],
      "source": [
        "# Check datasets\n",
        "print(len(ltrain_dataset))\n",
        "print(len(lval_dataset))\n",
        "print(len(ltest_dataset))"
      ]
    },
    {
      "cell_type": "code",
      "execution_count": 116,
      "metadata": {
        "id": "LWR5qa0uP635"
      },
      "outputs": [],
      "source": [
        "class Preprocess():\n",
        "    def __init__(self, sentences):\n",
        "        self.sentences = sentences\n",
        "\n",
        "    def tokenize(self):\n",
        "        self.sentences = [word_tokenize(sentence) for sentence in self.sentences]\n",
        "\n",
        "    def lowercase(self):\n",
        "        self.sentences = [[word.lower() for word in sentence] for sentence in self.sentences]\n",
        "\n",
        "    def remove_stop_words(self):\n",
        "        stop_words = set(stopwords.words('english'))\n",
        "        self.sentences = [[word for word in sentence if word not in stop_words] for sentence in self.sentences]\n",
        "\n",
        "    def stemmer(self):\n",
        "        stemmer = nltk.stem.PorterStemmer()\n",
        "        self.sentences = [[stemmer.stem(word) for word in sentence] for sentence in self.sentences]\n",
        "\n",
        "    def remove_punctuation(self):\n",
        "        self.sentences = [[word for word in sentence if word.isalpha()] for sentence in self.sentences]\n",
        "\n",
        "    def remove_numbers(self):\n",
        "        self.sentences = [[word for word in sentence if not word.isdigit()] for sentence in self.sentences]\n",
        "\n",
        "    def remove_single_letter(self):\n",
        "        self.sentences = [[word for word in sentence if len(word) > 1] for sentence in self.sentences]\n",
        "\n",
        "    def remove_extra_spaces(self):\n",
        "        self.sentences = [[word for word in sentence if word != ' '] for sentence in self.sentences]\n",
        "\n",
        "    def remove_less_than_3(self):\n",
        "        self.sentences = [[word for word in sentence if len(word) > 2] for sentence in self.sentences]\n",
        "\n",
        "    def run_all(self):\n",
        "        self.tokenize()\n",
        "        self.lowercase()\n",
        "        self.remove_stop_words()\n",
        "        self.stemmer()\n",
        "        self.remove_punctuation()\n",
        "        self.remove_numbers()\n",
        "        self.remove_single_letter()\n",
        "        self.remove_extra_spaces()\n",
        "        self.remove_less_than_3()\n",
        "        return self.sentences"
      ]
    },
    {
      "cell_type": "code",
      "execution_count": 117,
      "metadata": {
        "colab": {
          "base_uri": "https://localhost:8080/"
        },
        "id": "myYAlSDBi7zi",
        "outputId": "fb0e1bd5-3eb1-4477-97c6-6afdfb10b406"
      },
      "outputs": [
        {
          "name": "stdout",
          "output_type": "stream",
          "text": [
            "torch.Size([400000, 300])\n"
          ]
        }
      ],
      "source": [
        "# Load the GloVe embeddings\n",
        "glove = GloVe(name='6B')\n",
        "print(glove.vectors.shape)"
      ]
    },
    {
      "cell_type": "code",
      "execution_count": 119,
      "metadata": {
        "id": "VprDuYl8pYD2"
      },
      "outputs": [],
      "source": [
        "def sentence_to_indices(sentence, glove, max_len):\n",
        "    preprocess = Preprocess([sentence])\n",
        "    # print(sentence)\n",
        "    sentence = preprocess.run_all()[0]\n",
        "    length = len(sentence)\n",
        "    indices = [glove.stoi[word] if word in glove.stoi else glove.stoi['unk'] for word in sentence]\n",
        "    padded_indices = indices[:max_len] + [0] * (max_len - len(indices))\n",
        "    flength = length if length < max_len else max_len\n",
        "    return padded_indices, max_len\n",
        "\n",
        "def process_dataset(dataset, glove, max_lens, max_lenp):\n",
        "    processed_data = []\n",
        "    for item in dataset:\n",
        "        # print(item['id'])\n",
        "        sentence1_indices, _ = sentence_to_indices(item['sentence1'], glove, max_lens)\n",
        "        sentence2_indices, _ = sentence_to_indices(item['sentence2'], glove, max_lens)\n",
        "        phrase1_indices, _ = sentence_to_indices(item['phrase1'], glove, max_lenp)\n",
        "        phrase2_indices, _ = sentence_to_indices(item['phrase2'], glove, max_lenp)\n",
        "        label = torch.tensor(item['label'], dtype=torch.long)\n",
        "        sentence1_tensor = torch.tensor(sentence1_indices, dtype=torch.long)\n",
        "        sentence2_tensor = torch.tensor(sentence2_indices, dtype=torch.long)\n",
        "        processed_data.append((sentence1_indices, sentence2_indices, phrase1_indices, phrase2_indices, max_lens, max_lens, max_lenp, max_lenp, label))\n",
        "    return processed_data\n",
        "\n",
        "def collate_fn(batch):\n",
        "    sentence1_batch = torch.tensor([item[0] for item in batch])\n",
        "    sentence2_batch = torch.tensor([item[1] for item in batch])\n",
        "    phrase1_batch = torch.tensor([item[2] for item in batch])\n",
        "    phrase2_batch = torch.tensor([item[3] for item in batch])\n",
        "    len1_batch = torch.tensor([item[4] for item in batch])\n",
        "    len2_batch = torch.tensor([item[5] for item in batch])\n",
        "    lenp1_batch = torch.tensor([item[6] for item in batch])\n",
        "    lenp2_batch = torch.tensor([item[7] for item in batch])\n",
        "    labels_batch = torch.tensor([item[8] for item in batch])\n",
        "    return sentence1_batch, sentence2_batch, phrase1_batch, phrase2_batch, len1_batch, len2_batch, lenp1_batch, lenp2_batch, labels_batch\n"
      ]
    },
    {
      "cell_type": "code",
      "execution_count": 120,
      "metadata": {
        "id": "OSgPLySWpZvQ"
      },
      "outputs": [],
      "source": [
        "# Get the dataset\n",
        "train_dataset = process_dataset(ltrain_dataset, glove, 34,11)\n",
        "val_dataset = process_dataset(lval_dataset, glove, 34,11)\n",
        "test_dataset = process_dataset(ltest_dataset, glove, 34,11)"
      ]
    },
    {
      "cell_type": "code",
      "execution_count": 121,
      "metadata": {
        "colab": {
          "base_uri": "https://localhost:8080/"
        },
        "id": "PqXmUO5WpcEV",
        "outputId": "e014544d-5ee1-445e-8e2e-4a32c3760a2d"
      },
      "outputs": [
        {
          "name": "stdout",
          "output_type": "stream",
          "text": [
            "([2733, 48, 933, 68, 6923, 201534, 38883, 201534, 201534, 201534, 0, 0, 0, 0, 0, 0, 0, 0, 0, 0, 0, 0, 0, 0, 0, 0, 0, 0, 0, 0, 0, 0, 0, 0], [2733, 1671, 109429, 68, 6923, 201534, 38883, 201534, 201534, 201534, 0, 0, 0, 0, 0, 0, 0, 0, 0, 0, 0, 0, 0, 0, 0, 0, 0, 0, 0, 0, 0, 0, 0, 0], [48, 933, 0, 0, 0, 0, 0, 0, 0, 0, 0], [1671, 109429, 0, 0, 0, 0, 0, 0, 0, 0, 0], 34, 34, 11, 11, tensor(1))\n",
            "([15599, 183949, 336, 201534, 201534, 58, 180020, 156, 1143, 201534, 0, 0, 0, 0, 0, 0, 0, 0, 0, 0, 0, 0, 0, 0, 0, 0, 0, 0, 0, 0, 0, 0, 0, 0], [15599, 183949, 336, 201534, 201534, 3600, 1480, 156, 1143, 201534, 0, 0, 0, 0, 0, 0, 0, 0, 0, 0, 0, 0, 0, 0, 0, 0, 0, 0, 0, 0, 0, 0, 0, 0], [58, 180020, 0, 0, 0, 0, 0, 0, 0, 0, 0], [3600, 1480, 0, 0, 0, 0, 0, 0, 0, 0, 0], 34, 34, 11, 11, tensor(0))\n",
            "([19281, 1863, 2609, 325, 78647, 7758, 681, 515, 0, 0, 0, 0, 0, 0, 0, 0, 0, 0, 0, 0, 0, 0, 0, 0, 0, 0, 0, 0, 0, 0, 0, 0, 0, 0], [19281, 1863, 2609, 201534, 3106, 7758, 681, 515, 0, 0, 0, 0, 0, 0, 0, 0, 0, 0, 0, 0, 0, 0, 0, 0, 0, 0, 0, 0, 0, 0, 0, 0, 0, 0], [325, 78647, 0, 0, 0, 0, 0, 0, 0, 0, 0], [201534, 3106, 0, 0, 0, 0, 0, 0, 0, 0, 0], 34, 34, 11, 11, tensor(0))\n"
          ]
        }
      ],
      "source": [
        "# Check the dataset\n",
        "print(train_dataset[1])\n",
        "print(val_dataset[0])\n",
        "print(test_dataset[0])"
      ]
    },
    {
      "cell_type": "code",
      "execution_count": 122,
      "metadata": {
        "id": "1SdFwJdrpiT0"
      },
      "outputs": [],
      "source": [
        "train_loader = DataLoader(train_dataset, batch_size=128, shuffle=True, collate_fn=collate_fn)\n",
        "val_loader = DataLoader(val_dataset, batch_size=128, shuffle=True, collate_fn=collate_fn)\n",
        "test_loader = DataLoader(test_dataset, batch_size=128, shuffle=True, collate_fn=collate_fn)"
      ]
    },
    {
      "cell_type": "code",
      "execution_count": 123,
      "metadata": {
        "colab": {
          "base_uri": "https://localhost:8080/"
        },
        "id": "jSUa4LftpkRG",
        "outputId": "7caa8840-2505-4441-d0de-66565b6e5169"
      },
      "outputs": [
        {
          "name": "stdout",
          "output_type": "stream",
          "text": [
            "55\n",
            "9\n"
          ]
        }
      ],
      "source": [
        "# # Check the dataloaders\n",
        "\n",
        "print(len(train_loader))\n",
        "\n",
        "for batch in train_loader:\n",
        "    print(len(batch))\n",
        "    break"
      ]
    },
    {
      "cell_type": "code",
      "execution_count": 135,
      "metadata": {
        "id": "Z_xtgKfupleZ"
      },
      "outputs": [],
      "source": [
        "# Siamise LSTM model\n",
        "class PS_LSTM(nn.Module):\n",
        "    def __init__(self, embedding_dim, hidden_dim):\n",
        "        super(PS_LSTM, self).__init__()\n",
        "        self.embedding_dim = embedding_dim\n",
        "        self.embedding = nn.Embedding(len(glove.vectors), embedding_dim)\n",
        "        self.embedding.weight.data.copy_(glove.vectors)\n",
        "        self.embedding.weight.requires_grad = False # Freeze embeddings\n",
        "        self.hidden_dim = hidden_dim\n",
        "        self.lstm = nn.LSTM(embedding_dim, hidden_dim, batch_first=True, bidirectional=True, num_layers=3, dropout=0.5)\n",
        "        self.fc = nn.Linear(4*hidden_dim*2, 1)\n",
        "        self.dropout = nn.Dropout(0.5)\n",
        "\n",
        "    def lstm_forward(self, x, length):\n",
        "        x = self.embedding(x)\n",
        "        x = torch.nn.utils.rnn.pack_padded_sequence(x, length, batch_first=True, enforce_sorted=False)\n",
        "        _, (h, _) = self.lstm(x)\n",
        "        h = torch.cat((h[-2,:,:], h[-1,:,:]), dim=1)\n",
        "        return h\n",
        "\n",
        "    def forward(self, batch):\n",
        "        # Get the sentence pair, phrase pair and length\n",
        "        sentence1, sentence2, phrase1, phrase2, len1, len2, lenp1, lenp2, _ = batch\n",
        "\n",
        "        # Get the LSTM output for phrases\n",
        "        poutput1 = self.lstm_forward(phrase1, lenp1)\n",
        "        poutput2 = self.lstm_forward(phrase2, lenp2)\n",
        "\n",
        "        # Get the LSTM output for sentences\n",
        "        soutput1 = self.lstm_forward(sentence1, len1)\n",
        "        soutput2 = self.lstm_forward(sentence2, len2)\n",
        "\n",
        "        # Dropout\n",
        "        poutput1 = self.dropout(poutput1)\n",
        "        poutput2 = self.dropout(poutput2)\n",
        "        soutput1 = self.dropout(soutput1)\n",
        "        soutput2 = self.dropout(soutput2)\n",
        "\n",
        "        # Concatenate the outputs\n",
        "        concat_output1 = torch.cat((poutput1, soutput1), dim=1)\n",
        "        concat_output2 = torch.cat((poutput2, soutput2), dim=1)\n",
        "        output = torch.cat((concat_output1, concat_output2), dim=1)\n",
        "\n",
        "        # Get the final output\n",
        "        output = self.fc(output)\n",
        "        output = torch.sigmoid(output)\n",
        "\n",
        "        return output\n"
      ]
    },
    {
      "cell_type": "code",
      "execution_count": 136,
      "metadata": {
        "id": "TvaR9DpMppUl"
      },
      "outputs": [],
      "source": [
        "# Set the hyperparameters\n",
        "embedding_dim = 300\n",
        "hidden_dim = 50\n",
        "lr = 0.01\n",
        "epochs = 10\n",
        "\n",
        "# Initialize the model\n",
        "model = PS_LSTM(embedding_dim, hidden_dim)\n",
        "model.to(device)\n",
        "\n",
        "# Define the loss function for binary classification\n",
        "criterion = nn.BCELoss()\n",
        "\n",
        "# Define the optimizer\n",
        "optimizer = torch.optim.Adam(model.parameters(), lr=lr)\n",
        "# print(len(glove.vectors))\n"
      ]
    },
    {
      "cell_type": "code",
      "execution_count": 137,
      "metadata": {
        "id": "UGvIsslwprka"
      },
      "outputs": [],
      "source": [
        "# Function for train\n",
        "def train(model, train_loader, val_loader, criterion, optimizer, epochs):\n",
        "    train_losses = []\n",
        "    val_losses = []\n",
        "    for epoch in range(epochs):\n",
        "        train_preds = []\n",
        "        labels = []\n",
        "        train_loss = 0.0\n",
        "        val_loss = 0.0\n",
        "        model.train()\n",
        "        for batch in tqdm(train_loader):\n",
        "            batch = [b.to(device) if i != 4 and i != 5 and i!=6 and i!=7 else b for i, b in enumerate(batch)]\n",
        "            # Get the output from the model\n",
        "            # output1, output2 = model(batch)\n",
        "            output = model(batch)\n",
        "\n",
        "            # Get the label\n",
        "            _, _, _, _, _, _, _, _, label = batch\n",
        "            label = label.float()\n",
        "\n",
        "            # Calculate the loss\n",
        "\n",
        "            # output1 = F.normalize(output1, p=2, dim=1) # Normalize the output\n",
        "            # output2 = F.normalize(output2, p=2, dim=1) # Normalize the output\n",
        "\n",
        "            # cosine_similarity = F.cosine_similarity(output1, output2)\n",
        "            # Round cosine similarity to 6 decimal places\n",
        "            # cosine_similarity = torch.round(cosine_similarity * 1000000) / 1000000\n",
        "\n",
        "            # Map the similarity to 0 or 1\n",
        "            # similarity = F.sigmoid(cosine_similarity) # Non-linear mapping\n",
        "            # similarity = (cosine_similarity + 1)/2 # Linear mapping\n",
        "            # print(\"Similarity range: min =\", similarity.min().item(), \"max =\", similarity.max().item())\n",
        "\n",
        "            # distance = F.mse_loss(output1, output2, reduction='none')\n",
        "            # distance = torch.sum(distance, dim=1)\n",
        "            # similarity = F.sigmoid(-distance)\n",
        "\n",
        "            similarity = output.squeeze()\n",
        "\n",
        "            loss = criterion(similarity, label)\n",
        "\n",
        "            # Backpropagate the loss\n",
        "            optimizer.zero_grad()\n",
        "            loss.backward()\n",
        "            optimizer.step()\n",
        "\n",
        "            # Update the train loss\n",
        "            train_loss += loss.item()\n",
        "\n",
        "            # Get the predictions\n",
        "            preds = [1 if x >= 0.5 else 0 for x in similarity]\n",
        "            train_preds.extend(preds)\n",
        "            # Detach the label from GPU\n",
        "            label = label.detach().cpu().numpy()\n",
        "            labels.extend(label)\n",
        "\n",
        "        # Calculate the average loss\n",
        "        train_loss = train_loss/len(train_loader)\n",
        "        train_losses.append(train_loss)\n",
        "\n",
        "        # Calculate the validation loss\n",
        "        model.eval()\n",
        "        for batch in tqdm(val_loader):\n",
        "            batch = [b.to(device) if i != 4 and i != 5 and i!=6 and i!=7 else b for i, b in enumerate(batch)]\n",
        "            # Get the output from the model\n",
        "            # output1, output2 = model(batch)\n",
        "            output = model(batch)\n",
        "\n",
        "            # Get the label\n",
        "            _, _, _, _, _, _, _, _, label = batch\n",
        "            label = label.float()\n",
        "\n",
        "            # Calculate the loss\n",
        "\n",
        "            # cosine_similarity = F.cosine_similarity(output1, output2)\n",
        "            # Map the similarity to 0 or 1\n",
        "            # similarity = F.sigmoid(cosine_similarity) # Non-linear mapping\n",
        "\n",
        "            similarity = output.squeeze()\n",
        "            loss = criterion(similarity, label)\n",
        "\n",
        "            # Update the validation loss\n",
        "            val_loss += loss.item()\n",
        "\n",
        "        # Calculate the average loss\n",
        "        val_loss = val_loss/len(val_loader)\n",
        "        val_losses.append(val_loss)\n",
        "\n",
        "        # Calculate the accuracy\n",
        "        train_acc = accuracy_score(train_preds, labels)\n",
        "\n",
        "        # Print the losses and accuracy\n",
        "        print(\"Epoch:\", epoch+1, \"Train Loss:\", train_loss, \"Val Loss:\", val_loss, \"Train Accuracy:\", train_acc)\n",
        "\n",
        "    return train_losses, val_losses"
      ]
    },
    {
      "cell_type": "code",
      "execution_count": 138,
      "metadata": {
        "colab": {
          "base_uri": "https://localhost:8080/"
        },
        "id": "WgdemYhSpu-y",
        "outputId": "e5da386d-95ab-4f4c-bd2f-e0cf39742b0b"
      },
      "outputs": [
        {
          "name": "stderr",
          "output_type": "stream",
          "text": [
            "100%|██████████| 55/55 [00:01<00:00, 34.38it/s]\n",
            "100%|██████████| 8/8 [00:00<00:00, 88.45it/s]\n"
          ]
        },
        {
          "name": "stdout",
          "output_type": "stream",
          "text": [
            "Epoch: 1 Train Loss: 0.6978577841411937 Val Loss: 0.6942966803908348 Train Accuracy: 0.4930039977155911\n"
          ]
        },
        {
          "name": "stderr",
          "output_type": "stream",
          "text": [
            "100%|██████████| 55/55 [00:01<00:00, 35.97it/s]\n",
            "100%|██████████| 8/8 [00:00<00:00, 85.33it/s]\n"
          ]
        },
        {
          "name": "stdout",
          "output_type": "stream",
          "text": [
            "Epoch: 2 Train Loss: 0.6942420287565751 Val Loss: 0.6944881826639175 Train Accuracy: 0.49800114220445457\n"
          ]
        },
        {
          "name": "stderr",
          "output_type": "stream",
          "text": [
            "100%|██████████| 55/55 [00:01<00:00, 36.15it/s]\n",
            "100%|██████████| 8/8 [00:00<00:00, 92.24it/s]\n"
          ]
        },
        {
          "name": "stdout",
          "output_type": "stream",
          "text": [
            "Epoch: 3 Train Loss: 0.694248785755851 Val Loss: 0.6938927546143532 Train Accuracy: 0.5028555111364934\n"
          ]
        },
        {
          "name": "stderr",
          "output_type": "stream",
          "text": [
            "100%|██████████| 55/55 [00:02<00:00, 25.72it/s]\n",
            "100%|██████████| 8/8 [00:00<00:00, 62.16it/s]\n"
          ]
        },
        {
          "name": "stdout",
          "output_type": "stream",
          "text": [
            "Epoch: 4 Train Loss: 0.6942167422988198 Val Loss: 0.6948708742856979 Train Accuracy: 0.500856653340948\n"
          ]
        },
        {
          "name": "stderr",
          "output_type": "stream",
          "text": [
            "100%|██████████| 55/55 [00:02<00:00, 26.40it/s]\n",
            "100%|██████████| 8/8 [00:00<00:00, 82.60it/s]\n"
          ]
        },
        {
          "name": "stdout",
          "output_type": "stream",
          "text": [
            "Epoch: 5 Train Loss: 0.6941825487396934 Val Loss: 0.6945460140705109 Train Accuracy: 0.49942889777270133\n"
          ]
        },
        {
          "name": "stderr",
          "output_type": "stream",
          "text": [
            "100%|██████████| 55/55 [00:01<00:00, 36.21it/s]\n",
            "100%|██████████| 8/8 [00:00<00:00, 81.06it/s]\n"
          ]
        },
        {
          "name": "stdout",
          "output_type": "stream",
          "text": [
            "Epoch: 6 Train Loss: 0.693988380648873 Val Loss: 0.6948994994163513 Train Accuracy: 0.4948600799543118\n"
          ]
        },
        {
          "name": "stderr",
          "output_type": "stream",
          "text": [
            "100%|██████████| 55/55 [00:01<00:00, 36.67it/s]\n",
            "100%|██████████| 8/8 [00:00<00:00, 85.95it/s]\n"
          ]
        },
        {
          "name": "stdout",
          "output_type": "stream",
          "text": [
            "Epoch: 7 Train Loss: 0.6940440177917481 Val Loss: 0.6952418088912964 Train Accuracy: 0.5009994288977727\n"
          ]
        },
        {
          "name": "stderr",
          "output_type": "stream",
          "text": [
            "100%|██████████| 55/55 [00:01<00:00, 36.24it/s]\n",
            "100%|██████████| 8/8 [00:00<00:00, 86.45it/s]\n"
          ]
        },
        {
          "name": "stdout",
          "output_type": "stream",
          "text": [
            "Epoch: 8 Train Loss: 0.6940026770938527 Val Loss: 0.6965080127120018 Train Accuracy: 0.49771559109080526\n"
          ]
        },
        {
          "name": "stderr",
          "output_type": "stream",
          "text": [
            "100%|██████████| 55/55 [00:01<00:00, 36.49it/s]\n",
            "100%|██████████| 8/8 [00:00<00:00, 92.68it/s]\n"
          ]
        },
        {
          "name": "stdout",
          "output_type": "stream",
          "text": [
            "Epoch: 9 Train Loss: 0.6943501808426596 Val Loss: 0.6947253122925758 Train Accuracy: 0.5038549400342661\n"
          ]
        },
        {
          "name": "stderr",
          "output_type": "stream",
          "text": [
            "100%|██████████| 55/55 [00:02<00:00, 20.60it/s]\n",
            "100%|██████████| 8/8 [00:00<00:00, 40.62it/s]\n"
          ]
        },
        {
          "name": "stdout",
          "output_type": "stream",
          "text": [
            "Epoch: 10 Train Loss: 0.6924904834140431 Val Loss: 0.6956177279353142 Train Accuracy: 0.5158480868075386\n"
          ]
        }
      ],
      "source": [
        "# Train the model\n",
        "\n",
        "train_losses, val_losses = train(model, train_loader, val_loader, criterion, optimizer, epochs)"
      ]
    },
    {
      "cell_type": "code",
      "execution_count": 139,
      "metadata": {
        "id": "5Y0sbVEUpw-o"
      },
      "outputs": [],
      "source": [
        "# Function to plot the losses: train and validation on the same plot\n",
        "def plot_losses(train_losses, val_losses):\n",
        "    plt.plot(train_losses, label='Train Loss')\n",
        "    plt.plot(val_losses, label='Val Loss')\n",
        "    plt.legend()\n",
        "    plt.savefig('/content/drive/MyDrive/ps_bilstm_pands_losses.png')\n",
        "    plt.show()"
      ]
    },
    {
      "cell_type": "code",
      "execution_count": 140,
      "metadata": {
        "colab": {
          "base_uri": "https://localhost:8080/",
          "height": 430
        },
        "id": "zGq1RPLZp76b",
        "outputId": "dd1a57c1-6edf-4539-9ea3-9337088e2c21"
      },
      "outputs": [
        {
          "data": {
            "image/png": "[encoded data removed]",
            "text/plain": [
              "<Figure size 640x480 with 1 Axes>"
            ]
          },
          "metadata": {},
          "output_type": "display_data"
        }
      ],
      "source": [
        "# Call the function to plot the losses\n",
        "plot_losses(train_losses, val_losses)"
      ]
    },
    {
      "cell_type": "code",
      "execution_count": 142,
      "metadata": {
        "id": "JHplB3hKp9Zv"
      },
      "outputs": [],
      "source": [
        "# Save the model\n",
        "torch.save(model.state_dict(), '/content/drive/MyDrive/ps_bilstm_pands_losses.pth')"
      ]
    },
    {
      "cell_type": "code",
      "execution_count": 143,
      "metadata": {
        "id": "Txj6aYk8qII5"
      },
      "outputs": [],
      "source": [
        "# Function for test\n",
        "def evaluate(model, test_loader, criterion):\n",
        "    test_loss = 0.0\n",
        "    model.eval()\n",
        "    predictions = []\n",
        "    labels = []\n",
        "\n",
        "    for batch in tqdm(test_loader):\n",
        "        batch = [b.to(device) if i != 4 and i != 5 and i!=6 and i!=7 else b for i, b in enumerate(batch)]\n",
        "        # Get the output from the model\n",
        "        # output1, output2 = model(batch)\n",
        "        output = model(batch)\n",
        "\n",
        "        # Get the label\n",
        "        _, _, _, _, _, _, _, _, label = batch\n",
        "        label = label.float()\n",
        "\n",
        "        # Calculate the loss\n",
        "\n",
        "        # cosine_similarity = F.cosine_similarity(output1, output2)\n",
        "        # Round cosine similarity to 6 decimal places\n",
        "        # cosine_similarity = torch.round(cosine_similarity * 1000000) / 1000000\n",
        "\n",
        "        # Map the similarity to 0 or 1\n",
        "        # similarity = F.sigmoid(cosine_similarity) # Non-linear mapping\n",
        "        # similarity = (cosine_similarity + 1)/2 # Linear mapping\n",
        "\n",
        "        similarity = output.squeeze()\n",
        "\n",
        "        predicted_label = [1 if x >= 0.49 else 0 for x in similarity]\n",
        "        predictions.extend(predicted_label)\n",
        "\n",
        "        loss = criterion(similarity, label)\n",
        "\n",
        "        label = label.detach().cpu().numpy()\n",
        "        labels.extend(label.tolist())\n",
        "\n",
        "        # Update the test loss\n",
        "        test_loss += loss.item()\n",
        "\n",
        "    # Calculate the average loss\n",
        "    test_loss = test_loss/len(test_loader)\n",
        "\n",
        "    # Print the losses\n",
        "    print('Test Loss: {:.6f}'.format(test_loss))\n",
        "\n",
        "    # Calculate the accuracy\n",
        "    accuracy = accuracy_score(labels, predictions)\n",
        "\n",
        "    return test_loss, accuracy * 100"
      ]
    },
    {
      "cell_type": "code",
      "execution_count": 144,
      "metadata": {
        "colab": {
          "base_uri": "https://localhost:8080/"
        },
        "id": "eV5lNjtpqKDr",
        "outputId": "c8a0b65b-2fd6-46d6-8837-32dc27c0015b"
      },
      "outputs": [
        {
          "name": "stderr",
          "output_type": "stream",
          "text": [
            "100%|██████████| 16/16 [00:00<00:00, 27.18it/s]"
          ]
        },
        {
          "name": "stdout",
          "output_type": "stream",
          "text": [
            "Test Loss: 0.696466\n",
            "Accuracy: 47.150000\n"
          ]
        },
        {
          "name": "stderr",
          "output_type": "stream",
          "text": [
            "\n"
          ]
        }
      ],
      "source": [
        "# Evaluate the model\n",
        "\n",
        "test_loss, accuracy = evaluate(model, test_loader, criterion)\n",
        "print('Accuracy: {:.6f}'.format(accuracy))"
      ]
    },
    {
      "cell_type": "code",
      "execution_count": null,
      "metadata": {
        "id": "lpH1o1uDqMfy"
      },
      "outputs": [],
      "source": []
    }
  ],
  "metadata": {
    "accelerator": "GPU",
    "colab": {
      "gpuType": "T4",
      "provenance": []
    },
    "kernelspec": {
      "display_name": "Python 3",
      "name": "python3"
    },
    "language_info": {
      "codemirror_mode": {
        "name": "ipython",
        "version": 3
      },
      "file_extension": ".py",
      "mimetype": "text/x-python",
      "name": "python",
      "nbconvert_exporter": "python",
      "pygments_lexer": "ipython3",
      "version": "3.10.13"
    },
    "widgets": {
      "application/vnd.jupyter.widget-state+json": {
        "00ee6aa977b44212956bb2e8513d02fb": {
          "model_module": "@jupyter-widgets/base",
          "model_module_version": "1.2.0",
          "model_name": "LayoutModel",
          "state": {
            "_model_module": "@jupyter-widgets/base",
            "_model_module_version": "1.2.0",
            "_model_name": "LayoutModel",
            "_view_count": null,
            "_view_module": "@jupyter-widgets/base",
            "_view_module_version": "1.2.0",
            "_view_name": "LayoutView",
            "align_content": null,
            "align_items": null,
            "align_self": null,
            "border": null,
            "bottom": null,
            "display": null,
            "flex": null,
            "flex_flow": null,
            "grid_area": null,
            "grid_auto_columns": null,
            "grid_auto_flow": null,
            "grid_auto_rows": null,
            "grid_column": null,
            "grid_gap": null,
            "grid_row": null,
            "grid_template_areas": null,
            "grid_template_columns": null,
            "grid_template_rows": null,
            "height": null,
            "justify_content": null,
            "justify_items": null,
            "left": null,
            "margin": null,
            "max_height": null,
            "max_width": null,
            "min_height": null,
            "min_width": null,
            "object_fit": null,
            "object_position": null,
            "order": null,
            "overflow": null,
            "overflow_x": null,
            "overflow_y": null,
            "padding": null,
            "right": null,
            "top": null,
            "visibility": null,
            "width": null
          }
        },
        "0cac3e07a85440378a26e737c3ec9e67": {
          "model_module": "@jupyter-widgets/controls",
          "model_module_version": "1.5.0",
          "model_name": "FloatProgressModel",
          "state": {
            "_dom_classes": [],
            "_model_module": "@jupyter-widgets/controls",
            "_model_module_version": "1.5.0",
            "_model_name": "FloatProgressModel",
            "_view_count": null,
            "_view_module": "@jupyter-widgets/controls",
            "_view_module_version": "1.5.0",
            "_view_name": "ProgressView",
            "bar_style": "success",
            "description": "",
            "description_tooltip": null,
            "layout": "IPY_MODEL_1706b19915c648d98963004503d8d104",
            "max": 7004,
            "min": 0,
            "orientation": "horizontal",
            "style": "IPY_MODEL_43355157aa46409cb5bc8bb3ebb71b4e",
            "value": 7004
          }
        },
        "100bc0c4afce41309ee4a76137aba009": {
          "model_module": "@jupyter-widgets/base",
          "model_module_version": "1.2.0",
          "model_name": "LayoutModel",
          "state": {
            "_model_module": "@jupyter-widgets/base",
            "_model_module_version": "1.2.0",
            "_model_name": "LayoutModel",
            "_view_count": null,
            "_view_module": "@jupyter-widgets/base",
            "_view_module_version": "1.2.0",
            "_view_name": "LayoutView",
            "align_content": null,
            "align_items": null,
            "align_self": null,
            "border": null,
            "bottom": null,
            "display": null,
            "flex": null,
            "flex_flow": null,
            "grid_area": null,
            "grid_auto_columns": null,
            "grid_auto_flow": null,
            "grid_auto_rows": null,
            "grid_column": null,
            "grid_gap": null,
            "grid_row": null,
            "grid_template_areas": null,
            "grid_template_columns": null,
            "grid_template_rows": null,
            "height": null,
            "justify_content": null,
            "justify_items": null,
            "left": null,
            "margin": null,
            "max_height": null,
            "max_width": null,
            "min_height": null,
            "min_width": null,
            "object_fit": null,
            "object_position": null,
            "order": null,
            "overflow": null,
            "overflow_x": null,
            "overflow_y": null,
            "padding": null,
            "right": null,
            "top": null,
            "visibility": null,
            "width": null
          }
        },
        "1040304bca844883bda176206296a5a4": {
          "model_module": "@jupyter-widgets/controls",
          "model_module_version": "1.5.0",
          "model_name": "HTMLModel",
          "state": {
            "_dom_classes": [],
            "_model_module": "@jupyter-widgets/controls",
            "_model_module_version": "1.5.0",
            "_model_name": "HTMLModel",
            "_view_count": null,
            "_view_module": "@jupyter-widgets/controls",
            "_view_module_version": "1.5.0",
            "_view_name": "HTMLView",
            "description": "",
            "description_tooltip": null,
            "layout": "IPY_MODEL_f7b4ed3ea3c14375aeac6a7b919cb2ca",
            "placeholder": "​",
            "style": "IPY_MODEL_e39a0b6e62134a7ea5df210afdc8f4a8",
            "value": " 7004/7004 [00:00&lt;00:00, 8534.97 examples/s]"
          }
        },
        "13bd259f18bc4d7b91aa38bf64b6ad3c": {
          "model_module": "@jupyter-widgets/base",
          "model_module_version": "1.2.0",
          "model_name": "LayoutModel",
          "state": {
            "_model_module": "@jupyter-widgets/base",
            "_model_module_version": "1.2.0",
            "_model_name": "LayoutModel",
            "_view_count": null,
            "_view_module": "@jupyter-widgets/base",
            "_view_module_version": "1.2.0",
            "_view_name": "LayoutView",
            "align_content": null,
            "align_items": null,
            "align_self": null,
            "border": null,
            "bottom": null,
            "display": null,
            "flex": null,
            "flex_flow": null,
            "grid_area": null,
            "grid_auto_columns": null,
            "grid_auto_flow": null,
            "grid_auto_rows": null,
            "grid_column": null,
            "grid_gap": null,
            "grid_row": null,
            "grid_template_areas": null,
            "grid_template_columns": null,
            "grid_template_rows": null,
            "height": null,
            "justify_content": null,
            "justify_items": null,
            "left": null,
            "margin": null,
            "max_height": null,
            "max_width": null,
            "min_height": null,
            "min_width": null,
            "object_fit": null,
            "object_position": null,
            "order": null,
            "overflow": null,
            "overflow_x": null,
            "overflow_y": null,
            "padding": null,
            "right": null,
            "top": null,
            "visibility": null,
            "width": null
          }
        },
        "1442ffcafc4148c992b0ca54cd366bae": {
          "model_module": "@jupyter-widgets/controls",
          "model_module_version": "1.5.0",
          "model_name": "HBoxModel",
          "state": {
            "_dom_classes": [],
            "_model_module": "@jupyter-widgets/controls",
            "_model_module_version": "1.5.0",
            "_model_name": "HBoxModel",
            "_view_count": null,
            "_view_module": "@jupyter-widgets/controls",
            "_view_module_version": "1.5.0",
            "_view_name": "HBoxView",
            "box_style": "",
            "children": [
              "IPY_MODEL_9f348af900384eff9dff331ef67ca1f0",
              "IPY_MODEL_e6443401da0a496f97cd8dbf304532a6",
              "IPY_MODEL_9b6d1e3095f04956b026cc4ae1d6809d"
            ],
            "layout": "IPY_MODEL_9a5e308429ba4a6885040ee2cbde445d"
          }
        },
        "1706b19915c648d98963004503d8d104": {
          "model_module": "@jupyter-widgets/base",
          "model_module_version": "1.2.0",
          "model_name": "LayoutModel",
          "state": {
            "_model_module": "@jupyter-widgets/base",
            "_model_module_version": "1.2.0",
            "_model_name": "LayoutModel",
            "_view_count": null,
            "_view_module": "@jupyter-widgets/base",
            "_view_module_version": "1.2.0",
            "_view_name": "LayoutView",
            "align_content": null,
            "align_items": null,
            "align_self": null,
            "border": null,
            "bottom": null,
            "display": null,
            "flex": null,
            "flex_flow": null,
            "grid_area": null,
            "grid_auto_columns": null,
            "grid_auto_flow": null,
            "grid_auto_rows": null,
            "grid_column": null,
            "grid_gap": null,
            "grid_row": null,
            "grid_template_areas": null,
            "grid_template_columns": null,
            "grid_template_rows": null,
            "height": null,
            "justify_content": null,
            "justify_items": null,
            "left": null,
            "margin": null,
            "max_height": null,
            "max_width": null,
            "min_height": null,
            "min_width": null,
            "object_fit": null,
            "object_position": null,
            "order": null,
            "overflow": null,
            "overflow_x": null,
            "overflow_y": null,
            "padding": null,
            "right": null,
            "top": null,
            "visibility": null,
            "width": null
          }
        },
        "1748c7deeda34aa4aad92480ce513ceb": {
          "model_module": "@jupyter-widgets/base",
          "model_module_version": "1.2.0",
          "model_name": "LayoutModel",
          "state": {
            "_model_module": "@jupyter-widgets/base",
            "_model_module_version": "1.2.0",
            "_model_name": "LayoutModel",
            "_view_count": null,
            "_view_module": "@jupyter-widgets/base",
            "_view_module_version": "1.2.0",
            "_view_name": "LayoutView",
            "align_content": null,
            "align_items": null,
            "align_self": null,
            "border": null,
            "bottom": null,
            "display": null,
            "flex": null,
            "flex_flow": null,
            "grid_area": null,
            "grid_auto_columns": null,
            "grid_auto_flow": null,
            "grid_auto_rows": null,
            "grid_column": null,
            "grid_gap": null,
            "grid_row": null,
            "grid_template_areas": null,
            "grid_template_columns": null,
            "grid_template_rows": null,
            "height": null,
            "justify_content": null,
            "justify_items": null,
            "left": null,
            "margin": null,
            "max_height": null,
            "max_width": null,
            "min_height": null,
            "min_width": null,
            "object_fit": null,
            "object_position": null,
            "order": null,
            "overflow": null,
            "overflow_x": null,
            "overflow_y": null,
            "padding": null,
            "right": null,
            "top": null,
            "visibility": null,
            "width": null
          }
        },
        "1e7c4b39b91d4e50ae03f9c4279be97f": {
          "model_module": "@jupyter-widgets/controls",
          "model_module_version": "1.5.0",
          "model_name": "DescriptionStyleModel",
          "state": {
            "_model_module": "@jupyter-widgets/controls",
            "_model_module_version": "1.5.0",
            "_model_name": "DescriptionStyleModel",
            "_view_count": null,
            "_view_module": "@jupyter-widgets/base",
            "_view_module_version": "1.2.0",
            "_view_name": "StyleView",
            "description_width": ""
          }
        },
        "2817e55857374314b2e27814cf3b0a75": {
          "model_module": "@jupyter-widgets/base",
          "model_module_version": "1.2.0",
          "model_name": "LayoutModel",
          "state": {
            "_model_module": "@jupyter-widgets/base",
            "_model_module_version": "1.2.0",
            "_model_name": "LayoutModel",
            "_view_count": null,
            "_view_module": "@jupyter-widgets/base",
            "_view_module_version": "1.2.0",
            "_view_name": "LayoutView",
            "align_content": null,
            "align_items": null,
            "align_self": null,
            "border": null,
            "bottom": null,
            "display": null,
            "flex": null,
            "flex_flow": null,
            "grid_area": null,
            "grid_auto_columns": null,
            "grid_auto_flow": null,
            "grid_auto_rows": null,
            "grid_column": null,
            "grid_gap": null,
            "grid_row": null,
            "grid_template_areas": null,
            "grid_template_columns": null,
            "grid_template_rows": null,
            "height": null,
            "justify_content": null,
            "justify_items": null,
            "left": null,
            "margin": null,
            "max_height": null,
            "max_width": null,
            "min_height": null,
            "min_width": null,
            "object_fit": null,
            "object_position": null,
            "order": null,
            "overflow": null,
            "overflow_x": null,
            "overflow_y": null,
            "padding": null,
            "right": null,
            "top": null,
            "visibility": null,
            "width": null
          }
        },
        "3768bf77ee764076829d9ded86d2d901": {
          "model_module": "@jupyter-widgets/controls",
          "model_module_version": "1.5.0",
          "model_name": "DescriptionStyleModel",
          "state": {
            "_model_module": "@jupyter-widgets/controls",
            "_model_module_version": "1.5.0",
            "_model_name": "DescriptionStyleModel",
            "_view_count": null,
            "_view_module": "@jupyter-widgets/base",
            "_view_module_version": "1.2.0",
            "_view_name": "StyleView",
            "description_width": ""
          }
        },
        "3b06e7e21fa14dfc824b318f274d4fb4": {
          "model_module": "@jupyter-widgets/controls",
          "model_module_version": "1.5.0",
          "model_name": "DescriptionStyleModel",
          "state": {
            "_model_module": "@jupyter-widgets/controls",
            "_model_module_version": "1.5.0",
            "_model_name": "DescriptionStyleModel",
            "_view_count": null,
            "_view_module": "@jupyter-widgets/base",
            "_view_module_version": "1.2.0",
            "_view_name": "StyleView",
            "description_width": ""
          }
        },
        "3ced37078c5142f6abd0b608caffe9e4": {
          "model_module": "@jupyter-widgets/controls",
          "model_module_version": "1.5.0",
          "model_name": "HTMLModel",
          "state": {
            "_dom_classes": [],
            "_model_module": "@jupyter-widgets/controls",
            "_model_module_version": "1.5.0",
            "_model_name": "HTMLModel",
            "_view_count": null,
            "_view_module": "@jupyter-widgets/controls",
            "_view_module_version": "1.5.0",
            "_view_name": "HTMLView",
            "description": "",
            "description_tooltip": null,
            "layout": "IPY_MODEL_d31a175ca0b64a5c9e5765dba8354afe",
            "placeholder": "​",
            "style": "IPY_MODEL_fbae4dcb885f4712a11abd35dd77a8f6",
            "value": " 202k/202k [00:00&lt;00:00, 275kB/s]"
          }
        },
        "3da8231b9a784862b791a2f95c26f7ef": {
          "model_module": "@jupyter-widgets/controls",
          "model_module_version": "1.5.0",
          "model_name": "HTMLModel",
          "state": {
            "_dom_classes": [],
            "_model_module": "@jupyter-widgets/controls",
            "_model_module_version": "1.5.0",
            "_model_name": "HTMLModel",
            "_view_count": null,
            "_view_module": "@jupyter-widgets/controls",
            "_view_module_version": "1.5.0",
            "_view_name": "HTMLView",
            "description": "",
            "description_tooltip": null,
            "layout": "IPY_MODEL_1748c7deeda34aa4aad92480ce513ceb",
            "placeholder": "​",
            "style": "IPY_MODEL_3768bf77ee764076829d9ded86d2d901",
            "value": "Downloading data: 100%"
          }
        },
        "43355157aa46409cb5bc8bb3ebb71b4e": {
          "model_module": "@jupyter-widgets/controls",
          "model_module_version": "1.5.0",
          "model_name": "ProgressStyleModel",
          "state": {
            "_model_module": "@jupyter-widgets/controls",
            "_model_module_version": "1.5.0",
            "_model_name": "ProgressStyleModel",
            "_view_count": null,
            "_view_module": "@jupyter-widgets/base",
            "_view_module_version": "1.2.0",
            "_view_name": "StyleView",
            "bar_color": null,
            "description_width": ""
          }
        },
        "45326363ae344fc69cf694ee40f79aa0": {
          "model_module": "@jupyter-widgets/base",
          "model_module_version": "1.2.0",
          "model_name": "LayoutModel",
          "state": {
            "_model_module": "@jupyter-widgets/base",
            "_model_module_version": "1.2.0",
            "_model_name": "LayoutModel",
            "_view_count": null,
            "_view_module": "@jupyter-widgets/base",
            "_view_module_version": "1.2.0",
            "_view_name": "LayoutView",
            "align_content": null,
            "align_items": null,
            "align_self": null,
            "border": null,
            "bottom": null,
            "display": null,
            "flex": null,
            "flex_flow": null,
            "grid_area": null,
            "grid_auto_columns": null,
            "grid_auto_flow": null,
            "grid_auto_rows": null,
            "grid_column": null,
            "grid_gap": null,
            "grid_row": null,
            "grid_template_areas": null,
            "grid_template_columns": null,
            "grid_template_rows": null,
            "height": null,
            "justify_content": null,
            "justify_items": null,
            "left": null,
            "margin": null,
            "max_height": null,
            "max_width": null,
            "min_height": null,
            "min_width": null,
            "object_fit": null,
            "object_position": null,
            "order": null,
            "overflow": null,
            "overflow_x": null,
            "overflow_y": null,
            "padding": null,
            "right": null,
            "top": null,
            "visibility": null,
            "width": null
          }
        },
        "493cfe3f377d458285427420b633a371": {
          "model_module": "@jupyter-widgets/controls",
          "model_module_version": "1.5.0",
          "model_name": "ProgressStyleModel",
          "state": {
            "_model_module": "@jupyter-widgets/controls",
            "_model_module_version": "1.5.0",
            "_model_name": "ProgressStyleModel",
            "_view_count": null,
            "_view_module": "@jupyter-widgets/base",
            "_view_module_version": "1.2.0",
            "_view_name": "StyleView",
            "bar_color": null,
            "description_width": ""
          }
        },
        "4c76d4b8d144499597e69254c3613fa5": {
          "model_module": "@jupyter-widgets/controls",
          "model_module_version": "1.5.0",
          "model_name": "ProgressStyleModel",
          "state": {
            "_model_module": "@jupyter-widgets/controls",
            "_model_module_version": "1.5.0",
            "_model_name": "ProgressStyleModel",
            "_view_count": null,
            "_view_module": "@jupyter-widgets/base",
            "_view_module_version": "1.2.0",
            "_view_name": "StyleView",
            "bar_color": null,
            "description_width": ""
          }
        },
        "5055bf4f50034968826a6a9839e01c8b": {
          "model_module": "@jupyter-widgets/base",
          "model_module_version": "1.2.0",
          "model_name": "LayoutModel",
          "state": {
            "_model_module": "@jupyter-widgets/base",
            "_model_module_version": "1.2.0",
            "_model_name": "LayoutModel",
            "_view_count": null,
            "_view_module": "@jupyter-widgets/base",
            "_view_module_version": "1.2.0",
            "_view_name": "LayoutView",
            "align_content": null,
            "align_items": null,
            "align_self": null,
            "border": null,
            "bottom": null,
            "display": null,
            "flex": null,
            "flex_flow": null,
            "grid_area": null,
            "grid_auto_columns": null,
            "grid_auto_flow": null,
            "grid_auto_rows": null,
            "grid_column": null,
            "grid_gap": null,
            "grid_row": null,
            "grid_template_areas": null,
            "grid_template_columns": null,
            "grid_template_rows": null,
            "height": null,
            "justify_content": null,
            "justify_items": null,
            "left": null,
            "margin": null,
            "max_height": null,
            "max_width": null,
            "min_height": null,
            "min_width": null,
            "object_fit": null,
            "object_position": null,
            "order": null,
            "overflow": null,
            "overflow_x": null,
            "overflow_y": null,
            "padding": null,
            "right": null,
            "top": null,
            "visibility": null,
            "width": null
          }
        },
        "546626567c6e46869718945fb3b5eda3": {
          "model_module": "@jupyter-widgets/controls",
          "model_module_version": "1.5.0",
          "model_name": "ProgressStyleModel",
          "state": {
            "_model_module": "@jupyter-widgets/controls",
            "_model_module_version": "1.5.0",
            "_model_name": "ProgressStyleModel",
            "_view_count": null,
            "_view_module": "@jupyter-widgets/base",
            "_view_module_version": "1.2.0",
            "_view_name": "StyleView",
            "bar_color": null,
            "description_width": ""
          }
        },
        "58e25b029a8e41f39f48c056e5724595": {
          "model_module": "@jupyter-widgets/controls",
          "model_module_version": "1.5.0",
          "model_name": "HTMLModel",
          "state": {
            "_dom_classes": [],
            "_model_module": "@jupyter-widgets/controls",
            "_model_module_version": "1.5.0",
            "_model_name": "HTMLModel",
            "_view_count": null,
            "_view_module": "@jupyter-widgets/controls",
            "_view_module_version": "1.5.0",
            "_view_name": "HTMLView",
            "description": "",
            "description_tooltip": null,
            "layout": "IPY_MODEL_734a6f54751749bba843d5af116c449d",
            "placeholder": "​",
            "style": "IPY_MODEL_7272790b0ddd4999b948a323ca43c653",
            "value": "Downloading data: 100%"
          }
        },
        "5af9f3a812874107a20719759877830b": {
          "model_module": "@jupyter-widgets/base",
          "model_module_version": "1.2.0",
          "model_name": "LayoutModel",
          "state": {
            "_model_module": "@jupyter-widgets/base",
            "_model_module_version": "1.2.0",
            "_model_name": "LayoutModel",
            "_view_count": null,
            "_view_module": "@jupyter-widgets/base",
            "_view_module_version": "1.2.0",
            "_view_name": "LayoutView",
            "align_content": null,
            "align_items": null,
            "align_self": null,
            "border": null,
            "bottom": null,
            "display": null,
            "flex": null,
            "flex_flow": null,
            "grid_area": null,
            "grid_auto_columns": null,
            "grid_auto_flow": null,
            "grid_auto_rows": null,
            "grid_column": null,
            "grid_gap": null,
            "grid_row": null,
            "grid_template_areas": null,
            "grid_template_columns": null,
            "grid_template_rows": null,
            "height": null,
            "justify_content": null,
            "justify_items": null,
            "left": null,
            "margin": null,
            "max_height": null,
            "max_width": null,
            "min_height": null,
            "min_width": null,
            "object_fit": null,
            "object_position": null,
            "order": null,
            "overflow": null,
            "overflow_x": null,
            "overflow_y": null,
            "padding": null,
            "right": null,
            "top": null,
            "visibility": null,
            "width": null
          }
        },
        "5dfcba8feef04f8e8ad1fa7a1e3846d7": {
          "model_module": "@jupyter-widgets/controls",
          "model_module_version": "1.5.0",
          "model_name": "DescriptionStyleModel",
          "state": {
            "_model_module": "@jupyter-widgets/controls",
            "_model_module_version": "1.5.0",
            "_model_name": "DescriptionStyleModel",
            "_view_count": null,
            "_view_module": "@jupyter-widgets/base",
            "_view_module_version": "1.2.0",
            "_view_name": "StyleView",
            "description_width": ""
          }
        },
        "5ec8726af17240279e95f10be896de5f": {
          "model_module": "@jupyter-widgets/controls",
          "model_module_version": "1.5.0",
          "model_name": "FloatProgressModel",
          "state": {
            "_dom_classes": [],
            "_model_module": "@jupyter-widgets/controls",
            "_model_module_version": "1.5.0",
            "_model_name": "FloatProgressModel",
            "_view_count": null,
            "_view_module": "@jupyter-widgets/controls",
            "_view_module_version": "1.5.0",
            "_view_name": "ProgressView",
            "bar_style": "success",
            "description": "",
            "description_tooltip": null,
            "layout": "IPY_MODEL_f142ed4ecc324c8eb5df39c2ceb5a6ae",
            "max": 202396,
            "min": 0,
            "orientation": "horizontal",
            "style": "IPY_MODEL_493cfe3f377d458285427420b633a371",
            "value": 202396
          }
        },
        "601065e2575e435393ff050bea58f145": {
          "model_module": "@jupyter-widgets/controls",
          "model_module_version": "1.5.0",
          "model_name": "HTMLModel",
          "state": {
            "_dom_classes": [],
            "_model_module": "@jupyter-widgets/controls",
            "_model_module_version": "1.5.0",
            "_model_name": "HTMLModel",
            "_view_count": null,
            "_view_module": "@jupyter-widgets/controls",
            "_view_module_version": "1.5.0",
            "_view_name": "HTMLView",
            "description": "",
            "description_tooltip": null,
            "layout": "IPY_MODEL_100bc0c4afce41309ee4a76137aba009",
            "placeholder": "​",
            "style": "IPY_MODEL_6a4593b35b6347b28715f605244565e9",
            "value": " 1000/1000 [00:00&lt;00:00, 46959.75 examples/s]"
          }
        },
        "69803985d02a41cdbcb3112796e7e9f8": {
          "model_module": "@jupyter-widgets/controls",
          "model_module_version": "1.5.0",
          "model_name": "HBoxModel",
          "state": {
            "_dom_classes": [],
            "_model_module": "@jupyter-widgets/controls",
            "_model_module_version": "1.5.0",
            "_model_name": "HBoxModel",
            "_view_count": null,
            "_view_module": "@jupyter-widgets/controls",
            "_view_module_version": "1.5.0",
            "_view_name": "HBoxView",
            "box_style": "",
            "children": [
              "IPY_MODEL_f0bcd5c8c7b54ddcabbd240a274f6761",
              "IPY_MODEL_8ed9ec04e60a49309fc7b3e95206d6e7",
              "IPY_MODEL_601065e2575e435393ff050bea58f145"
            ],
            "layout": "IPY_MODEL_13bd259f18bc4d7b91aa38bf64b6ad3c"
          }
        },
        "6a4593b35b6347b28715f605244565e9": {
          "model_module": "@jupyter-widgets/controls",
          "model_module_version": "1.5.0",
          "model_name": "DescriptionStyleModel",
          "state": {
            "_model_module": "@jupyter-widgets/controls",
            "_model_module_version": "1.5.0",
            "_model_name": "DescriptionStyleModel",
            "_view_count": null,
            "_view_module": "@jupyter-widgets/base",
            "_view_module_version": "1.2.0",
            "_view_name": "StyleView",
            "description_width": ""
          }
        },
        "6b94488f133f49b1abdbc5d182675d7e": {
          "model_module": "@jupyter-widgets/base",
          "model_module_version": "1.2.0",
          "model_name": "LayoutModel",
          "state": {
            "_model_module": "@jupyter-widgets/base",
            "_model_module_version": "1.2.0",
            "_model_name": "LayoutModel",
            "_view_count": null,
            "_view_module": "@jupyter-widgets/base",
            "_view_module_version": "1.2.0",
            "_view_name": "LayoutView",
            "align_content": null,
            "align_items": null,
            "align_self": null,
            "border": null,
            "bottom": null,
            "display": null,
            "flex": null,
            "flex_flow": null,
            "grid_area": null,
            "grid_auto_columns": null,
            "grid_auto_flow": null,
            "grid_auto_rows": null,
            "grid_column": null,
            "grid_gap": null,
            "grid_row": null,
            "grid_template_areas": null,
            "grid_template_columns": null,
            "grid_template_rows": null,
            "height": null,
            "justify_content": null,
            "justify_items": null,
            "left": null,
            "margin": null,
            "max_height": null,
            "max_width": null,
            "min_height": null,
            "min_width": null,
            "object_fit": null,
            "object_position": null,
            "order": null,
            "overflow": null,
            "overflow_x": null,
            "overflow_y": null,
            "padding": null,
            "right": null,
            "top": null,
            "visibility": null,
            "width": null
          }
        },
        "71d7f183d2464e75adcbf342ebd1d205": {
          "model_module": "@jupyter-widgets/controls",
          "model_module_version": "1.5.0",
          "model_name": "DescriptionStyleModel",
          "state": {
            "_model_module": "@jupyter-widgets/controls",
            "_model_module_version": "1.5.0",
            "_model_name": "DescriptionStyleModel",
            "_view_count": null,
            "_view_module": "@jupyter-widgets/base",
            "_view_module_version": "1.2.0",
            "_view_name": "StyleView",
            "description_width": ""
          }
        },
        "7272790b0ddd4999b948a323ca43c653": {
          "model_module": "@jupyter-widgets/controls",
          "model_module_version": "1.5.0",
          "model_name": "DescriptionStyleModel",
          "state": {
            "_model_module": "@jupyter-widgets/controls",
            "_model_module_version": "1.5.0",
            "_model_name": "DescriptionStyleModel",
            "_view_count": null,
            "_view_module": "@jupyter-widgets/base",
            "_view_module_version": "1.2.0",
            "_view_name": "StyleView",
            "description_width": ""
          }
        },
        "734a6f54751749bba843d5af116c449d": {
          "model_module": "@jupyter-widgets/base",
          "model_module_version": "1.2.0",
          "model_name": "LayoutModel",
          "state": {
            "_model_module": "@jupyter-widgets/base",
            "_model_module_version": "1.2.0",
            "_model_name": "LayoutModel",
            "_view_count": null,
            "_view_module": "@jupyter-widgets/base",
            "_view_module_version": "1.2.0",
            "_view_name": "LayoutView",
            "align_content": null,
            "align_items": null,
            "align_self": null,
            "border": null,
            "bottom": null,
            "display": null,
            "flex": null,
            "flex_flow": null,
            "grid_area": null,
            "grid_auto_columns": null,
            "grid_auto_flow": null,
            "grid_auto_rows": null,
            "grid_column": null,
            "grid_gap": null,
            "grid_row": null,
            "grid_template_areas": null,
            "grid_template_columns": null,
            "grid_template_rows": null,
            "height": null,
            "justify_content": null,
            "justify_items": null,
            "left": null,
            "margin": null,
            "max_height": null,
            "max_width": null,
            "min_height": null,
            "min_width": null,
            "object_fit": null,
            "object_position": null,
            "order": null,
            "overflow": null,
            "overflow_x": null,
            "overflow_y": null,
            "padding": null,
            "right": null,
            "top": null,
            "visibility": null,
            "width": null
          }
        },
        "766a4fdbf1b1442c80b073e85185a569": {
          "model_module": "@jupyter-widgets/controls",
          "model_module_version": "1.5.0",
          "model_name": "HBoxModel",
          "state": {
            "_dom_classes": [],
            "_model_module": "@jupyter-widgets/controls",
            "_model_module_version": "1.5.0",
            "_model_name": "HBoxModel",
            "_view_count": null,
            "_view_module": "@jupyter-widgets/controls",
            "_view_module_version": "1.5.0",
            "_view_name": "HBoxView",
            "box_style": "",
            "children": [
              "IPY_MODEL_8b9d51f632bf437dbdea86d3aa01accc",
              "IPY_MODEL_e8d4361d49f44dd79ddabc2816934bbf",
              "IPY_MODEL_966def4879b7449a96a92e41d0d89439"
            ],
            "layout": "IPY_MODEL_b7a1fa8cbeea40db9760197a666a7e41"
          }
        },
        "76ad3475223b46319aa2b3355be09dd4": {
          "model_module": "@jupyter-widgets/controls",
          "model_module_version": "1.5.0",
          "model_name": "HTMLModel",
          "state": {
            "_dom_classes": [],
            "_model_module": "@jupyter-widgets/controls",
            "_model_module_version": "1.5.0",
            "_model_name": "HTMLModel",
            "_view_count": null,
            "_view_module": "@jupyter-widgets/controls",
            "_view_module_version": "1.5.0",
            "_view_name": "HTMLView",
            "description": "",
            "description_tooltip": null,
            "layout": "IPY_MODEL_91b4fe0268f54c67bdbe7354f35bc29d",
            "placeholder": "​",
            "style": "IPY_MODEL_ccfbd90495dd4ef981ab5bc3a2debb03",
            "value": "Generating train split: 100%"
          }
        },
        "77653079c6144c0ebfadd3853569afad": {
          "model_module": "@jupyter-widgets/controls",
          "model_module_version": "1.5.0",
          "model_name": "HBoxModel",
          "state": {
            "_dom_classes": [],
            "_model_module": "@jupyter-widgets/controls",
            "_model_module_version": "1.5.0",
            "_model_name": "HBoxModel",
            "_view_count": null,
            "_view_module": "@jupyter-widgets/controls",
            "_view_module_version": "1.5.0",
            "_view_name": "HBoxView",
            "box_style": "",
            "children": [
              "IPY_MODEL_3da8231b9a784862b791a2f95c26f7ef",
              "IPY_MODEL_d63c51d0133240deb8822324801d24c3",
              "IPY_MODEL_c3a64630e04d43d58810a040f001feab"
            ],
            "layout": "IPY_MODEL_5af9f3a812874107a20719759877830b"
          }
        },
        "7a3523fbc9bf44d6a3da56c943402a74": {
          "model_module": "@jupyter-widgets/controls",
          "model_module_version": "1.5.0",
          "model_name": "ProgressStyleModel",
          "state": {
            "_model_module": "@jupyter-widgets/controls",
            "_model_module_version": "1.5.0",
            "_model_name": "ProgressStyleModel",
            "_view_count": null,
            "_view_module": "@jupyter-widgets/base",
            "_view_module_version": "1.2.0",
            "_view_name": "StyleView",
            "bar_color": null,
            "description_width": ""
          }
        },
        "80991b549cc34fa5a1e503e1b01719c0": {
          "model_module": "@jupyter-widgets/controls",
          "model_module_version": "1.5.0",
          "model_name": "DescriptionStyleModel",
          "state": {
            "_model_module": "@jupyter-widgets/controls",
            "_model_module_version": "1.5.0",
            "_model_name": "DescriptionStyleModel",
            "_view_count": null,
            "_view_module": "@jupyter-widgets/base",
            "_view_module_version": "1.2.0",
            "_view_name": "StyleView",
            "description_width": ""
          }
        },
        "871f8398de1f4c99ba9d454a6a4765cd": {
          "model_module": "@jupyter-widgets/base",
          "model_module_version": "1.2.0",
          "model_name": "LayoutModel",
          "state": {
            "_model_module": "@jupyter-widgets/base",
            "_model_module_version": "1.2.0",
            "_model_name": "LayoutModel",
            "_view_count": null,
            "_view_module": "@jupyter-widgets/base",
            "_view_module_version": "1.2.0",
            "_view_name": "LayoutView",
            "align_content": null,
            "align_items": null,
            "align_self": null,
            "border": null,
            "bottom": null,
            "display": null,
            "flex": null,
            "flex_flow": null,
            "grid_area": null,
            "grid_auto_columns": null,
            "grid_auto_flow": null,
            "grid_auto_rows": null,
            "grid_column": null,
            "grid_gap": null,
            "grid_row": null,
            "grid_template_areas": null,
            "grid_template_columns": null,
            "grid_template_rows": null,
            "height": null,
            "justify_content": null,
            "justify_items": null,
            "left": null,
            "margin": null,
            "max_height": null,
            "max_width": null,
            "min_height": null,
            "min_width": null,
            "object_fit": null,
            "object_position": null,
            "order": null,
            "overflow": null,
            "overflow_x": null,
            "overflow_y": null,
            "padding": null,
            "right": null,
            "top": null,
            "visibility": null,
            "width": null
          }
        },
        "8b9d51f632bf437dbdea86d3aa01accc": {
          "model_module": "@jupyter-widgets/controls",
          "model_module_version": "1.5.0",
          "model_name": "HTMLModel",
          "state": {
            "_dom_classes": [],
            "_model_module": "@jupyter-widgets/controls",
            "_model_module_version": "1.5.0",
            "_model_name": "HTMLModel",
            "_view_count": null,
            "_view_module": "@jupyter-widgets/controls",
            "_view_module_version": "1.5.0",
            "_view_name": "HTMLView",
            "description": "",
            "description_tooltip": null,
            "layout": "IPY_MODEL_ae59d74625a6484db3968e0fd08e71a5",
            "placeholder": "​",
            "style": "IPY_MODEL_5dfcba8feef04f8e8ad1fa7a1e3846d7",
            "value": "Generating test split: 100%"
          }
        },
        "8d85f3693fb24b0c93b2661cdebde11d": {
          "model_module": "@jupyter-widgets/base",
          "model_module_version": "1.2.0",
          "model_name": "LayoutModel",
          "state": {
            "_model_module": "@jupyter-widgets/base",
            "_model_module_version": "1.2.0",
            "_model_name": "LayoutModel",
            "_view_count": null,
            "_view_module": "@jupyter-widgets/base",
            "_view_module_version": "1.2.0",
            "_view_name": "LayoutView",
            "align_content": null,
            "align_items": null,
            "align_self": null,
            "border": null,
            "bottom": null,
            "display": null,
            "flex": null,
            "flex_flow": null,
            "grid_area": null,
            "grid_auto_columns": null,
            "grid_auto_flow": null,
            "grid_auto_rows": null,
            "grid_column": null,
            "grid_gap": null,
            "grid_row": null,
            "grid_template_areas": null,
            "grid_template_columns": null,
            "grid_template_rows": null,
            "height": null,
            "justify_content": null,
            "justify_items": null,
            "left": null,
            "margin": null,
            "max_height": null,
            "max_width": null,
            "min_height": null,
            "min_width": null,
            "object_fit": null,
            "object_position": null,
            "order": null,
            "overflow": null,
            "overflow_x": null,
            "overflow_y": null,
            "padding": null,
            "right": null,
            "top": null,
            "visibility": null,
            "width": null
          }
        },
        "8ed9ec04e60a49309fc7b3e95206d6e7": {
          "model_module": "@jupyter-widgets/controls",
          "model_module_version": "1.5.0",
          "model_name": "FloatProgressModel",
          "state": {
            "_dom_classes": [],
            "_model_module": "@jupyter-widgets/controls",
            "_model_module_version": "1.5.0",
            "_model_name": "FloatProgressModel",
            "_view_count": null,
            "_view_module": "@jupyter-widgets/controls",
            "_view_module_version": "1.5.0",
            "_view_name": "ProgressView",
            "bar_style": "success",
            "description": "",
            "description_tooltip": null,
            "layout": "IPY_MODEL_6b94488f133f49b1abdbc5d182675d7e",
            "max": 1000,
            "min": 0,
            "orientation": "horizontal",
            "style": "IPY_MODEL_4c76d4b8d144499597e69254c3613fa5",
            "value": 1000
          }
        },
        "91b4fe0268f54c67bdbe7354f35bc29d": {
          "model_module": "@jupyter-widgets/base",
          "model_module_version": "1.2.0",
          "model_name": "LayoutModel",
          "state": {
            "_model_module": "@jupyter-widgets/base",
            "_model_module_version": "1.2.0",
            "_model_name": "LayoutModel",
            "_view_count": null,
            "_view_module": "@jupyter-widgets/base",
            "_view_module_version": "1.2.0",
            "_view_name": "LayoutView",
            "align_content": null,
            "align_items": null,
            "align_self": null,
            "border": null,
            "bottom": null,
            "display": null,
            "flex": null,
            "flex_flow": null,
            "grid_area": null,
            "grid_auto_columns": null,
            "grid_auto_flow": null,
            "grid_auto_rows": null,
            "grid_column": null,
            "grid_gap": null,
            "grid_row": null,
            "grid_template_areas": null,
            "grid_template_columns": null,
            "grid_template_rows": null,
            "height": null,
            "justify_content": null,
            "justify_items": null,
            "left": null,
            "margin": null,
            "max_height": null,
            "max_width": null,
            "min_height": null,
            "min_width": null,
            "object_fit": null,
            "object_position": null,
            "order": null,
            "overflow": null,
            "overflow_x": null,
            "overflow_y": null,
            "padding": null,
            "right": null,
            "top": null,
            "visibility": null,
            "width": null
          }
        },
        "9638b427b0914df3b0efa6761320481d": {
          "model_module": "@jupyter-widgets/base",
          "model_module_version": "1.2.0",
          "model_name": "LayoutModel",
          "state": {
            "_model_module": "@jupyter-widgets/base",
            "_model_module_version": "1.2.0",
            "_model_name": "LayoutModel",
            "_view_count": null,
            "_view_module": "@jupyter-widgets/base",
            "_view_module_version": "1.2.0",
            "_view_name": "LayoutView",
            "align_content": null,
            "align_items": null,
            "align_self": null,
            "border": null,
            "bottom": null,
            "display": null,
            "flex": null,
            "flex_flow": null,
            "grid_area": null,
            "grid_auto_columns": null,
            "grid_auto_flow": null,
            "grid_auto_rows": null,
            "grid_column": null,
            "grid_gap": null,
            "grid_row": null,
            "grid_template_areas": null,
            "grid_template_columns": null,
            "grid_template_rows": null,
            "height": null,
            "justify_content": null,
            "justify_items": null,
            "left": null,
            "margin": null,
            "max_height": null,
            "max_width": null,
            "min_height": null,
            "min_width": null,
            "object_fit": null,
            "object_position": null,
            "order": null,
            "overflow": null,
            "overflow_x": null,
            "overflow_y": null,
            "padding": null,
            "right": null,
            "top": null,
            "visibility": null,
            "width": null
          }
        },
        "966def4879b7449a96a92e41d0d89439": {
          "model_module": "@jupyter-widgets/controls",
          "model_module_version": "1.5.0",
          "model_name": "HTMLModel",
          "state": {
            "_dom_classes": [],
            "_model_module": "@jupyter-widgets/controls",
            "_model_module_version": "1.5.0",
            "_model_name": "HTMLModel",
            "_view_count": null,
            "_view_module": "@jupyter-widgets/controls",
            "_view_module_version": "1.5.0",
            "_view_name": "HTMLView",
            "description": "",
            "description_tooltip": null,
            "layout": "IPY_MODEL_ebc24e8503fc42b5a315240f55efe17c",
            "placeholder": "​",
            "style": "IPY_MODEL_3b06e7e21fa14dfc824b318f274d4fb4",
            "value": " 2000/2000 [00:00&lt;00:00, 65876.19 examples/s]"
          }
        },
        "98cf29a51cc64f95a5abba96dcbb2b74": {
          "model_module": "@jupyter-widgets/controls",
          "model_module_version": "1.5.0",
          "model_name": "HBoxModel",
          "state": {
            "_dom_classes": [],
            "_model_module": "@jupyter-widgets/controls",
            "_model_module_version": "1.5.0",
            "_model_name": "HBoxModel",
            "_view_count": null,
            "_view_module": "@jupyter-widgets/controls",
            "_view_module_version": "1.5.0",
            "_view_name": "HBoxView",
            "box_style": "",
            "children": [
              "IPY_MODEL_58e25b029a8e41f39f48c056e5724595",
              "IPY_MODEL_5ec8726af17240279e95f10be896de5f",
              "IPY_MODEL_3ced37078c5142f6abd0b608caffe9e4"
            ],
            "layout": "IPY_MODEL_5055bf4f50034968826a6a9839e01c8b"
          }
        },
        "9a5e308429ba4a6885040ee2cbde445d": {
          "model_module": "@jupyter-widgets/base",
          "model_module_version": "1.2.0",
          "model_name": "LayoutModel",
          "state": {
            "_model_module": "@jupyter-widgets/base",
            "_model_module_version": "1.2.0",
            "_model_name": "LayoutModel",
            "_view_count": null,
            "_view_module": "@jupyter-widgets/base",
            "_view_module_version": "1.2.0",
            "_view_name": "LayoutView",
            "align_content": null,
            "align_items": null,
            "align_self": null,
            "border": null,
            "bottom": null,
            "display": null,
            "flex": null,
            "flex_flow": null,
            "grid_area": null,
            "grid_auto_columns": null,
            "grid_auto_flow": null,
            "grid_auto_rows": null,
            "grid_column": null,
            "grid_gap": null,
            "grid_row": null,
            "grid_template_areas": null,
            "grid_template_columns": null,
            "grid_template_rows": null,
            "height": null,
            "justify_content": null,
            "justify_items": null,
            "left": null,
            "margin": null,
            "max_height": null,
            "max_width": null,
            "min_height": null,
            "min_width": null,
            "object_fit": null,
            "object_position": null,
            "order": null,
            "overflow": null,
            "overflow_x": null,
            "overflow_y": null,
            "padding": null,
            "right": null,
            "top": null,
            "visibility": null,
            "width": null
          }
        },
        "9b6d1e3095f04956b026cc4ae1d6809d": {
          "model_module": "@jupyter-widgets/controls",
          "model_module_version": "1.5.0",
          "model_name": "HTMLModel",
          "state": {
            "_dom_classes": [],
            "_model_module": "@jupyter-widgets/controls",
            "_model_module_version": "1.5.0",
            "_model_name": "HTMLModel",
            "_view_count": null,
            "_view_module": "@jupyter-widgets/controls",
            "_view_module_version": "1.5.0",
            "_view_name": "HTMLView",
            "description": "",
            "description_tooltip": null,
            "layout": "IPY_MODEL_d2f3e70911b240b9b41ed47f6ea275ea",
            "placeholder": "​",
            "style": "IPY_MODEL_71d7f183d2464e75adcbf342ebd1d205",
            "value": " 403k/403k [00:00&lt;00:00, 430kB/s]"
          }
        },
        "9f348af900384eff9dff331ef67ca1f0": {
          "model_module": "@jupyter-widgets/controls",
          "model_module_version": "1.5.0",
          "model_name": "HTMLModel",
          "state": {
            "_dom_classes": [],
            "_model_module": "@jupyter-widgets/controls",
            "_model_module_version": "1.5.0",
            "_model_name": "HTMLModel",
            "_view_count": null,
            "_view_module": "@jupyter-widgets/controls",
            "_view_module_version": "1.5.0",
            "_view_name": "HTMLView",
            "description": "",
            "description_tooltip": null,
            "layout": "IPY_MODEL_8d85f3693fb24b0c93b2661cdebde11d",
            "placeholder": "​",
            "style": "IPY_MODEL_80991b549cc34fa5a1e503e1b01719c0",
            "value": "Downloading data: 100%"
          }
        },
        "ae59d74625a6484db3968e0fd08e71a5": {
          "model_module": "@jupyter-widgets/base",
          "model_module_version": "1.2.0",
          "model_name": "LayoutModel",
          "state": {
            "_model_module": "@jupyter-widgets/base",
            "_model_module_version": "1.2.0",
            "_model_name": "LayoutModel",
            "_view_count": null,
            "_view_module": "@jupyter-widgets/base",
            "_view_module_version": "1.2.0",
            "_view_name": "LayoutView",
            "align_content": null,
            "align_items": null,
            "align_self": null,
            "border": null,
            "bottom": null,
            "display": null,
            "flex": null,
            "flex_flow": null,
            "grid_area": null,
            "grid_auto_columns": null,
            "grid_auto_flow": null,
            "grid_auto_rows": null,
            "grid_column": null,
            "grid_gap": null,
            "grid_row": null,
            "grid_template_areas": null,
            "grid_template_columns": null,
            "grid_template_rows": null,
            "height": null,
            "justify_content": null,
            "justify_items": null,
            "left": null,
            "margin": null,
            "max_height": null,
            "max_width": null,
            "min_height": null,
            "min_width": null,
            "object_fit": null,
            "object_position": null,
            "order": null,
            "overflow": null,
            "overflow_x": null,
            "overflow_y": null,
            "padding": null,
            "right": null,
            "top": null,
            "visibility": null,
            "width": null
          }
        },
        "b7a1fa8cbeea40db9760197a666a7e41": {
          "model_module": "@jupyter-widgets/base",
          "model_module_version": "1.2.0",
          "model_name": "LayoutModel",
          "state": {
            "_model_module": "@jupyter-widgets/base",
            "_model_module_version": "1.2.0",
            "_model_name": "LayoutModel",
            "_view_count": null,
            "_view_module": "@jupyter-widgets/base",
            "_view_module_version": "1.2.0",
            "_view_name": "LayoutView",
            "align_content": null,
            "align_items": null,
            "align_self": null,
            "border": null,
            "bottom": null,
            "display": null,
            "flex": null,
            "flex_flow": null,
            "grid_area": null,
            "grid_auto_columns": null,
            "grid_auto_flow": null,
            "grid_auto_rows": null,
            "grid_column": null,
            "grid_gap": null,
            "grid_row": null,
            "grid_template_areas": null,
            "grid_template_columns": null,
            "grid_template_rows": null,
            "height": null,
            "justify_content": null,
            "justify_items": null,
            "left": null,
            "margin": null,
            "max_height": null,
            "max_width": null,
            "min_height": null,
            "min_width": null,
            "object_fit": null,
            "object_position": null,
            "order": null,
            "overflow": null,
            "overflow_x": null,
            "overflow_y": null,
            "padding": null,
            "right": null,
            "top": null,
            "visibility": null,
            "width": null
          }
        },
        "c036700bda784eb1aa456123e5dac752": {
          "model_module": "@jupyter-widgets/base",
          "model_module_version": "1.2.0",
          "model_name": "LayoutModel",
          "state": {
            "_model_module": "@jupyter-widgets/base",
            "_model_module_version": "1.2.0",
            "_model_name": "LayoutModel",
            "_view_count": null,
            "_view_module": "@jupyter-widgets/base",
            "_view_module_version": "1.2.0",
            "_view_name": "LayoutView",
            "align_content": null,
            "align_items": null,
            "align_self": null,
            "border": null,
            "bottom": null,
            "display": null,
            "flex": null,
            "flex_flow": null,
            "grid_area": null,
            "grid_auto_columns": null,
            "grid_auto_flow": null,
            "grid_auto_rows": null,
            "grid_column": null,
            "grid_gap": null,
            "grid_row": null,
            "grid_template_areas": null,
            "grid_template_columns": null,
            "grid_template_rows": null,
            "height": null,
            "justify_content": null,
            "justify_items": null,
            "left": null,
            "margin": null,
            "max_height": null,
            "max_width": null,
            "min_height": null,
            "min_width": null,
            "object_fit": null,
            "object_position": null,
            "order": null,
            "overflow": null,
            "overflow_x": null,
            "overflow_y": null,
            "padding": null,
            "right": null,
            "top": null,
            "visibility": null,
            "width": null
          }
        },
        "c3a64630e04d43d58810a040f001feab": {
          "model_module": "@jupyter-widgets/controls",
          "model_module_version": "1.5.0",
          "model_name": "HTMLModel",
          "state": {
            "_dom_classes": [],
            "_model_module": "@jupyter-widgets/controls",
            "_model_module_version": "1.5.0",
            "_model_name": "HTMLModel",
            "_view_count": null,
            "_view_module": "@jupyter-widgets/controls",
            "_view_module_version": "1.5.0",
            "_view_name": "HTMLView",
            "description": "",
            "description_tooltip": null,
            "layout": "IPY_MODEL_9638b427b0914df3b0efa6761320481d",
            "placeholder": "​",
            "style": "IPY_MODEL_e77630ed67f84b6db103ee3608d7773f",
            "value": " 1.42M/1.42M [00:02&lt;00:00, 560kB/s]"
          }
        },
        "ccfbd90495dd4ef981ab5bc3a2debb03": {
          "model_module": "@jupyter-widgets/controls",
          "model_module_version": "1.5.0",
          "model_name": "DescriptionStyleModel",
          "state": {
            "_model_module": "@jupyter-widgets/controls",
            "_model_module_version": "1.5.0",
            "_model_name": "DescriptionStyleModel",
            "_view_count": null,
            "_view_module": "@jupyter-widgets/base",
            "_view_module_version": "1.2.0",
            "_view_name": "StyleView",
            "description_width": ""
          }
        },
        "d2f3e70911b240b9b41ed47f6ea275ea": {
          "model_module": "@jupyter-widgets/base",
          "model_module_version": "1.2.0",
          "model_name": "LayoutModel",
          "state": {
            "_model_module": "@jupyter-widgets/base",
            "_model_module_version": "1.2.0",
            "_model_name": "LayoutModel",
            "_view_count": null,
            "_view_module": "@jupyter-widgets/base",
            "_view_module_version": "1.2.0",
            "_view_name": "LayoutView",
            "align_content": null,
            "align_items": null,
            "align_self": null,
            "border": null,
            "bottom": null,
            "display": null,
            "flex": null,
            "flex_flow": null,
            "grid_area": null,
            "grid_auto_columns": null,
            "grid_auto_flow": null,
            "grid_auto_rows": null,
            "grid_column": null,
            "grid_gap": null,
            "grid_row": null,
            "grid_template_areas": null,
            "grid_template_columns": null,
            "grid_template_rows": null,
            "height": null,
            "justify_content": null,
            "justify_items": null,
            "left": null,
            "margin": null,
            "max_height": null,
            "max_width": null,
            "min_height": null,
            "min_width": null,
            "object_fit": null,
            "object_position": null,
            "order": null,
            "overflow": null,
            "overflow_x": null,
            "overflow_y": null,
            "padding": null,
            "right": null,
            "top": null,
            "visibility": null,
            "width": null
          }
        },
        "d31a175ca0b64a5c9e5765dba8354afe": {
          "model_module": "@jupyter-widgets/base",
          "model_module_version": "1.2.0",
          "model_name": "LayoutModel",
          "state": {
            "_model_module": "@jupyter-widgets/base",
            "_model_module_version": "1.2.0",
            "_model_name": "LayoutModel",
            "_view_count": null,
            "_view_module": "@jupyter-widgets/base",
            "_view_module_version": "1.2.0",
            "_view_name": "LayoutView",
            "align_content": null,
            "align_items": null,
            "align_self": null,
            "border": null,
            "bottom": null,
            "display": null,
            "flex": null,
            "flex_flow": null,
            "grid_area": null,
            "grid_auto_columns": null,
            "grid_auto_flow": null,
            "grid_auto_rows": null,
            "grid_column": null,
            "grid_gap": null,
            "grid_row": null,
            "grid_template_areas": null,
            "grid_template_columns": null,
            "grid_template_rows": null,
            "height": null,
            "justify_content": null,
            "justify_items": null,
            "left": null,
            "margin": null,
            "max_height": null,
            "max_width": null,
            "min_height": null,
            "min_width": null,
            "object_fit": null,
            "object_position": null,
            "order": null,
            "overflow": null,
            "overflow_x": null,
            "overflow_y": null,
            "padding": null,
            "right": null,
            "top": null,
            "visibility": null,
            "width": null
          }
        },
        "d63c51d0133240deb8822324801d24c3": {
          "model_module": "@jupyter-widgets/controls",
          "model_module_version": "1.5.0",
          "model_name": "FloatProgressModel",
          "state": {
            "_dom_classes": [],
            "_model_module": "@jupyter-widgets/controls",
            "_model_module_version": "1.5.0",
            "_model_name": "FloatProgressModel",
            "_view_count": null,
            "_view_module": "@jupyter-widgets/controls",
            "_view_module_version": "1.5.0",
            "_view_name": "ProgressView",
            "bar_style": "success",
            "description": "",
            "description_tooltip": null,
            "layout": "IPY_MODEL_45326363ae344fc69cf694ee40f79aa0",
            "max": 1416219,
            "min": 0,
            "orientation": "horizontal",
            "style": "IPY_MODEL_db5b492e74d0460aa61300f488d79926",
            "value": 1416219
          }
        },
        "db5b492e74d0460aa61300f488d79926": {
          "model_module": "@jupyter-widgets/controls",
          "model_module_version": "1.5.0",
          "model_name": "ProgressStyleModel",
          "state": {
            "_model_module": "@jupyter-widgets/controls",
            "_model_module_version": "1.5.0",
            "_model_name": "ProgressStyleModel",
            "_view_count": null,
            "_view_module": "@jupyter-widgets/base",
            "_view_module_version": "1.2.0",
            "_view_name": "StyleView",
            "bar_color": null,
            "description_width": ""
          }
        },
        "e39a0b6e62134a7ea5df210afdc8f4a8": {
          "model_module": "@jupyter-widgets/controls",
          "model_module_version": "1.5.0",
          "model_name": "DescriptionStyleModel",
          "state": {
            "_model_module": "@jupyter-widgets/controls",
            "_model_module_version": "1.5.0",
            "_model_name": "DescriptionStyleModel",
            "_view_count": null,
            "_view_module": "@jupyter-widgets/base",
            "_view_module_version": "1.2.0",
            "_view_name": "StyleView",
            "description_width": ""
          }
        },
        "e6443401da0a496f97cd8dbf304532a6": {
          "model_module": "@jupyter-widgets/controls",
          "model_module_version": "1.5.0",
          "model_name": "FloatProgressModel",
          "state": {
            "_dom_classes": [],
            "_model_module": "@jupyter-widgets/controls",
            "_model_module_version": "1.5.0",
            "_model_name": "FloatProgressModel",
            "_view_count": null,
            "_view_module": "@jupyter-widgets/controls",
            "_view_module_version": "1.5.0",
            "_view_name": "ProgressView",
            "bar_style": "success",
            "description": "",
            "description_tooltip": null,
            "layout": "IPY_MODEL_2817e55857374314b2e27814cf3b0a75",
            "max": 402715,
            "min": 0,
            "orientation": "horizontal",
            "style": "IPY_MODEL_7a3523fbc9bf44d6a3da56c943402a74",
            "value": 402715
          }
        },
        "e77630ed67f84b6db103ee3608d7773f": {
          "model_module": "@jupyter-widgets/controls",
          "model_module_version": "1.5.0",
          "model_name": "DescriptionStyleModel",
          "state": {
            "_model_module": "@jupyter-widgets/controls",
            "_model_module_version": "1.5.0",
            "_model_name": "DescriptionStyleModel",
            "_view_count": null,
            "_view_module": "@jupyter-widgets/base",
            "_view_module_version": "1.2.0",
            "_view_name": "StyleView",
            "description_width": ""
          }
        },
        "e8d4361d49f44dd79ddabc2816934bbf": {
          "model_module": "@jupyter-widgets/controls",
          "model_module_version": "1.5.0",
          "model_name": "FloatProgressModel",
          "state": {
            "_dom_classes": [],
            "_model_module": "@jupyter-widgets/controls",
            "_model_module_version": "1.5.0",
            "_model_name": "FloatProgressModel",
            "_view_count": null,
            "_view_module": "@jupyter-widgets/controls",
            "_view_module_version": "1.5.0",
            "_view_name": "ProgressView",
            "bar_style": "success",
            "description": "",
            "description_tooltip": null,
            "layout": "IPY_MODEL_871f8398de1f4c99ba9d454a6a4765cd",
            "max": 2000,
            "min": 0,
            "orientation": "horizontal",
            "style": "IPY_MODEL_546626567c6e46869718945fb3b5eda3",
            "value": 2000
          }
        },
        "ebc24e8503fc42b5a315240f55efe17c": {
          "model_module": "@jupyter-widgets/base",
          "model_module_version": "1.2.0",
          "model_name": "LayoutModel",
          "state": {
            "_model_module": "@jupyter-widgets/base",
            "_model_module_version": "1.2.0",
            "_model_name": "LayoutModel",
            "_view_count": null,
            "_view_module": "@jupyter-widgets/base",
            "_view_module_version": "1.2.0",
            "_view_name": "LayoutView",
            "align_content": null,
            "align_items": null,
            "align_self": null,
            "border": null,
            "bottom": null,
            "display": null,
            "flex": null,
            "flex_flow": null,
            "grid_area": null,
            "grid_auto_columns": null,
            "grid_auto_flow": null,
            "grid_auto_rows": null,
            "grid_column": null,
            "grid_gap": null,
            "grid_row": null,
            "grid_template_areas": null,
            "grid_template_columns": null,
            "grid_template_rows": null,
            "height": null,
            "justify_content": null,
            "justify_items": null,
            "left": null,
            "margin": null,
            "max_height": null,
            "max_width": null,
            "min_height": null,
            "min_width": null,
            "object_fit": null,
            "object_position": null,
            "order": null,
            "overflow": null,
            "overflow_x": null,
            "overflow_y": null,
            "padding": null,
            "right": null,
            "top": null,
            "visibility": null,
            "width": null
          }
        },
        "f0bcd5c8c7b54ddcabbd240a274f6761": {
          "model_module": "@jupyter-widgets/controls",
          "model_module_version": "1.5.0",
          "model_name": "HTMLModel",
          "state": {
            "_dom_classes": [],
            "_model_module": "@jupyter-widgets/controls",
            "_model_module_version": "1.5.0",
            "_model_name": "HTMLModel",
            "_view_count": null,
            "_view_module": "@jupyter-widgets/controls",
            "_view_module_version": "1.5.0",
            "_view_name": "HTMLView",
            "description": "",
            "description_tooltip": null,
            "layout": "IPY_MODEL_c036700bda784eb1aa456123e5dac752",
            "placeholder": "​",
            "style": "IPY_MODEL_1e7c4b39b91d4e50ae03f9c4279be97f",
            "value": "Generating validation split: 100%"
          }
        },
        "f142ed4ecc324c8eb5df39c2ceb5a6ae": {
          "model_module": "@jupyter-widgets/base",
          "model_module_version": "1.2.0",
          "model_name": "LayoutModel",
          "state": {
            "_model_module": "@jupyter-widgets/base",
            "_model_module_version": "1.2.0",
            "_model_name": "LayoutModel",
            "_view_count": null,
            "_view_module": "@jupyter-widgets/base",
            "_view_module_version": "1.2.0",
            "_view_name": "LayoutView",
            "align_content": null,
            "align_items": null,
            "align_self": null,
            "border": null,
            "bottom": null,
            "display": null,
            "flex": null,
            "flex_flow": null,
            "grid_area": null,
            "grid_auto_columns": null,
            "grid_auto_flow": null,
            "grid_auto_rows": null,
            "grid_column": null,
            "grid_gap": null,
            "grid_row": null,
            "grid_template_areas": null,
            "grid_template_columns": null,
            "grid_template_rows": null,
            "height": null,
            "justify_content": null,
            "justify_items": null,
            "left": null,
            "margin": null,
            "max_height": null,
            "max_width": null,
            "min_height": null,
            "min_width": null,
            "object_fit": null,
            "object_position": null,
            "order": null,
            "overflow": null,
            "overflow_x": null,
            "overflow_y": null,
            "padding": null,
            "right": null,
            "top": null,
            "visibility": null,
            "width": null
          }
        },
        "f7b4ed3ea3c14375aeac6a7b919cb2ca": {
          "model_module": "@jupyter-widgets/base",
          "model_module_version": "1.2.0",
          "model_name": "LayoutModel",
          "state": {
            "_model_module": "@jupyter-widgets/base",
            "_model_module_version": "1.2.0",
            "_model_name": "LayoutModel",
            "_view_count": null,
            "_view_module": "@jupyter-widgets/base",
            "_view_module_version": "1.2.0",
            "_view_name": "LayoutView",
            "align_content": null,
            "align_items": null,
            "align_self": null,
            "border": null,
            "bottom": null,
            "display": null,
            "flex": null,
            "flex_flow": null,
            "grid_area": null,
            "grid_auto_columns": null,
            "grid_auto_flow": null,
            "grid_auto_rows": null,
            "grid_column": null,
            "grid_gap": null,
            "grid_row": null,
            "grid_template_areas": null,
            "grid_template_columns": null,
            "grid_template_rows": null,
            "height": null,
            "justify_content": null,
            "justify_items": null,
            "left": null,
            "margin": null,
            "max_height": null,
            "max_width": null,
            "min_height": null,
            "min_width": null,
            "object_fit": null,
            "object_position": null,
            "order": null,
            "overflow": null,
            "overflow_x": null,
            "overflow_y": null,
            "padding": null,
            "right": null,
            "top": null,
            "visibility": null,
            "width": null
          }
        },
        "fbae4dcb885f4712a11abd35dd77a8f6": {
          "model_module": "@jupyter-widgets/controls",
          "model_module_version": "1.5.0",
          "model_name": "DescriptionStyleModel",
          "state": {
            "_model_module": "@jupyter-widgets/controls",
            "_model_module_version": "1.5.0",
            "_model_name": "DescriptionStyleModel",
            "_view_count": null,
            "_view_module": "@jupyter-widgets/base",
            "_view_module_version": "1.2.0",
            "_view_name": "StyleView",
            "description_width": ""
          }
        },
        "fbde2b60ab904bffb9e510a21ceacc50": {
          "model_module": "@jupyter-widgets/controls",
          "model_module_version": "1.5.0",
          "model_name": "HBoxModel",
          "state": {
            "_dom_classes": [],
            "_model_module": "@jupyter-widgets/controls",
            "_model_module_version": "1.5.0",
            "_model_name": "HBoxModel",
            "_view_count": null,
            "_view_module": "@jupyter-widgets/controls",
            "_view_module_version": "1.5.0",
            "_view_name": "HBoxView",
            "box_style": "",
            "children": [
              "IPY_MODEL_76ad3475223b46319aa2b3355be09dd4",
              "IPY_MODEL_0cac3e07a85440378a26e737c3ec9e67",
              "IPY_MODEL_1040304bca844883bda176206296a5a4"
            ],
            "layout": "IPY_MODEL_00ee6aa977b44212956bb2e8513d02fb"
          }
        }
      }
    }
  },
  "nbformat": 4,
  "nbformat_minor": 0
}
